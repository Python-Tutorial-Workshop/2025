{
  "nbformat": 4,
  "nbformat_minor": 0,
  "metadata": {
    "colab": {
      "provenance": []
    },
    "kernelspec": {
      "name": "python3",
      "display_name": "Python 3"
    },
    "language_info": {
      "name": "python"
    }
  },
  "cells": [
    {
      "cell_type": "markdown",
      "source": [
        "講師跟助教沒有辦法 24/7 讓你隨時諮詢，  \n",
        "但現在 AI 很方便，我們可以用它來當成我們學習程式的助教"
      ],
      "metadata": {
        "id": "nY8RWYzJLQ6B"
      }
    },
    {
      "cell_type": "markdown",
      "source": [
        "# [ChatGPT](https://chatgpt.com/)\n",
        "請把 ChatGPT 當成一個助理，可以參考他給的答案、跟他討論，  \n",
        "而不要把它僅當成類似 Google 的搜尋引擎用。\n",
        "\n",
        "- 提供他完整的敘述\n",
        "    - ChatGPT 沒辦法去讀網址內容，請把完整的文字資訊複製貼上給他\n",
        "- 如果答案不夠好，繼續跟他對話：\n",
        "    - 哪個地方覺得不好\n",
        "    - 為什麼覺得不好\n",
        "- ChatGPT 的回答不完全是正確的，在對話的過程中，請他詳細解釋為什麼他是這樣的回答\n",
        "    - 如果你發覺錯誤，可以跟他講為什麼是錯的，請他修正\n"
      ],
      "metadata": {
        "id": "UdYGt47nJHMB"
      }
    },
    {
      "cell_type": "markdown",
      "source": [
        "以下提供各種情境的 Prompt，可以讓你在跟 ChatGPT 對話的時候可以得到比較完整的回覆："
      ],
      "metadata": {
        "id": "GABlK5KqBEl2"
      }
    },
    {
      "cell_type": "markdown",
      "source": [
        "# 引導解題 Prompt"
      ],
      "metadata": {
        "id": "VJxc9kQABcUZ"
      }
    },
    {
      "cell_type": "markdown",
      "source": [
        "```\n",
        "你是一個使用蘇格拉底法(socratic method)的老師。\n",
        "你絕對不會直接給學生答案，但是總是透過詢問正確的問題以幫助他們學習自己思考。\n",
        "你總是調整你的問題以符合學生的興趣及知識，把問題分解成簡單的部分，直到符合他們的程度。\n",
        "```"
      ],
      "metadata": {
        "id": "h9Z85KECI4FX"
      }
    },
    {
      "cell_type": "markdown",
      "source": [
        "## 判斷式的 [[進階練習] 網頁排名分數](https://colab.research.google.com/github/Python-Tutorial-Workshop/2025/blob/master/02_conditional.ipynb#scrollTo=R21geTQGspqP)"
      ],
      "metadata": {
        "id": "zBflLltTDL4v"
      }
    },
    {
      "cell_type": "markdown",
      "source": [
        "```\n",
        "你是一個使用蘇格拉底法(socratic method)的老師。\n",
        "你絕對不會直接給學生答案，但是總是透過詢問正確的問題以幫助他們學習自己思考。\n",
        "你總是調整你的問題以符合學生的興趣及知識，把問題分解成簡單的部分，直到符合他們的程度。\n",
        "\n",
        "我現在在使用 Python 練習判斷式，目前我會的語法有字串、數值、判斷式，\n",
        "練習題目是這樣的\n",
        "\n",
        "\n",
        "如果要建立一個簡易搜尋引擎的排名演算法，可以基於前面的練習題，增加採計因素：\n",
        "- is_match: 符合搜尋條件(代表內容有符合搜尋關鍵字、篩選條件)\n",
        "- backlinks: 有多少其他網頁連結到這個網頁\n",
        "- is_mobile_friendly: 此網頁有針對手機調整瀏覽的版型\n",
        "\n",
        "計算分數ranking_score的方式為：\n",
        "- 如果該項目有符合我們的搜尋條件，也就是 is_match==True，才會計算分數\n",
        "- 引用加權分backlinks_weight：backlinks\n",
        "    - 0 個：0.5\n",
        "    - 1~10 個：1\n",
        "    - 11~20 個：2\n",
        "    - ,... 以此類推\n",
        "    - 41個以上：5\n",
        "- 手機網頁友善加權 mobile_weight：如果 is_mobile_friendly 為 True, 分數為 1.05，否則為1。\n",
        "- 排名分數ranking_score公式為：\n",
        " (backlinks_weight * 2) * mobile_weight\n",
        "\n",
        "測試內容：\n",
        "- 符合搜尋條件、有5個引用網站，排名分數為 2\n",
        "- 符合搜尋條件、有5個引用網站、是手機網頁友善，排名分數為 2.1\n",
        "- 不符合搜尋條件、有100個引用網站，排名分數為 0\n",
        "```"
      ],
      "metadata": {
        "id": "7tSItgynBpo3"
      }
    },
    {
      "cell_type": "markdown",
      "source": [
        "# 解釋觀念 Prompt\n",
        "因為 ChatGPT 回應每次的結果不一定一樣，不保證你能理解他的解釋，  \n",
        "請跟他對話，並描述覺得不夠清楚的地方。"
      ],
      "metadata": {
        "id": "HUidU9EsBaM4"
      }
    },
    {
      "cell_type": "markdown",
      "source": [
        "```\n",
        "你是程式老師，我需要理解[______]這個概念，\n",
        "請你把我當成小學2年級的學生，並用我可以理解的方式告訴我\n",
        "以下有一個程式碼，請解釋程式碼的運作，並把原來的程式碼加上註解\n",
        "```"
      ],
      "metadata": {
        "id": "RgEaIKbhI7bX"
      }
    },
    {
      "cell_type": "markdown",
      "source": [
        "## 迴圈的 [各種序列操作方式的背後運作原理-sum](https://colab.research.google.com/github/Python-Tutorial-Workshop/2025/blob/master/04_loop.ipynb#scrollTo=kDFumf9msX8W)"
      ],
      "metadata": {
        "id": "c9Sllcg-FfXC"
      }
    },
    {
      "cell_type": "markdown",
      "source": [
        "```\n",
        "你是程式老師，我需要理解[迴圈迭代]這個概念，\n",
        "請你把我當成小學2年級的學生，並用我可以理解的方式告訴我\n",
        "\n",
        "以下的程式碼實做了 Python 內建的 sum(全數字序列)\n",
        "可以算出全數字序列中所以元素的加總\n",
        "請解釋程式碼中迴圈一步步的運作，並把原來的程式碼加上註解\n",
        "\n",
        "\n",
        "'''\n",
        "list_nums = [3, 4, 2.1, 1]\n",
        "total_sum = 0          # 用 total_sum 這個標籤去貼在加總的物件上\n",
        "for num in list_nums:\n",
        "    total_sum += num   # total_sum = total_sum + num\n",
        "print(total_sum)\n",
        "'''\n",
        "```"
      ],
      "metadata": {
        "id": "IVc8HBXGGUYi"
      }
    },
    {
      "cell_type": "markdown",
      "source": [
        "# 除錯 (debug)\n",
        "把錯誤訊息以及「完整的程式碼」貼上去給 ChatGPT，  \n",
        "請他幫你找出錯誤的地方"
      ],
      "metadata": {
        "id": "g_jh8WiiBeq2"
      }
    },
    {
      "cell_type": "markdown",
      "source": [
        "## [常見物件-型別轉換](https://colab.research.google.com/github/Python-Tutorial-Workshop/2025/blob/master/01_basicObject_IO.ipynb#scrollTo=1tR666bqQT3s)"
      ],
      "metadata": {
        "id": "6zPtlCnmHPrZ"
      }
    },
    {
      "cell_type": "markdown",
      "source": [
        "```\n",
        "以下程式出現 ValueError: invalid literal for int() with base 10: '5566.123' 錯誤\n",
        "請幫我修正\n",
        "\n",
        "'''\n",
        "str_float = \"5566.123\"\n",
        "print(int(str_float))\n",
        "'''\n",
        "```"
      ],
      "metadata": {
        "id": "PGizV3GaHO9j"
      }
    },
    {
      "cell_type": "markdown",
      "source": [
        "© 2025 MarsW (Mars Weng). Published under CC BY-NC-ND 4.0.  \n",
        "Full license and additional terms: https://github.com/Python-Tutorial-Workshop/2025/blob/master/LICENSE"
      ],
      "metadata": {
        "id": "bGBgLQlnzTsl"
      }
    }
  ]
}
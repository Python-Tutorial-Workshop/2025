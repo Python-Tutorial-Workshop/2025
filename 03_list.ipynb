{
  "nbformat": 4,
  "nbformat_minor": 0,
  "metadata": {
    "colab": {
      "provenance": [],
      "toc_visible": true
    },
    "kernelspec": {
      "name": "python3",
      "display_name": "Python 3"
    },
    "language_info": {
      "name": "python"
    }
  },
  "cells": [
    {
      "cell_type": "markdown",
      "source": [
        "# 序列 (Sequences)"
      ],
      "metadata": {
        "id": "-bWCSDuUgFhG"
      }
    },
    {
      "cell_type": "markdown",
      "source": [
        "我們已經學了「字串」，也知道他有很多好用的功能，  \n",
        "現在我們要來學一個新的型別：「串列」。  \n",
        "  \n",
        "「字串」跟「串列」名字很相像，實際上他們也真的屬於一個更大集合的物件型別，叫做「序列」：\n",
        "- 字串是每一個元素都是一個字元(字, 空白, 標點符號)\n",
        "    - 可以把它想像成是只能載客輕軌，而且車廂大小給定就不能變更了\n",
        "- 串列比起字串更為強大，每個元素都可以是不同型別\n",
        "    - 他可以載貨也可以載客的火車，而且車廂長度可以增減"
      ],
      "metadata": {
        "id": "bqT4nLy0XTfq"
      }
    },
    {
      "cell_type": "markdown",
      "source": [
        "<table border=\"0\" border=\"0\" cellspacing=\"0\" cellpadding=\"0\">\n",
        "<tr>\n",
        "    <td>\n",
        "<img src=\"https://khh.travel/Image/41466/?r=1668045924970\" height=\"300vh\"/>\n",
        "    </td>\n",
        "<td>\n",
        "<img src=\"https://cdn.pixabay.com/photo/2018/06/22/21/48/train-3491706_960_720.jpg\" height=\"300vh\"/>\n",
        "</td>\n",
        "</tr>\n",
        "<tr>\n",
        "    <td><center>資料來源：<a href=\"https://khh.travel/\" target=\"_blank\">高雄旅遊網</a></center></td>\n",
        "    <td></center></td>\n",
        "</tr>\n",
        "\n",
        "</table>"
      ],
      "metadata": {
        "id": "kNuFNBkVWf6B"
      }
    },
    {
      "cell_type": "markdown",
      "source": [
        "## 串列 (list)\n",
        "\n",
        "- 用「成對的」中括號「`[]`」，將裡面的元素包住，元素間用「`,`」隔開\n",
        "    - 在實務上會為了方便我們手動增加元素，最後面的元素也會加「`,`」\n",
        "- 可以直接給定有值的串列，也可以給空串列\n",
        "- 可以相+、相*\n"
      ],
      "metadata": {
        "id": "Uj_Gp0Z_ZJXC"
      }
    },
    {
      "cell_type": "code",
      "source": [
        "list_mix = [\"a\",2016,5566,\"Python\",]\n",
        "list_empty = []\n",
        "list_add = list_mix+[2016,2016.0]\n",
        "list_multi = [1,2,3]*3\n",
        "print(list_mix)\n",
        "print(list_empty)\n",
        "print(list_add)\n",
        "print(list_multi)"
      ],
      "metadata": {
        "colab": {
          "base_uri": "https://localhost:8080/"
        },
        "id": "3v-IhU5BZrs5",
        "outputId": "dab1205e-b709-42b6-f4c8-1b510ed3440c"
      },
      "execution_count": null,
      "outputs": [
        {
          "output_type": "stream",
          "name": "stdout",
          "text": [
            "['a', 2016, 5566, 'Python']\n",
            "[]\n",
            "['a', 2016, 5566, 'Python', 2016, 2016.0]\n",
            "[1, 2, 3, 1, 2, 3, 1, 2, 3]\n"
          ]
        }
      ]
    },
    {
      "cell_type": "markdown",
      "source": [
        "### 串列的布林型別\n",
        "- 可以判斷是否為空串列"
      ],
      "metadata": {
        "id": "WRO4CR8IUNUa"
      }
    },
    {
      "cell_type": "code",
      "source": [
        "print(bool(list_mix))\n",
        "print(bool(list_empty))"
      ],
      "metadata": {
        "colab": {
          "base_uri": "https://localhost:8080/"
        },
        "id": "YovRPUqSaMwM",
        "outputId": "773064c5-2f26-4d3b-8907-0c78617cdaf9"
      },
      "execution_count": null,
      "outputs": [
        {
          "output_type": "stream",
          "name": "stdout",
          "text": [
            "True\n",
            "False\n"
          ]
        }
      ]
    },
    {
      "cell_type": "markdown",
      "source": [
        "# 共通的序列操作方式"
      ],
      "metadata": {
        "id": "E-kbRmYIPUPA"
      }
    },
    {
      "cell_type": "markdown",
      "source": [
        "既然字串跟串列都屬於序列，有不少共通的功能可以使用："
      ],
      "metadata": {
        "id": "YjDFuSAwPZsF"
      }
    },
    {
      "cell_type": "markdown",
      "source": [
        "## 取得序列的元素\n",
        "```python\n",
        "序列物件[索引]\n",
        "```\n",
        "\n",
        "- 此方式可以拿到序列該索引值對應的資料\n",
        "- Python 中索引值是從0開始\n",
        "- 索引可以是負數，如果是索引為 `-i`，會被當作拿取索引為「序列長度-`i`」的元素\n"
      ],
      "metadata": {
        "id": "T9CeCnO6P9bY"
      }
    },
    {
      "cell_type": "code",
      "source": [
        "list_example = [\"a\",2016,5566,\"Python\",2016,2016.0] # 這是一個長度為6的串列\n",
        "print(list_example[3])    # 拿第四個元素(索引值為3)\n",
        "print(list_example[-1])   # 拿倒數第一個元素(索引為6-1=5的元素)\n",
        "print(list_example[-2])   # 拿倒數第二個元素(索引為6-2=4的元素)"
      ],
      "metadata": {
        "colab": {
          "base_uri": "https://localhost:8080/"
        },
        "id": "NAV1E_t1b_1a",
        "outputId": "b715d7f8-6ff4-4dfe-f43d-c01829868504"
      },
      "execution_count": null,
      "outputs": [
        {
          "output_type": "stream",
          "name": "stdout",
          "text": [
            "Python\n",
            "2016.0\n",
            "2016\n"
          ]
        }
      ]
    },
    {
      "cell_type": "code",
      "source": [
        "first_element = list_example[0]\n",
        "print(first_element)"
      ],
      "metadata": {
        "colab": {
          "base_uri": "https://localhost:8080/"
        },
        "id": "lOsuKbHLiLH1",
        "outputId": "2918bf24-4eea-4965-fd59-b9c31f2885e2"
      },
      "execution_count": null,
      "outputs": [
        {
          "output_type": "stream",
          "name": "stdout",
          "text": [
            "a\n"
          ]
        }
      ]
    },
    {
      "cell_type": "code",
      "source": [
        "string_example = \"Python\" # 這是一個長度為6的字串\n",
        "print(string_example[0])  # 拿第一個元素(索引值為0)\n",
        "print(string_example[5])  # 拿第六個元素(索引值為5)\n",
        "print(string_example[-1]) # 拿最後一個個元素(索引值為6-1=5)"
      ],
      "metadata": {
        "colab": {
          "base_uri": "https://localhost:8080/"
        },
        "id": "aetmGcIwcL7u",
        "outputId": "6f00316d-1efd-443f-e0c3-6fe4a396daae"
      },
      "execution_count": null,
      "outputs": [
        {
          "output_type": "stream",
          "name": "stdout",
          "text": [
            "P\n",
            "n\n",
            "n\n"
          ]
        }
      ]
    },
    {
      "cell_type": "markdown",
      "source": [
        "### 索引值不能超過序列的長度\n"
      ],
      "metadata": {
        "id": "S1OXH-TYdPnB"
      }
    },
    {
      "cell_type": "code",
      "source": [
        "print(string_example[6])"
      ],
      "metadata": {
        "colab": {
          "base_uri": "https://localhost:8080/",
          "height": 144
        },
        "id": "cr8uyfsxdUUM",
        "outputId": "5fb20b80-0aa8-46d5-9e27-e3b2d557ef77"
      },
      "execution_count": null,
      "outputs": [
        {
          "output_type": "error",
          "ename": "IndexError",
          "evalue": "string index out of range",
          "traceback": [
            "\u001b[0;31m---------------------------------------------------------------------------\u001b[0m",
            "\u001b[0;31mIndexError\u001b[0m                                Traceback (most recent call last)",
            "\u001b[0;32m/tmp/ipython-input-2326458366.py\u001b[0m in \u001b[0;36m<cell line: 0>\u001b[0;34m()\u001b[0m\n\u001b[0;32m----> 1\u001b[0;31m \u001b[0mprint\u001b[0m\u001b[0;34m(\u001b[0m\u001b[0mstring_example\u001b[0m\u001b[0;34m[\u001b[0m\u001b[0;36m6\u001b[0m\u001b[0;34m]\u001b[0m\u001b[0;34m)\u001b[0m\u001b[0;34m\u001b[0m\u001b[0;34m\u001b[0m\u001b[0m\n\u001b[0m",
            "\u001b[0;31mIndexError\u001b[0m: string index out of range"
          ]
        }
      ]
    },
    {
      "cell_type": "markdown",
      "source": [
        "### [練習] 股票獲利\n",
        "這裡有一支股票今天的每一小時價格變化，  \n",
        "如果我的股票操作策略是，每天開盤的時候買，收盤的時候賣，  \n",
        "我今天的獲利會是多少？  \n",
        "(請不要直接 `print(1020-1025)`，試試看剛才學的串列取值)\n",
        "\n"
      ],
      "metadata": {
        "id": "PyVyeKc5rzp4"
      }
    },
    {
      "cell_type": "code",
      "source": [
        "stock_day_price = [1025, 1030, 1025, 1030, 1035, 1030, 1020]"
      ],
      "metadata": {
        "id": "tc04kYefsSLY"
      },
      "execution_count": null,
      "outputs": []
    },
    {
      "cell_type": "markdown",
      "source": [
        "### [補充練習] 身高差\n",
        "這裡有一群按照身高排序的人，可以告訴我最高和最矮差了幾公分嗎？  \n",
        "(請不要直接 print(192-145)，試試看剛才學的串列取值)\n",
        "\n",
        "> #### Hint:\n",
        "> - 因為身高是有排序過的，最矮是第一個元素，最高是最後一個  \n",
        "=> 最後一個減第一個\n"
      ],
      "metadata": {
        "id": "zgrLPszNP9fV"
      }
    },
    {
      "cell_type": "code",
      "source": [
        "people = [145,148,151,153,158,161,163,164,166,168,170,172,175,192]"
      ],
      "metadata": {
        "id": "A0lU1uw5dmv1"
      },
      "execution_count": null,
      "outputs": []
    },
    {
      "cell_type": "markdown",
      "source": [
        "顯而易見剛才的練習題開盤買、收盤賣絕對不是一個好的股票操作策略，  \n",
        "像是今天明明有比開盤價更高的價錢，這時賣出會是賺錢，而不是原本的操作賠錢。  \n",
        "\n",
        "那要怎麼知道今天的最高價呢？(也就是串列的最大值)"
      ],
      "metadata": {
        "id": "8GM2S0o0vbxV"
      }
    },
    {
      "cell_type": "markdown",
      "source": [
        "## 序列中的最大值、最小值\n",
        "``` python\n",
        "max(序列)\n",
        "min(序列)\n",
        "```\n"
      ],
      "metadata": {
        "id": "PnLEPS8Dv5ey"
      }
    },
    {
      "cell_type": "code",
      "source": [
        "list_example = [3, 4, 2.1, 1]\n",
        "print(max(list_example))\n",
        "print(min(list_example))"
      ],
      "metadata": {
        "colab": {
          "base_uri": "https://localhost:8080/"
        },
        "outputId": "445653e1-33a9-423a-e4f6-0e900ab5aded",
        "id": "SKKcnCrHwCIs"
      },
      "execution_count": null,
      "outputs": [
        {
          "output_type": "stream",
          "name": "stdout",
          "text": [
            "4\n",
            "1\n"
          ]
        }
      ]
    },
    {
      "cell_type": "code",
      "source": [
        "string_example = \"Python\"\n",
        "print(max(string_example))\n",
        "print(min(string_example))"
      ],
      "metadata": {
        "colab": {
          "base_uri": "https://localhost:8080/"
        },
        "outputId": "ce23b648-63f4-4d3f-8324-29c8c2573c09",
        "id": "B36d3Gw3wCIt"
      },
      "execution_count": null,
      "outputs": [
        {
          "output_type": "stream",
          "name": "stdout",
          "text": [
            "y\n",
            "P\n"
          ]
        }
      ]
    },
    {
      "cell_type": "markdown",
      "source": [
        "## 序列長度\n",
        "``` python\n",
        "len(序列)\n",
        "```\n"
      ],
      "metadata": {
        "id": "2WT9ZII2nZ5E"
      }
    },
    {
      "cell_type": "code",
      "source": [
        "list_example = [\"a\",2016,5566,\"Python\",2016,2016.0]\n",
        "print(len(list_example))"
      ],
      "metadata": {
        "colab": {
          "base_uri": "https://localhost:8080/"
        },
        "id": "E-tprhY7o8zW",
        "outputId": "0e5cd8c1-33e2-4a2b-ac74-c1687fed64b9"
      },
      "execution_count": null,
      "outputs": [
        {
          "output_type": "stream",
          "name": "stdout",
          "text": [
            "6\n"
          ]
        }
      ]
    },
    {
      "cell_type": "code",
      "source": [
        "string_example = \"Python\"\n",
        "print(len(string_example))"
      ],
      "metadata": {
        "colab": {
          "base_uri": "https://localhost:8080/"
        },
        "id": "bHwueilKndhP",
        "outputId": "97b549ed-674a-4e7e-88d3-d2097e4ddaf6"
      },
      "execution_count": null,
      "outputs": [
        {
          "output_type": "stream",
          "name": "stdout",
          "text": [
            "6\n"
          ]
        }
      ]
    },
    {
      "cell_type": "markdown",
      "source": [
        "## 全數字序列的總和\n",
        "```\n",
        "sum(全數字序列)\n",
        "```\n"
      ],
      "metadata": {
        "id": "GvCqK9V2nxBq"
      }
    },
    {
      "cell_type": "code",
      "source": [
        "list_nums = [3, 4, 2.1, 1]\n",
        "print(sum(list_nums))"
      ],
      "metadata": {
        "colab": {
          "base_uri": "https://localhost:8080/"
        },
        "id": "3K92rGWloJUZ",
        "outputId": "00f960a5-ad18-4f94-eddd-81a77107660a"
      },
      "execution_count": null,
      "outputs": [
        {
          "output_type": "stream",
          "name": "stdout",
          "text": [
            "10.1\n"
          ]
        }
      ]
    },
    {
      "cell_type": "code",
      "source": [
        "string_example = \"Python\"\n",
        "print(sum(string_example))"
      ],
      "metadata": {
        "colab": {
          "base_uri": "https://localhost:8080/",
          "height": 162
        },
        "outputId": "c8326301-e1f0-4e94-ccda-a81abd9607d9",
        "id": "8ZizWvCAnxBt"
      },
      "execution_count": null,
      "outputs": [
        {
          "output_type": "error",
          "ename": "TypeError",
          "evalue": "unsupported operand type(s) for +: 'int' and 'str'",
          "traceback": [
            "\u001b[0;31m---------------------------------------------------------------------------\u001b[0m",
            "\u001b[0;31mTypeError\u001b[0m                                 Traceback (most recent call last)",
            "\u001b[0;32m/tmp/ipython-input-2497149739.py\u001b[0m in \u001b[0;36m<cell line: 0>\u001b[0;34m()\u001b[0m\n\u001b[1;32m      1\u001b[0m \u001b[0mstring_example\u001b[0m \u001b[0;34m=\u001b[0m \u001b[0;34m\"Python\"\u001b[0m\u001b[0;34m\u001b[0m\u001b[0;34m\u001b[0m\u001b[0m\n\u001b[0;32m----> 2\u001b[0;31m \u001b[0mprint\u001b[0m\u001b[0;34m(\u001b[0m\u001b[0msum\u001b[0m\u001b[0;34m(\u001b[0m\u001b[0mstring_example\u001b[0m\u001b[0;34m)\u001b[0m\u001b[0;34m)\u001b[0m\u001b[0;34m\u001b[0m\u001b[0;34m\u001b[0m\u001b[0m\n\u001b[0m",
            "\u001b[0;31mTypeError\u001b[0m: unsupported operand type(s) for +: 'int' and 'str'"
          ]
        }
      ]
    },
    {
      "cell_type": "markdown",
      "source": [
        "### [練習] 統計全班分數\n",
        "請統計全班的成績狀況：\n",
        "\n",
        "- 全班最高分與最低分的落差為？ (Ans. 58)\n",
        "- 全班分數的平均為？ (Ans. 71.4285...)\n",
        "\n",
        "> #### Hint:\n",
        "> - 平均：學生分數總和/學生總數\n",
        "> - 總數：序列長度\n",
        "> - 最高分：序列最大值\n",
        "> - 最低分：序列最小值"
      ],
      "metadata": {
        "id": "Ko7HYot64u71"
      }
    },
    {
      "cell_type": "code",
      "source": [
        "scores = [85,70,54,87,98,66,40]\n",
        "diff_score = _____\n",
        "avg_score = _____\n",
        "print(\"全班分數落差為\",diff_score)\n",
        "print(\"全班平均為\",avg_score)"
      ],
      "metadata": {
        "id": "peUdDkuZ41mX"
      },
      "execution_count": null,
      "outputs": []
    },
    {
      "cell_type": "markdown",
      "source": [
        "# 串列與字串的轉換"
      ],
      "metadata": {
        "id": "QQz8f1Gdwtda"
      }
    },
    {
      "cell_type": "markdown",
      "source": [
        "## 全字序列的組合\n",
        "``` python\n",
        "字串 = 間隔字串.join(每一個元素都為字串的序列)\n",
        "```\n",
        "- 會產生一個新的字串\n",
        "- 是將序列以某個字串組合起來\n",
        "- 針對全字序列才有用"
      ],
      "metadata": {
        "id": "4HbIm29p2a4d"
      }
    },
    {
      "cell_type": "code",
      "source": [
        "list_strs = [\"Python\",\"Tutorial\",\"Workshop\"]\n",
        "print(\" \".join(list_strs))"
      ],
      "metadata": {
        "colab": {
          "base_uri": "https://localhost:8080/"
        },
        "id": "5DodoZL12oyt",
        "outputId": "64973d52-e50c-4dae-f0dc-0110863c9389"
      },
      "execution_count": null,
      "outputs": [
        {
          "output_type": "stream",
          "name": "stdout",
          "text": [
            "Python Tutorial Workshop\n"
          ]
        }
      ]
    },
    {
      "cell_type": "code",
      "source": [
        "string_example = \"Hello Python\"\n",
        "print(\".\".join(string_example))"
      ],
      "metadata": {
        "colab": {
          "base_uri": "https://localhost:8080/"
        },
        "id": "feRK3_ro2rgk",
        "outputId": "fff3a8c1-6ae7-46a9-b697-3384754c6a41"
      },
      "execution_count": null,
      "outputs": [
        {
          "output_type": "stream",
          "name": "stdout",
          "text": [
            "H.e.l.l.o. .P.y.t.h.o.n\n"
          ]
        }
      ]
    },
    {
      "cell_type": "markdown",
      "source": [
        "## 將字串切割成串列\n",
        "``` python\n",
        "串列 = 原字串.split(切割字串,最多切割次數)\n",
        "```\n",
        "- 將「原字串」以「切割字串」切割，產生一個新的「串列」(不改變原本字串)\n",
        "- 最多切割次數預設為無限"
      ],
      "metadata": {
        "id": "ll7sykMlwy2E"
      }
    },
    {
      "cell_type": "code",
      "source": [
        "string_example = \"2024-10-09 08:24:13\"\n",
        "list_strs = string_example.split(\" \")\n",
        "print(string_example)\n",
        "print(list_strs)\n",
        "\n",
        "date = list_strs[0]\n",
        "time = list_strs[-1] # list_string[1]\n",
        "print(date)\n",
        "print(time)"
      ],
      "metadata": {
        "colab": {
          "base_uri": "https://localhost:8080/"
        },
        "id": "l3wqU9kvwwje",
        "outputId": "3970222a-98a8-4fa2-c01b-386f259691e9"
      },
      "execution_count": null,
      "outputs": [
        {
          "output_type": "stream",
          "name": "stdout",
          "text": [
            "2024-10-09 08:24:13\n",
            "['2024-10-09', '08:24:13']\n",
            "2024-10-09\n",
            "08:24:13\n"
          ]
        }
      ]
    },
    {
      "cell_type": "code",
      "source": [
        "print(date.split(\"-\",1))"
      ],
      "metadata": {
        "colab": {
          "base_uri": "https://localhost:8080/"
        },
        "id": "Ek9eWMOnxPXe",
        "outputId": "9499cd88-5748-41d3-d418-75172a2de760"
      },
      "execution_count": null,
      "outputs": [
        {
          "output_type": "stream",
          "name": "stdout",
          "text": [
            "['2024', '10-09']\n"
          ]
        }
      ]
    },
    {
      "cell_type": "markdown",
      "source": [
        "### [練習] 取出日期的年月日\n",
        "我們希望將前面取出的日期「2024-10-09」，能改以「2024年10月09日」呈現\n",
        "> #### Hint:\n",
        "> - 年月日是以「-」分隔，所以應該要用「-」去切割\n",
        "> - 而原字串有兩個「-」，切割後應該會產生一個三個元素的串列。再用序列取值的方式分別拿到年、月、日"
      ],
      "metadata": {
        "id": "dH5V7pl40dRb"
      }
    },
    {
      "cell_type": "code",
      "source": [
        "string_example = \"2024-10-09 08:24:13\"\n",
        "list_strs = string_example.split(\" \")\n",
        "date = list_strs[0]\n",
        "\n",
        "list_date_split = date.split(____)\n",
        "# print(list_date_split)\n",
        "\n",
        "year = _______[__]\n",
        "month = _______[__]\n",
        "day = _______[__]\n",
        "print(f\"{year}年{month}月{day}日\")"
      ],
      "metadata": {
        "id": "uI9dQ8A8yPJv"
      },
      "execution_count": null,
      "outputs": []
    },
    {
      "cell_type": "markdown",
      "source": [
        "### [進階練習] 找出分身 email 的真身\n",
        "如果我們需要在某些系統需要註冊大量帳號(通常是以不同的email註冊)，  \n",
        "而那個系統帳號是可以包含「`.`」在裡面，就可以用以下的小技巧：  \n",
        "\n",
        "在 [Gmail](https://support.google.com/mail/answer/7436150?hl=zh-Hant) 中，會忽略使用者名稱(email`@`前面的部分)中的「`.`」 ，  \n",
        "例如以下幾個 email 其實 Google 都是認為同一個，  \n",
        "不管寄信到哪一個，都能收的到信：\n",
        "- python.tutorial.workshop@gmail.com\n",
        "- pythontutorialworkshop@gmail.com\n",
        "- pythontutorial.workshop@gmail.com  \n",
        "  \n",
        "  \n",
        "現在我們要來實作 Google 這樣的功能，找出真正要寄信的 email 信箱，  \n",
        "以上面的例子來說，要寄的信箱是 `pythontutorialworkshop@gmail.com`，  \n",
        "所以我們需要做的事：\n",
        "- 拿到 email 的使用者名稱：`@`前面的部分\n",
        "- 取代使用者名稱中所有的 「`.`」：會用到 [`replace`](https://colab.research.google.com/github/Python-Tutorial-Workshop/2025/blob/master/01_basicObject_IO.ipynb#scrollTo=Fqh9MBdGdxkd)\n",
        "- 再把使用名稱 email domain (也就是包含 `@`後的資料) 組合起來(格式化字串)"
      ],
      "metadata": {
        "id": "lfgC0SfL5QBx"
      }
    },
    {
      "cell_type": "code",
      "source": [
        "origin_email = \"python.tutorial.workshop@gmail.com\"\n",
        "email_account = _________\n",
        "email_domain = _________\n",
        "real_email = f\"{email_account}@{email_domain}\"\n",
        "print(real_email)"
      ],
      "metadata": {
        "id": "jU9k1RyJ_Y9X"
      },
      "execution_count": null,
      "outputs": []
    },
    {
      "cell_type": "markdown",
      "source": [
        "# 子元素的檢查"
      ],
      "metadata": {
        "id": "PIqjKxnIWLjg"
      }
    },
    {
      "cell_type": "markdown",
      "source": [
        "## 判斷序列中是否存在某元素\n",
        "```python\n",
        "元素 in 序列\n",
        "元素 not in 序列\n",
        "```"
      ],
      "metadata": {
        "id": "_p1XqK0Crbw3"
      }
    },
    {
      "cell_type": "code",
      "source": [
        "list_example = [\"a\",2016,5566,\"Python\",2016,2016.0]\n",
        "print(2016 in list_example)\n",
        "print(\"2016\" in list_example)"
      ],
      "metadata": {
        "colab": {
          "base_uri": "https://localhost:8080/"
        },
        "id": "O7eP61eDrkkc",
        "outputId": "52a74cde-4b57-4a04-ea8a-dfc9703c6b08"
      },
      "execution_count": null,
      "outputs": [
        {
          "output_type": "stream",
          "name": "stdout",
          "text": [
            "True\n",
            "False\n"
          ]
        }
      ]
    },
    {
      "cell_type": "code",
      "source": [
        "string_example = \"Python Tutorial Workshop\"\n",
        "\n",
        "if \"Python\" in string_example:\n",
        "    print(\"\\\"Python\\\" found\")\n",
        "if \"python\" in string_example:\n",
        "    print(\"\\\"python\\\" found\")\n",
        "if \"Workshop\" in string_example:\n",
        "    print(\"\\\"Workshop\\\" found\")"
      ],
      "metadata": {
        "colab": {
          "base_uri": "https://localhost:8080/"
        },
        "id": "JomdIDMgrmqk",
        "outputId": "d7e74241-36a1-49c1-c9dd-38a20588b762"
      },
      "execution_count": null,
      "outputs": [
        {
          "output_type": "stream",
          "name": "stdout",
          "text": [
            "\"Python\" found\n",
            "\"Workshop\" found\n"
          ]
        }
      ]
    },
    {
      "cell_type": "markdown",
      "source": [
        "### [練習] 判斷信件安全性\n",
        "前面的範例，我們是用以下條件判斷網站的安全性：\n",
        "- 如果信件內容的網址 `mail_link` 連結不是政府網站 (結尾不是 `.gov.tw`)，請印出「釣魚網站，請勿輸入個資」\n",
        "-  如果信件內容的網址不是 `https` 開頭，請印出「非安全網站，請勿輸入個資」\n",
        "\n",
        "而如果是詐騙信件，裡面除了會有連結到不安全的網站，還會有信件內文一些關鍵字可以嗅出端倪。  \n",
        "\n",
        "現在我們已經知道如何判斷序列中是否存在某元素，  \n",
        "可以來增加一個新條件，讓原來的程式可以擴充到也能從信件內文判斷這是一封詐騙信件：\n",
        "\n",
        "- 如果信件內容出現「信息」、「賬戶」、「賬號」的關鍵字， 我們視為詐騙信件，就讓 `is_spam_mail_content` 設為 `True`\n",
        "- 如果是詐騙信件 (`is_spam_mail_content` 為 `True`)，我們會印出「詐騙網站，請勿輸入個資」\n",
        "\n",
        "> #### Hint:\n",
        "- 有三個關鍵字\n",
        "    - 你可以用[一組判斷式多個條件](https://colab.research.google.com/github/Python-Tutorial-Workshop/2025/blob/master/02_conditional.ipynb#scrollTo=WnXlBWzxBjJC)(因為最後都不符合的話 `is_spam_mail_content` 會為 `False`)\n",
        "        - 一個 `if`, 很多個 `elif`, 最後會有 `else`\n",
        "    - 可以用[邏輯運算](https://colab.research.google.com/github/Python-Tutorial-Workshop/2025/blob/master/01_basicObject_IO.ipynb#scrollTo=-VDQGsOsQRvq)的「或者」：有其中一個關鍵字 `is_spam_mail_content` 就要為 `True`\n",
        "        - 可以配合 `()` 確保邏輯正確"
      ],
      "metadata": {
        "id": "yy9lDUNVrvn6"
      }
    },
    {
      "cell_type": "markdown",
      "source": [
        "\n",
        "<img src=\"https://drive.google.com/uc?id=1XAttb5sBdxyEtmk59EspGTI2pTXdetgt\" width=\"45%\"/>"
      ],
      "metadata": {
        "id": "hfre0niBP1H8"
      }
    },
    {
      "cell_type": "code",
      "source": [
        "# 使用 一個 if, 兩個 elif, 最後會有 else\n",
        "\n",
        "mail_link = \"https://www.nt-gov.bond\"\n",
        "# mail_link = \"https://www.einvoice.nat.gov.tw\"\n",
        "mail_content = \"\"\"\n",
        "感謝您選擇財政部電子發票整合服務。由於載具信息核實有誤，您的中獎發票無法正常驗證，請更新您的資料。\n",
        "1. 請點擊載具歸戶更新頁面，打開更新操作界面。\n",
        "2. 輸入您的手機號碼和驗證密碼。\n",
        "3. 選擇“更新載具歸戶”並完成操作。\n",
        "\n",
        "請注意以下可能導致匯款失敗的情況：\n",
        "1. 如果您提供的身份證號碼與指定收款賬戶所有人信息不一致，匯款可能會失敗。\n",
        "2. 如果您取消了匯款服務設置或未能在領獎期限內（開獎日起6日至3個月內）提供正確的領獎信息，可能無法完成匯款，需自行承擔責任。\n",
        "\"\"\"\n",
        "\n",
        "# 有三個關鍵字: 這邊的填空只有兩個，請補上第三個\n",
        "if ___________:\n",
        "    is_spam_mail_content = True\n",
        "elif ___________:\n",
        "    is_spam_mail_content = True\n",
        "else:\n",
        "    is_spam_mail_content = False\n",
        "\n",
        "warning_word = \"，請勿輸入個資\"\n",
        "if not mail_link.endswith(\".gov.tw\"):\n",
        "    print(f\"釣魚網站{warning_word}\")\n",
        "if not mail_link.startswith(\"https\"):\n",
        "    print(f\"非安全網站{warning_word}\")\n",
        "if is_spam_mail_content:\n",
        "    print(f\"詐騙網站{warning_word}\")"
      ],
      "metadata": {
        "id": "7o2EgGa0rrF5"
      },
      "execution_count": null,
      "outputs": []
    },
    {
      "cell_type": "code",
      "source": [
        "# 使用 邏輯運算的「或者」 的語法，並用 () 確保邏輯正確: 會有三個條件需要串接\n",
        "\n",
        "mail_link = \"https://www.nt-gov.bond\"\n",
        "# mail_link = \"https://www.einvoice.nat.gov.tw\"\n",
        "mail_content = \"\"\"\n",
        "感謝您選擇財政部電子發票整合服務。由於載具信息核實有誤，您的中獎發票無法正常驗證，請更新您的資料。\n",
        "1. 請點擊載具歸戶更新頁面，打開更新操作界面。\n",
        "2. 輸入您的手機號碼和驗證密碼。\n",
        "3. 選擇“更新載具歸戶”並完成操作。\n",
        "\n",
        "請注意以下可能導致匯款失敗的情況：\n",
        "1. 如果您提供的身份證號碼與指定收款賬戶所有人信息不一致，匯款可能會失敗。\n",
        "2. 如果您取消了匯款服務設置或未能在領獎期限內（開獎日起6日至3個月內）提供正確的領獎信息，可能無法完成匯款，需自行承擔責任。\n",
        "\"\"\"\n",
        "\n",
        "# 有三個關鍵字: 這邊的填空只有兩個，請補上第三個\n",
        "if (___________) and/or/not (___________):\n",
        "    is_spam_mail_content = True\n",
        "else:\n",
        "    is_spam_mail_content = False\n",
        "\n",
        "warning_word = \"，請勿輸入個資\"\n",
        "if not mail_link.endswith(\".gov.tw\"):\n",
        "    print(f\"釣魚網站{warning_word}\")\n",
        "if not mail_link.startswith(\"https\"):\n",
        "    print(f\"非安全網站{warning_word}\")\n",
        "if is_spam_mail_content:\n",
        "    print(f\"詐騙網站{warning_word}\")"
      ],
      "metadata": {
        "id": "cXIwU5VDBZZ0"
      },
      "execution_count": null,
      "outputs": []
    },
    {
      "cell_type": "markdown",
      "source": [
        "如果我們不只想要的知道子元素是否有出現，  \n",
        "更進一步想要知道出現幾次呢？"
      ],
      "metadata": {
        "id": "yktponcFZZAa"
      }
    },
    {
      "cell_type": "markdown",
      "source": [
        "## 序列出現某元素的次數\n",
        "```\n",
        "序列.count(元素)\n",
        "```"
      ],
      "metadata": {
        "id": "ockTkWQJoXM1"
      }
    },
    {
      "cell_type": "code",
      "source": [
        "list_example = [\"a\",2016,5566,\"Python\",2016,2016.0]\n",
        "print(list_example.count(2016))"
      ],
      "metadata": {
        "colab": {
          "base_uri": "https://localhost:8080/"
        },
        "id": "8dU3HPvOofEU",
        "outputId": "496927b8-cc6d-4c9e-b56e-9229f7459d71"
      },
      "execution_count": null,
      "outputs": [
        {
          "output_type": "stream",
          "name": "stdout",
          "text": [
            "3\n"
          ]
        }
      ]
    },
    {
      "cell_type": "code",
      "source": [
        "string_example = \"Python Tutorial Workshop\"\n",
        "print(string_example.count(\"t\"))"
      ],
      "metadata": {
        "colab": {
          "base_uri": "https://localhost:8080/"
        },
        "id": "JxnxkLdOodaP",
        "outputId": "37a031f7-4675-438c-ec20-2c9727c69966"
      },
      "execution_count": null,
      "outputs": [
        {
          "output_type": "stream",
          "name": "stdout",
          "text": [
            "2\n"
          ]
        }
      ]
    },
    {
      "cell_type": "code",
      "source": [
        "article = \"\"\"\n",
        "Bubble tea represents the \"QQ\" food texture that Taiwanese love.\n",
        "The phrase refers to something that is especially chewy, like the tapioca balls that form the 'bubbles' in bubble tea.\n",
        "It's said this unusual drink was invented out of boredom.\n",
        "\"\"\"\n",
        "print(article.count(\"in\"))"
      ],
      "metadata": {
        "colab": {
          "base_uri": "https://localhost:8080/"
        },
        "id": "QZjkyWlWpDKr",
        "outputId": "69632a01-c1f8-4336-e1fc-b85a4f7ffe48"
      },
      "execution_count": null,
      "outputs": [
        {
          "output_type": "stream",
          "name": "stdout",
          "text": [
            "4\n"
          ]
        }
      ]
    },
    {
      "cell_type": "markdown",
      "source": [
        "### [練習] 關鍵字出現次數\n",
        "在處理搜尋引擎排名的時候，我們會希望搜尋結果是有包含我們的「搜尋關鍵字」，  \n",
        "如果出現的關鍵字次數越多，通常會代表這篇內容越是有可能是我要的搜尋結果。  \n",
        "(p.s. 統計單字出現次數也會用於翻譯古老語言或是破解密碼)\n",
        "\n",
        "我們這邊先以英文內容的資料來處理：  \n",
        "想要計算出一篇英文內文中某個單字出現幾次。\n",
        "\n",
        "\n",
        "不過有可能遇到很短的單字會在其他單字中出現：  \n",
        "例如「in」這個單字，就也會出現在單字「drink」, 「something」的片段中，  \n",
        "但這就多少會影響我們搜尋結果的準確性。\n",
        "\n",
        "幸好英文文章，單字間是用「空白」隔開，  \n",
        "我們可以用 `split` 先把文章切割成單字串列，然後再數某個單字出現幾次。"
      ],
      "metadata": {
        "id": "d08y_zsHpwvf"
      }
    },
    {
      "cell_type": "code",
      "source": [
        "article = \"\"\"\n",
        "Bubble tea represents the \"QQ\" food texture that Taiwanese love.\n",
        "The phrase refers to something that is especially chewy, like the tapioca balls that form the 'bubbles' in bubble tea.\n",
        "It's said this unusual drink was invented out of boredom.\n",
        "\"\"\"\n",
        "words = article.split(___)\n",
        "print(_____.count(\"in\"))"
      ],
      "metadata": {
        "id": "kMRKtjCQy87e"
      },
      "execution_count": null,
      "outputs": []
    },
    {
      "cell_type": "markdown",
      "source": [
        "#### [進階練習] 文章處理後再進行關鍵字計算\n",
        "延續前面的練習題，這篇文章出現幾次單字「tea」呢？  \n",
        "用人判斷會發覺有兩次，但剛才 `split` 再 `count` 的程式碼只出現一次。  \n",
        "  \n",
        "原因是因為 `split` 之後，單字串列有的是「tea」和「tea.\\nIt's」。  \n",
        "所以如果直接用 `.count(\"tea\")` ，就只會算到剛好等於「tea」的字。\n",
        "\n",
        "=>\n",
        "- `\\n` 指的是換行，實際上換行應該也是單字分割，我們可以取代成「空白」，待會切割的時候就會一起切到\n",
        "- 標點符號可以消掉\n",
        "- [`replace` 語法](https://colab.research.google.com/github/Python-Tutorial-Workshop/2025/blob/master/01_basicObject_IO.ipynb#scrollTo=Fqh9MBdGdxkd)\n",
        "\n",
        "拆解一下我們要做的步驟：\n",
        "- 把換行取代成空白\n",
        "- 把標點符號消掉\n",
        "- 把文章切割成單字串列\n",
        "- 算出單字串列中，「tea」這個單字出現幾次"
      ],
      "metadata": {
        "id": "qVwhJAv_zQye"
      }
    },
    {
      "cell_type": "code",
      "source": [
        "article = \"\"\"\n",
        "Bubble tea represents the \"QQ\" food texture that Taiwanese love.\n",
        "The phrase refers to something that is especially chewy, like the tapioca balls that form the 'bubbles' in bubble tea.\n",
        "It's said this unusual drink was invented out of boredom.\n",
        "\"\"\"\n",
        "clean_article = article.______________\n",
        "words = _____.split(___)\n",
        "print(_____.count(___))"
      ],
      "metadata": {
        "id": "-H7Tui6KTdiJ"
      },
      "execution_count": null,
      "outputs": []
    },
    {
      "cell_type": "markdown",
      "source": [
        "# 綜合應用：字串、數值、判斷式、串列"
      ],
      "metadata": {
        "id": "xR6wnmlYP9kL"
      }
    },
    {
      "cell_type": "markdown",
      "source": [
        "## 日期正規化 (年-月-日 時:分:秒) 24小時制"
      ],
      "metadata": {
        "id": "XNzKF2Ml3exq"
      }
    },
    {
      "cell_type": "code",
      "source": [
        "ebc_datetime = \"2016-10-17 17:00\"\n",
        "back_datetime = \"2016-10-11, 19:55\"\n",
        "ptt_datatime = \"Tue Oct 18 23:22:05 2016\"\n",
        "\n",
        "format_ebc_datetime = ebc_datetime+\":00\"\n",
        "format_back_datetime = back_datetime.replace(\",\",\"\")+\":00\"\n",
        "\n",
        "ptt_split_list = ptt_datatime.split(\" \")\n",
        "ptt_year = ptt_split_list[-1]\n",
        "ptt_month = ptt_split_list[1].replace(\"Oct\",\"10\")\n",
        "ptt_date = ptt_split_list[2]\n",
        "ptt_time = ptt_split_list[3]\n",
        "format_ptt_datetime = f\"{ptt_year}-{ptt_month}-{ptt_date} {ptt_time}\"\n",
        "\n",
        "print(format_ebc_datetime)\n",
        "print(format_back_datetime)\n",
        "print(format_ptt_datetime)"
      ],
      "metadata": {
        "id": "XRh4n_zn3e_s"
      },
      "execution_count": null,
      "outputs": []
    },
    {
      "cell_type": "code",
      "source": [
        "yahoo_datetime = \"2016年10月18日 下午10:33\"\n",
        "temp_yahoo_date = yahoo_datetime.split(\" \")[0].replace(\"年\",\"-\").replace(\"月\",\"-\")\n",
        "temp_yahoo_date = temp_yahoo_date.replace(\"日\",\"\")\n",
        "temp_yahoo_time = yahoo_datetime.split(\" \")[-1]\n",
        "temp_yahoo_hour = temp_yahoo_time.split(\":\")[0]\n",
        "temp_yahoo_mins = temp_yahoo_time.split(\":\")[-1]\n",
        "\n",
        "if \"下午\" in temp_yahoo_hour:\n",
        "    temp_yahoo_hour_int = int(temp_yahoo_hour.replace(\"下午\",\"\"))+12\n",
        "    temp_yahoo_hour = str(temp_yahoo_hour_int)\n",
        "else:\n",
        "    temp_yahoo_hour_int = int(temp_yahoo_hour.replace(\"上午\",\"\"))\n",
        "    temp_yahoo_hour = str(temp_yahoo_hour_int)\n",
        "\n",
        "format_yahoo_datetime = f\"{temp_yahoo_date} {temp_yahoo_hour}:{temp_yahoo_mins}:00\"\n",
        "print(format_yahoo_datetime)"
      ],
      "metadata": {
        "colab": {
          "base_uri": "https://localhost:8080/"
        },
        "id": "lrpLWSfv3Y0U",
        "outputId": "9bd8f5e3-bfcb-43b4-e551-0e1b969ee9ad"
      },
      "execution_count": null,
      "outputs": [
        {
          "output_type": "stream",
          "name": "stdout",
          "text": [
            "2016-10-18 22:33:00\n"
          ]
        }
      ]
    },
    {
      "cell_type": "markdown",
      "source": [
        "## [補充練習] 簡易計算機\n",
        "實作一個簡易計算機：輸入一行文字，印出計算結果\n",
        "- 只做加減乘除、次方、餘數\n",
        "- 只會有兩個數字，與一個運算元\n",
        "\n",
        "#### 測試內容：\n",
        "- 輸入 11+2 會印出 13\n",
        "- 輸入 2**3 會印出 8\n",
        "- 輸入 10%3 會印出 1"
      ],
      "metadata": {
        "id": "SLC5f9oLdB4e"
      }
    },
    {
      "cell_type": "code",
      "source": [
        "keyin = input(\"請輸入您要計算的內容，限二個數字 ex: 2**3\\n\")\n",
        "if \"+\" in keyin:\n",
        "    # 以+號分割字串，從串列中分別取得兩個數字並貼上標籤，印出兩數相加\n",
        "\n",
        "elif \"-\" in keyin:\n",
        "    # 以-號分割字串，從串列中分別取得兩個數字並貼上標籤，印出兩數相減\"\n",
        "...\n"
      ],
      "metadata": {
        "id": "LHC-Fr-hdhgA"
      },
      "execution_count": null,
      "outputs": []
    },
    {
      "cell_type": "markdown",
      "source": [
        "# 可變與不可變"
      ],
      "metadata": {
        "id": "VweoFOMRexAu"
      }
    },
    {
      "cell_type": "markdown",
      "source": [
        "前面以輕軌跟火車比喻字串與串列的時候，提到字串是不可變動長度的，  \n",
        "但明明字串就可以相加，這樣長度不是就改變嗎？\n"
      ],
      "metadata": {
        "id": "QurNyU1qf7QA"
      }
    },
    {
      "cell_type": "code",
      "source": [
        "string_example = \"Hello\"\n",
        "print(string_example)\n",
        "string_example = string_example + \"Python\"\n",
        "print(string_example)"
      ],
      "metadata": {
        "colab": {
          "base_uri": "https://localhost:8080/"
        },
        "id": "tjEbgwcwgrSR",
        "outputId": "d93c14ad-0fdf-4034-a63e-c481918bde4f"
      },
      "execution_count": null,
      "outputs": [
        {
          "output_type": "stream",
          "name": "stdout",
          "text": [
            "Hello\n",
            "HelloPython\n"
          ]
        }
      ]
    },
    {
      "cell_type": "markdown",
      "source": [
        "實際上 int、float、str、是不可變(immutable)物件，在建立之後值就不能更改，  \n",
        "程式運作的原理其實是把命名標籤貼到新的物件上。  \n",
        "  \n",
        "而 list 是可變(mutable)物件，也就是說裡面的資料變動，命名標籤貼的物件並不會改變。"
      ],
      "metadata": {
        "id": "FOVb-sT6g_cK"
      }
    },
    {
      "cell_type": "markdown",
      "source": [
        "> [圖示說明](https://docs.google.com/presentation/d/1LuXI6tB7UzaayGgDBuejz1OSDuqGJ2Che3k02-zKOj0/edit?usp=sharing)"
      ],
      "metadata": {
        "id": "AJ2hqFn4iXwe"
      }
    },
    {
      "cell_type": "markdown",
      "source": [
        "### 不可變物件的資料變動"
      ],
      "metadata": {
        "id": "3DAytwUzmoRY"
      }
    },
    {
      "cell_type": "code",
      "source": [
        "a = 3\n",
        "b = 3\n",
        "c = a\n",
        "print(id(a),id(b),id(c))\n",
        "\n",
        "print(\"-\"*50)            # 分隔線\n",
        "\n",
        "a += 2  # a = a + 2\n",
        "b = 4\n",
        "print(id(a),id(b),id(c))"
      ],
      "metadata": {
        "colab": {
          "base_uri": "https://localhost:8080/"
        },
        "id": "LA8428Z4ikBN",
        "outputId": "26268d2d-a9c9-443b-928f-48eec6178e4b"
      },
      "execution_count": null,
      "outputs": [
        {
          "output_type": "stream",
          "name": "stdout",
          "text": [
            "11654440 11654440 11654440\n",
            "--------------------------------------------------\n",
            "11654504 11654472 11654440\n"
          ]
        }
      ]
    },
    {
      "cell_type": "code",
      "source": [
        "b = 5\n",
        "print(id(a),id(b),id(c))\n",
        "# Python 的設計上，不可變物件可以重複利用，這樣就不會消耗多餘的儲存空間"
      ],
      "metadata": {
        "colab": {
          "base_uri": "https://localhost:8080/"
        },
        "id": "HdnmfdhJimi4",
        "outputId": "7f089f21-845e-478d-abea-f1a921ce62cd"
      },
      "execution_count": null,
      "outputs": [
        {
          "output_type": "stream",
          "name": "stdout",
          "text": [
            "11654504 11654504 11654440\n"
          ]
        }
      ]
    },
    {
      "cell_type": "markdown",
      "source": [
        "### 可變物件的資料變動"
      ],
      "metadata": {
        "id": "k9ymz-_Smr6M"
      }
    },
    {
      "cell_type": "code",
      "source": [
        "list_1 = [\"a\",2016,5566,\"Python\"]\n",
        "list_2 = list_1\n",
        "print(id(list_1),id(list_2))"
      ],
      "metadata": {
        "colab": {
          "base_uri": "https://localhost:8080/"
        },
        "id": "yu28HFvmcDRL",
        "outputId": "5abecc4a-2201-457e-d308-a063d36d7c4b"
      },
      "execution_count": null,
      "outputs": [
        {
          "output_type": "stream",
          "name": "stdout",
          "text": [
            "138358384066816 138358384066816\n"
          ]
        }
      ]
    },
    {
      "cell_type": "code",
      "source": [
        "list_1 += [\"Hi\"] # list_1 = list_1+[\"Hi\"]\n",
        "print(id(list_1),id(list_2))\n",
        "print(list_1)\n",
        "print(list_2)"
      ],
      "metadata": {
        "colab": {
          "base_uri": "https://localhost:8080/"
        },
        "id": "QiOOspl0g-8u",
        "outputId": "2c7a30e5-9d22-487e-c8ca-c32c550507a2"
      },
      "execution_count": null,
      "outputs": [
        {
          "output_type": "stream",
          "name": "stdout",
          "text": [
            "138358384066816 138358384066816\n",
            "['a', 2016, 5566, 'Python', 'Hi']\n",
            "['a', 2016, 5566, 'Python', 'Hi']\n"
          ]
        }
      ]
    },
    {
      "cell_type": "code",
      "source": [
        "list_2[2] = 2017\n",
        "print(id(list_1),id(list_2))\n",
        "print(list_1)\n",
        "print(list_2)"
      ],
      "metadata": {
        "colab": {
          "base_uri": "https://localhost:8080/"
        },
        "id": "RHzqLKq5eqKb",
        "outputId": "a5db6442-ced5-4278-aaf0-7c5fed847c24"
      },
      "execution_count": null,
      "outputs": [
        {
          "output_type": "stream",
          "name": "stdout",
          "text": [
            "138358384066816 138358384066816\n",
            "['a', 2016, 2017, 'Python', 'Hi']\n",
            "['a', 2016, 2017, 'Python', 'Hi']\n"
          ]
        }
      ]
    }
  ]
}
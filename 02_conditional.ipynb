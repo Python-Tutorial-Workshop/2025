{
  "nbformat": 4,
  "nbformat_minor": 0,
  "metadata": {
    "colab": {
      "provenance": []
    },
    "kernelspec": {
      "name": "python3",
      "display_name": "Python 3"
    },
    "language_info": {
      "name": "python"
    }
  },
  "cells": [
    {
      "cell_type": "markdown",
      "source": [
        "# if/elif/else"
      ],
      "metadata": {
        "id": "WnXlBWzxBjJC"
      }
    },
    {
      "cell_type": "markdown",
      "source": [
        "``` python\n",
        "if 布林型別物件1:\n",
        "    如果布林型別物件1為True，就執行這個縮排區塊的事情；\n",
        "    否則則繼續往同組判斷式以下的其他條件\n",
        "elif 布林型別物件2:\n",
        "    如果布林型別物件2為True，就執行這個縮排區塊的事情；\n",
        "    否則則繼續往同組判斷式以下的其他條件\n",
        "elif 布林型別物件3:\n",
        "    如果布林型別物件3為True，就執行這個縮排區塊的事情；\n",
        "    否則則繼續往同組判斷式以下的其他條件\n",
        "else:\n",
        "    如果上述條件都不符合，\n",
        "    則執行這個縮排區塊的事情\n",
        "```\n",
        "- 程式邏輯：\n",
        "    - `if 條件`：如果條件成立\n",
        "    - `elif 條件`：不然如果條件成立\n",
        "    - `else`：否則\n",
        "- 一組判斷式是由一個 `if` 開頭的\n",
        "    - 可以沒有 elif, 也可以有很多個 elif\n",
        "    - 可以沒有 else\n",
        "    - if/elif/else 後面都要有冒號:\n",
        "- 縮排指的是前面留「四個空格」的空間\n",
        "    - Python 利用縮排來決定程式碼是屬於哪個區塊，  \n",
        "    每個區塊都有各自的運作條件\n",
        "    - 每個 Python 的開發環境預設的縮排空格數不同\n",
        "        - colab 調整位置：設定圖示 > 編輯器 > 縮排寬度\n",
        "    - 會建議用「四個空格」的原因是來自於 Python 的程式碼風格規範：[PEP 8](https://peps.python.org/pep-0008/#indentation)。  \n",
        "    這個規範是開發 Python 的人幾乎都會遵守的，也是 Python 程式碼很容易與他人合作的原因。"
      ],
      "metadata": {
        "id": "PhQ2O7j6DOmI"
      }
    },
    {
      "cell_type": "markdown",
      "source": [
        "## 判斷成績是否及格：一組判斷式有2種可能性\n",
        "需要設定2種不同條件，在這2種可能性個別發生的情況下執行對應的事項：  if, else"
      ],
      "metadata": {
        "id": "ikdcBY09NtBw"
      }
    },
    {
      "cell_type": "markdown",
      "source": [
        "<img src=\"https://drive.google.com/uc?id=1GaDpnRRTVg7qJHTb0GSuKIbtZy6XJqN1\" width=\"80%\"/>"
      ],
      "metadata": {
        "id": "lCPqgjshU9on"
      }
    },
    {
      "cell_type": "code",
      "source": [
        "# 基本的判斷式是由 if 構成\n",
        "score = 61\n",
        "if score>=60:         # 如果分數大於等於 60 分\n",
        "    print(\"及格\")      # 則印出「及格」"
      ],
      "metadata": {
        "id": "Uyx_ofqLNEWu"
      },
      "execution_count": null,
      "outputs": []
    },
    {
      "cell_type": "code",
      "source": [
        "# 不符合條件，因此什麼都沒有印出\n",
        "score = 58\n",
        "if score>=60:\n",
        "    print(\"及格\")"
      ],
      "metadata": {
        "id": "bAMy3hR4NGO-"
      },
      "execution_count": null,
      "outputs": []
    },
    {
      "cell_type": "markdown",
      "source": [
        "<img src=\"https://drive.google.com/uc?id=1MXOlK6ZgqWi59pFP-KeiGQtZ9T4boa-K\" width=\"80%\"/>"
      ],
      "metadata": {
        "id": "5sFfI5VbVOiN"
      }
    },
    {
      "cell_type": "code",
      "source": [
        "# 如果希望處理判斷條件之外的狀況，可以用else\n",
        "score = 58\n",
        "if score>=60:           # 如果分數大於等於 60 分\n",
        "    print(\"及格\")        # 則印出「及格」\n",
        "else:                   # 否則\n",
        "    print(\"不及格\")      # 則印出「不及格」"
      ],
      "metadata": {
        "id": "iRLslmvQNH78"
      },
      "execution_count": null,
      "outputs": []
    },
    {
      "cell_type": "markdown",
      "source": [
        "從現在開始我們已經進入到「演算法(Algorithms)」的領域了：  \n",
        "這個詞聽起來很難，但其實演算法就是透過定義好的步驟去達成某個任務。  \n",
        "\n",
        "我們剛講到的就是要解決判斷成績是否及格的任務，及格的定義是成績是否大於等於 60 分。  \n",
        "而且這個定義是不變的，同樣的定義不會分數58分有時候是及格、有時候是不及格。\n",
        "\n",
        "演算法是一個設計概念，我們用 Python 撰寫程式，是在電腦上實踐這個演算法。"
      ],
      "metadata": {
        "id": "ECIE7wL_OzCJ"
      }
    },
    {
      "cell_type": "markdown",
      "source": [
        "### 改寫「[銀行利息](https://colab.research.google.com/drive/1l9fv5A2EThLIkUlVHA0VahgosnWKkTi7#scrollTo=RF2GqmsGU_HD)」\n",
        "- 本金 100184 仍會計算得原來的利息 250.0625\n",
        "- 本金  90184 的利息為 225.25\n",
        "> 原本用布林型別，就得用型別轉換成整數，再配合數學公式"
      ],
      "metadata": {
        "id": "1K8UF6pRsP83"
      }
    },
    {
      "cell_type": "code",
      "source": [
        "principal_money = 90184\n",
        "bonus_money_limit = 100000\n",
        "basic_year_rate = 0.75\n",
        "bonus_year_rate = 2.25\n",
        "\n",
        "month_percent_rate = 0.01 / 12\n",
        "\n",
        "base_money = principal_money - (principal_money%100)\n",
        "\n",
        "if base_money > bonus_money_limit:\n",
        "    print(\n",
        "        (base_money * basic_year_rate * month_percent_rate)\n",
        "        +\n",
        "        (bonus_money_limit * bonus_year_rate * month_percent_rate)\n",
        "    )\n",
        "else:\n",
        "    print(\n",
        "        (base_money * (basic_year_rate + bonus_year_rate) * month_percent_rate)\n",
        "    )"
      ],
      "metadata": {
        "id": "aNqYouk1sWmG"
      },
      "execution_count": null,
      "outputs": []
    },
    {
      "cell_type": "markdown",
      "source": [
        "## 判斷兩數大小：一組判斷式有3種可能性\n",
        "需要設定3種不同條件，在這3種可能性個別發生的情況下執行對應的事項：  \n",
        "只用 if, else 不夠，就需要再加入 elif 來判斷\n"
      ],
      "metadata": {
        "id": "2v9KZW9KNxfo"
      }
    },
    {
      "cell_type": "markdown",
      "source": [
        "<img src=\"https://drive.google.com/uc?id=1nOmTsW-Lkii5oDwGKdNIjl5OPpP9KLax\" width=\"80%\"/>"
      ],
      "metadata": {
        "id": "zbOnzE-KVWYL"
      }
    },
    {
      "cell_type": "code",
      "source": [
        "a = 11\n",
        "b = 8\n",
        "if a>b:\n",
        "    print(\"a={}｜b={}\".format(a,b))\n",
        "    print(\"a>b\")\n",
        "elif a<b:\n",
        "    print(\"a={}，b={}\".format(a,b))\n",
        "    print(\"a<b\")\n",
        "else:\n",
        "    print(\"a={}、b={}\".format(a,b))\n",
        "    print(\"a==b\")\n",
        "print(\"這是判斷式外的區塊\")"
      ],
      "metadata": {
        "id": "bQLvNCoAN0d7"
      },
      "execution_count": null,
      "outputs": []
    },
    {
      "cell_type": "markdown",
      "source": [
        "一組判斷式有多種可能，如果越前面的條件符合，後面的條件就不會判斷了。  \n",
        "在實務上，我們會把最容易出現的可能放在越前面的條件去做判斷，因為這樣可以省去比較多個條件才會吻合的結果。"
      ],
      "metadata": {
        "id": "nltsWBZVlHyS"
      }
    },
    {
      "cell_type": "markdown",
      "source": [
        "## 多組判斷式：彼此獨立"
      ],
      "metadata": {
        "id": "qv4GLTt6PbvT"
      }
    },
    {
      "cell_type": "markdown",
      "source": [
        "舉一個生活中常見的例子：購物折扣的活動可以併用\n",
        "- 會員打九折\n",
        "- 滿千折百"
      ],
      "metadata": {
        "id": "q_yj5Ak7b9tz"
      }
    },
    {
      "cell_type": "markdown",
      "source": [
        "<img src=\"https://drive.google.com/uc?id=1jKSbxi29E2fhBfGnvSPd2tSi8yNa-hwG\" width=\"80%\"/>"
      ],
      "metadata": {
        "id": "e_VvAdTDVw9f"
      }
    },
    {
      "cell_type": "code",
      "source": [
        "is_member = True\n",
        "origin_cost = 2300\n",
        "\n",
        "final_cost = origin_cost\n",
        "# 第1組判斷式\n",
        "if is_member:\n",
        "    final_cost *= 0.9\n",
        "    # final_cost = final_cost * 0.9\n",
        "    print(\"會員折價後\", final_cost)\n",
        "# 第2組判斷式\n",
        "if final_cost//1000:\n",
        "    final_cost -= (final_cost//1000)*100\n",
        "    # final_cost = final_cost - (final_cost//1000)*100\n",
        "    print(\"滿千折百後\", final_cost)\n",
        "\n",
        "print(\"最終價錢\", final_cost)"
      ],
      "metadata": {
        "id": "lluvQdPOPbOs"
      },
      "execution_count": null,
      "outputs": []
    },
    {
      "cell_type": "markdown",
      "source": [
        "### 改寫「[判斷網站安全性](https://colab.research.google.com/drive/1l9fv5A2EThLIkUlVHA0VahgosnWKkTi7#scrollTo=VC7z1dpx05Ii&line=10&uniqifier=1)」\n",
        "- 如果信件內容的網址 `mail_link` 連結不是政府網站 (結尾不是 `.gov.tw`)，請印出「釣魚網站，請勿輸入個資」\n",
        "-  如果信件內容的網址不是 `https` 開頭，請印出「非安全網站，請勿輸入個資」\n",
        "\n",
        "> 原本用布林型別就只能有 True/False 兩種結果\n"
      ],
      "metadata": {
        "id": "SQxFhXDbcHTe"
      }
    },
    {
      "cell_type": "code",
      "source": [
        "url = \"https://www.nt-gov.bond\"\n",
        "if not url.endswith(\".gov.tw\"):\n",
        "    print(\"釣魚網站，請勿輸入個資\")\n",
        "if not url.startswith(\"https\"):\n",
        "    print(\"非安全網站，請勿輸入個資\")"
      ],
      "metadata": {
        "id": "t1emlykVcfXm"
      },
      "execution_count": null,
      "outputs": []
    },
    {
      "cell_type": "markdown",
      "source": [
        "## 判斷式情境思考\n",
        "試想生活中這些狀況是要用幾組判斷式？\n",
        "1. 聊天機器人\n",
        "2. 開車經過一個路段連續違規的交通罰單金額\n"
      ],
      "metadata": {
        "id": "wdx9pL3zgycn"
      }
    },
    {
      "cell_type": "markdown",
      "source": [
        "## [練習] 搜尋結果\n",
        "不管你從搜尋引擎、或是網路購物/訂房，他們都會給你一串搜尋結果，  \n",
        "如果仔細觀察，每一家的服務的預設的排名順序都不太一樣，也就是背後都有各自的機制。  \n",
        "而要做到排序，背後就需要給每個項目(商品)給一個分數，然後依此來排名。\n",
        "\n",
        "但更為基本的是，列出的項目需要符合搜尋條件，如果不符合，其他分數再高也不應採計。\n",
        "\n",
        "這邊假設排名分數是 `2.1`：\n",
        "- 如果搜尋條件符合，則可以給出原排名分數\n",
        "- 如果搜尋條件不符合，則排名分數應該要歸零\n",
        "\n",
        "> #### Hint:\n",
        "- 以下程式碼中「 ___ 」的區塊，是讓你練習 if/elif/else 的語法。  \n",
        "至於符合該個條件要做的事，也就是縮排的部分，已經幫你先填好了。\n"
      ],
      "metadata": {
        "id": "nIUrJXZXHexO"
      }
    },
    {
      "cell_type": "code",
      "source": [
        "is_match = True\n",
        "raw_ranking_score = 2.1\n",
        "\n",
        "____________\n",
        "    ranking_score = raw_ranking_score\n",
        "____________\n",
        "    ranking_score = 0\n",
        "\n",
        "print(ranking_score)"
      ],
      "metadata": {
        "id": "8kaLL-crJspC"
      },
      "execution_count": null,
      "outputs": []
    },
    {
      "cell_type": "markdown",
      "source": [
        "### [進階練習] 網頁排名分數\n",
        "如果要建立一個簡易搜尋引擎的排名演算法，可以基於前面的練習題，增加採計因素：\n",
        "- `is_match`: 符合搜尋條件(代表內容有符合搜尋關鍵字、篩選條件)\n",
        "- `backlinks`: 有多少其他網頁連結到這個網頁\n",
        "- `is_mobile_friendly`: 此網頁有針對手機調整瀏覽的版型\n",
        "\n",
        "\n",
        "計算分數`ranking_score`的方式為：\n",
        "- 如果該項目有符合我們的搜尋條件，也就是 `is_match==True`，才會計算分數\n",
        "- 引用加權分`backlinks_weight`：backlinks\n",
        "    - 0 個：0.5\n",
        "    - 1~9 個：1\n",
        "    - 10~19 個：2\n",
        "    - ,... 以此類推\n",
        "    - 41個以上：5\n",
        "- 手機網頁友善加權 `mobile_weight`：如果 `is_mobile_friendly` 為 True, 分數為 1.05，否則為1。\n",
        "- 排名分數`ranking_score`公式為：\n",
        "\n",
        "```\n",
        " (backlinks_weight * 2) * mobile_weight\n",
        "```\n",
        "\n",
        "> #### Hint:\n",
        "> - backlinks_weight 在 backlinks >= 41 的時候為5，其餘都是每十個+1\n",
        "\n",
        "#### 測試內容：\n",
        "- 符合搜尋條件、有5個引用網站，排名分數為 `2`\n",
        "- 符合搜尋條件、有5個引用網站、是手機網頁友善，排名分數為 `2.1`\n",
        "- 不符合搜尋條件、有100個引用網站，排名分數為 `0`\n"
      ],
      "metadata": {
        "id": "R21geTQGspqP"
      }
    },
    {
      "cell_type": "code",
      "source": [
        "is_match = True\n",
        "backlinks = 5\n",
        "is_mobile_friendly = False\n",
        "\n",
        "### 如果符合搜尋條件才會計算公式\n",
        "____________\n",
        "    ### 判斷 backlinks 落在哪個區間，決定 backlinks_weight 值\n",
        "    if ______ == 0:\n",
        "        ______ = 0.5\n",
        "    elif ______>=41:\n",
        "        ______ = 5\n",
        "    else:\n",
        "        ______ = backlinks//10 + 1\n",
        "\n",
        "    ### 判斷 is_mobile_friendly 狀況，決定 mobile_weight 值\n",
        "    if ______:\n",
        "        ______ = 1.05\n",
        "    else:\n",
        "        ______ = 1\n",
        "    ### 計算公式\n",
        "    ranking_score = (backlinks_weight * 2) * mobile_weight\n",
        "____________\n",
        "    ranking_score = 0\n",
        "\n",
        "# print(backlinks_weight)\n",
        "# print(mobile_weight)\n",
        "print(ranking_score)"
      ],
      "metadata": {
        "id": "BpfougrsKtOq"
      },
      "execution_count": null,
      "outputs": []
    },
    {
      "cell_type": "markdown",
      "source": [
        "這裡的演算法就比前面的判斷成績及格、兩數大小複雜很多，  \n",
        "我們平常生活中用到的各種服務的排名其實更為複雜，  \n",
        "而且要判定是否真的有解決到問題，我們不可能真的去站在使用者旁邊問他，  \n",
        "只能透過像是有沒有點擊、點擊後瀏覽了多久、有沒有購買等行為來當作參考答案。  \n",
        "如果答案不盡理想\n",
        "e.g. 調了排名公式結果讓購物網站上消費者購買金額更少、串流平台總體觀看時間降低...，就會需要去修改公式的參數。  \n",
        "\n",
        "p.s. 其實我們使用的這些服務系統背後演算法並不完全是由一堆數學算式組成，   \n",
        "像是聽音樂的「隨機播放」按照數學的機率是有可能兩首同歌手的歌接續播放，  \n",
        "但人會覺得「不夠隨機」，就會額外加算式去排除這件事(也就是我們說的「商業規則」)\n",
        "\n",
        "\n",
        "\n",
        "\n"
      ],
      "metadata": {
        "id": "Ip0dG10vKteu"
      }
    },
    {
      "cell_type": "markdown",
      "source": [
        "## [補充練習] 來自門禁系統的關心\n",
        "請寫一個會打招呼的門禁系統：\n",
        "\n",
        "- 我們把時間寫成24小時制，長度為4的字串：  \n",
        "前兩碼為小時，後兩碼為分鐘(個位數要補零)\n",
        "    - eg. 凌晨05:17 => `\"0517\"`\n",
        "    - eg. 晚上11:08 => `\"2308\"`\n",
        "- 超過晚上10點，門禁系統會印出兩句話「現在很晚了」、「怎麼還在外面遊蕩」\n",
        "- 凌晨5點前，也是一樣印出「現在很晚了」、「怎麼還在外面遊蕩」\n",
        "\n",
        "> #### Hint:\n",
        "> - 可以不用一步到位，一個個條件完成\n",
        "> - 新增條件可以用 `elif` 或是用 `or`\n"
      ],
      "metadata": {
        "id": "l6lua1dck-c_"
      }
    },
    {
      "cell_type": "code",
      "source": [
        "time = \"2205\" # 現在的時間 \"2205\"，可以自行換成其他時間來測試程式結果\n",
        "if _____(time) > _____(\"2200\"):\n",
        "    _____\n",
        "    _____"
      ],
      "metadata": {
        "id": "8xeIDREilL7Y"
      },
      "execution_count": null,
      "outputs": []
    },
    {
      "cell_type": "markdown",
      "source": [
        "# 運算順序"
      ],
      "metadata": {
        "id": "d0EHiZQBfRvU"
      }
    },
    {
      "cell_type": "markdown",
      "source": [
        "## 判斷式的前後順序可能會影響結果\n",
        "程式是由上往下執行，越上面的邏輯會先被執行到"
      ],
      "metadata": {
        "id": "oxOEfhQpd0iZ"
      }
    },
    {
      "cell_type": "markdown",
      "source": [
        "以前面的購物折扣情境為例，不同的折扣方式執行順序會影響最終折扣後的結果\n",
        "- 會員打九折\n",
        "- 滿千折百"
      ],
      "metadata": {
        "id": "hsNa9jKpgitX"
      }
    },
    {
      "cell_type": "code",
      "source": [
        "is_member = True\n",
        "origin_cost = 2300"
      ],
      "metadata": {
        "id": "4ljHOKrhgQl8"
      },
      "execution_count": null,
      "outputs": []
    },
    {
      "cell_type": "code",
      "source": [
        "final_cost_1 = origin_cost\n",
        "if is_member:\n",
        "    final_cost_1 *= 0.9\n",
        "    print(\"會員折價後\", final_cost_1)\n",
        "if final_cost_1//1000:\n",
        "    final_cost_1 -= (final_cost_1//1000)*100\n",
        "    print(\"滿千折百後\", final_cost_1)\n",
        "\n",
        "print(\"最終價錢\", final_cost_1)"
      ],
      "metadata": {
        "id": "3cPNJyJbgJvn"
      },
      "execution_count": null,
      "outputs": []
    },
    {
      "cell_type": "code",
      "source": [
        "final_cost_2 = origin_cost\n",
        "if final_cost_2//1000:\n",
        "    final_cost_2 -= (final_cost_2//1000)*100\n",
        "    print(\"滿千折百後\", final_cost_2)\n",
        "if is_member:\n",
        "    final_cost_2 *= 0.9\n",
        "    print(\"會員折價後\", final_cost_2)\n",
        "\n",
        "print(\"最終價錢\", final_cost_2)"
      ],
      "metadata": {
        "id": "0u39dfCtdz65"
      },
      "execution_count": null,
      "outputs": []
    },
    {
      "cell_type": "markdown",
      "source": [
        "## 運算語法的優先順序"
      ],
      "metadata": {
        "id": "B7tGhQUWDF3d"
      }
    },
    {
      "cell_type": "markdown",
      "source": [
        "在同樣一句語法中，不同的語法也會有不同的優先順序。  \n",
        "此表格中，越上面的語法有越優先的執行順序：\n",
        "\n",
        "<table align=\"left\">\n",
        "    <tbody><tr>\n",
        "        <td>[a,b,c]</td>\n",
        "        <td>字串轉換、串列、tuple、字典、集合</td>\n",
        "    </tr>\n",
        "    <tr>\n",
        "        <td>x[index], x[i1:i2], x(parameter), x.attr </td>\n",
        "        <td>索引、切片、函式呼叫、存取屬性項</td>\n",
        "    </tr>\n",
        "    <tr>\n",
        "        <td>**</td>\n",
        "        <td>次方</td>\n",
        "    </tr>\n",
        "    <tr>\n",
        "        <td>+x, -x, ~x</td>\n",
        "        <td>正數、負數、位元NOT運算</td>\n",
        "    </tr>\n",
        "    <tr>\n",
        "        <td>*, /, //, % </td>\n",
        "        <td>乘法、除法、餘數、字串格式化</td>\n",
        "    </tr>\n",
        "    <tr>\n",
        "        <td>+, -</td>\n",
        "        <td>加法、減法</td>\n",
        "    </tr>\n",
        "    <tr>\n",
        "        <td> &gt;&gt;, &lt;&lt; </td>\n",
        "        <td>位元位移運算</td>\n",
        "    </tr>\n",
        "    <tr>\n",
        "        <td>&amp;</td>\n",
        "        <td>位元AND運算</td>\n",
        "    </tr>\n",
        "    <tr>\n",
        "        <td>^</td>\n",
        "        <td>位元XOR運算</td>\n",
        "    </tr>\n",
        "    <tr>\n",
        "        <td>|</td>\n",
        "        <td>位元OR運算</td>\n",
        "    </tr>\n",
        "    <tr>\n",
        "        <td>in, is, &lt;, ==, &gt; </td>\n",
        "        <td>比較運算</td>\n",
        "    </tr>\n",
        "    <tr>\n",
        "        <td>not x </td>\n",
        "        <td>布林NOT邏輯運算</td>\n",
        "    </tr>\n",
        "    <tr>\n",
        "        <td>and</td>\n",
        "        <td>布林AND邏輯運算</td>\n",
        "    </tr>\n",
        "    <tr>\n",
        "        <td>or</td>\n",
        "        <td>布林OR邏輯運算</td>\n",
        "    </tr>\n",
        "    <tr>\n",
        "        <td>if/else</td>\n",
        "        <td>條件運算式</td>\n",
        "    </tr>\n",
        "    <tr>\n",
        "        <td>lambda</td>\n",
        "        <td>lambda運算式</td>\n",
        "    </tr>\n",
        "</tbody></table>"
      ],
      "metadata": {
        "id": "kT3FzDl3DGp5"
      }
    },
    {
      "cell_type": "code",
      "source": [
        "a=5\n",
        "b=5\n",
        "c=2\n",
        "# (c==3) or (a==b and (not a==3)) or (b==4)\n",
        "if c==3 or a==b and not a==3 or b==4:\n",
        "    print (\"1\")\n",
        "else:\n",
        "    print (\"2\")"
      ],
      "metadata": {
        "id": "6Qq6zGXmr-O5"
      },
      "execution_count": null,
      "outputs": []
    },
    {
      "cell_type": "markdown",
      "source": [
        "> 可以用`()`來方便閱讀，也能確保自己的想法是正確的\n",
        "\n",
        "- `(c==3) or (a==b and (not a==3)) or (b==4)`\n",
        "- `((c==3) or (a==b)) and ((not a==3) or (b==4))`"
      ],
      "metadata": {
        "id": "t-h7hj5_sIIX"
      }
    },
    {
      "cell_type": "markdown",
      "source": [
        "## [補充練習] 判斷是否為閏年\n",
        "以下兩個條件滿足其一，即為閏年：\n",
        "- 西元年份可被400整除\n",
        "- 西元年份可被4整除，但不能被100整除\n",
        "\n",
        "\n",
        "#### 測試內容：\n",
        "- 西元 2000 年是閏年\n",
        "- 西元 2060 年是閏年\n",
        "- 西元 1900 年不是閏年\n",
        "- 西元 2057 年不是閏年\n",
        "\n",
        "\n",
        "> #### Hint:\n",
        "> - 整除：餘數為 0\n",
        "> - 可以不用一步到位，一個個條件完成\n",
        "> - 新增條件可以用 `elif` 或是用 `or`\n",
        "> - 可利用 () 確保運算順序是預期方式"
      ],
      "metadata": {
        "id": "yewu24hLnA02"
      }
    },
    {
      "cell_type": "code",
      "source": [
        "# 使用 elif\n",
        "year = 2060\n",
        "if _____ :                       # 如果西元年份可被400整除\n",
        "    print(\"{}是閏年\".format(year))\n",
        "elif _____ or/and/not? _____:    # 如果西元年份可被4整除 而且 不能被100整除\n",
        "    print(\"{}是閏年\".format(year))"
      ],
      "metadata": {
        "id": "TbUb8BV2nOKS"
      },
      "execution_count": null,
      "outputs": []
    },
    {
      "cell_type": "code",
      "source": [
        "# 使用 or，並用 () 確保邏輯正確\n",
        "year = 2060\n",
        "if (_____) or/and/not? (_____ or/and/not? _____):   # (如果西元年份可被400整除) 或者 (如果西元年份可被4整除 而且 不能被100整除)\n",
        "    print(\"{}是閏年\".format(year))"
      ],
      "metadata": {
        "id": "l5oT_kQcnoIM"
      },
      "execution_count": null,
      "outputs": []
    },
    {
      "cell_type": "markdown",
      "source": [
        "# 更多「判斷」情境"
      ],
      "metadata": {
        "id": "crMlxmREDHyT"
      }
    },
    {
      "cell_type": "markdown",
      "source": [
        "## 棄保效應\n",
        "台灣的選舉法令禁止各陣營及媒體在投票日前的一個星期內公佈民調結果，其中最重要的一個因素是要避免「棄保效應」。  \n",
        "所謂的「棄保效應」是指選民在得知自己所支持的候選人當選無望時，有可能會把票投給其他比較可能當選的人，以免浪費了自己的一票。  \n",
        "假設某選舉有三位候選人來競選一個職位，在「棄保效應」發揮到極致的情形下，  \n",
        "所有民調第三名的候選人的支持者都會把票投民調第二名的候選人，也就是他們都會「棄三保二」。\n",
        "\n",
        "給你 A, B, C 三個候選人的支持者人數，假設沒有同票情況，判斷誰會當選的程式邏輯如下："
      ],
      "metadata": {
        "id": "jB44rkziomjz"
      }
    },
    {
      "cell_type": "markdown",
      "source": [
        "  \n",
        "1.我們先試試 C 是候選人中最高票的情況，也就是 A,B 候選人的個別支持數都比 C 候選人低 (a<c, b<c) ：\n",
        "\n",
        "a=1, b=3, c=5 => c  \n",
        "a=3, b=4, c=5 => b\n",
        "\n",
        "- 如果 (第二三名支持總票數) < 第一名 => 第一名\n",
        "- 如果 (第二三名支持總票數) > 第一名\n",
        "    - 判斷誰是第二名 => 第二名當選"
      ],
      "metadata": {
        "id": "zyLFEOmtpo3z"
      }
    },
    {
      "cell_type": "code",
      "source": [
        "a=3\n",
        "b=4\n",
        "c=5\n",
        "\n",
        "if (a+b) < c:\n",
        "    print(\"c\")\n",
        "else:\n",
        "    if a>b:\n",
        "        print(\"a\")\n",
        "    else:\n",
        "        print(\"b\")"
      ],
      "metadata": {
        "colab": {
          "base_uri": "https://localhost:8080/"
        },
        "id": "BgTJttjipupe",
        "outputId": "07e7c0cc-8de9-4edc-907a-cc68332dd6a7"
      },
      "execution_count": null,
      "outputs": [
        {
          "output_type": "stream",
          "name": "stdout",
          "text": [
            "b\n"
          ]
        }
      ]
    },
    {
      "cell_type": "markdown",
      "source": [
        "以此類推完成：A 是候選人中最高票、B 是候選人中最高票的程式"
      ],
      "metadata": {
        "id": "Fc0NeQCup5Ro"
      }
    },
    {
      "cell_type": "markdown",
      "source": [
        "## 範圍轉換\n"
      ],
      "metadata": {
        "id": "y5t0wvwGqMFW"
      }
    },
    {
      "cell_type": "markdown",
      "source": [
        "遊戲中的角色能力值系統重新設定： `0~255` 轉換到 `0~100`：\n",
        "\n",
        "- 原來角色能力的良好範圍是 200-255， 轉換後為 85-100\n",
        "- 原來角色能力的差勁範圍是 0-130， 轉換後為 0-60"
      ],
      "metadata": {
        "id": "UpF_sSsnqP6C"
      }
    },
    {
      "cell_type": "code",
      "source": [
        "origin = 127\n",
        "new = 0\n",
        "if origin<=130:\n",
        "    new = ((origin-0)*(60-0)/(130-0))+0\n",
        "elif origin>=200:\n",
        "    new = ((origin-200)*(100-85)/(255-200))+85\n",
        "else:\n",
        "    new = ((origin-130)*(85-60)/(200-130))+60\n",
        "print(int(new))"
      ],
      "metadata": {
        "id": "mMGYAM5GqXE-"
      },
      "execution_count": null,
      "outputs": []
    },
    {
      "cell_type": "markdown",
      "source": [
        "在做資料視覺化，因為顏色有限，而數字量級太大，  \n",
        "就會用判斷式切分範圍再給定對應顏色。  \n",
        "eg. 雨量圖、人口圖"
      ],
      "metadata": {
        "id": "nGE6Zzv1qVqg"
      }
    },
    {
      "cell_type": "markdown",
      "source": [
        "## 其他例子\n",
        "- 電梯只停某些樓層、上下層都有人往上還往下？\n",
        "- 球場上的鷹眼：界內界外\n",
        "- 飲料販賣機：錢是否足夠、該找多少錢(分成哪些硬幣)\n",
        "- Alphago 下棋\n",
        "..."
      ],
      "metadata": {
        "id": "GUl6FCRZq9sF"
      }
    },
    {
      "cell_type": "markdown",
      "source": [
        "會發覺程式中幾乎都有「判斷式」的身影！！！  \n",
        "   \n",
        "其實我們生活中每天也都在用到「判斷」的演算法概念：\n",
        "- 現在該刷哪張信用卡(回饋%數、是否到回饋上限)\n",
        "- 等下要吃什麼(上一餐吃過什麼、現在有多少預算、餐廳遠近...)\n",
        "- 外面陰天，要不要出門 (下雨機率多大、是否一定需要出門...)\n",
        "- ..."
      ],
      "metadata": {
        "id": "1ainYbrFrPEd"
      }
    }
  ]
}
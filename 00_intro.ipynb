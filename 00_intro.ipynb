{
  "nbformat": 4,
  "nbformat_minor": 0,
  "metadata": {
    "colab": {
      "provenance": []
    },
    "kernelspec": {
      "name": "python3",
      "display_name": "Python 3"
    },
    "language_info": {
      "name": "python"
    }
  },
  "cells": [
    {
      "cell_type": "markdown",
      "source": [
        "# 程式設計是什麼？"
      ],
      "metadata": {
        "id": "dJYgGAWNHXxX"
      }
    },
    {
      "cell_type": "markdown",
      "source": [
        "## 什麼是程式？\n",
        "一連串的指令，  \n",
        "指示計算裝置(個人電腦、手機、遊戲機)，  \n",
        "完成目標(處理運算並產生對應結果、做出指定動作)。\n"
      ],
      "metadata": {
        "id": "unIcrNL3Hpxm"
      }
    },
    {
      "cell_type": "markdown",
      "source": [
        "## 什麼是程式設計？\n",
        "要讓程式能幫我們完成目標，背後的過程有些是必須要思考設計的。  \n",
        "譬如說我們在運算的時候可能會想要排除一些資料，或是像是遊戲角色在移動時遇到障礙物是不能穿牆的。\n",
        "  \n",
        "我們首先會定義問題，並拆解成一個個步驟，轉換成程式語言讓電腦理解而去執行我們希望達成的目標。  \n",
        "\n",
        "你可以想像如果你需要做一道料理，  \n",
        "你會寫出食譜：列出需要哪些食材、料理的步驟，  \n",
        "而如果你寫得越詳細，把同樣一份食譜交給你的朋友，他們都能重現這道料理。\n",
        "- 食譜 = 程式設計\n",
        "- 依照食譜製作料理的人 = 計算裝置\n",
        "\n"
      ],
      "metadata": {
        "id": "1aqh2uouHu1L"
      }
    },
    {
      "cell_type": "markdown",
      "source": [
        "## 實務案例：自動化工作流程\n",
        "- 工作流程拆解\n",
        "- 找出想處理的部分\n",
        "- 研究可能的程式化方法\n",
        "- 最後開發實踐\n",
        "\n",
        "> https://www.youtube.com/watch?v=KFsSAEV1_vk&t=780s  \n",
        "> https://docsend.com/view/8ypp25wa636aue5j (from p.24)\n",
        "\n",
        "很推薦把這部影片看完，裡面有各種角色去自動化各種職務內容的工作流程，  \n",
        "自動化的工作流程其實就是運算思維的實踐。\n",
        "\n"
      ],
      "metadata": {
        "id": "i8LpRJmGzEWo"
      }
    },
    {
      "cell_type": "markdown",
      "source": [
        "# 為什麼要學程式設計？\n",
        "現在 AI 很厲害，輸入提示字(prompt)，就可以幫你產生對應的程式。    \n",
        "不過了解一些程式基礎運作的原理，可以讓你更能理解為什麼程式是這樣寫；  \n",
        "在實作練習題的時候，也能走過「定義問題」、「拆解流程」、「實踐」的過程，  \n",
        "也就是我們所說的運算思維。\n",
        "   \n",
        "另外， AI 產生的答案不見得完全正確的，可能會需要我們動手除錯 (debug)，  \n",
        "有這些背景知識可以讓你更容易了解該怎麼處理。\n",
        "\n",
        "而如果你平常會跟工程師合作的話，了解他們的語言，會幫助你更能有效溝通。\n",
        "\n",
        "就像我們除非是建築本行，不太會自己蓋房子，  \n",
        "但了解一些管線運作原理，會讓你用水電網路更為方便安全，  \n",
        "甚至留有未來維修擴充的空間，也可以自己處理一些小問題。  \n",
        "需要水電師傅維修的時候，也能理解他們在說什麼。\n"
      ],
      "metadata": {
        "id": "vqIpaQbKHciQ"
      }
    },
    {
      "cell_type": "markdown",
      "source": [
        "# 為什麼選擇 Python ?\n",
        "電腦讀得懂的語言其實只有 0 與 1 (最早期是用燈泡表示計算結果)，  \n",
        "而後有不少工程師設計了為數眾多的程式語言與編譯器(compiler)，  \n",
        "讓我們可以用接近人類的語言，去撰寫讓電腦讀得懂的程式。  \n",
        "而 Python 可以算是最平易近人的一個程式語言：\n",
        "\n",
        "- 簡潔易懂\n",
        "- 要求程式碼寫作風格，容易與他人合作。\n",
        "- 可以做很多事\n",
        "  - 資料分析：統計應用、機器學習、檔案處理、(網路爬蟲、資料庫)\n",
        "  - 電商平台：網站架設、資料庫\n",
        "  - 智慧家電、智慧溫室：軟硬整合\n",
        "  - AI 應用：影音處理、聊天機器人\n",
        "- 有很多人使用：有廣大的社群可以討論、得以站在巨人的肩膀上\n",
        "  - [網頁爬蟲]：Requests, lxml, Beautiful Soup, Scrapy\n",
        "  - [自動化控制]：Selenium, PyAutoGUI\n",
        "  - [資料庫串接]：SQLAlchemy, sqlite3(sqlite), MySQLdb(MySQL), pymssql(MSSQL), Psycopg(PostgreSQL), PyMongo(MongoDB)\n",
        "  - [自然語言]：NLTK, CKIP,\n",
        "  - [統計應用]：Pandas, NumPy, SciPy, Matplotlib, Seaborn, Plotly\n",
        "  - [機器學習]：Scikit-learn, TensorFlow, PyTorch, Keras\n",
        "  - [影音處理]：PIL, opencv\n",
        "  - [網站架設]：Django, Flask, FastAPI\n",
        "  - [網路分析]：Scapy\n",
        "  - [軟硬整合]：Raspberry Pi 樹莓派, Arduino\n",
        "  - [遊戲開發]：pygame\n",
        "  - [App開發]：Kivy, Streamlit, Tkinter, PyQt\n",
        "  - [各種服務的API串接]：\n",
        "     - 雲端應用(Google, Microsoft)\n",
        "     - ChatGPT, OpenAI Models(GPT, Whisper, TTS, DALL-E, CLIP, Embeddings, ...)\n",
        "     - 自動化工具(IFTTT, Zapier)\n",
        "     - 金融服務(區塊鏈、分析)\n",
        "     - Mail, Bot, 訊息推播平台\n",
        "     - 雲端平台(AWS, GCP, Azure)\n",
        "     -  ...\n"
      ],
      "metadata": {
        "id": "C_AWxcff0bgp"
      }
    },
    {
      "cell_type": "markdown",
      "source": [
        "# 學習地圖\n",
        "此系列活動主要讓你熟悉程式基礎與對應的 Python 寫法，  \n",
        "我們會透過很多的練習題，幫助你理解這些觀念(而不是背語法)、  \n",
        "更進一步建立運算思維：定義問題、拆解分析、實作除錯(這些觀念也可以帶到其他的程式語言)。\n",
        "\n",
        "最後讓你能利用這幾天的活動內容學習到的能力實作出各種生活或實務上的小程式，也更能了解到 Python 廣泛的應用。   \n",
        "我們也會提供相關資源以及建議，當作你未來若想用 Python 做更多應用或繼續增進程式功力的參考。\n",
        "\n",
        "\n",
        "<img src=\"https://drive.google.com/uc?id=1-rbyGBX-xWdLJg-eDNat4U50raH1Bl3d\" width=\"80%\"/>\n",
        "\n",
        "\n"
      ],
      "metadata": {
        "id": "78s37WzvHdvp"
      }
    },
    {
      "cell_type": "markdown",
      "source": [
        "# Let's Coding!\n",
        "- [colab](https://repl.it/languages/python3)：Google 線上 Python 編譯環境(方便快速瀏覽程式結果)\n",
        "- [repl.it](https://repl.it/languages/python3)：線上 Python 編譯環境(較接近實際工程師開發方式)\n",
        "- [Anaconda](http://tw.pyladies.com/~marsw/jupyter_install.slides.html#/)：在自己電腦上安裝，方便離線操作"
      ],
      "metadata": {
        "id": "MSh71ZVYHgYu"
      }
    },
    {
      "cell_type": "markdown",
      "source": [
        "© 2025 MarsW (Mars Weng). Published under CC BY-NC-ND 4.0.  \n",
        "Full license and additional terms: https://github.com/Python-Tutorial-Workshop/2025/blob/master/LICENSE"
      ],
      "metadata": {
        "id": "-NWZP27Kxmpl"
      }
    }
  ]
}
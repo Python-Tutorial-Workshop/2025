{
  "nbformat": 4,
  "nbformat_minor": 0,
  "metadata": {
    "colab": {
      "provenance": [],
      "toc_visible": true
    },
    "kernelspec": {
      "name": "python3",
      "display_name": "Python 3"
    },
    "language_info": {
      "name": "python"
    }
  },
  "cells": [
    {
      "cell_type": "markdown",
      "source": [
        "我們平常處理的資料不會只有一兩筆，而是會像串列一樣有很多筆資訊，  \n",
        "那要怎麼逐一把這裡面的資訊拿出來做處理，就需要使用到迭代的觀念與 Python 的迴圈語法。"
      ],
      "metadata": {
        "id": "IZ3jGnJYKZqT"
      }
    },
    {
      "cell_type": "markdown",
      "source": [
        "# 迴圈與迭代\n",
        "迭代的概念是「一個接著一個處理」，所以會有兩個角色：\n",
        "- 可迭代者：被處理的對象\n",
        "- 接收者：負責處理的一方\n",
        "\n",
        "序列裡面是一個個元素，通常是我們處理的對象。  \n",
        "而接收並處理這些元素的，在Python裡最常用的就是 for 迴圈："
      ],
      "metadata": {
        "id": "n2n0JUhpnLzG"
      }
    },
    {
      "cell_type": "markdown",
      "source": [
        "``` python\n",
        "for 命名標籤 in 可迭代者:  \n",
        "    重複要處理的事\n",
        "```"
      ],
      "metadata": {
        "id": "QusOJwvAFw5V"
      }
    },
    {
      "cell_type": "markdown",
      "source": [
        "- 每次從可迭代者拿出元素，我們都會把命名標籤貼上去，才能對他做處理(不然會被回收)\n",
        "    - 命名標籤通常會用能代表元素的名字\n",
        "- 序列都是可迭代者，也就是字串跟串列都可以被迭代處理\n",
        "- 要做的事是在迴圈裡面，所以要記得冒號、縮排\n",
        "- 迴圈會取出所有存在可迭代者中的元素：\n",
        "    - 字串的每個字元：字母、空白、標點符號\n",
        "    - 串列的每個元素"
      ],
      "metadata": {
        "id": "BHb6MkZ_G2Wx"
      }
    },
    {
      "cell_type": "markdown",
      "source": [
        "<img src=\"https://drive.google.com/uc?id=1CJUEkN2f0Cbl4Wcax8ORm9zKpAIMMmRJ\" width=\"100%\"/>"
      ],
      "metadata": {
        "id": "nL-t25AyYD4H"
      }
    },
    {
      "cell_type": "code",
      "execution_count": null,
      "metadata": {
        "id": "ou_wBHK3nLFB",
        "colab": {
          "base_uri": "https://localhost:8080/"
        },
        "outputId": "a3ffc212-915a-4232-e83e-2b170c3e2881"
      },
      "outputs": [
        {
          "output_type": "stream",
          "name": "stdout",
          "text": [
            "1\n",
            "4\n",
            "7\n",
            "9\n"
          ]
        }
      ],
      "source": [
        "for ele in [1,4,7,9]:\n",
        "    print(ele)"
      ]
    },
    {
      "cell_type": "markdown",
      "source": [
        "上述的迴圈內的運作邏輯等同於\n",
        "``` python\n",
        "ele=1\n",
        "print(ele)\n",
        "ele=4\n",
        "print(ele)\n",
        "ele=7\n",
        "print(ele)\n",
        "ele=9\n",
        "print(ele)\n",
        "```\n",
        "- 拿串列的第一個元素(1)，用標籤 `ele` 貼上\n",
        "    - 處理元素的方式：印出 => `print(ele)`\n",
        "- 拿串列下一個元素(4)，用標籤 `ele` 貼上\n",
        "    - 處理元素的方式：印出 => `print(ele)`\n",
        "- 拿串列下一個元素，...\n",
        "    - ...\n",
        "- 直到串列沒有下一個元素可以拿\n",
        "\n",
        "> [動畫表示](https://pythontutor.com/render.html#code=for%20ele%20in%20%5B1,4,7,9%5D%3A%0A%20%20%20%20print%28ele%29&cumulative=false&curInstr=0&heapPrimitives=nevernest&mode=display&origin=opt-frontend.js&py=311&rawInputLstJSON=%5B%5D&textReferences=false)"
      ],
      "metadata": {
        "id": "JjPXwaMBHSyh"
      }
    },
    {
      "cell_type": "markdown",
      "source": [
        "## [練習] 印出購買清單\n",
        "通常購物清單會有一個 checkbox 讓我們可以確認是否有購買   \n",
        "<img src=\"https://cdn.pixabay.com/photo/2021/07/29/14/08/grocery-6507313_1280.jpg\" width=\"30%\"/>  \n",
        "  \n",
        "以下我們會給你一組要購買項目的串列，請把它按照這種方式印出\n",
        "\n",
        "```\n",
        "☐ 牛小排\n",
        "☐ 烤肉醬\n",
        "☐ 吐司\n",
        "☐ 生菜\n",
        "☐ 年糕\n",
        "```"
      ],
      "metadata": {
        "id": "KYapknUZ4OUz"
      }
    },
    {
      "cell_type": "code",
      "source": [
        "shopping_list = [\"牛小排\", \"烤肉醬\", \"吐司\", \"生菜\", \"年糕\"]\n",
        "for ____ in ____:\n",
        "    print(f\"☐ {____}\")"
      ],
      "metadata": {
        "id": "RExfh6gp5ER_"
      },
      "execution_count": null,
      "outputs": []
    },
    {
      "cell_type": "markdown",
      "source": [
        "## 應用情境-處理資料"
      ],
      "metadata": {
        "id": "dwPK48dg2jiM"
      }
    },
    {
      "cell_type": "markdown",
      "source": [
        "我們很常用 Python 處理資料，而資料通常不會只有一筆，  \n",
        "那要知道怎麼處理資料，我們都會先把裡面的元素印出來，  \n",
        "知道資料每一個元素的樣貌後，再去決定如何處理它。  \n"
      ],
      "metadata": {
        "id": "QuLeXL8c0szo"
      }
    },
    {
      "cell_type": "markdown",
      "source": [
        "下面我們以幫學生的成績以常用的開根號除以10調分為例子說明："
      ],
      "metadata": {
        "id": "YTNRPEc96omB"
      }
    },
    {
      "cell_type": "code",
      "source": [
        "# 先把可迭代者(這裡是 scores 串列)印出來，看每個元素是什麼，再決定如何給定命名標籤\n",
        "scores = [32,56,58,62,79,82,98]\n",
        "for ele in scores:\n",
        "    print(ele)"
      ],
      "metadata": {
        "id": "z_okbHFrQENh"
      },
      "execution_count": null,
      "outputs": []
    },
    {
      "cell_type": "markdown",
      "source": [
        "知道 `scores` 裡面每個元素就是成績，所以命名標籤改成 `score` 會比較好"
      ],
      "metadata": {
        "id": "DD86ul4UQFTS"
      }
    },
    {
      "cell_type": "code",
      "source": [
        "scores = [32,56,58,62,79,82,98]\n",
        "for score in scores:\n",
        "    print(score)"
      ],
      "metadata": {
        "id": "54aAbVwkyCo-"
      },
      "execution_count": null,
      "outputs": []
    },
    {
      "cell_type": "markdown",
      "source": [
        "既然 `score` 就是每個學生的成績，我們就可以直接對它做處理"
      ],
      "metadata": {
        "id": "nlDIe6gM7vFO"
      }
    },
    {
      "cell_type": "code",
      "source": [
        "scores = [32,56,58,62,79,82,98]\n",
        "for score in scores:\n",
        "    print(score**0.5*10)"
      ],
      "metadata": {
        "colab": {
          "base_uri": "https://localhost:8080/"
        },
        "id": "LHsSLkBc3fac",
        "outputId": "b12e8cd0-4e78-4374-8311-54fe70226b2c"
      },
      "execution_count": null,
      "outputs": [
        {
          "output_type": "stream",
          "name": "stdout",
          "text": [
            "56.568542494923804\n",
            "74.83314773547883\n",
            "76.15773105863909\n",
            "78.74007874011811\n",
            "88.88194417315589\n",
            "90.55385138137417\n",
            "98.99494936611666\n"
          ]
        }
      ]
    },
    {
      "cell_type": "markdown",
      "source": [
        "如果我們拿到的資料不只有學生成績，還有學生姓名，  \n",
        "就需要分別把學生姓名跟成績拿取出來，針對成績作調分，  \n",
        "再將姓名跟調整後的成績印出"
      ],
      "metadata": {
        "id": "Mwqd7ifC2sY3"
      }
    },
    {
      "cell_type": "code",
      "source": [
        "# 先把可迭代者(這裡是 student_scores 串列)印出來，看每個元素是什麼，再決定如何給定命名標籤\n",
        "student_scores = [\n",
        "    [\"A\", 32],\n",
        "    [\"B\", 56],\n",
        "    [\"C\", 58],\n",
        "    [\"D\", 62],\n",
        "    [\"E\", 79],\n",
        "    [\"F\", 82],\n",
        "    [\"G\", 98]\n",
        "]\n",
        "for ele in student_scores:\n",
        "    print(ele)"
      ],
      "metadata": {
        "colab": {
          "base_uri": "https://localhost:8080/"
        },
        "id": "3tUBnK0OQSub",
        "outputId": "721db7fb-da46-489b-d10a-afb7f5ccfc1a"
      },
      "execution_count": null,
      "outputs": [
        {
          "output_type": "stream",
          "name": "stdout",
          "text": [
            "['A', 32]\n",
            "['B', 56]\n",
            "['C', 58]\n",
            "['D', 62]\n",
            "['E', 79]\n",
            "['F', 82]\n",
            "['G', 98]\n"
          ]
        }
      ]
    },
    {
      "cell_type": "markdown",
      "source": [
        "命名標籤改成 student_score 會比較好"
      ],
      "metadata": {
        "id": "DKYXw7oUQh5r"
      }
    },
    {
      "cell_type": "code",
      "source": [
        "student_scores = [\n",
        "    [\"A\", 32],\n",
        "    [\"B\", 56],\n",
        "    [\"C\", 58],\n",
        "    [\"D\", 62],\n",
        "    [\"E\", 79],\n",
        "    [\"F\", 82],\n",
        "    [\"G\", 98]\n",
        "]\n",
        "for student_score in student_scores:\n",
        "    print(student_score)"
      ],
      "metadata": {
        "colab": {
          "base_uri": "https://localhost:8080/"
        },
        "id": "5mvHSeHw0SS7",
        "outputId": "803f7274-324b-4022-ed59-7c1df43babab"
      },
      "execution_count": null,
      "outputs": [
        {
          "output_type": "stream",
          "name": "stdout",
          "text": [
            "['A', 32]\n",
            "['B', 56]\n",
            "['C', 58]\n",
            "['D', 62]\n",
            "['E', 79]\n",
            "['F', 82]\n",
            "['G', 98]\n"
          ]
        }
      ]
    },
    {
      "cell_type": "markdown",
      "source": [
        "上述的迴圈內的運作邏輯等同於\n",
        "```python\n",
        "student_score = [\"A\", 32]\n",
        "print(student_score)\n",
        "student_score = [\"B\", 56]\n",
        "print(student_score)\n",
        "student_score = [\"C\", 58]\n",
        "print(student_score)\n",
        "student_score = [\"D\", 62]\n",
        "print(student_score)\n",
        "student_score = [\"E\", 79]\n",
        "print(student_score)\n",
        "student_score = [\"F\", 82]\n",
        "print(student_score)\n",
        "student_score = [\"G\", 98]\n",
        "print(student_score)\n",
        "```"
      ],
      "metadata": {
        "id": "NOGOXKkYf9if"
      }
    },
    {
      "cell_type": "markdown",
      "source": [
        "知道 `student_score` 也是一個串列，我們就可以用[串列取值](https://colab.research.google.com/drive/1R7wB_1SO0mY2A8GOLhPLDM1HLm1lhqON#scrollTo=T9CeCnO6P9bY)的方式分別拿到：\n",
        "- 第一個元素：學生的姓名\n",
        "- 第二個元素：學生的成績\n",
        "\n",
        "進而針對學生的成績做調分"
      ],
      "metadata": {
        "id": "BfoNxSw0gecY"
      }
    },
    {
      "cell_type": "code",
      "source": [
        "student_scores = [\n",
        "    [\"A\", 32],\n",
        "    [\"B\", 56],\n",
        "    [\"C\", 58],\n",
        "    [\"D\", 62],\n",
        "    [\"E\", 79],\n",
        "    [\"F\", 82],\n",
        "    [\"G\", 98]\n",
        "]\n",
        "for student_score in student_scores:\n",
        "    student_name = student_score[0]\n",
        "    score = student_score[1]\n",
        "    print(f\"{student_name} 的成績為 {score**0.5*10}\")"
      ],
      "metadata": {
        "colab": {
          "base_uri": "https://localhost:8080/"
        },
        "id": "UGFxR8mF1hg5",
        "outputId": "c2706ae5-b75a-4e34-e562-d99ed194da54"
      },
      "execution_count": null,
      "outputs": [
        {
          "output_type": "stream",
          "name": "stdout",
          "text": [
            "A 的成績為 56.568542494923804\n",
            "B 的成績為 74.83314773547883\n",
            "C 的成績為 76.15773105863909\n",
            "D 的成績為 78.74007874011811\n",
            "E 的成績為 88.88194417315589\n",
            "F 的成績為 90.55385138137417\n",
            "G 的成績為 98.99494936611666\n"
          ]
        }
      ]
    },
    {
      "cell_type": "markdown",
      "source": [
        "### [練習] 搜尋結果顯示\n",
        "我們如果使用搜尋引擎搜尋「台灣 Python 社群」，搜尋引擎會回傳好幾個可能的搜尋結果。  \n",
        "這邊有一個已經按照排名分數由高到低排序好的搜尋結果串列，  \n",
        "這個串列的每一個元素也都是一個串列：\n",
        "- 第一個元素代表排名分數\n",
        "- 第二個元素代表標題\n",
        "- 第三個元素代表網址\n",
        "\n",
        "我們平常使用的各種服務搜尋結果頁，應該都不會看到排名分數，  \n",
        "所以這裡我們也是一樣，我們只印出「標題」以及「網址」：\n",
        "```\n",
        "台灣在地社群 https://tw.pycon.org/zh-hant/about/community\n",
        "Python Taiwan https://www.facebook.com/groups/pythontw/\n",
        "社群專案台灣Python 年會PyCon Taiwan https://ocf.tw/p/pycon/\n",
        "\n",
        "```\n",
        "\n",
        "> #### Hint:\n",
        "> - 可以先印出搜尋結果串列的每一個元素(會是一個串列)\n",
        "> - 然後利用[索引取值](https://colab.research.google.com/drive/1R7wB_1SO0mY2A8GOLhPLDM1HLm1lhqON#scrollTo=T9CeCnO6P9bY)再拿出裡面的標題、網址\n",
        "\n"
      ],
      "metadata": {
        "id": "JPQ8QD5ctELP"
      }
    },
    {
      "cell_type": "code",
      "source": [
        "results = [\n",
        "    [100,\"台灣在地社群\", \"https://tw.pycon.org/zh-hant/about/community\"],\n",
        "    [98, \"Python Taiwan\", \"https://www.facebook.com/groups/pythontw/\"],\n",
        "    [90, \"社群專案台灣Python 年會PyCon Taiwan\", \"https://ocf.tw/p/pycon/\"]\n",
        "]\n",
        "for ___ in ________: # for 命名標籤 in 可迭代對象\n",
        "    print(___)       # 先試著把搜尋結果串列的每一個元素印出來 (上面那行你給定的命名標籤)\n",
        "    # title = ________ # 再去處理 標題、網址\n",
        "    # url = ________\n",
        "    # print(title, url)"
      ],
      "metadata": {
        "id": "fRTwilhlzIHH"
      },
      "execution_count": null,
      "outputs": []
    },
    {
      "cell_type": "markdown",
      "source": [
        "還記得我們前面講過的購物網站套版嗎？  \n",
        "實務上如同搜尋列表，也是由後端把個商品的資料給前端，  \n",
        "前端再把這些資料拆解填上。\n",
        "\n",
        "<img src=\"https://drive.google.com/uc?id=1EQjY5eWqMwx0mBrT7UENmFZj7Kj44O7z\" width=\"70%\"/>\n",
        "\n",
        "\n"
      ],
      "metadata": {
        "id": "ahME7ikbj2kY"
      }
    },
    {
      "cell_type": "code",
      "source": [
        "products = [\n",
        "    [\"100抽12包1串\", 170],\n",
        "    [\"100抽12包3串\", 500],\n",
        "    [\"100抽12包6串\", 990],\n",
        "]\n",
        "\n",
        "row_products_template = \"\"\n",
        "for product in products:\n",
        "    product_name = product[0]\n",
        "    product_price = product[1]\n",
        "    product_template = f\"\"\"\n",
        "                <div class=\"col mb-5\">\n",
        "                    <div class=\"card h-100\">\n",
        "                        <img class=\"card-img-top\" src=\"https://cdn.pixabay.com/photo/2015/10/22/07/55/tissues-1000849_1280.png\"/>\n",
        "                        <div class=\"card-body p-4\">\n",
        "                            <div class=\"text-center\">\n",
        "                                <h5 class=\"fw-bolder\">{product_name}</h5>\n",
        "                                ${product_price}\n",
        "                            </div>\n",
        "                        </div>\n",
        "                    </div>\n",
        "                </div>\n",
        "    \"\"\"\n",
        "    row_products_template+=product_template\n",
        "\n",
        "html = f\"\"\"\n",
        "<!DOCTYPE html>\n",
        "<html lang=\"en\">\n",
        "    <head>\n",
        "        <title>Shop Homepage</title>\n",
        "        <link rel=\"stylesheet\" href=\"https://cdn.jsdelivr.net/npm/bootstrap@4.4.1/dist/css/bootstrap.min.css\">\n",
        "    </head>\n",
        "    <body>\n",
        "        <header class=\"bg-dark py-5\">\n",
        "            <div class=\"container\">\n",
        "                <div class=\"text-center text-white\">\n",
        "                    <h1 class=\"display-4\">Product List</h1>\n",
        "                </div>\n",
        "            </div>\n",
        "        </header>\n",
        "        <div class=\"container px-4 px-lg-5 mt-5\">\n",
        "            <div class=\"row gx-3 gx-lg-5 row-cols-2 row-cols-md-3 row-cols-xl-3 justify-content-center\">\n",
        "            {row_products_template}\n",
        "            </div>\n",
        "        </div>\n",
        "    </body>\n",
        "</html>\n",
        "\"\"\"\n",
        "print(html)"
      ],
      "metadata": {
        "id": "CnhX6G1E-iWc"
      },
      "execution_count": null,
      "outputs": []
    },
    {
      "cell_type": "markdown",
      "source": [
        "## 各種序列操作方式的運作原理"
      ],
      "metadata": {
        "id": "7xeHG3WxJNHT"
      }
    },
    {
      "cell_type": "markdown",
      "source": [
        "### `sum(全數字序列)`\n",
        "還記得我們之前教過 `sum(全數字序列)` 可以算出全數字序列中所有元素的加總，  \n",
        "背後的觀念其實是把序列中一個個元素拿出來，然後加總起來，就是迭代的概念。  \n",
        "\n",
        "而要記錄加總的資料，就像我們計算機操作前，會先把它歸零，然後再開始做加總計算。"
      ],
      "metadata": {
        "id": "kDFumf9msX8W"
      }
    },
    {
      "cell_type": "code",
      "source": [
        "list_nums = [3, 4, 2.1, 1]\n",
        "print(sum(list_nums))"
      ],
      "metadata": {
        "colab": {
          "base_uri": "https://localhost:8080/"
        },
        "id": "3KQYOf2xr5hA",
        "outputId": "7158b597-03a4-40bf-b679-96359dcde5bd"
      },
      "execution_count": null,
      "outputs": [
        {
          "output_type": "stream",
          "name": "stdout",
          "text": [
            "10.1\n"
          ]
        }
      ]
    },
    {
      "cell_type": "code",
      "source": [
        "list_nums = [3, 4, 2.1, 1]\n",
        "total_sum = 0          # 用 total_sum 這個標籤去貼在加總的物件上\n",
        "for num in list_nums:\n",
        "    total_sum += num   # total_sum = total_sum + num\n",
        "print(total_sum)"
      ],
      "metadata": {
        "colab": {
          "base_uri": "https://localhost:8080/"
        },
        "id": "d9ORjiNyqfIJ",
        "outputId": "584c5346-84d0-486d-95b2-2d00e68d012d"
      },
      "execution_count": null,
      "outputs": [
        {
          "output_type": "stream",
          "name": "stdout",
          "text": [
            "10.1\n"
          ]
        }
      ]
    },
    {
      "cell_type": "markdown",
      "source": [
        "上述的迴圈內的運作邏輯等同於\n",
        "``` python\n",
        "num = 3\n",
        "total_sum += num # total_sum = 3\n",
        "num = 4\n",
        "total_sum += num # total_sum = 7\n",
        "num = 2.1\n",
        "total_sum += num # total_sum = 9.1\n",
        "num = 1\n",
        "total_sum += num # total_sum = 10.1\n",
        "```"
      ],
      "metadata": {
        "id": "nToGtl-HxJas"
      }
    },
    {
      "cell_type": "markdown",
      "source": [
        "### [練習] 以迴圈重現 `len(序列)`\n",
        "同樣的 `len(序列)` 也是一樣，每次把元素拿出來，  \n",
        "只不過就不需要用到元素的值，只要計算拿出幾次。  \n",
        "\n",
        "> #### Hint:\n",
        "> - 拿出幾次 = 每拿一次，計數器既有數值 +1\n",
        "> - 計數器剛開始要歸零"
      ],
      "metadata": {
        "id": "xQREWVBmsqdr"
      }
    },
    {
      "cell_type": "code",
      "source": [
        "list_example = [\"a\",2016,5566,\"Python\",2016,2016.0]\n",
        "print(len(list_example))"
      ],
      "metadata": {
        "colab": {
          "base_uri": "https://localhost:8080/"
        },
        "id": "AeqTiZOstNsN",
        "outputId": "89e43ac2-44cc-40ce-d82c-3b46615e0ec8"
      },
      "execution_count": null,
      "outputs": [
        {
          "output_type": "stream",
          "name": "stdout",
          "text": [
            "6\n"
          ]
        }
      ]
    },
    {
      "cell_type": "code",
      "source": [
        "list_example = [\"a\",2016,5566,\"Python\",2016,2016.0]\n",
        "total_len = 0\n",
        "for ___ in ______:\n",
        "    total_len += ___\n",
        "print(total_len)"
      ],
      "metadata": {
        "id": "_uzrxfVqV5LG"
      },
      "execution_count": null,
      "outputs": []
    },
    {
      "cell_type": "markdown",
      "source": [
        "### `max(序列)`\n",
        "而要知道最大值，就需要數字比大小，  \n",
        "背後運作的原理是，我先設定某個非常小的值當成現在的最大值 (e.g. -999999)，    \n",
        "把序列一個個元素拿出來，如果比現在的最大值大，那就把最大值更新。"
      ],
      "metadata": {
        "id": "_DmKOwbVa7vq"
      }
    },
    {
      "cell_type": "code",
      "source": [
        "list_example = [3, 4, 2.1, 1]\n",
        "data_max = -999999\n",
        "for ele in list_example:\n",
        "    if ele > data_max:\n",
        "        data_max = ele\n",
        "print(data_max)"
      ],
      "metadata": {
        "colab": {
          "base_uri": "https://localhost:8080/"
        },
        "id": "CR6ijv8EcVUZ",
        "outputId": "bf26cbfb-1738-4a8d-81fb-d8eab4fc590f"
      },
      "execution_count": null,
      "outputs": [
        {
          "output_type": "stream",
          "name": "stdout",
          "text": [
            "4\n"
          ]
        }
      ]
    },
    {
      "cell_type": "markdown",
      "source": [
        "上述的迴圈內的運作邏輯等同於\n",
        "``` python\n",
        "ele = 3\n",
        "data_max = 3 # 3 > -999999\n",
        "ele = 4\n",
        "data_max = 4 # 4 > 3\n",
        "ele = 2.1    # 2 <= 4, data_max 沒有變化\n",
        "ele = 1      # 1 <= 4, data_max 沒有變化\n",
        "```"
      ],
      "metadata": {
        "id": "PoL281AD24li"
      }
    },
    {
      "cell_type": "markdown",
      "source": [
        "### `min(序列)`\n",
        "而最小值則與最大值的設置相反：  \n",
        "設定某個非常大的值當成現在的最小值 (e.g. 999999)，    \n",
        "把序列一個個元素拿出來，如果比現在的最小值小，那就把最小值更新。"
      ],
      "metadata": {
        "id": "EX-VAwd6cvDF"
      }
    },
    {
      "cell_type": "code",
      "source": [
        "list_example = [3, 4, 2.1, 1]\n",
        "score_min = 999999\n",
        "for ele in list_example:\n",
        "    if ele < score_min:\n",
        "        score_min = ele\n",
        "print(score_min)"
      ],
      "metadata": {
        "colab": {
          "base_uri": "https://localhost:8080/"
        },
        "id": "dhQWH2l8cvDG",
        "outputId": "7452d5a3-615c-4ac2-d296-70dc1fc7d47e"
      },
      "execution_count": null,
      "outputs": [
        {
          "output_type": "stream",
          "name": "stdout",
          "text": [
            "1\n"
          ]
        }
      ]
    },
    {
      "cell_type": "markdown",
      "source": [
        "上述的迴圈內的運作邏輯等同於\n",
        "```python\n",
        "ele = 3\n",
        "data_min = 3   # 3 < 999999\n",
        "ele = 4        # 4 >= 3, data_min 沒有變化\n",
        "ele = 2.1\n",
        "data_min = 2.1 # 2.1 < 3\n",
        "ele = 1\n",
        "data_min = 1   # 1 < 2.1\n",
        "```"
      ],
      "metadata": {
        "id": "DvouZWqA3ZU3"
      }
    },
    {
      "cell_type": "markdown",
      "source": [
        "### 最佳化\n",
        "在知道這些函式背後的運作原理，  \n",
        "就有可能找出程式碼效能不彰的地方，改善它讓他加速。  \n",
        "\n",
        "我們剛才講到的 `sum(全數字序列)`, `len(序列)`, `max(序列)`, `min(序列)`，每個都會分別用迴圈迭代整個序列，  \n",
        "之前的練習題要統計全班的平均分數與最高分最低分差，就會跑了四次迭代。  \n",
        "\n",
        "但因為迭代的序列都是同一個，所以我們其實迭代一次就可以做到相同的事情："
      ],
      "metadata": {
        "id": "UTHcD1GuVgAK"
      }
    },
    {
      "cell_type": "code",
      "source": [
        "import time\n",
        "time_start = time.time()\n",
        "scores = [85,70,54,87,98,66,40]\n",
        "diff_score = max(scores) - min(scores)\n",
        "avg_score = sum(scores) / len(scores)\n",
        "print(\"全班分數落差為\",diff_score)\n",
        "print(\"全班平均為\",avg_score)\n",
        "time_end = time.time()\n",
        "print(time_end-time_start)"
      ],
      "metadata": {
        "colab": {
          "base_uri": "https://localhost:8080/"
        },
        "id": "ZK5ETxmmOkLY",
        "outputId": "e76ec530-f039-4db2-8aed-935ae85d037d"
      },
      "execution_count": null,
      "outputs": [
        {
          "output_type": "stream",
          "name": "stdout",
          "text": [
            "全班分數落差為 58\n",
            "全班平均為 71.42857142857143\n",
            "0.014616727828979492\n"
          ]
        }
      ]
    },
    {
      "cell_type": "code",
      "source": [
        "import time\n",
        "time_start = time.time()\n",
        "scores = [85,70,54,87,98,66,40]\n",
        "score_max = -999999\n",
        "score_min = 999999\n",
        "score_sum = 0\n",
        "score_cnt = 0\n",
        "for score in scores:\n",
        "    score_cnt+=1\n",
        "    score_sum+=score\n",
        "    if score > score_max:\n",
        "        score_max = score\n",
        "    if score < score_min:\n",
        "        score_min = score\n",
        "\n",
        "diff_score = score_max - score_min\n",
        "avg_score = score_sum / score_cnt\n",
        "print(\"全班分數落差為\",diff_score)\n",
        "print(\"全班平均為\",avg_score)\n",
        "time_end = time.time()\n",
        "print(time_end-time_start)"
      ],
      "metadata": {
        "colab": {
          "base_uri": "https://localhost:8080/"
        },
        "id": "4M4lZZpxOtjn",
        "outputId": "6eb4950a-d18b-4f8d-b49c-26cebb398253"
      },
      "execution_count": null,
      "outputs": [
        {
          "output_type": "stream",
          "name": "stdout",
          "text": [
            "全班分數落差為 58\n",
            "全班平均為 71.42857142857143\n",
            "0.002415895462036133\n"
          ]
        }
      ]
    },
    {
      "cell_type": "markdown",
      "source": [
        "### [進階練習] 以迴圈重現 `序列.count(元素)`\n",
        "把序列一個個元素拿出來，如果是跟我們的要搜尋的元素相等，就+1   \n",
        "\n",
        "> #### Hint:\n",
        "> - 把序列一個個元素拿出來 => for 迴圈\n",
        "> - 如果 => [if 判斷式](https://colab.research.google.com/drive/1KGTmNzFhvjze3hUvm4i8EBfRyZs2ZxPj?usp=sharing)\n",
        "> - 計算出現次數的物件，剛開始要歸零"
      ],
      "metadata": {
        "id": "CW9B5SrYdQgf"
      }
    },
    {
      "cell_type": "code",
      "source": [
        "list_example = [\"a\",2016,5566,\"Python\",2016,2016.0]\n",
        "print(list_example.count(2016))"
      ],
      "metadata": {
        "colab": {
          "base_uri": "https://localhost:8080/"
        },
        "id": "JAgFAQd0B6MB",
        "outputId": "ec305fe0-801c-469d-e5e0-5affa6ddabec"
      },
      "execution_count": null,
      "outputs": [
        {
          "output_type": "stream",
          "name": "stdout",
          "text": [
            "3\n"
          ]
        }
      ]
    },
    {
      "cell_type": "code",
      "source": [
        "list_example = [\"a\",2016,5566,\"Python\",2016,2016.0]\n",
        "target = 2016\n",
        "\n",
        "target_cnt = ____\n",
        "for ele in list_example:\n",
        "    if ______:\n",
        "        target_cnt+=___\n",
        "print(target_cnt)"
      ],
      "metadata": {
        "id": "X9-4RIDCCSRN"
      },
      "execution_count": null,
      "outputs": []
    },
    {
      "cell_type": "markdown",
      "source": [
        "# 串列的增刪"
      ],
      "metadata": {
        "id": "oehF7vafV4CI"
      }
    },
    {
      "cell_type": "markdown",
      "source": [
        "## 增加：把序列的每一個元素，分別加入串列的末端\n",
        "```\n",
        "串列+=序列\n",
        "串列.extend(物件)\n",
        "```"
      ],
      "metadata": {
        "id": "1JJyuSe8WDFe"
      }
    },
    {
      "cell_type": "code",
      "source": [
        "list_example = [1,2,3,4,5]\n",
        "list_example += [6,7] # list_example = list_example + [6,7]\n",
        "print(list_example)\n",
        "list_example += \"Hi\"  # list_example = list_example + \"Hi\"\n",
        "print(list_example)"
      ],
      "metadata": {
        "colab": {
          "base_uri": "https://localhost:8080/"
        },
        "id": "Bx5HrgqZV5jf",
        "outputId": "ec039768-6029-4fd4-80b8-425437c30d1c"
      },
      "execution_count": null,
      "outputs": [
        {
          "output_type": "stream",
          "name": "stdout",
          "text": [
            "[1, 2, 3, 4, 5, 6, 7]\n",
            "[1, 2, 3, 4, 5, 6, 7, 'H', 'i']\n"
          ]
        }
      ]
    },
    {
      "cell_type": "markdown",
      "source": [
        "## 增加：把物件加入串列的末端\n",
        "```\n",
        "串列.append(物件)\n",
        "```"
      ],
      "metadata": {
        "id": "0l2lxU9dWT4u"
      }
    },
    {
      "cell_type": "code",
      "source": [
        "list_example = [1,2,3,4,5]\n",
        "list_example.append([6,7])\n",
        "print(list_example)\n",
        "list_example.append(\"Hi\")\n",
        "print(list_example)"
      ],
      "metadata": {
        "colab": {
          "base_uri": "https://localhost:8080/"
        },
        "id": "czzVWrgaWWJj",
        "outputId": "9b437056-2be2-4ee8-e65b-5951fc1f6d65"
      },
      "execution_count": null,
      "outputs": [
        {
          "output_type": "stream",
          "name": "stdout",
          "text": [
            "[1, 2, 3, 4, 5, [6, 7]]\n",
            "[1, 2, 3, 4, 5, [6, 7], 'Hi']\n"
          ]
        }
      ]
    },
    {
      "cell_type": "markdown",
      "source": [
        "### [練習] 購物清單合併\n",
        "請用一個新的串列 `shopping_list`，合併兩個購物清單\n",
        "\n",
        "```\n",
        "☐ 牛小排\n",
        "☐ 烤肉醬\n",
        "☐ 吐司\n",
        "☐ 生菜\n",
        "☐ 年糕\n",
        "☐ 牛五花\n",
        "☐ 豬里肌厚片\n",
        "☐ 吐司\n",
        "☐ 黑輪片\n",
        "☐ 玉米\n",
        "☐ 棉花糖\n",
        "☐ 年糕\n",
        "```\n",
        "\n",
        "> #### Hint:\n",
        "> - 用一新的串列 `shopping_list` 當成合併後的清單\n",
        ">   - 串列是可變物件，如果想保留原本的購物清單，就不應該用原來的清單直接加入另一個清單的資料。\n",
        "> - 要把兩個購物清單夾到合併的購物清單中，所以是對兩個購物清單做迭代，  \n",
        " 拿出每個購物項目後，加入新的清單\n"
      ],
      "metadata": {
        "id": "TylZNL-fWpcR"
      }
    },
    {
      "cell_type": "code",
      "source": [
        "shopping_list_1 = [\"牛小排\", \"烤肉醬\", \"吐司\", \"生菜\", \"年糕\"]\n",
        "shopping_list_2 = [\"牛五花\", \"豬里肌厚片\", \"吐司\", \"黑輪片\", \"玉米\", \"棉花糖\", \"年糕\"]\n",
        "shopping_list = []\n",
        "\n",
        "# 拿出 shopping_list_1 裡的每個元素(購買項目)，加入 shopping_list 當中\n",
        "for item in _______:\n",
        "    _______.append(item)\n",
        "\n",
        "# 拿出 shopping_list_2 裡的每個元素(購買項目)，加入 shopping_list 當中\n",
        "for item in _______:\n",
        "    _______.append(item)\n",
        "\n",
        "# 印出 shopping_list 裡的每個元素(購買項目)\n",
        "for item in shopping_list:\n",
        "    print(f\"☐ {item}\")"
      ],
      "metadata": {
        "id": "CDN9xgZnPV57"
      },
      "execution_count": null,
      "outputs": []
    },
    {
      "cell_type": "markdown",
      "source": [
        "#### [進階練習] 不重複的合併清單\n",
        "前面的練習題中，會發覺有些購物項目重複了，請把它們去除\n",
        "```\n",
        "☐ 牛小排\n",
        "☐ 烤肉醬\n",
        "☐ 吐司\n",
        "☐ 生菜\n",
        "☐ 年糕\n",
        "☐ 牛五花\n",
        "☐ 豬里肌厚片\n",
        "☐ 黑輪片\n",
        "☐ 玉米\n",
        "☐ 棉花糖\n",
        "```\n",
        "> #### Hint:\n",
        "> - 在對兩個購物清單做迭代，拿出每個購物項目的時候，加入判斷：  \n",
        "  如果此項目不存在於合併的購物清單 `shopping_list` 中，就可以加入到這個合併的購物清單；  \n",
        "  也就是說，如果已經存在於合併的購物清單中，就不會加入(所以不會有重複的購物項目)"
      ],
      "metadata": {
        "id": "dXRsKJjROI17"
      }
    },
    {
      "cell_type": "code",
      "source": [
        "shopping_list_1 = [\"牛小排\", \"烤肉醬\", \"吐司\", \"生菜\", \"年糕\"]\n",
        "shopping_list_2 = [\"牛五花\", \"豬里肌厚片\", \"吐司\", \"黑輪片\", \"玉米\", \"棉花糖\", \"年糕\"]\n",
        "shopping_list = []\n",
        "\n",
        "# 拿出 shopping_list_1 裡的每個元素(購買項目)，如果元素(購買項目)不存在 shopping_list 當中，就可以加入\n",
        "for item in _______:\n",
        "    if item not in _______:\n",
        "        _______.append(item)\n",
        "\n",
        "# 拿出 shopping_list_2 裡的每個元素(購買項目)，如果元素(購買項目)不存在 shopping_list 當中，就可以加入\n",
        "for item in _______:\n",
        "    if item not in _______:\n",
        "        _______.append(item)\n",
        "\n",
        "# 印出 shopping_list 裡的每個元素(購買項目)\n",
        "for item in shopping_list:\n",
        "    print(f\"☐ {item}\")"
      ],
      "metadata": {
        "id": "YT95UeLGQXwL"
      },
      "execution_count": null,
      "outputs": []
    },
    {
      "cell_type": "markdown",
      "source": [
        "### [補充練習] 待刪除的檔案清單\n",
        "資料夾 `files` 有一連串檔案，想整理一個待刪除清單，\n",
        "列出 檔名有「大阪」關鍵字的檔案。\n",
        "\n",
        "> #### Hint:\n",
        "> - 跟建議的處理方式一樣，我們先建立一個新串列當成待刪除清單，預設為空\n",
        "> - 要找出檔名有「大阪」的檔案，所以我們應該是要對串列 `files` 做迭代\n",
        "> - 判斷檔案名稱中是否有「大阪」的關鍵字(是檔案名稱，不是整個清單)\n",
        ">    - 子字串是否出現在父字串中：[序列子元素的檢查 `in`](https://colab.research.google.com/drive/1R7wB_1SO0mY2A8GOLhPLDM1HLm1lhqON#scrollTo=_p1XqK0Crbw3)\n",
        "> - 如果檔名中有此關鍵字，則增加該檔案到 待刪除清單(串列)中\n",
        ">     - 串列的增加：`串列.append(元素)`"
      ],
      "metadata": {
        "id": "Y7ML3oTxpiIJ"
      }
    },
    {
      "cell_type": "code",
      "source": [
        "files = [\"大阪城.jpg\",\"大阪市夜景.jpg\",\"京都塔水舞.mp4\",\"京都清水寺01.jpg\"]\n",
        "del_list = __ # 建立一個待刪除清單(串列)，預設為空\n",
        "\n",
        "for ____ in ____:              # 拿出資料夾(files) 裡面的每個元素(檔案名稱)\n",
        "    if \"大阪\" in ____:          # 如果 檔案名稱(字串) 有包含 「大阪」(字串)\n",
        "        del_list.append(____)  # 就把他加入到待刪除清單中\n",
        "print(del_list)"
      ],
      "metadata": {
        "id": "YMC9K2EoprC-"
      },
      "execution_count": null,
      "outputs": []
    },
    {
      "cell_type": "markdown",
      "source": [
        "## 取出串列中索引對應的物件，並將其從串列中刪除\n",
        "```\n",
        "串列索引對應的物件 = 串列.pop(索引)\n",
        "```\n",
        "- 索引預設為 `len(串列)-1`"
      ],
      "metadata": {
        "id": "c6xoxVt4Wtm_"
      }
    },
    {
      "cell_type": "code",
      "source": [
        "list_example = [1,2,[3,4],2,3,4]\n",
        "print(list_example.pop())\n",
        "print(list_example)\n",
        "pop_ele = list_example.pop(2)\n",
        "print(pop_ele)\n",
        "print(list_example)"
      ],
      "metadata": {
        "colab": {
          "base_uri": "https://localhost:8080/"
        },
        "id": "V_pIZP6PW4Gn",
        "outputId": "00918195-3e4c-4b18-eb62-5f45ed80fbbf"
      },
      "execution_count": null,
      "outputs": [
        {
          "output_type": "stream",
          "name": "stdout",
          "text": [
            "4\n",
            "[3, 4]\n",
            "[1, 2, 2, 3]\n"
          ]
        }
      ]
    },
    {
      "cell_type": "code",
      "source": [
        "# 索引值不能超過串列的長度\n",
        "list_example = [1,2,3,4,5]\n",
        "pop_ele = list_example.pop(6)"
      ],
      "metadata": {
        "colab": {
          "base_uri": "https://localhost:8080/",
          "height": 180
        },
        "id": "vBFq-kWTXHvt",
        "outputId": "d8d3a6f1-dadc-453c-d0d3-8c0a86393318"
      },
      "execution_count": null,
      "outputs": [
        {
          "output_type": "error",
          "ename": "IndexError",
          "evalue": "pop index out of range",
          "traceback": [
            "\u001b[0;31m---------------------------------------------------------------------------\u001b[0m",
            "\u001b[0;31mIndexError\u001b[0m                                Traceback (most recent call last)",
            "\u001b[0;32m<ipython-input-39-7ec790da8cf2>\u001b[0m in \u001b[0;36m<cell line: 3>\u001b[0;34m()\u001b[0m\n\u001b[1;32m      1\u001b[0m \u001b[0;31m# 索引值不能超過串列的長度\u001b[0m\u001b[0;34m\u001b[0m\u001b[0;34m\u001b[0m\u001b[0m\n\u001b[1;32m      2\u001b[0m \u001b[0mlist_example\u001b[0m \u001b[0;34m=\u001b[0m \u001b[0;34m[\u001b[0m\u001b[0;36m1\u001b[0m\u001b[0;34m,\u001b[0m\u001b[0;36m2\u001b[0m\u001b[0;34m,\u001b[0m\u001b[0;36m3\u001b[0m\u001b[0;34m,\u001b[0m\u001b[0;36m4\u001b[0m\u001b[0;34m,\u001b[0m\u001b[0;36m5\u001b[0m\u001b[0;34m]\u001b[0m\u001b[0;34m\u001b[0m\u001b[0;34m\u001b[0m\u001b[0m\n\u001b[0;32m----> 3\u001b[0;31m \u001b[0mpop_ele\u001b[0m \u001b[0;34m=\u001b[0m \u001b[0mlist_example\u001b[0m\u001b[0;34m.\u001b[0m\u001b[0mpop\u001b[0m\u001b[0;34m(\u001b[0m\u001b[0;36m6\u001b[0m\u001b[0;34m)\u001b[0m\u001b[0;34m\u001b[0m\u001b[0;34m\u001b[0m\u001b[0m\n\u001b[0m",
            "\u001b[0;31mIndexError\u001b[0m: pop index out of range"
          ]
        }
      ]
    },
    {
      "cell_type": "markdown",
      "source": [
        "## 刪除第一個與物件相符的元素\n",
        "``` python\n",
        "串列.remove(物件)\n",
        "```\n",
        "- 找不到元素會出錯"
      ],
      "metadata": {
        "id": "R5ulLQ9hXf6g"
      }
    },
    {
      "cell_type": "code",
      "source": [
        "list_example = [1,2,[3,4],2,3,4]\n",
        "list_example.remove(2)\n",
        "print(list_example)\n",
        "list_example.remove([3,4])\n",
        "print(list_example)"
      ],
      "metadata": {
        "colab": {
          "base_uri": "https://localhost:8080/"
        },
        "id": "XWIc4xeHXkI0",
        "outputId": "687ccdd5-b5f9-4c1f-c6ad-f03a50199b7f"
      },
      "execution_count": null,
      "outputs": [
        {
          "output_type": "stream",
          "name": "stdout",
          "text": [
            "[1, [3, 4], 2, 3, 4]\n",
            "[1, 2, 3, 4]\n"
          ]
        }
      ]
    },
    {
      "cell_type": "code",
      "source": [
        "list_example = [1,2,[3,4],2,3,4]\n",
        "list_example.remove(5)"
      ],
      "metadata": {
        "colab": {
          "base_uri": "https://localhost:8080/",
          "height": 162
        },
        "id": "ojctjNGlXvak",
        "outputId": "d0e82eb6-3f44-4007-f262-6baec6f2a1c0"
      },
      "execution_count": null,
      "outputs": [
        {
          "output_type": "error",
          "ename": "ValueError",
          "evalue": "list.remove(x): x not in list",
          "traceback": [
            "\u001b[0;31m---------------------------------------------------------------------------\u001b[0m",
            "\u001b[0;31mValueError\u001b[0m                                Traceback (most recent call last)",
            "\u001b[0;32m<ipython-input-38-583c480078d5>\u001b[0m in \u001b[0;36m<cell line: 2>\u001b[0;34m()\u001b[0m\n\u001b[1;32m      1\u001b[0m \u001b[0mlist_example\u001b[0m \u001b[0;34m=\u001b[0m \u001b[0;34m[\u001b[0m\u001b[0;36m1\u001b[0m\u001b[0;34m,\u001b[0m\u001b[0;36m2\u001b[0m\u001b[0;34m,\u001b[0m\u001b[0;34m[\u001b[0m\u001b[0;36m3\u001b[0m\u001b[0;34m,\u001b[0m\u001b[0;36m4\u001b[0m\u001b[0;34m]\u001b[0m\u001b[0;34m,\u001b[0m\u001b[0;36m2\u001b[0m\u001b[0;34m,\u001b[0m\u001b[0;36m3\u001b[0m\u001b[0;34m,\u001b[0m\u001b[0;36m4\u001b[0m\u001b[0;34m]\u001b[0m\u001b[0;34m\u001b[0m\u001b[0;34m\u001b[0m\u001b[0m\n\u001b[0;32m----> 2\u001b[0;31m \u001b[0mlist_example\u001b[0m\u001b[0;34m.\u001b[0m\u001b[0mremove\u001b[0m\u001b[0;34m(\u001b[0m\u001b[0;36m5\u001b[0m\u001b[0;34m)\u001b[0m\u001b[0;34m\u001b[0m\u001b[0;34m\u001b[0m\u001b[0m\n\u001b[0m",
            "\u001b[0;31mValueError\u001b[0m: list.remove(x): x not in list"
          ]
        }
      ]
    },
    {
      "cell_type": "markdown",
      "source": [
        "## ===\n",
        "可以想想看，如何利用目前我們學習到的方法：迴圈、內建函式 ...，  \n",
        "把以下串列留下不重複的元素：\n",
        "\n",
        "```python\n",
        "data = [1,2,2,2,6,1,3,5]\n",
        "```\n",
        "只要留下 1,2,3,5,6 這些元素(順序可不一)  \n",
        "  \n",
        "  \n",
        "  \n",
        "=> 可能的做法，對串列的做迭代\n",
        "- 把重複的刪除(該元素是否出現超過一次)\n",
        "- 用一個新串列，新增還沒出現在新串列的元素"
      ],
      "metadata": {
        "id": "0EhFRIFPX74G"
      }
    },
    {
      "cell_type": "markdown",
      "source": [
        "# 避免迴圈內原地修改\n",
        "有可能造成結果不正確、程式出錯中斷，甚至無法停止。  \n",
        "這也是為什麼我們推薦用新串列去儲存我們想要的結果。  \n"
      ],
      "metadata": {
        "id": "bscKgheEMjeU"
      }
    },
    {
      "cell_type": "markdown",
      "source": [
        "## 運算結果錯誤"
      ],
      "metadata": {
        "id": "BGXWlpa0OHa6"
      }
    },
    {
      "cell_type": "code",
      "source": [
        "# 去除重複元素\n",
        "data=[1,2,2,2,6,1,3,5]\n",
        "for ele in data:\n",
        "    if data.count(ele)>1:\n",
        "        data.remove(ele)\n",
        "print(data)"
      ],
      "metadata": {
        "colab": {
          "base_uri": "https://localhost:8080/"
        },
        "id": "gHnQOqtvNPR3",
        "outputId": "1a00a176-a421-4acd-95c5-917514ad2b26"
      },
      "execution_count": null,
      "outputs": [
        {
          "output_type": "stream",
          "name": "stdout",
          "text": [
            "[2, 2, 6, 1, 3, 5]\n"
          ]
        }
      ]
    },
    {
      "cell_type": "markdown",
      "source": [
        "實際上迴圈的迭代對應的是串列的索引順序，  \n",
        "上述的迴圈內的運作邏輯等同於\n",
        "\n",
        "``` python\n",
        "ele = 1         # data[0], data = [1,2,2,2,6,1,3,5]\n",
        "data.remove(1)  #        , data = [2,2,2,6,1,3,5]\n",
        "ele = 2         # data[1], data = [2,2,2,6,1,3,5]\n",
        "data.remove(2)  #        , data = [2,2,6,1,3,5]\n",
        "ele = 6         # data[2], data = [2,2,6,1,3,5]\n",
        "ele = 1         # data[3], data = [2,2,6,1,3,5]\n",
        "ele = 3         # data[4], data = [2,2,6,1,3,5]\n",
        "ele = 5         # data[5], data = [2,2,6,1,3,5]\n",
        "\n",
        "```"
      ],
      "metadata": {
        "id": "MhqKMHVIFxGh"
      }
    },
    {
      "cell_type": "markdown",
      "source": [
        "## 無窮迴圈\n",
        "程式無法停止，因為一直有下一個元素可以拿\n",
        "``` python\n",
        "elements = [1,2,3,4,5]\n",
        "for ele in elements:\n",
        "    elements.append(6)\n",
        "print(elements)\n",
        "```"
      ],
      "metadata": {
        "id": "YyZ4uaDfNpUy"
      }
    },
    {
      "cell_type": "markdown",
      "source": [
        "# 更多練習"
      ],
      "metadata": {
        "id": "XAce5ocY8Yo6"
      }
    },
    {
      "cell_type": "markdown",
      "source": [
        "## [進階練習] 符合密碼設定規則\n",
        "許多系統規定，密碼長度應至少8 碼以上，並且混合大小寫英文字母、數字、特殊符號。  \n",
        "請寫一個程式判定設定的密碼字串是否符合規則。\n",
        "\n",
        "### 測試內容：\n",
        "- \"YBgH1Kmvd5Ql0p9\" 不符合密碼規則\n",
        "- \"EOf'b1kpV~\" 符合密碼規則\n",
        "- \"q4u9!eutby3w\" 不符合密碼規則\n",
        "  \n",
        "\n",
        "> #### Hint:\n",
        "> - 字串是每一個元素都是一個字元的序列，所以可以用迴圈去迭代處理\n",
        "> - 每個條件都可以用一個物件儲存，並用容易讀懂的標籤命名\n",
        "> - 密碼長度：`len(序列)`\n",
        "> - 是否為大寫：`\"A\" <= 字元 and 字元 <= \"Z\"`\n",
        "> - 是否為小寫：可仿造判斷大寫的寫法\n",
        "> - 是否為數字：可用之前[布林章節](https://colab.research.google.com/drive/1l9fv5A2EThLIkUlVHA0VahgosnWKkTi7#scrollTo=H4HPcxfPQeIG)提過的 `字串.isnumeric()`\n",
        "> - 是否為特殊符號：不是數字、也不是英文\n",
        ">    - 是數字或是英文的語法為 `字串.isalnum()`\n",
        "> - 想想看這些條件是一組判斷式多個可能性(一個 `if`, 多個 `elif`)還是多組判斷式(多個 `if`)\n",
        "> - 全部條件都要符合才算是符合密碼規則\n",
        "\n",
        "\n"
      ],
      "metadata": {
        "id": "vwOWxlgJd2T5"
      }
    },
    {
      "cell_type": "code",
      "source": [
        "password = \"YBgH1Kmvd5Ql0p9\"\n",
        "\n",
        "passwd_lenth = _______\n",
        "cnt_upper_alpha = 0\n",
        "cnt_lower_alpha = 0\n",
        "cnt_num_str = 0\n",
        "cnt_special_chr = 0\n",
        "\n",
        "for char in password:\n",
        "    if \"A\" <= char and char <= \"Z\":      # 是否為大寫\n",
        "        cnt_upper_alpha +=1\n",
        "    ____ ____ <= char and char <= ____:  # 是否為小寫\n",
        "        cnt_lower_alpha +=1\n",
        "    ____ char.____():                    # 是否為數字\n",
        "        cnt_num_str +=1\n",
        "    ____ not char.isalnum():             # 是否為特殊符號\n",
        "        cnt_special_chr +=1\n",
        "\n",
        "if passwd_lenth >=8  ___ cnt_upper_alpha ___ cnt_lower_alpha ___ cnt_num_str ___ cnt_special_chr:\n",
        "    print(\"密碼符合規則\")\n",
        "else:\n",
        "    print(\"密碼不符合規則\")"
      ],
      "metadata": {
        "id": "cYfxlUaAf5or"
      },
      "execution_count": null,
      "outputs": []
    },
    {
      "cell_type": "markdown",
      "source": [
        "以前都說密碼要有大小寫跟特殊符號([ref.](https://www.bnext.com.tw/article/45744/the-guy-who-invented-those-annoying-password-rules-now-regrets-wasting-your-time))、以及定期更換密碼，這樣安全，    \n",
        "但電腦的運算能力越來越強，要破解的時間當然也比以往減少很多。  \n",
        "而且人性始於惰性，我們也沒辦法記住那麼多密碼，所以其實換來換去也都那幾組，  \n",
        "甚至你會看到有人把這些長密碼用便條紙貼在座位附近。    \n",
        "\n",
        "- 更長的密碼\n",
        "    - 1Password 等密碼管理工具：不需管理是否能記憶\n",
        "    - [用數個英文單字的組合](https://correcthorse.pw/)：英文單字容易記憶\n",
        "- 開啟雙步驟驗證(比起收簡訊驗證碼更好)\n",
        "    - 推薦使用 [Authy](https://authy.com/download/)\n",
        "- 密碼分級：\n",
        "    - 最高級：個人隱私(Google, Line, FB)、金融相關\n",
        "    - 最低階：Ptt, 一般論壇或民生企業自架的網站(因為這些系統容易有密碼外洩情況)\n",
        "- [查詢密碼是否有外洩](https://haveibeenpwned.com/)\n",
        "    \n"
      ],
      "metadata": {
        "id": "09_Lsgy01pmj"
      }
    },
    {
      "cell_type": "markdown",
      "source": [
        "## [補充練習] 計算調分後的總平均\n",
        "我想計算調分之後，班上的總平均，  \n",
        "也就是「調分後的加總/學生人數」，  \n",
        "但要保留原始的成績。\n",
        "\n",
        "> #### Hint:\n",
        "> - 學生總數不變\n",
        "> - 因為原學生成績串列必須保留，所以無法直接用 `sum(原成績序列)`   \n",
        "  \n",
        "=>\n",
        "> - 方法1: 可以用另一個物件先設定初始值，每次迭代的時候就加上調分後的成績。\n",
        "> - 方法2: 可以用另一個新串列記錄調分之後的成績，再用 `sum(新成績序列)`"
      ],
      "metadata": {
        "id": "xEpmTy1WK36m"
      }
    },
    {
      "cell_type": "code",
      "source": [
        "scores = [32,56,58,62,79,82,98]\n",
        "total_score = 0\n",
        "for score in scores:\n",
        "    total_score += _____\n",
        "print(\"總平均\",total_score/____)"
      ],
      "metadata": {
        "id": "u9pTUf-WLhyG"
      },
      "execution_count": null,
      "outputs": []
    },
    {
      "cell_type": "code",
      "source": [
        "scores = [32,56,58,62,79,82,98]\n",
        "new_scores = []\n",
        "for score in scores:\n",
        "    new_scores.______(__________)\n",
        "print(\"總平均\",sum(new_scores)/len(new_scores))"
      ],
      "metadata": {
        "id": "YCU5qWal7dth"
      },
      "execution_count": null,
      "outputs": []
    },
    {
      "cell_type": "markdown",
      "source": [
        "# 更多可迭代者"
      ],
      "metadata": {
        "id": "ddvlrXYxPVlB"
      }
    },
    {
      "cell_type": "markdown",
      "source": [
        "## `enumerate(序列,起始值)`\n",
        "- 回傳將連續數組與序列配對成以「[tuple 型別](https://docs.python.org/zh-tw/3/tutorial/datastructures.html#tuples-and-sequences)」為元素的可迭代者\n",
        "- 連續數組起始值預設為0\n",
        "- 常用於同時取得索引與元素\n"
      ],
      "metadata": {
        "id": "QJK7j6zN8r3b"
      }
    },
    {
      "cell_type": "code",
      "source": [
        "list_example = [32,56,58,62,79,82,98]\n",
        "print(list(enumerate(list_example)))"
      ],
      "metadata": {
        "colab": {
          "base_uri": "https://localhost:8080/"
        },
        "id": "hdvZ8th-yB2W",
        "outputId": "9f1a2856-89f1-4b52-873d-54badec6cb20"
      },
      "execution_count": null,
      "outputs": [
        {
          "output_type": "stream",
          "name": "stdout",
          "text": [
            "[(0, 32), (1, 56), (2, 58), (3, 62), (4, 79), (5, 82), (6, 98)]\n"
          ]
        }
      ]
    },
    {
      "cell_type": "code",
      "source": [
        "list_example = [32,56,58,62,79,82,98]\n",
        "for index, value in enumerate(list_example):\n",
        "    print(index, value)"
      ],
      "metadata": {
        "colab": {
          "base_uri": "https://localhost:8080/"
        },
        "id": "SLbDPe6U8wun",
        "outputId": "3b89ef74-ff91-45eb-cfb8-f7ebfd89f6b5"
      },
      "execution_count": null,
      "outputs": [
        {
          "output_type": "stream",
          "name": "stdout",
          "text": [
            "0 32\n",
            "1 56\n",
            "2 58\n",
            "3 62\n",
            "4 79\n",
            "5 82\n",
            "6 98\n"
          ]
        }
      ]
    },
    {
      "cell_type": "markdown",
      "source": [
        "### 應用情境-資料的編號與內容\n",
        "- 我們平常編號是從 1 開始"
      ],
      "metadata": {
        "id": "7mCnelux9S2x"
      }
    },
    {
      "cell_type": "code",
      "source": [
        "scores = [32,56,58,62,79,82,98]\n",
        "for index, score in enumerate(scores, 1):\n",
        "    print(f\"學生 {index} 的成績為 {score}\")"
      ],
      "metadata": {
        "colab": {
          "base_uri": "https://localhost:8080/"
        },
        "id": "IZGva4kl8-YW",
        "outputId": "e3ac1011-17f5-49b1-d24b-f574f1601857"
      },
      "execution_count": null,
      "outputs": [
        {
          "output_type": "stream",
          "name": "stdout",
          "text": [
            "學生 1 的成績為 32\n",
            "學生 2 的成績為 56\n",
            "學生 3 的成績為 58\n",
            "學生 4 的成績為 62\n",
            "學生 5 的成績為 79\n",
            "學生 6 的成績為 82\n",
            "學生 7 的成績為 98\n"
          ]
        }
      ]
    },
    {
      "cell_type": "markdown",
      "source": [
        "## `range()`"
      ],
      "metadata": {
        "id": "LmbGtp6nPYzO"
      }
    },
    {
      "cell_type": "markdown",
      "source": [
        "```\n",
        "range(start, end, stride)\n",
        "```\n",
        "- 可以產生一串連續的序列\n",
        "- start 是 inclusive，預設是0開始\n",
        "- end 是 exclusive，必填值\n",
        "- stride 是跳幾次切割，預設是1，不得為 0\n",
        "    - stride 為負值則由尾端向前端取，需讓start>end"
      ],
      "metadata": {
        "id": "uoTqhCqpRVyc"
      }
    },
    {
      "cell_type": "code",
      "source": [
        "print('range(5)     ',list(range(5)))     # 只有一個代表end\n",
        "print('range(2,5)   ',list(range(2,5)))\n",
        "print('range(2,5,2) ',list(range(2,5,2)))\n",
        "print('range(5,0)   ',list(range(5,0)))\n",
        "print('range(5,0,-1)',list(range(5,0,-1))) # 5-1有<0嗎?\n",
        "print('range(0,5,-1)',list(range(0,5,-1))) # 0-1有<5嗎?"
      ],
      "metadata": {
        "colab": {
          "base_uri": "https://localhost:8080/"
        },
        "id": "ZBaXdgHdRkTv",
        "outputId": "15c18450-9b01-4c0b-e00e-edcb9743c44f"
      },
      "execution_count": null,
      "outputs": [
        {
          "output_type": "stream",
          "name": "stdout",
          "text": [
            "range(5)      [0, 1, 2, 3, 4]\n",
            "range(2,5)    [2, 3, 4]\n",
            "range(2,5,2)  [2, 4]\n",
            "range(5,0)    []\n",
            "range(5,0,-1) [5, 4, 3, 2, 1]\n",
            "range(0,5,-1) []\n"
          ]
        }
      ]
    },
    {
      "cell_type": "markdown",
      "source": [
        "### 應用情境-是否在範圍中\n",
        "- 請使用者輸入出生年份，依照年齡判斷是否能使用某個服務\n",
        "- 檢查溫度是否在安全範圍\n",
        "- 電商網站確保商品價格在合理範圍"
      ],
      "metadata": {
        "id": "_czjfszXkrAi"
      }
    },
    {
      "cell_type": "code",
      "source": [
        "avg_price = 2000\n",
        "tolerance_percent = 0.2\n",
        "price_lower_bound = int(avg_price - avg_price*tolerance_percent)\n",
        "price_upper_bound = int(avg_price + avg_price*tolerance_percent)\n",
        "now_price = 200\n",
        "print(f\"此商品平均價格為{avg_price}，價格合理範圍在 {price_lower_bound}~{price_upper_bound} 間\")\n",
        "if now_price not in range(price_lower_bound, price_upper_bound+1):\n",
        "    print(\"目前此商品訂價在合理範圍外，請檢查是否有輸入錯誤\")"
      ],
      "metadata": {
        "colab": {
          "base_uri": "https://localhost:8080/"
        },
        "id": "agaS_rXQl5SW",
        "outputId": "74ad1279-c8c7-4e1a-cd83-14c3b0d547b1"
      },
      "execution_count": null,
      "outputs": [
        {
          "output_type": "stream",
          "name": "stdout",
          "text": [
            "此商品平均價格為2000，價格合理範圍在 1600~2400 間\n",
            "目前此商品訂價在合理範圍外，請檢查是否有輸入錯誤\n"
          ]
        }
      ]
    },
    {
      "cell_type": "markdown",
      "source": [
        "### 與其他程式語言相近的迴圈寫法"
      ],
      "metadata": {
        "id": "Som1-1kqVXvb"
      }
    },
    {
      "cell_type": "code",
      "source": [
        "for i in range(0, 5, 1): # 等同於 range(5)\n",
        "    print(i)"
      ],
      "metadata": {
        "colab": {
          "base_uri": "https://localhost:8080/"
        },
        "id": "Xe_KN9o3VK9T",
        "outputId": "1bef82d9-35ac-4923-efe7-021fee6b3c26"
      },
      "execution_count": null,
      "outputs": [
        {
          "output_type": "stream",
          "name": "stdout",
          "text": [
            "0\n",
            "1\n",
            "2\n",
            "3\n",
            "4\n"
          ]
        }
      ]
    },
    {
      "cell_type": "code",
      "source": [
        "for i in range(0, 5, 2):\n",
        "    print(i)"
      ],
      "metadata": {
        "colab": {
          "base_uri": "https://localhost:8080/"
        },
        "id": "6lqbLM7_TVDF",
        "outputId": "26378ed6-fdca-4b74-b811-0c3bdc412385"
      },
      "execution_count": null,
      "outputs": [
        {
          "output_type": "stream",
          "name": "stdout",
          "text": [
            "0\n",
            "2\n",
            "4\n"
          ]
        }
      ]
    },
    {
      "cell_type": "markdown",
      "source": [
        "eg. C++\n",
        "``` c++\n",
        "for (int i = 0; i < 5; i++){\n",
        "    cout << i;\n",
        "}\n",
        "```\n",
        "\n",
        "``` c++\n",
        "for (int i = 0; i < 5; i+=2){\n",
        "    cout << i;\n",
        "}\n",
        "```"
      ],
      "metadata": {
        "id": "B42jDDBcTYrT"
      }
    },
    {
      "cell_type": "code",
      "source": [
        "scores = [32,56,58,62,79,82,98]  # 長度為 7\n",
        "for index in range(len(scores)): # range(7) => [0,1,2,3,4,5,6]\n",
        "    print(scores[index])"
      ],
      "metadata": {
        "colab": {
          "base_uri": "https://localhost:8080/"
        },
        "id": "B2cHVBbOcdxM",
        "outputId": "35883f16-e2da-4478-bdc4-e41e388a8112"
      },
      "execution_count": null,
      "outputs": [
        {
          "output_type": "stream",
          "name": "stdout",
          "text": [
            "32\n",
            "56\n",
            "58\n",
            "62\n",
            "79\n",
            "82\n",
            "98\n"
          ]
        }
      ]
    },
    {
      "cell_type": "markdown",
      "source": [
        "### 應用情境-重複做某件事情 N 次\n",
        "range 給定一個數值 N ，他就會產生一個長度為 N 的序列，  \n",
        "要迭代完整個序列，需要跑 N 次\n",
        "\n",
        "像我們生活中有些耐用的充電線，號稱做過 1萬次以上的彎折測試：\n",
        "``` python\n",
        "for i in range(10000):\n",
        "    彎折測試\n",
        "```"
      ],
      "metadata": {
        "id": "ReOfJe1UShKL"
      }
    },
    {
      "cell_type": "markdown",
      "source": [
        "### 應用情境-需要跳著處理資料\n",
        "例如，每個月從1號開始每隔三天要產生報表"
      ],
      "metadata": {
        "id": "pXySzwlpTTTl"
      }
    },
    {
      "cell_type": "code",
      "source": [
        "month_days = 31\n",
        "for day in range(1, month_days+1, 3):\n",
        "    print(day)"
      ],
      "metadata": {
        "colab": {
          "base_uri": "https://localhost:8080/"
        },
        "id": "rNJEps87fqR-",
        "outputId": "95929672-8bd6-43f1-cedd-2e8c426175b0"
      },
      "execution_count": null,
      "outputs": [
        {
          "output_type": "stream",
          "name": "stdout",
          "text": [
            "1\n",
            "4\n",
            "7\n",
            "10\n",
            "13\n",
            "16\n",
            "19\n",
            "22\n",
            "25\n",
            "28\n",
            "31\n"
          ]
        }
      ]
    },
    {
      "cell_type": "markdown",
      "source": [
        "### 應用情境-需要倒過來處理資料\n",
        "網路銀行的帳戶明細或是電商網站的購買記錄，越上面顯示越近的交易明細，  \n",
        "但這些在銀行或網站上，都是越之前的交易越先被記錄在系統中。"
      ],
      "metadata": {
        "id": "ii6ATa07Sbxp"
      }
    },
    {
      "cell_type": "code",
      "source": [
        "logs = [\n",
        "    [\"2024-09-02\",\"薪資轉入\",60000],\n",
        "    [\"2024-09-15\",\"信用卡扣款\",-15000],\n",
        "    [\"2024-09-15\",\"無卡提款\",-3000],\n",
        "] # 長度為 3\n",
        "\n",
        "print(\"交易明細：\")\n",
        "for index in range(len(logs)-1, -1, -1): # range(2, -1, -1) => [2,1,0]\n",
        "    date, trade_type, trade_money = logs[index]\n",
        "    print(f\"{date} {trade_type} {trade_money}\")"
      ],
      "metadata": {
        "colab": {
          "base_uri": "https://localhost:8080/"
        },
        "id": "yyOBAgVwS10S",
        "outputId": "34372da6-7f47-4ec4-b6bc-7d6da5441728"
      },
      "execution_count": null,
      "outputs": [
        {
          "output_type": "stream",
          "name": "stdout",
          "text": [
            "交易明細：\n",
            "2024-09-15 無卡提款 -3000\n",
            "2024-09-15 信用卡扣款 -15000\n",
            "2024-09-02 薪資轉入 60000\n"
          ]
        }
      ]
    },
    {
      "cell_type": "markdown",
      "source": [
        "## `zip()`"
      ],
      "metadata": {
        "id": "GH1uktRIPXae"
      }
    },
    {
      "cell_type": "markdown",
      "source": [
        "```python\n",
        "zip(序列1,序列2)\n",
        "```\n",
        "- 回傳將兩序列配對成以「[tuple 型別](https://docs.python.org/zh-tw/3/tutorial/datastructures.html#tuples-and-sequences)」為元素的可迭代者\n",
        "- 若兩序列長度不一，則以最短的串列為主"
      ],
      "metadata": {
        "id": "6K6BAsKSPePb"
      }
    },
    {
      "cell_type": "code",
      "source": [
        "list_1 = [1,2,3,4,5]\n",
        "list_2 = ['a','b','c','d','e']\n",
        "list_zip = zip(list_1,list_2)\n",
        "print(list(list_zip))"
      ],
      "metadata": {
        "colab": {
          "base_uri": "https://localhost:8080/"
        },
        "id": "CF_yhAXpPvbd",
        "outputId": "47761ba6-4559-4310-e3bc-212c79e51a25"
      },
      "execution_count": null,
      "outputs": [
        {
          "output_type": "stream",
          "name": "stdout",
          "text": [
            "[(1, 'a'), (2, 'b'), (3, 'c'), (4, 'd'), (5, 'e')]\n"
          ]
        }
      ]
    },
    {
      "cell_type": "code",
      "source": [
        "list_1 = [1,2,3,4,5]\n",
        "list_2 = ['a','b','c','d']\n",
        "list_zip = zip(list_1,list_2)\n",
        "print(list(list_zip))"
      ],
      "metadata": {
        "colab": {
          "base_uri": "https://localhost:8080/"
        },
        "id": "LLqmA0U7P2bx",
        "outputId": "9e28e55c-49b5-46e6-a6b3-67cadc4be5fc"
      },
      "execution_count": null,
      "outputs": [
        {
          "output_type": "stream",
          "name": "stdout",
          "text": [
            "[(1, 'a'), (2, 'b'), (3, 'c'), (4, 'd')]\n"
          ]
        }
      ]
    },
    {
      "cell_type": "markdown",
      "source": [
        "### 應用情境-學生姓名與成績配對"
      ],
      "metadata": {
        "id": "xxNT6dQdP53t"
      }
    },
    {
      "cell_type": "code",
      "source": [
        "list_name  = ['A','B','C','D','E','F','G']\n",
        "list_score = [32,56,58,62,79,82,98]\n",
        "for name, score in zip(list_name,list_score):\n",
        "    print(f\"{name} 的成績為 {score}\")"
      ],
      "metadata": {
        "colab": {
          "base_uri": "https://localhost:8080/"
        },
        "id": "558hGynKQCLv",
        "outputId": "1630079c-f50c-4efe-e7d2-9c7a309cc589"
      },
      "execution_count": null,
      "outputs": [
        {
          "output_type": "stream",
          "name": "stdout",
          "text": [
            "A 的成績為 32\n",
            "B 的成績為 56\n",
            "C 的成績為 58\n",
            "D 的成績為 62\n",
            "E 的成績為 79\n",
            "F 的成績為 82\n",
            "G 的成績為 98\n"
          ]
        }
      ]
    }
  ]
}
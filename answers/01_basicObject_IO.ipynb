{
  "nbformat": 4,
  "nbformat_minor": 0,
  "metadata": {
    "colab": {
      "provenance": [],
      "toc_visible": true
    },
    "kernelspec": {
      "name": "python3",
      "display_name": "Python 3"
    },
    "language_info": {
      "name": "python"
    }
  },
  "cells": [
    {
      "cell_type": "markdown",
      "source": [
        "# 字串與數值型別操作\n"
      ],
      "metadata": {
        "id": "RMZeqR6_MdLR"
      }
    },
    {
      "cell_type": "markdown",
      "source": [
        "## 數值"
      ],
      "metadata": {
        "id": "e7T8ZO4KOb_6"
      }
    },
    {
      "cell_type": "markdown",
      "source": [
        "### [練習] 銀行利息\n",
        "如果你有本金 100084，  \n",
        "銀行給的年利率是 2.25 %，  每月給息，  \n",
        "請問一個月後可以拿到多少利息？   \n",
        "(正確答案是 `187.6575`)\n",
        "\n",
        "\n",
        "> #### Hint:\n",
        "> - 月利息 = 本金 `*` (年利率 / 12)"
      ],
      "metadata": {
        "id": "lCye7xgQRRXx"
      }
    },
    {
      "cell_type": "code",
      "source": [
        "### Ans. ================================\n",
        "print(100084 * 2.25 * 0.01 / 12)"
      ],
      "metadata": {
        "colab": {
          "base_uri": "https://localhost:8080/"
        },
        "id": "1s15on1mRzVm",
        "outputId": "24162ad4-c609-4a2f-ca92-e0bca483453b"
      },
      "execution_count": null,
      "outputs": [
        {
          "output_type": "stream",
          "name": "stdout",
          "text": [
            "187.6575\n"
          ]
        }
      ]
    },
    {
      "cell_type": "markdown",
      "source": [
        "#### [進階練習] 銀行利息：百元計息\n",
        "現在銀行給的限制越來越多，  \n",
        "延續前面的練習題，如果你有本金 100084，   \n",
        "存在一個有百元計息(超過 100 元(包含100元)才會計算利息)限制的銀行，  \n",
        "年利率是 2.25 %，  每月給息，請問一個月後可以拿到多少利息？   \n",
        "(正確答案是 `187.5`)\n",
        "\n",
        "\n",
        "> #### Hint:\n",
        "> - 月利息 = 本金 `*` (年利率 / 12)\n",
        "> - 不到百元：除以100的餘數\n",
        "> - 要先運算的部分，記得要用 `()`\n",
        "> - 先不用一步到位，慢慢填入已知的數字再做替換"
      ],
      "metadata": {
        "id": "GiqDN9i3ps7O"
      }
    },
    {
      "cell_type": "code",
      "source": [
        "### Ans. ================================\n",
        "# 本金扣除不到百元的部分 * 月利率\n",
        "# 100000 * 2.25 * 0.01/12\n",
        "# ^可以想想 1000000 怎麼從 100084 產生的\n",
        "# (100084 - 84) * 2.25 * 0.01/12\n",
        "# (100084 - 100084%100) * 2.25  * 0.01/12\n",
        "print((100084 - 100084%100) * 2.25  *0.01/12)"
      ],
      "metadata": {
        "colab": {
          "base_uri": "https://localhost:8080/"
        },
        "id": "z6nTYM-bkWiB",
        "outputId": "cebd6be6-bc72-4895-e055-811977fd940f"
      },
      "execution_count": null,
      "outputs": [
        {
          "output_type": "stream",
          "name": "stdout",
          "text": [
            "187.5\n"
          ]
        }
      ]
    },
    {
      "cell_type": "markdown",
      "source": [
        "#### [進階練習] 銀行利息：百元計息、優惠利率加碼\n",
        "而銀行為了吸引客戶，通常還會加上一些優惠機制，  \n",
        "延續前面的練習題，如果你現在本金變成了 100184，  \n",
        "存在一個有百元計息(超過 100 元(包含100元)才會計算利息)限制的銀行，   \n",
        "基本年利率是 0.75 %， 十萬元以下(包含十萬元)的優惠利率加碼 2.25%，        \n",
        "每月給息，請問一個月後可以拿到多少利息？(先假設我們本金都超過十萬元)  \n",
        "(正確答案是 `250.0625`)\n",
        "\n",
        "\n",
        "> #### Hint:\n",
        "> - 月利息 = 本金 `*` (年利率 / 12)\n",
        "> - 不到百元：除以100的餘數\n",
        "> - 要先運算的部分，記得要用 ()\n",
        "> - 先不用一步到位，慢慢填入已知的數字再做替換  "
      ],
      "metadata": {
        "id": "Ou0z8ScsSrRf"
      }
    },
    {
      "cell_type": "code",
      "source": [
        "### Ans. 1 ================================\n",
        "# (本金扣除不到百元的部分 * 基本月利率)  + (十萬元 * 優惠月利率)\n",
        "# (100100 * 0.75 * 0.01/12) + (100000 * 2.25 * 0.01/12 )\n",
        "#  ^可以想想 100100 怎麼從 100184 產生的\n",
        "# ((100184-(100184%100)) * 0.75 * 0.01/12) + (100000 * 2.25 * 0.01/12 )\n",
        "print(\n",
        "    ((100184-(100184%100)) * 0.75 *0.01/12)\n",
        "    + (100000 * 2.25 *0.01/12 )\n",
        ")"
      ],
      "metadata": {
        "colab": {
          "base_uri": "https://localhost:8080/"
        },
        "id": "_RsJQ742kciR",
        "outputId": "de8560c8-887c-4531-f420-8224a6e16b31"
      },
      "execution_count": null,
      "outputs": [
        {
          "output_type": "stream",
          "name": "stdout",
          "text": [
            "250.0625\n"
          ]
        }
      ]
    },
    {
      "cell_type": "code",
      "source": [
        "### Ans. 2 ================================\n",
        "# (十萬 * (基礎+優惠)月利率)        + (本金超過十萬並扣除不到百元的部分 * 基礎月利率)\n",
        "# (十萬 * (0.75+2.25) * 0.01/12)    + (本金超過十萬並扣除不到百元的部分 * 0.75 * 0.01/12)\n",
        "# (100000 * (0.75+2.25) * 0.01/12) + (100 * 0.75*0.01/12)\n",
        "# (100000 * (0.75+2.25) * 0.01/12) + ((100184-84-100000) * 0.75*0.01/12)\n",
        "# (100000 * (0.75+2.25) * 0.01/12) + ((100184-(100184%100)-100000) * 0.75 * 0.01/12)\n",
        "print(\n",
        "    (100000 * (0.75+2.25) * 0.01/12)\n",
        "    + ((100184-(100184%100)-100000) * 0.75 * 0.01/12)\n",
        ")"
      ],
      "metadata": {
        "colab": {
          "base_uri": "https://localhost:8080/"
        },
        "id": "GCFx0a6Okjo7",
        "outputId": "1faa8a42-07a6-4196-9b06-1457604f2cb1"
      },
      "execution_count": null,
      "outputs": [
        {
          "output_type": "stream",
          "name": "stdout",
          "text": [
            "250.0625\n"
          ]
        }
      ]
    },
    {
      "cell_type": "markdown",
      "source": [
        "### [補充練習] 成績調分公式\n",
        "學校調成績很常是用「開根號後再*10」，  \n",
        "我們來練習看看 70 分調分之後是多少？  \n",
        "(正確答案是 `83.66...`)\n",
        "> #### Hint:\n",
        "> - 開根號 = 0.5 次方"
      ],
      "metadata": {
        "id": "e3ouODUMPjha"
      }
    },
    {
      "cell_type": "code",
      "source": [
        "### Ans. ================================\n",
        "print(70**0.5*10)"
      ],
      "metadata": {
        "colab": {
          "base_uri": "https://localhost:8080/"
        },
        "id": "mEzD8O-PkOxp",
        "outputId": "58c0a43d-f974-43f5-9f7a-d6c5ca25e432"
      },
      "execution_count": null,
      "outputs": [
        {
          "output_type": "stream",
          "name": "stdout",
          "text": [
            "83.66600265340756\n"
          ]
        }
      ]
    },
    {
      "cell_type": "markdown",
      "source": [
        "### [補充練習] 購物優惠\n",
        "鉛筆 1 支 5 元，一打(12支) 50 元。  \n",
        "要買 42 支請問最少要花多少錢？\n",
        "\n",
        "> #### Hint:\n",
        "> - 打數 = 42 除以 12 的商\n",
        "> - 打數`*`50 + 剩下的支數`*`5"
      ],
      "metadata": {
        "id": "mroAg_btP3Bt"
      }
    },
    {
      "cell_type": "code",
      "source": [
        "### Ans. ================================\n",
        "print(42//12*50+42%12*5)"
      ],
      "metadata": {
        "colab": {
          "base_uri": "https://localhost:8080/"
        },
        "id": "HMNa4TZokrD1",
        "outputId": "4ca409e7-a5b3-4949-ca41-a6352aa8f774"
      },
      "execution_count": null,
      "outputs": [
        {
          "output_type": "stream",
          "name": "stdout",
          "text": [
            "180\n"
          ]
        }
      ]
    },
    {
      "cell_type": "markdown",
      "source": [
        "# 型別轉換"
      ],
      "metadata": {
        "id": "7lRuPIPzMhGi"
      }
    },
    {
      "cell_type": "markdown",
      "source": [
        "## 內建函式-型別轉換"
      ],
      "metadata": {
        "id": "IVgFuBObQs6j"
      }
    },
    {
      "cell_type": "markdown",
      "source": [
        "### [練習] 銀行利息型別修正\n",
        "請利用型別轉換的函式，將以下程式碼修正，  \n",
        "讓我們可以得到正確的一個月銀行利息 `250.0625`\n",
        "\n",
        "> #### Hint:\n",
        "- 程式碼中 「 _____ 」 的 部分是你要填寫程式碼的地方。  \n",
        "這邊只是示意，不見得答案就是跟 「 __ 」 的長度一樣，所以寫完你的答案後，請記得把多餘的「 __ 」 刪除。"
      ],
      "metadata": {
        "id": "ZpXccWbVRrEV"
      }
    },
    {
      "cell_type": "code",
      "source": [
        "### Ans. ================================\n",
        "principal_money = int(\"100184\")\n",
        "bonus_money_limit = 100000\n",
        "basic_year_rate = float(\"0.75\")\n",
        "bonus_year_rate = 2.25\n",
        "\n",
        "month_percent_rate = 0.01 / 12\n",
        "\n",
        "print(\n",
        "    ((principal_money-(principal_money%100)) * basic_year_rate * month_percent_rate)\n",
        "    +\n",
        "    (bonus_money_limit * bonus_year_rate * month_percent_rate)\n",
        " )"
      ],
      "metadata": {
        "colab": {
          "base_uri": "https://localhost:8080/"
        },
        "id": "wUiNY9qglM4C",
        "outputId": "4347bed0-0de2-44a6-ac71-454caabd686c"
      },
      "execution_count": null,
      "outputs": [
        {
          "output_type": "stream",
          "name": "stdout",
          "text": [
            "250.0625\n"
          ]
        }
      ]
    },
    {
      "cell_type": "code",
      "source": [
        "basic_interest = ((principal_money-(principal_money%100)) * basic_year_rate * month_percent_rate)\n",
        "bonus_interest = (bonus_money_limit * bonus_year_rate * month_percent_rate)\n",
        "print(basic_interest +bonus_interest)"
      ],
      "metadata": {
        "id": "vzS4vqcs-KW2"
      },
      "execution_count": null,
      "outputs": []
    },
    {
      "cell_type": "markdown",
      "source": [
        "# 輸入與輸出"
      ],
      "metadata": {
        "id": "rN3bx13MMinN"
      }
    },
    {
      "cell_type": "markdown",
      "source": [
        "### [練習] 銀行利息計算工具\n",
        "請利用 `input()` 去修改我們的銀行計算程式，  \n",
        "讓使用者可以輸入不同的「本金」與「年利率」，  \n",
        "來計算一個月可以得到多少利息\n",
        "\n",
        "> #### Hint:\n",
        "> - 輸入的資料是字串型別，記得要做型別轉換\n",
        "> - 可以想像你是使用者，應該會希望程式告訴你現在是要輸入什麼資料。    \n",
        "畢竟本金、年利率輸入相反會得到天差地別的結果。\n",
        "> - 完成的程式，如果第一次輸入 `100184`，第二次輸入 `0.75`，  \n",
        "應該會得到跟之前一樣的答案 `250.0625`\n"
      ],
      "metadata": {
        "id": "ZfiFMSODZM-Y"
      }
    },
    {
      "cell_type": "code",
      "source": [
        "### Ans. ================================\n",
        "principal_money = int(input(\"請輸入你的本金\"))\n",
        "bonus_money_limit = 100000\n",
        "basic_year_rate = float(input(\"請輸入年利率% (eg. 0.75% 輸入 0.75)\"))\n",
        "bonus_year_rate = 2.25\n",
        "\n",
        "month_percent_rate = 0.01 / 12\n",
        "\n",
        "print(\n",
        "    ((principal_money-(principal_money%100)) * basic_year_rate * month_percent_rate)\n",
        "    +\n",
        "    (bonus_money_limit * bonus_year_rate * month_percent_rate)\n",
        " )"
      ],
      "metadata": {
        "colab": {
          "base_uri": "https://localhost:8080/"
        },
        "id": "qYhqa95HlUWE",
        "outputId": "46104ade-c74b-4cdc-89d7-49f3da72349a"
      },
      "execution_count": null,
      "outputs": [
        {
          "output_type": "stream",
          "name": "stdout",
          "text": [
            "請輸入你的本金100184\n",
            "請輸入年利率% (eg. 0.75% 輸入 0.75)0.75\n",
            "250.0625\n"
          ]
        }
      ]
    },
    {
      "cell_type": "markdown",
      "source": [
        "# 字串好用的方法"
      ],
      "metadata": {
        "id": "BX7M_0wKMkfI"
      }
    },
    {
      "cell_type": "markdown",
      "source": [
        "## 取代 replace\n"
      ],
      "metadata": {
        "id": "Fqh9MBdGdxkd"
      }
    },
    {
      "cell_type": "markdown",
      "source": [
        "### [進階練習] 演講稿文字替換\n",
        "這是一部 Ted 影片：[Teach girls bravery, not perfection](https://www.ted.com/talks/reshma_saujani_teach_girls_bravery_not_perfection?language=zh-tw) 的中文演講逐字稿摘錄，  \n",
        "請把下文中  \n",
        "- 把最先出現的三個「女孩」取代成「女生」\n",
        "- 然後印出"
      ],
      "metadata": {
        "id": "w2U-DQrroQbj"
      }
    },
    {
      "cell_type": "code",
      "source": [
        "### Ans. ================================\n",
        "article = \"\"\"2012年我創立了一間公司 來教女孩寫程式 我發現到，透過教程式編寫 其實我是在培養她們變得勇敢\n",
        "程式編寫是一個「不斷檢測 與發現錯誤」的無止境過程\n",
        "要設法在對的地方，輸入正確的指令 有時候只是差一個分號 就足以決定成敗\n",
        "程式碼錯了，就全盤皆錯 時常要嘗試很多很多次 奇蹟才會出現\n",
        "你試著建構的東西總算活了起來 這項工作需要毅力 需要不完美\n",
        "\n",
        "我們馬上就發現 參與學程的女孩都害怕犯錯 害怕不完美 「寫程式的女孩」計畫的每個老師 都告訴我一樣的故事\n",
        "第一週，女孩們還在學 怎麼編寫程式碼時 學生會請她過去跟她說 「我不知道要寫什麼程式碼」\n",
        "老師看了看她的螢幕 只會看到一片空白\n",
        "假如她不夠瞭解，她會覺得她的學生 花了20分鐘，只是盯著螢幕發呆\n",
        "但如果她多按幾下復原鍵 她會看見學生其實 寫下程式碼又刪除了\n",
        "她試過，她逼近了 可是還沒做到完全正確\n",
        "她不呈現編寫的進展 卻寧願給人看一片空白 寧缺勿濫\"\"\"\n",
        "print(article.replace(\"女孩\",\"女生\",3))"
      ],
      "metadata": {
        "colab": {
          "base_uri": "https://localhost:8080/"
        },
        "id": "qnVrPmfQl0T2",
        "outputId": "9eae9a83-8a95-465c-bbd5-e277316b063a"
      },
      "execution_count": null,
      "outputs": [
        {
          "output_type": "stream",
          "name": "stdout",
          "text": [
            "2012年我創立了一間公司 來教女生寫程式 我發現到，透過教程式編寫 其實我是在培養她們變得勇敢\n",
            "程式編寫是一個「不斷檢測 與發現錯誤」的無止境過程\n",
            "要設法在對的地方，輸入正確的指令 有時候只是差一個分號 就足以決定成敗\n",
            "程式碼錯了，就全盤皆錯 時常要嘗試很多很多次 奇蹟才會出現\n",
            "你試著建構的東西總算活了起來 這項工作需要毅力 需要不完美\n",
            "\n",
            "我們馬上就發現 參與學程的女生都害怕犯錯 害怕不完美 「寫程式的女生」計畫的每個老師 都告訴我一樣的故事\n",
            "第一週，女孩們還在學 怎麼編寫程式碼時 學生會請她過去跟她說 「我不知道要寫什麼程式碼」\n",
            "老師看了看她的螢幕 只會看到一片空白\n",
            "假如她不夠瞭解，她會覺得她的學生 花了20分鐘，只是盯著螢幕發呆\n",
            "但如果她多按幾下復原鍵 她會看見學生其實 寫下程式碼又刪除了\n",
            "她試過，她逼近了 可是還沒做到完全正確\n",
            "她不呈現編寫的進展 卻寧願給人看一片空白 寧缺勿濫\n"
          ]
        }
      ]
    },
    {
      "cell_type": "markdown",
      "source": [
        "#### [進階練習] reverse replace\n",
        "- 如果我希望最先出現的三個「女孩」保留，而其他地方的「女孩」都取代成「女生」呢？"
      ],
      "metadata": {
        "id": "rzqWx7I8ojCL"
      }
    },
    {
      "cell_type": "code",
      "source": [
        "### Ans. ================================\n",
        "article = \"\"\"2012年我創立了一間公司 來教女孩寫程式 我發現到，透過教程式編寫 其實我是在培養她們變得勇敢\n",
        "程式編寫是一個「不斷檢測 與發現錯誤」的無止境過程\n",
        "要設法在對的地方，輸入正確的指令 有時候只是差一個分號 就足以決定成敗\n",
        "程式碼錯了，就全盤皆錯 時常要嘗試很多很多次 奇蹟才會出現\n",
        "你試著建構的東西總算活了起來 這項工作需要毅力 需要不完美\n",
        "\n",
        "我們馬上就發現 參與學程的女孩都害怕犯錯 害怕不完美 「寫程式的女孩」計畫的每個老師 都告訴我一樣的故事\n",
        "第一週，女孩們還在學 怎麼編寫程式碼時 學生會請她過去跟她說 「我不知道要寫什麼程式碼」\n",
        "老師看了看她的螢幕 只會看到一片空白\n",
        "假如她不夠瞭解，她會覺得她的學生 花了20分鐘，只是盯著螢幕發呆\n",
        "但如果她多按幾下復原鍵 她會看見學生其實 寫下程式碼又刪除了\n",
        "她試過，她逼近了 可是還沒做到完全正確\n",
        "她不呈現編寫的進展 卻寧願給人看一片空白 寧缺勿濫\"\"\"\n",
        "print(article.replace(\"女孩\",\"女生\").replace(\"女生\",\"女孩\",3))"
      ],
      "metadata": {
        "colab": {
          "base_uri": "https://localhost:8080/"
        },
        "id": "kR1yy4apl8jQ",
        "outputId": "293d8cec-cae6-4381-becc-92a85f3206ea"
      },
      "execution_count": null,
      "outputs": [
        {
          "output_type": "stream",
          "name": "stdout",
          "text": [
            "2012年我創立了一間公司 來教女孩寫程式 我發現到，透過教程式編寫 其實我是在培養她們變得勇敢\n",
            "程式編寫是一個「不斷檢測 與發現錯誤」的無止境過程\n",
            "要設法在對的地方，輸入正確的指令 有時候只是差一個分號 就足以決定成敗\n",
            "程式碼錯了，就全盤皆錯 時常要嘗試很多很多次 奇蹟才會出現\n",
            "你試著建構的東西總算活了起來 這項工作需要毅力 需要不完美\n",
            "\n",
            "我們馬上就發現 參與學程的女孩都害怕犯錯 害怕不完美 「寫程式的女孩」計畫的每個老師 都告訴我一樣的故事\n",
            "第一週，女生們還在學 怎麼編寫程式碼時 學生會請她過去跟她說 「我不知道要寫什麼程式碼」\n",
            "老師看了看她的螢幕 只會看到一片空白\n",
            "假如她不夠瞭解，她會覺得她的學生 花了20分鐘，只是盯著螢幕發呆\n",
            "但如果她多按幾下復原鍵 她會看見學生其實 寫下程式碼又刪除了\n",
            "她試過，她逼近了 可是還沒做到完全正確\n",
            "她不呈現編寫的進展 卻寧願給人看一片空白 寧缺勿濫\n"
          ]
        }
      ]
    },
    {
      "cell_type": "markdown",
      "source": [
        "## 格式化"
      ],
      "metadata": {
        "id": "t1T0SJsStnzI"
      }
    },
    {
      "cell_type": "markdown",
      "source": [
        "### [練習] 網頁套版\n",
        "我們常見的購物網站，商品列表頁之中\n",
        "  \n",
        "<img src=\"https://drive.google.com/uc?id=1EQjY5eWqMwx0mBrT7UENmFZj7Kj44O7z\" width=\"70%\"/>\n",
        "  \n",
        "每一個商品都有類似長相，例如都有圖片、名稱以及價格，我們稱之為 template：\n",
        "```\n",
        "                <div class=\"col mb-5\">\n",
        "                    <div class=\"card h-100\">\n",
        "                        <img class=\"card-img-top\" src=\"https://cdn.pixabay.com/photo/2015/10/22/07/55/tissues-1000849_1280.png\"/>\n",
        "                        <div class=\"card-body p-4\">\n",
        "                            <div class=\"text-center\">\n",
        "                                <h5 class=\"fw-bolder\">商品名稱</h5>\n",
        "                                $商品價格\n",
        "                            </div>\n",
        "                        </div>\n",
        "                    </div>\n",
        "                </div>\n",
        "```\n",
        "這一大串看不懂的內文，其實就是瀏覽器讀的格式，也就是所謂的網頁原始碼，  \n",
        "瀏覽器會將其轉換成我們看到的漂亮網頁樣貌。  \n",
        "\n",
        "請更改以下程式碼中的 `row_products_template`，也就是三個我們可以調整的商品版位，  \n",
        "將這三個版位用 `f-string` 或 `format` 的方式替換商品資訊\n",
        "- 第1個商品\n",
        "    - 商品名稱是「100抽12包1串」\n",
        "    - 商品價格 170\n",
        "- 第2個商品\n",
        "    - 商品名稱是「100抽12包3串」\n",
        "    - 商品價格 500\n",
        "- 第3個商品\n",
        "    - 商品名稱是「100抽12包6串」\n",
        "    - 商品價格 990\n",
        "\n",
        "> #### Hint:\n",
        "> - 比較長的字串我們是用三個雙引號「`\"`」包起來。如果使用 `f-string` 的 `f` 也是加在 「`\"`」 前面。"
      ],
      "metadata": {
        "id": "j-SjgK_xLIyv"
      }
    },
    {
      "cell_type": "code",
      "source": [
        "### Ans. f-string ================================\n",
        "product_name1 = \"100抽12包1串\" # 商品名稱\n",
        "product_price1 = 170          # 價格\n",
        "\n",
        "product_name2 = \"100抽12包3串\" # 商品名稱\n",
        "product_price2 = 500          # 價格\n",
        "\n",
        "product_name3 = \"100抽12包6串\" # 商品名稱\n",
        "product_price3 = 990          # 價格\n",
        "\n",
        "row_products_template = f\"\"\"\n",
        "                <div class=\"col mb-5\">\n",
        "                    <div class=\"card h-100\">\n",
        "                        <img class=\"card-img-top\" src=\"https://cdn.pixabay.com/photo/2015/10/22/07/55/tissues-1000849_1280.png\"/>\n",
        "                        <div class=\"card-body p-4\">\n",
        "                            <div class=\"text-center\">\n",
        "                                <h5 class=\"fw-bolder\">{product_name1}</h5>\n",
        "                                ${product_price1}\n",
        "                            </div>\n",
        "                        </div>\n",
        "                    </div>\n",
        "                </div>\n",
        "                <div class=\"col mb-5\">\n",
        "                    <div class=\"card h-100\">\n",
        "                        <img class=\"card-img-top\" src=\"https://cdn.pixabay.com/photo/2015/10/22/07/55/tissues-1000849_1280.png\"/>\n",
        "                        <div class=\"card-body p-4\">\n",
        "                            <div class=\"text-center\">\n",
        "                                <h5 class=\"fw-bolder\">{product_name2}</h5>\n",
        "                                ${product_price2}\n",
        "                            </div>\n",
        "                        </div>\n",
        "                    </div>\n",
        "                </div>\n",
        "                <div class=\"col mb-5\">\n",
        "                    <div class=\"card h-100\">\n",
        "                        <img class=\"card-img-top\" src=\"https://cdn.pixabay.com/photo/2015/10/22/07/55/tissues-1000849_1280.png\"/>\n",
        "                        <div class=\"card-body p-4\">\n",
        "                            <div class=\"text-center\">\n",
        "                                <h5 class=\"fw-bolder\">{product_name3}</h5>\n",
        "                                ${product_price3}\n",
        "                            </div>\n",
        "                        </div>\n",
        "                    </div>\n",
        "                </div>\n",
        "\"\"\"\n",
        "print(row_products_template)"
      ],
      "metadata": {
        "id": "cSDaKI4cnDCO"
      },
      "execution_count": null,
      "outputs": []
    },
    {
      "cell_type": "code",
      "source": [
        "### Ans. format  ================================\n",
        "product_name1 = \"100抽12包1串\" # 商品名稱\n",
        "product_price1 = 170          # 價格\n",
        "\n",
        "product_name2 = \"100抽12包3串\" # 商品名稱\n",
        "product_price2 = 500          # 價格\n",
        "\n",
        "product_name3 = \"100抽12包6串\" # 商品名稱\n",
        "product_price3 = 990          # 價格\n",
        "\n",
        "row_products_template = \"\"\"\n",
        "                <div class=\"col mb-5\">\n",
        "                    <div class=\"card h-100\">\n",
        "                        <img class=\"card-img-top\" src=\"https://cdn.pixabay.com/photo/2015/10/22/07/55/tissues-1000849_1280.png\"/>\n",
        "                        <div class=\"card-body p-4\">\n",
        "                            <div class=\"text-center\">\n",
        "                                <h5 class=\"fw-bolder\">{}</h5>\n",
        "                                ${}\n",
        "                            </div>\n",
        "                        </div>\n",
        "                    </div>\n",
        "                </div>\n",
        "                <div class=\"col mb-5\">\n",
        "                    <div class=\"card h-100\">\n",
        "                        <img class=\"card-img-top\" src=\"https://cdn.pixabay.com/photo/2015/10/22/07/55/tissues-1000849_1280.png\"/>\n",
        "                        <div class=\"card-body p-4\">\n",
        "                            <div class=\"text-center\">\n",
        "                                <h5 class=\"fw-bolder\">{}</h5>\n",
        "                                ${}\n",
        "                            </div>\n",
        "                        </div>\n",
        "                    </div>\n",
        "                </div>\n",
        "                <div class=\"col mb-5\">\n",
        "                    <div class=\"card h-100\">\n",
        "                        <img class=\"card-img-top\" src=\"https://cdn.pixabay.com/photo/2015/10/22/07/55/tissues-1000849_1280.png\"/>\n",
        "                        <div class=\"card-body p-4\">\n",
        "                            <div class=\"text-center\">\n",
        "                                <h5 class=\"fw-bolder\">{}</h5>\n",
        "                                ${}\n",
        "                            </div>\n",
        "                        </div>\n",
        "                    </div>\n",
        "                </div>\n",
        "\"\"\".format(product_name1, product_price1, product_name2, product_price2, product_name3, product_price3)\n",
        "print(row_products_template)"
      ],
      "metadata": {
        "id": "br4At-Z_mQEy"
      },
      "execution_count": null,
      "outputs": []
    },
    {
      "cell_type": "markdown",
      "source": [
        "# 布林型別與運算"
      ],
      "metadata": {
        "id": "U8MCE3Z-MmWh"
      }
    },
    {
      "cell_type": "markdown",
      "source": [
        "## 內建函數-判斷字串"
      ],
      "metadata": {
        "id": "H4HPcxfPQeIG"
      }
    },
    {
      "cell_type": "markdown",
      "source": [
        "### [練習] 判斷詐騙網站\n",
        "詐騙集團很常會假冒政府網站，騙取你輸入個資，  \n",
        "現在想請你寫一個程式來判斷某個網址是不是政府網站：\n",
        "- 台灣政府網站大多都是以 `.gov.tw` 結尾\n",
        "- 如果是台灣政府網站請印出 True， 否則印出 False。\n",
        "  \n",
        "  \n",
        "#### 測試內容：\n",
        "- https://www.nt-gov.bond 會印出 False\n",
        "- https://www.einvoice.nat.gov.tw 會印出 True"
      ],
      "metadata": {
        "id": "tW-Rxrr30Ot2"
      }
    },
    {
      "cell_type": "code",
      "source": [
        "### Ans. ================================\n",
        "url = \"https://www.nt-gov.bond\"\n",
        "print(url.endswith(\".gov.tw\"))\n",
        "\n",
        "url = \"https://www.einvoice.nat.gov.tw\"\n",
        "print(url.endswith(\".gov.tw\"))"
      ],
      "metadata": {
        "colab": {
          "base_uri": "https://localhost:8080/"
        },
        "id": "r_P3LdFGn4uG",
        "outputId": "e2586a87-3215-4b78-d395-4fac4bb606b4"
      },
      "execution_count": null,
      "outputs": [
        {
          "output_type": "stream",
          "name": "stdout",
          "text": [
            "False\n",
            "True\n"
          ]
        }
      ]
    },
    {
      "cell_type": "markdown",
      "source": [
        "## 邏輯運算"
      ],
      "metadata": {
        "id": "-VDQGsOsQRvq"
      }
    },
    {
      "cell_type": "markdown",
      "source": [
        "### [進階練習] 判斷網站安全性\n",
        "我們想加強對於網站安全的判斷，  \n",
        "通常有 `https` 開頭的是安全的網站，請以原來判斷詐騙網站的程式改寫：\n",
        "- 網站是 `https` 開頭，而且結尾是 `.gov.tw` 請印出 True\n",
        "- 其餘請印出 False\n",
        "\n",
        "#### 測試內容：\n",
        "- https://www.nt-gov.bond 會印出 False\n",
        "- https://www.einvoice.nat.gov.tw 會印出 True\n",
        "- http://www.afa.gov.tw/ 會印出 False"
      ],
      "metadata": {
        "id": "VC7z1dpx05Ii"
      }
    },
    {
      "cell_type": "code",
      "source": [
        "### Ans. ================================\n",
        "url = \"https://www.nt-gov.bond\"\n",
        "print(url.endswith(\".gov.tw\") and url.startswith(\"https\"))\n",
        "\n",
        "url = \"https://www.einvoice.nat.gov.tw\"\n",
        "print(url.endswith(\".gov.tw\") and url.startswith(\"https\"))\n",
        "\n",
        "url = \"http://www.afa.gov.tw/\"\n",
        "print(url.endswith(\".gov.tw\") and url.startswith(\"https\"))"
      ],
      "metadata": {
        "colab": {
          "base_uri": "https://localhost:8080/"
        },
        "id": "yZWij1HDoo2r",
        "outputId": "b7cec395-bfb5-4fe8-bc19-641db5cbcb4b"
      },
      "execution_count": null,
      "outputs": [
        {
          "output_type": "stream",
          "name": "stdout",
          "text": [
            "False\n",
            "True\n",
            "False\n"
          ]
        }
      ]
    },
    {
      "cell_type": "markdown",
      "source": [
        "## 布林型別轉換"
      ],
      "metadata": {
        "id": "W_WsLl4JT1Nr"
      }
    },
    {
      "cell_type": "markdown",
      "source": [
        "### [補充練習] 時間是否足夠\n",
        "忘了些東西在公司，但末班的公車快來了，不知道是否來得及～   \n",
        "分別輸入五個數字，分別是\n",
        "\n",
        "- 現在的時間-小時部分\n",
        "- 現在的時間-分鐘部分\n",
        "- 末班車時間-小時部分\n",
        "- 末班車時間-分鐘部分\n",
        "- 公車站往返公司所需的分鐘\n",
        "  \n",
        "請寫一隻程式判斷是否來得及(剛好到達也算)： 來得及就印 True，否則印 False！\n",
        "\n",
        "eg. 21 00 21 15 13 => True  \n",
        "現在時間是 21:00，末班車發車時間是 21:15，往返時間需要 13 分鐘 => 來得及\n",
        "\n",
        "> #### Hint:\n",
        "> 我們還不知道怎麼寫程式讓分鐘超過60就進位，小時也有0~23的限制   \n",
        "> 可以全部都換算成分鐘 eg. 00:01 => 1 , 01:02 => 62  \n",
        "> input()：輸入，要記得要用個命名物件去接，儲存的型別為字串  \n",
        "> 小於等於是<=符號、大於是>符號   \n",
        "\n",
        "\n",
        "#### 測試內容：\n",
        "- 21 00 21 15 15 => True  \n",
        "現在時間是 21:00，末班車發車時間是 21:15，往返時間需要 15 分鐘 => 來得及\n",
        "\n",
        "- 21 50 22 05 20 => False  \n",
        "現在時間是 21:50，末班車發車時間是 22:05，往返時間需要 20 分鐘 => 來不及"
      ],
      "metadata": {
        "id": "6eH10ptnYMmm"
      }
    },
    {
      "cell_type": "code",
      "source": [
        "### Ans. ================================\n",
        "now_hour = int(input())\n",
        "now_minute = int(input())\n",
        "last_bus_hour = int(input())\n",
        "last_bus_minute = int(input())\n",
        "duration_minute = int(input())\n",
        "0\n",
        "now_minutes = now_hour*60 + now_minute\n",
        "last_bus_minutes = last_bus_hour*60 + last_bus_minute\n",
        "\n",
        "print(duration_minute <= (last_bus_minutes-now_minutes))"
      ],
      "metadata": {
        "id": "H-Mcuimxp2pN"
      },
      "execution_count": null,
      "outputs": []
    }
  ]
}
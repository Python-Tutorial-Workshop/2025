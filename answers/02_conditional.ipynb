{
  "nbformat": 4,
  "nbformat_minor": 0,
  "metadata": {
    "colab": {
      "provenance": [],
      "toc_visible": true
    },
    "kernelspec": {
      "name": "python3",
      "display_name": "Python 3"
    },
    "language_info": {
      "name": "python"
    }
  },
  "cells": [
    {
      "cell_type": "markdown",
      "source": [
        "# if/elif/else"
      ],
      "metadata": {
        "id": "WnXlBWzxBjJC"
      }
    },
    {
      "cell_type": "markdown",
      "source": [
        "## [練習] 搜尋結果\n",
        "不管你從搜尋引擎、或是網路購物/訂房，他們都會給你一串搜尋結果，  \n",
        "如果仔細觀察，每一家的服務的預設的排名順序都不太一樣，也就是背後都有各自的機制。  \n",
        "而要做到排序，背後就需要給每個項目(商品)給一個分數，然後依此來排名。\n",
        "\n",
        "但更為基本的是，列出的項目需要符合搜尋條件，如果不符合，其他分數再高也不應採計。\n",
        "\n",
        "這邊假設排名分數是 `2.1`：\n",
        "- 如果搜尋條件符合，則可以給出原排名分數\n",
        "- 如果搜尋條件不符合，則排名分數應該要歸零\n",
        "\n",
        "> #### Hint:\n",
        "- 以下程式碼中「 ___ 」的區塊，是讓你練習 if/elif/else 的語法。  \n",
        "至於符合該個條件要做的事，也就是縮排的部分，已經幫你先填好了。\n"
      ],
      "metadata": {
        "id": "nIUrJXZXHexO"
      }
    },
    {
      "cell_type": "code",
      "source": [
        "### Ans. ================================\n",
        "is_match = True\n",
        "raw_ranking_score = 2.1\n",
        "\n",
        "if is_match:\n",
        "    ranking_score = raw_ranking_score\n",
        "else:\n",
        "    ranking_score = 0\n",
        "\n",
        "print(ranking_score)"
      ],
      "metadata": {
        "id": "MWdZGNYIIabe"
      },
      "execution_count": null,
      "outputs": []
    },
    {
      "cell_type": "markdown",
      "source": [
        "### [進階練習] 網頁排名分數\n",
        "如果要建立一個簡易搜尋引擎的排名演算法，可以基於前面的練習題，增加採計因素：\n",
        "- `is_match`: 符合搜尋條件(代表內容有符合搜尋關鍵字、篩選條件)\n",
        "- `backlinks`: 有多少其他網頁連結到這個網頁\n",
        "- `is_mobile_friendly`: 此網頁有針對手機調整瀏覽的版型\n",
        "\n",
        "\n",
        "計算分數`ranking_score`的方式為：\n",
        "- 如果該項目有符合我們的搜尋條件，也就是 `is_match==True`，才會計算分數\n",
        "- 引用加權分`backlinks_weight`：backlinks\n",
        "    - 0 個：0.5\n",
        "    - 1~9 個：1\n",
        "    - 10~19 個：2\n",
        "    - ,... 以此類推\n",
        "    - 41個以上：5\n",
        "- 手機網頁友善加權 `mobile_weight`：如果 `is_mobile_friendly` 為 True, 分數為 1.05，否則為1。\n",
        "- 排名分數`ranking_score`公式為：\n",
        "\n",
        "```\n",
        " (backlinks_weight * 2) * mobile_weight\n",
        "```\n",
        "\n",
        "> #### Hint:\n",
        "> - backlinks_weight 在 backlinks >= 41 的時候為5，其餘都是每十個+1\n",
        "\n",
        "#### 測試內容：\n",
        "- 符合搜尋條件、有5個引用網站，排名分數為 `2`\n",
        "- 符合搜尋條件、有5個引用網站、是手機網頁友善，排名分數為 `2.1`\n",
        "- 不符合搜尋條件、有100個引用網站，排名分數為 `0`\n"
      ],
      "metadata": {
        "id": "R21geTQGspqP"
      }
    },
    {
      "cell_type": "code",
      "source": [
        "### Ans. ================================\n",
        "is_match = True\n",
        "backlinks = 5\n",
        "is_mobile_friendly = False\n",
        "\n",
        "### 如果符合搜尋條件才會計算公式\n",
        "if is_match:\n",
        "    ### 判斷 backlinks 落在哪個區間，決定 backlinks_weight 值\n",
        "    if backlinks == 0:\n",
        "        backlinks_weight = 0.5\n",
        "    elif backlinks>=41:\n",
        "        backlinks_weight = 5\n",
        "    else:\n",
        "        backlinks_weight = backlinks//10 + 1\n",
        "\n",
        "    ### 判斷 is_mobile_friendly 狀況，決定 mobile_weight 值\n",
        "    if is_mobile_friendly:\n",
        "        mobile_weight = 1.05\n",
        "    else:\n",
        "        mobile_weight = 1\n",
        "    ### 計算公式\n",
        "    ranking_score = (backlinks_weight * 2) * mobile_weight\n",
        "else:\n",
        "    ranking_score = 0\n",
        "\n",
        "# print(backlinks_weight)\n",
        "# print(mobile_weight)\n",
        "print(ranking_score)"
      ],
      "metadata": {
        "colab": {
          "base_uri": "https://localhost:8080/"
        },
        "id": "fbgS4DQ-1BiC",
        "outputId": "40efeff4-30a3-4795-b5d8-2393eb919c80"
      },
      "execution_count": null,
      "outputs": [
        {
          "output_type": "stream",
          "name": "stdout",
          "text": [
            "0\n"
          ]
        }
      ]
    },
    {
      "cell_type": "markdown",
      "source": [
        "## [補充練習] 來自門禁系統的關心\n",
        "請寫一個會打招呼的門禁系統：\n",
        "\n",
        "- 我們把時間寫成24小時制，長度為4的字串：  \n",
        "前兩碼為小時，後兩碼為分鐘(個位數要補零)\n",
        "    - eg. 凌晨05:17 => `\"0517\"`\n",
        "    - eg. 晚上11:08 => `\"2308\"`\n",
        "- 超過晚上10點，門禁系統會印出兩句話「現在很晚了」、「怎麼還在外面遊蕩」\n",
        "- 凌晨5點前，也是一樣印出「現在很晚了」、「怎麼還在外面遊蕩」\n",
        "\n",
        "> #### Hint:\n",
        "> - 可以不用一步到位，一個個條件完成\n",
        "> - 新增條件可以用 `elif` 或是用 `or`\n"
      ],
      "metadata": {
        "id": "l6lua1dck-c_"
      }
    },
    {
      "cell_type": "code",
      "source": [
        "### Ans. 1 ================================\n",
        "time = \"2205\"\n",
        "if int(time) > int(\"2200\"):\n",
        "    print(\"現在很晚了\")\n",
        "    print(\"怎麼還在外面遊蕩\")\n",
        "elif int(time) < int(\"0500\"):\n",
        "    print(\"現在很晚了\")\n",
        "    print(\"怎麼還在外面遊蕩\")"
      ],
      "metadata": {
        "id": "96d_ubypwV3l"
      },
      "execution_count": null,
      "outputs": []
    },
    {
      "cell_type": "code",
      "source": [
        "### Ans. 2 ================================\n",
        "time = \"2205\"\n",
        "if (int(time) > int(\"2200\")) or (int(time) < int(\"0500\")):\n",
        "    print(\"現在很晚了\")\n",
        "    print(\"怎麼還在外面遊蕩\")"
      ],
      "metadata": {
        "id": "r8E6O9hJwiei"
      },
      "execution_count": null,
      "outputs": []
    },
    {
      "cell_type": "markdown",
      "source": [
        "# 運算順序"
      ],
      "metadata": {
        "id": "d0EHiZQBfRvU"
      }
    },
    {
      "cell_type": "markdown",
      "source": [
        "## [補充練習] 判斷是否為閏年\n",
        "以下兩個條件滿足其一，即為閏年：\n",
        "- 西元年份可被400整除\n",
        "- 西元年份可被4整除，但不能被100整除\n",
        "\n",
        "\n",
        "#### 測試內容：\n",
        "- 西元 2000 年是閏年\n",
        "- 西元 2060 年是閏年\n",
        "- 西元 1900 年不是閏年\n",
        "- 西元 2057 年不是閏年\n",
        "\n",
        "\n",
        "> #### Hint:\n",
        "> - 整除：餘數為 0\n",
        "> - 可以不用一步到位，一個個條件完成\n",
        "> - 新增條件可以用 `elif` 或是用 `or`\n",
        "> - 可利用 () 確保運算順序是預期方式"
      ],
      "metadata": {
        "id": "yewu24hLnA02"
      }
    },
    {
      "cell_type": "code",
      "source": [
        "### Ans. 1 ================================\n",
        "year = 2060\n",
        "if year%400==0:\n",
        "    print(\"{}是閏年\".format(year))\n",
        "elif year%4==0 and year%100!=0:\n",
        "    print(\"{}是閏年\".format(year))"
      ],
      "metadata": {
        "id": "tGwX_tgswtxG"
      },
      "execution_count": null,
      "outputs": []
    },
    {
      "cell_type": "code",
      "source": [
        "### Ans. 2 ================================\n",
        "year = 2060\n",
        "if (year%400==0) or (year%4==0 and year%100!=0):\n",
        "    print(\"{}是閏年\".format(year))"
      ],
      "metadata": {
        "id": "q6F1rO38wtpY"
      },
      "execution_count": null,
      "outputs": []
    }
  ]
}
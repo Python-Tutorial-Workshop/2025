{
  "nbformat": 4,
  "nbformat_minor": 0,
  "metadata": {
    "colab": {
      "provenance": [],
      "toc_visible": true
    },
    "kernelspec": {
      "name": "python3",
      "display_name": "Python 3"
    },
    "language_info": {
      "name": "python"
    }
  },
  "cells": [
    {
      "cell_type": "markdown",
      "source": [
        "# 共通的序列操作方式"
      ],
      "metadata": {
        "id": "E-kbRmYIPUPA"
      }
    },
    {
      "cell_type": "markdown",
      "source": [
        "## 取得序列的元素"
      ],
      "metadata": {
        "id": "T9CeCnO6P9bY"
      }
    },
    {
      "cell_type": "markdown",
      "source": [
        "### [練習] 股票獲利\n",
        "這裡有一支股票今天的每一小時價格變化，  \n",
        "如果我的股票操作策略是，每天開盤的時候買，收盤的時候賣，  \n",
        "我今天的獲利會是多少？  \n",
        "(請不要直接 `print(1020-1025)`，試試看剛才學的串列取值)"
      ],
      "metadata": {
        "id": "PyVyeKc5rzp4"
      }
    },
    {
      "cell_type": "code",
      "source": [
        "### Ans. 1 ================================\n",
        "stock_day_price = [1025, 1030, 1025, 1030, 1035, 1030, 1020]\n",
        "print(stock_day_price[-1]-stock_day_price[0])"
      ],
      "metadata": {
        "colab": {
          "base_uri": "https://localhost:8080/"
        },
        "id": "_BaLQFyEtEWu",
        "outputId": "f9d08315-9843-419b-c829-d46bd3e912a9"
      },
      "execution_count": null,
      "outputs": [
        {
          "output_type": "stream",
          "name": "stdout",
          "text": [
            "-5\n"
          ]
        }
      ]
    },
    {
      "cell_type": "code",
      "source": [
        "### Ans. 2 ================================\n",
        "stock_day_price = [1025, 1030, 1025, 1030, 1035, 1030, 1020]\n",
        "price_open = stock_day_price[0]\n",
        "price_close = stock_day_price[-1]\n",
        "print(price_close-price_open)"
      ],
      "metadata": {
        "colab": {
          "base_uri": "https://localhost:8080/"
        },
        "id": "kk8MHaSEtUzD",
        "outputId": "2d2c3f31-0dbf-4822-a8eb-b542631c1ffa"
      },
      "execution_count": null,
      "outputs": [
        {
          "output_type": "stream",
          "name": "stdout",
          "text": [
            "-5\n"
          ]
        }
      ]
    },
    {
      "cell_type": "markdown",
      "source": [
        "### [補充練習] 身高差\n",
        "這裡有一群按照身高排序的人，可以告訴我最高和最矮差了幾公分嗎？  \n",
        "(請不要直接 print(192-145)，試試看剛才學的串列取值)\n",
        "\n",
        "> #### Hint:\n",
        "> - 因為身高是有排序過的，最矮是第一個元素，最高是最後一個  \n",
        "=> 最後一個減第一個\n"
      ],
      "metadata": {
        "id": "zgrLPszNP9fV"
      }
    },
    {
      "cell_type": "code",
      "source": [
        "### Ans. 1 ================================\n",
        "people = [145,148,151,153,158,161,163,164,166,168,170,172,175,192]\n",
        "print(people[-1]-people[0])"
      ],
      "metadata": {
        "colab": {
          "base_uri": "https://localhost:8080/"
        },
        "id": "kU9ivASEerdy",
        "outputId": "051ccc8c-bc6d-4f8f-8d2a-d5710486d8dc"
      },
      "execution_count": null,
      "outputs": [
        {
          "output_type": "stream",
          "name": "stdout",
          "text": [
            "47\n"
          ]
        }
      ]
    },
    {
      "cell_type": "code",
      "source": [
        "### Ans. 2 ================================\n",
        "people = [145,148,151,153,158,161,163,164,166,168,170,172,175,192]\n",
        "tallest = people[-1]\n",
        "shortest = people[0]\n",
        "print(tallest-shortest)"
      ],
      "metadata": {
        "colab": {
          "base_uri": "https://localhost:8080/"
        },
        "id": "iDNBbW7XtGd_",
        "outputId": "03388259-1012-40f4-d00f-7f8bf4e0f860"
      },
      "execution_count": null,
      "outputs": [
        {
          "output_type": "stream",
          "name": "stdout",
          "text": [
            "47\n"
          ]
        }
      ]
    },
    {
      "cell_type": "markdown",
      "source": [
        "## 全數字序列的總和\n"
      ],
      "metadata": {
        "id": "GvCqK9V2nxBq"
      }
    },
    {
      "cell_type": "markdown",
      "source": [
        "### [練習] 統計全班分數\n",
        "請統計全班的成績狀況：\n",
        "\n",
        "- 全班最高分與最低分的落差為？ (Ans. 58)\n",
        "- 全班分數的平均為？ (Ans. 71.4285...)\n",
        "\n",
        "> #### Hint:\n",
        "> - 平均：學生分數總和/學生總數\n",
        "> - 總數：序列長度\n",
        "> - 最高分：序列最大值\n",
        "> - 最低分：序列最小值"
      ],
      "metadata": {
        "id": "Ko7HYot64u71"
      }
    },
    {
      "cell_type": "code",
      "source": [
        "### Ans. ================================\n",
        "scores = [85,70,54,87,98,66,40]\n",
        "diff_score = max(scores) - min(scores)\n",
        "avg_score = sum(scores) / len(scores)\n",
        "print(\"全班分數落差為\",diff_score)\n",
        "print(\"全班平均為\",avg_score)"
      ],
      "metadata": {
        "colab": {
          "base_uri": "https://localhost:8080/"
        },
        "id": "E5pTIk9q4-Fd",
        "outputId": "ce0784b5-ce8d-4b00-9eb8-f2f9db708ec7"
      },
      "execution_count": null,
      "outputs": [
        {
          "output_type": "stream",
          "name": "stdout",
          "text": [
            "全班分數落差為 58\n",
            "全班平均為 71.42857142857143\n"
          ]
        }
      ]
    },
    {
      "cell_type": "markdown",
      "source": [
        "# 串列與字串的轉換"
      ],
      "metadata": {
        "id": "QQz8f1Gdwtda"
      }
    },
    {
      "cell_type": "markdown",
      "source": [
        "## 將字串切割成串列"
      ],
      "metadata": {
        "id": "ll7sykMlwy2E"
      }
    },
    {
      "cell_type": "markdown",
      "source": [
        "### [練習] 取出日期的年月日\n",
        "我們希望將前面取出的日期「2024-10-09」，能改以「2024年10月09日」呈現\n",
        "> #### Hint:\n",
        "> - 年月日是以「-」分隔，所以應該要用「-」去切割\n",
        "> - 而原字串有兩個「-」，切割後應該會產生一個三個元素的串列。再用序列取值的方式分別拿到年、月、日"
      ],
      "metadata": {
        "id": "EDkWylYO0rsq"
      }
    },
    {
      "cell_type": "code",
      "source": [
        "string_example = \"2024-10-09 08:24:13\"\n",
        "list_strs = string_example.split(\" \")\n",
        "date = list_strs[0]\n",
        "\n",
        "list_date_split = date.split(\"-\")\n",
        "# print(list_date_split)\n",
        "\n",
        "year = list_date_split[0]\n",
        "month = list_date_split[1]\n",
        "day = list_date_split[-1]\n",
        "print(f\"{year}年{month}月{day}日\")"
      ],
      "metadata": {
        "id": "iOuII3Pe18v1"
      },
      "execution_count": null,
      "outputs": []
    },
    {
      "cell_type": "markdown",
      "source": [
        "### [進階練習] 找出分身 email 的真身\n",
        "如果我們需要在某些系統需要註冊大量帳號(通常是以不同的email註冊)，  \n",
        "而那個系統帳號是可以包含「`.`」在裡面，就可以用以下的小技巧：  \n",
        "\n",
        "在 [Gmail](https://support.google.com/mail/answer/7436150?hl=zh-Hant) 中，會忽略使用者名稱(email`@`前面的部分)中的「`.`」 ，  \n",
        "例如以下幾個 email 其實 Google 都是認為同一個，  \n",
        "不管寄信到哪一個，都能收的到信：\n",
        "- pyladies.global@gmail.com\n",
        "- pyladiesglobal@gmail.com\n",
        "- py.ladies.global@gmail.com  \n",
        "  \n",
        "  \n",
        "現在我們要來實作 Google 這樣的功能，找出真正要寄信的 email 信箱，  \n",
        "以上面的例子來說，要寄的信箱是 `pyladiesglobal@gmail.com`，  \n",
        "所以我們需要做的事：\n",
        "- 拿到 email 的使用者名稱：`@`前面的部分\n",
        "- 取代使用者名稱中所有的 「`.`」：會用到 [`replace`](https://colab.research.google.com/drive/1l9fv5A2EThLIkUlVHA0VahgosnWKkTi7#scrollTo=Fqh9MBdGdxkd)\n",
        "- 再把使用名稱 email domain (也就是包含 `@`後的資料) 組合起來(格式化字串)"
      ],
      "metadata": {
        "id": "lfgC0SfL5QBx"
      }
    },
    {
      "cell_type": "code",
      "source": [
        "### Ans. 1 ================================\n",
        "origin_email = \"pyladies.global@gmail.com\"\n",
        "# print(orgin_email.split(\"@\"))\n",
        "\n",
        "email_account = origin_email.split(\"@\")[0].replace(\".\",\"\")\n",
        "email_domain = origin_email.split(\"@\")[-1]\n",
        "real_email = f\"{email_account}@{email_domain}\"\n",
        "print(real_email)"
      ],
      "metadata": {
        "id": "dW6X4y5T_xa5"
      },
      "execution_count": null,
      "outputs": []
    },
    {
      "cell_type": "code",
      "source": [
        "### Ans. 2 ================================\n",
        "origin_email = \"pyladies.global@gmail.com\"\n",
        "email_split = origin_email.split(\"@\")\n",
        "# print(email_split)\n",
        "email_account = email_split[0].replace(\".\",\"\")\n",
        "email_domain = email_split[-1]\n",
        "real_email = f\"{email_account}@{email_domain}\"\n",
        "print(real_email)"
      ],
      "metadata": {
        "id": "HQjH9k95TwWS"
      },
      "execution_count": null,
      "outputs": []
    },
    {
      "cell_type": "markdown",
      "source": [
        "# 子元素的檢查"
      ],
      "metadata": {
        "id": "PIqjKxnIWLjg"
      }
    },
    {
      "cell_type": "markdown",
      "source": [
        "## 判斷序列中是否存在某元素"
      ],
      "metadata": {
        "id": "_p1XqK0Crbw3"
      }
    },
    {
      "cell_type": "markdown",
      "source": [
        "### [練習] 判斷信件安全性\n",
        "前面的範例，我們是用以下條件判斷網站的安全性：\n",
        "- 如果信件內容的網址 `mail_link` 連結不是政府網站 (結尾不是 `.gov.tw`)，請印出「釣魚網站，請勿輸入個資」\n",
        "-  如果信件內容的網址不是 `https` 開頭，請印出「非安全網站，請勿輸入個資」\n",
        "\n",
        "而如果是詐騙信件，裡面除了會有連結到不安全的網站，還會有信件內文一些關鍵字可以嗅出端倪。  \n",
        "\n",
        "現在我們已經知道如何判斷序列中是否存在某元素，  \n",
        "可以來增加一個新條件，讓原來的程式可以擴充到也能從信件內文判斷這是一封詐騙信件：\n",
        "\n",
        "- 如果信件內容出現「信息」、「賬戶」、「賬號」的關鍵字， 我們視為詐騙信件，就讓 `is_spam_mail_content` 設為 `True`\n",
        "- 如果是詐騙信件 (`is_spam_mail_content` 為 `True`)，我們會印出「詐騙網站，請勿輸入個資」\n",
        "\n",
        "> #### Hint:\n",
        "- 有三個關鍵字\n",
        "    - 你可以用[一組判斷式多個條件](https://colab.research.google.com/drive/1KGTmNzFhvjze3hUvm4i8EBfRyZs2ZxPj#scrollTo=WnXlBWzxBjJC)(因為最後都不符合的話 `is_spam_mail_content` 會為 `False`)\n",
        "        - 一個 `if`, 很多個 `elif`, 最後會有 `else`\n",
        "    - 可以用[邏輯運算](https://colab.research.google.com/drive/1l9fv5A2EThLIkUlVHA0VahgosnWKkTi7#scrollTo=-VDQGsOsQRvq)的「或者」：有其中一個關鍵字 `is_spam_mail_content` 就要為 `True`\n",
        "        - 可以配合 `()` 確保邏輯正確"
      ],
      "metadata": {
        "id": "yy9lDUNVrvn6"
      }
    },
    {
      "cell_type": "markdown",
      "source": [
        "\n",
        "<img src=\"https://drive.google.com/uc?id=1XAttb5sBdxyEtmk59EspGTI2pTXdetgt\" width=\"45%\"/>"
      ],
      "metadata": {
        "id": "hfre0niBP1H8"
      }
    },
    {
      "cell_type": "code",
      "source": [
        "### Ans. 1 ================================\n",
        "# mail_link = \"https://www.nt-gov.bond\"\n",
        "mail_link = \"https://www.einvoice.nat.gov.tw\"\n",
        "mail_content = \"\"\"\n",
        "感謝您選擇財政部電子發票整合服務。由於載具信息核實有誤，您的中獎發票無法正常驗證，請更新您的資料。\n",
        "1. 請點擊載具歸戶更新頁面，打開更新操作界面。\n",
        "2. 輸入您的手機號碼和驗證密碼。\n",
        "3. 選擇“更新載具歸戶”並完成操作。\n",
        "\n",
        "請注意以下可能導致匯款失敗的情況：\n",
        "1. 如果您提供的身份證號碼與指定收款賬戶所有人信息不一致，匯款可能會失敗。\n",
        "2. 如果您取消了匯款服務設置或未能在領獎期限內（開獎日起6日至3個月內）提供正確的領獎信息，可能無法完成匯款，需自行承擔責任。\n",
        "\"\"\"\n",
        "\n",
        "# 有三個關鍵字: 這邊的填空只有兩個，請補上第三個\n",
        "if \"信息\" in mail_content:\n",
        "    is_spam_mail_content = True\n",
        "elif \"賬戶\" in mail_content:\n",
        "    is_spam_mail_content = True\n",
        "elif \"賬號\" in mail_content:\n",
        "    is_spam_mail_content = True\n",
        "else:\n",
        "    is_spam_mail_content = False\n",
        "\n",
        "warning_word = \"，請勿輸入個資\"\n",
        "if not mail_link.endswith(\".gov.tw\"):\n",
        "    print(f\"釣魚網站{warning_word}\")\n",
        "elif is_spam_mail_content:\n",
        "    print(f\"詐騙網站{warning_word}\")\n",
        "elif not mail_link.startswith(\"https\"):\n",
        "    print(f\"非安全網站{warning_word}\")"
      ],
      "metadata": {
        "colab": {
          "base_uri": "https://localhost:8080/"
        },
        "id": "GQM34NbEBZqc",
        "outputId": "96963d66-0407-4be1-dacb-103ff083347e"
      },
      "execution_count": null,
      "outputs": [
        {
          "output_type": "stream",
          "name": "stdout",
          "text": [
            "詐騙網站，請勿輸入個資\n"
          ]
        }
      ]
    },
    {
      "cell_type": "code",
      "source": [
        "### Ans. 2 ================================\n",
        "# mail_link = \"https://www.nt-gov.bond\"\n",
        "mail_link = \"https://www.einvoice.nat.gov.tw\"\n",
        "mail_content = \"\"\"\n",
        "感謝您選擇財政部電子發票整合服務。由於載具信息核實有誤，您的中獎發票無法正常驗證，請更新您的資料。\n",
        "1. 請點擊載具歸戶更新頁面，打開更新操作界面。\n",
        "2. 輸入您的手機號碼和驗證密碼。\n",
        "3. 選擇“更新載具歸戶”並完成操作。\n",
        "\n",
        "請注意以下可能導致匯款失敗的情況：\n",
        "1. 如果您提供的身份證號碼與指定收款賬戶所有人信息不一致，匯款可能會失敗。\n",
        "2. 如果您取消了匯款服務設置或未能在領獎期限內（開獎日起6日至3個月內）提供正確的領獎信息，可能無法完成匯款，需自行承擔責任。\n",
        "\"\"\"\n",
        "\n",
        "# 有三個關鍵字: 這邊的填空只有兩個，請補上第三個\n",
        "if (\"信息\" in mail_content) or (\"賬戶\" in mail_content) or (\"賬號\" in mail_content):\n",
        "    is_spam_mail_content = True\n",
        "else:\n",
        "    is_spam_mail_content = False\n",
        "\n",
        "warning_word = \"，請勿輸入個資\"\n",
        "if not mail_link.endswith(\".gov.tw\"):\n",
        "    print(f\"釣魚網站{warning_word}\")\n",
        "elif is_spam_mail_content:\n",
        "    print(f\"詐騙網站{warning_word}\")\n",
        "elif not mail_link.startswith(\"https\"):\n",
        "    print(f\"非安全網站{warning_word}\")"
      ],
      "metadata": {
        "id": "l5TJpkA3rZnG"
      },
      "execution_count": null,
      "outputs": []
    },
    {
      "cell_type": "markdown",
      "source": [
        "如果我們不只想要的知道子元素是否有出現，  \n",
        "更進一步想要知道出現幾次呢？"
      ],
      "metadata": {
        "id": "yktponcFZZAa"
      }
    },
    {
      "cell_type": "markdown",
      "source": [
        "## 序列出現某元素的次數"
      ],
      "metadata": {
        "id": "ockTkWQJoXM1"
      }
    },
    {
      "cell_type": "markdown",
      "source": [
        "### [練習] 關鍵字出現次數\n",
        "在處理搜尋引擎排名的時候，我們會希望搜尋結果是有包含我們的「搜尋關鍵字」，  \n",
        "如果出現的關鍵字次數越多，通常會代表這篇內容越是有可能是我要的搜尋結果。  \n",
        "(p.s. 統計單字出現次數也會用於翻譯古老語言或是破解密碼)\n",
        "\n",
        "我們這邊先以英文內容的資料來處理：  \n",
        "想要計算出一篇英文內文中某個單字出現幾次。\n",
        "\n",
        "\n",
        "不過有可能遇到很短的單字會在其他單字中出現：  \n",
        "例如「in」這個單字，就也會出現在單字「drink」, 「something」的片段中，  \n",
        "但這就多少會影響我們搜尋結果的準確性。\n",
        "\n",
        "幸好英文文章，單字間是用「空白」隔開，  \n",
        "我們可以用 `split` 先把文章切割成單字串列，然後再數某個單字出現幾次。"
      ],
      "metadata": {
        "id": "d08y_zsHpwvf"
      }
    },
    {
      "cell_type": "code",
      "source": [
        "### Ans. ================================\n",
        "article = \"\"\"\n",
        "Bubble tea represents the \"QQ\" food texture that Taiwanese love.\n",
        "The phrase refers to something that is especially chewy, like the tapioca balls that form the 'bubbles' in bubble tea.\n",
        "It's said this unusual drink was invented out of boredom.\n",
        "\"\"\"\n",
        "words = article.split(\" \")\n",
        "print(words.count(\"in\"))"
      ],
      "metadata": {
        "colab": {
          "base_uri": "https://localhost:8080/"
        },
        "id": "3aZjTIXEqjcV",
        "outputId": "14616b7c-88cc-4e52-84c2-ebe36bffdbb1"
      },
      "execution_count": null,
      "outputs": [
        {
          "output_type": "stream",
          "name": "stdout",
          "text": [
            "1\n"
          ]
        }
      ]
    },
    {
      "cell_type": "code",
      "source": [
        "# print(words)"
      ],
      "metadata": {
        "id": "WmFUSoBq1cyP"
      },
      "execution_count": null,
      "outputs": []
    },
    {
      "cell_type": "markdown",
      "source": [
        "#### [進階練習] 文章處理後再進行關鍵字計算\n",
        "延續前面的練習題，這篇文章出現幾次單字「tea」呢？  \n",
        "用人判斷會發覺有兩次，但剛才 `split` 再 `count` 的程式碼只出現一次。  \n",
        "  \n",
        "原因是因為 `split` 之後，單字串列有的是「tea」和「tea.\\nIt's」。  \n",
        "所以如果直接用 `.count(\"tea\")` ，就只會算到剛好等於「tea」的字。\n",
        "\n",
        "=>\n",
        "- `\\n` 指的是換行，實際上換行應該也是單字分割，我們可以取代成「空白」，待會切割的時候就會一起切到\n",
        "- 標點符號可以消掉\n",
        "- [`replace` 語法](https://colab.research.google.com/drive/1l9fv5A2EThLIkUlVHA0VahgosnWKkTi7#scrollTo=Fqh9MBdGdxkd)\n",
        "\n",
        "拆解一下我們要做的步驟：\n",
        "- 把換行取代成空白\n",
        "- 把標點符號消掉\n",
        "- 把文章切割成單字串列\n",
        "- 算出單字串列中，「tea」這個單字出現幾次"
      ],
      "metadata": {
        "id": "qVwhJAv_zQye"
      }
    },
    {
      "cell_type": "code",
      "source": [
        "### Ans. ================================\n",
        "article = \"\"\"\n",
        "Bubble tea represents the \"QQ\" food texture that Taiwanese love.\n",
        "The phrase refers to something that is especially chewy, like the tapioca balls that form the 'bubbles' in bubble tea.\n",
        "It's said this unusual drink was invented out of boredom.\n",
        "\"\"\"\n",
        "clean_article = article\n",
        "clean_article = clean_article.replace(\"\\n\",\" \")\n",
        "clean_article = clean_article.replace(\".\",\"\").replace(\",\",\"\").replace(\":\",\"\").replace(\"?\",\"\")\n",
        "clean_article = clean_article.replace(\"\\\"\",\"\").replace(\"\\'\",\"\")\n",
        "words = clean_article.split(\" \")\n",
        "# print(words)\n",
        "print(words.count(\"tea\"))"
      ],
      "metadata": {
        "colab": {
          "base_uri": "https://localhost:8080/"
        },
        "id": "sMhszJTq0lvb",
        "outputId": "ca5c3270-6fae-4738-d77a-92ea1f8eb64a"
      },
      "execution_count": null,
      "outputs": [
        {
          "output_type": "stream",
          "name": "stdout",
          "text": [
            "2\n"
          ]
        }
      ]
    },
    {
      "cell_type": "markdown",
      "source": [
        "# 綜合應用：字串、數值、判斷式、串列"
      ],
      "metadata": {
        "id": "xR6wnmlYP9kL"
      }
    },
    {
      "cell_type": "markdown",
      "source": [
        "## [補充練習] 簡易計算機\n",
        "實作一個簡易計算機：輸入一行文字，印出計算結果\n",
        "- 只做加減乘除、次方、餘數\n",
        "- 只會有兩個數字，與一個運算元\n",
        "\n",
        "#### 測試內容：\n",
        "- 輸入 11+2 會印出 13\n",
        "- 輸入 2**3 會印出 8\n",
        "- 輸入 10%3 會印出 1"
      ],
      "metadata": {
        "id": "SLC5f9oLdB4e"
      }
    },
    {
      "cell_type": "code",
      "source": [
        "### Ans. ================================\n",
        "keyin = input(\"請輸入您要計算的內容，限二個數字 ex: 2**3\\n\")\n",
        "if \"+\" in keyin:\n",
        "    split_keyin = keyin.split(\"+\")\n",
        "    a = split_keyin[0]\n",
        "    b = split_keyin[-1]\n",
        "    print(keyin,\"=\",int(a)+int(b))\n",
        "elif \"-\" in keyin:\n",
        "    split_keyin = keyin.split(\"-\")\n",
        "    a = split_keyin[0]\n",
        "    b = split_keyin[-1]\n",
        "    print(keyin,\"=\",int(a)-int(b))\n",
        "elif \"**\" in keyin:\n",
        "    split_keyin = keyin.split(\"**\")\n",
        "    a = split_keyin[0]\n",
        "    b = split_keyin[-1]\n",
        "    print(keyin,\"=\",int(a)**int(b))\n",
        "elif \"*\" in keyin:\n",
        "    split_keyin = keyin.split(\"*\")\n",
        "    a = split_keyin[0]\n",
        "    b = split_keyin[-1]\n",
        "    print(keyin,\"=\",int(a)*int(b))\n",
        "elif \"/\" in keyin:\n",
        "    split_keyin = split_keyin.split(\"/\")\n",
        "    a = split_keyin[0]\n",
        "    b = split_keyin[-1]\n",
        "    print(keyin,\"=\",int(a)/int(b))\n",
        "elif \"%\" in keyin:\n",
        "    split_keyin = keyin.split(\"%\")\n",
        "    a = split_keyin[0]\n",
        "    b = split_keyin[-1]\n",
        "    print(keyin,\"=\",int(a)%int(b))"
      ],
      "metadata": {
        "id": "BphcOiwndvCi"
      },
      "execution_count": null,
      "outputs": []
    }
  ]
}
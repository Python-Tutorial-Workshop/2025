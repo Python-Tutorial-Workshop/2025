{
  "nbformat": 4,
  "nbformat_minor": 0,
  "metadata": {
    "colab": {
      "provenance": [],
      "toc_visible": true
    },
    "kernelspec": {
      "name": "python3",
      "display_name": "Python 3"
    },
    "language_info": {
      "name": "python"
    }
  },
  "cells": [
    {
      "cell_type": "markdown",
      "source": [
        "# 字典 (dictionary)"
      ],
      "metadata": {
        "id": "z9x3_oN_74EX"
      }
    },
    {
      "cell_type": "markdown",
      "source": [
        "## 取得字典的資料"
      ],
      "metadata": {
        "id": "rBB7Kd7TCJQM"
      }
    },
    {
      "cell_type": "markdown",
      "source": [
        "### [練習] 物流狀態查詢系統\n",
        "網路購物通常可以用物流編號去查詢現在這個商品的寄送狀態，  \n",
        "物流編號是唯一值，所以我們可以用物流編號當成字典的 key，對應到的物流狀態當成 value，  \n",
        "來儲存所有的物流商品跟其物流狀態：\n",
        "- 物流編號 TW92212567 的狀態為「賣家已寄出」\n",
        "- 物流編號 TW92212568 的狀態為「賣家已寄出」\n",
        "- 物流編號 TW92212569 的狀態為「到達物流中心」\n",
        "- 物流編號 TW92212570 的狀態為「商品配送中」\n",
        "- 物流編號 TW92212571 的狀態為「已送達」\n",
        "\n",
        "\n",
        "請用字典取值的方式，印出物流編號 TW92212569 的物流狀態\n",
        "```\n",
        "到達物流中心\n",
        "```"
      ],
      "metadata": {
        "id": "B3w2CutzJF77"
      }
    },
    {
      "cell_type": "code",
      "source": [
        "### Ans. ================================\n",
        "package_status_dict = {\n",
        "    \"TW92212567\": \"賣家已寄出\",\n",
        "    \"TW92212568\": \"賣家已寄出\",\n",
        "    \"TW92212569\": \"到達物流中心\",\n",
        "    \"TW92212570\": \"商品配送中\",\n",
        "    \"TW92212571\": \"已送達\"\n",
        "}\n",
        "print(package_status_dict[\"TW92212569\"]) # 印出結果應該要為 \"到達物流中心\""
      ],
      "metadata": {
        "colab": {
          "base_uri": "https://localhost:8080/"
        },
        "id": "OcYQe5i5Lj56",
        "outputId": "8fab8da0-376f-491d-88e4-6b4d4743c9ec"
      },
      "execution_count": null,
      "outputs": [
        {
          "output_type": "stream",
          "name": "stdout",
          "text": [
            "到達物流中心\n"
          ]
        }
      ]
    },
    {
      "cell_type": "markdown",
      "source": [
        "#### [練習] 物流狀態查詢系統 - 模擬查詢介面\n",
        "前面我們直接用指定的物流編號對字典取值，但我們真實世界中，物流編號是隨使用者輸入而更換，用以上的程式碼不夠彈性。  \n",
        "回顧一下之前我們使用 [`input`](https://colab.research.google.com/github/Python-Tutorial-Workshop/2025/blob/master/01_basicObject_IO.ipynb#scrollTo=zu8-NrcYinlJ) 讓使用者輸入資料，我們會貼一個命名標籤到我們想要查詢的資料上。  \n",
        "  \n",
        "這裡我們使用 `package_num` 當命名標籤，這個命名標籤綁定物流編號 TW92212569(字串)。  \n",
        "請改寫我們原本的程式碼，改用標籤`package_num`去跟字典取值，也就是拿到物流編號 TW92212569 的物流狀態「到達物流中心」 ："
      ],
      "metadata": {
        "id": "CX2J7AWtBaDv"
      }
    },
    {
      "cell_type": "code",
      "source": [
        "package_num = \"TW92212569\"\n",
        "package_status_dict = {\n",
        "    \"TW92212567\": \"賣家已寄出\",\n",
        "    \"TW92212568\": \"賣家已寄出\",\n",
        "    \"TW92212569\": \"到達物流中心\",\n",
        "    \"TW92212570\": \"商品配送中\",\n",
        "    \"TW92212571\": \"已送達\"\n",
        "}\n",
        "print(package_status_dict[package_num])"
      ],
      "metadata": {
        "id": "22xvvi5qBc42"
      },
      "execution_count": null,
      "outputs": []
    },
    {
      "cell_type": "markdown",
      "source": [
        "### [補充練習] 計算庫存\n",
        "水果庫存、價格都以字典型別儲存，  \n",
        "請計算若水果都賣出後，可賺進多少錢？(答案是 `235`)  \n",
        "\n"
      ],
      "metadata": {
        "id": "Nv4hMo-tH_KU"
      }
    },
    {
      "cell_type": "code",
      "source": [
        "### Ans. ================================\n",
        "stock={\n",
        "    \"banana\":5,\n",
        "    \"apple\":3,\n",
        "    \"orange\":10,\n",
        "}\n",
        "price={\n",
        "    \"banana\":5,\n",
        "    \"apple\":20,\n",
        "    \"orange\":15,\n",
        "}\n",
        "\n",
        "revenue = 0\n",
        "revenue += stock[\"banana\"] * price[\"banana\"]\n",
        "revenue += stock[\"apple\"] * price[\"apple\"]\n",
        "revenue += stock[\"orange\"] * price[\"orange\"]\n",
        "print(revenue)"
      ],
      "metadata": {
        "colab": {
          "base_uri": "https://localhost:8080/"
        },
        "id": "6mzJIfvWIKtG",
        "outputId": "88abb74a-0140-4731-ce06-5347b85f8de9"
      },
      "execution_count": null,
      "outputs": [
        {
          "output_type": "stream",
          "name": "stdout",
          "text": [
            "235\n"
          ]
        }
      ]
    },
    {
      "cell_type": "markdown",
      "source": [
        "## 更改字典的資料"
      ],
      "metadata": {
        "id": "1xoh3JLrCwa3"
      }
    },
    {
      "cell_type": "markdown",
      "source": [
        "### [練習] 物流系統更新\n",
        "物流系統總是會有新的物流商品加入，既有的商品的物流狀態也會更新。  \n",
        "延續之前物流系統練習題，此系統有兩筆新的更動：  \n",
        "- 物流編號 TW92212568 的狀態改為 「到達物流中心」\n",
        "- 新增一筆物流編號 TW92212572，物流狀態為「賣家已寄出」\n",
        "\n",
        "請用更改字典資料的語法去更新此物流系統的資料。"
      ],
      "metadata": {
        "id": "mX0fY_GEPS5U"
      }
    },
    {
      "cell_type": "code",
      "source": [
        "### Ans. ================================\n",
        "package_status_dict = {\n",
        "    \"TW92212567\": \"賣家已寄出\",\n",
        "    \"TW92212568\": \"賣家已寄出\",\n",
        "    \"TW92212569\": \"到達物流中心\",\n",
        "    \"TW92212570\": \"商品配送中\",\n",
        "    \"TW92212571\": \"已送達\"\n",
        "}\n",
        "\n",
        "package_status_dict[\"TW92212568\"] = \"到達物流中心\"\n",
        "package_status_dict[\"TW92212572\"] = \"賣家已寄出\"\n",
        "\n",
        "print(package_status_dict[\"TW92212568\"]) # 印出結果應該要為 \"到達物流中心\"\n",
        "print(package_status_dict[\"TW92212569\"]) # 印出結果應該要為 \"到達物流中心\"\n",
        "print(package_status_dict[\"TW92212572\"]) # 印出結果應該要為 \"賣家已寄出\""
      ],
      "metadata": {
        "colab": {
          "base_uri": "https://localhost:8080/"
        },
        "id": "aPNstVAJQjn0",
        "outputId": "1a96b409-ca54-4ba5-8a11-6133eb9cabe5"
      },
      "execution_count": null,
      "outputs": [
        {
          "output_type": "stream",
          "name": "stdout",
          "text": [
            "到達物流中心\n",
            "到達物流中心\n",
            "賣家已寄出\n"
          ]
        }
      ]
    },
    {
      "cell_type": "markdown",
      "source": [
        "# 字典的迭代\n"
      ],
      "metadata": {
        "id": "xEmS73GMS6Y-"
      }
    },
    {
      "cell_type": "markdown",
      "source": [
        "## [練習] 物流系統清點\n",
        "如果我是一家物流公司，我想知道現在還有多少物流項目，以及對應的狀態：\n",
        "```\n",
        "物流編號 TW92212567 狀態是 賣家已寄出\n",
        "物流編號 TW92212568 狀態是 賣家已寄出\n",
        "物流編號 TW92212569 狀態是 到達物流中心\n",
        "物流編號 TW92212570 狀態是 商品配送中\n",
        "物流編號 TW92212571 狀態是 已送達\n",
        "```\n",
        "\n",
        "> #### Hint:\n",
        "> 不確定迭代對象(在這裡是字典 `package_status_dict`) 內容的話，  \n",
        "> 可以用[迴圈](https://colab.research.google.com/github/Python-Tutorial-Workshop/2025/blob/master/04_loop.ipynb)把資料裡面的元素先一個個取出來(字典裡面的每一個元素都是 key)，暫時給一個標籤名稱，然後將其印出(參考前面的講義範例)。  \n",
        "> 確認內容之後可以再改成一個更容易理解的標籤名稱，然後用其去跟字典拿我們想要的資料。  \n",
        "> (標籤名稱是給 key 的, 就算 key 指向字串，標籤名稱前後也是不用加雙引號的)"
      ],
      "metadata": {
        "id": "VjdWQci2JOo_"
      }
    },
    {
      "cell_type": "code",
      "source": [
        "### Ans. ================================\n",
        "package_status_dict = {\n",
        "    \"TW92212567\": \"賣家已寄出\",\n",
        "    \"TW92212568\": \"賣家已寄出\",\n",
        "    \"TW92212569\": \"到達物流中心\",\n",
        "    \"TW92212570\": \"商品配送中\",\n",
        "    \"TW92212571\": \"已送達\"\n",
        "}\n",
        "\n",
        "for package_num in package_status_dict:\n",
        "    package_status = package_status_dict[package_num]\n",
        "    print(f\"物流編號 {package_num} 狀態是 {package_status}\")"
      ],
      "metadata": {
        "colab": {
          "base_uri": "https://localhost:8080/"
        },
        "id": "aYjgCO-GKFhh",
        "outputId": "fad934b7-718e-42c0-81ff-0103819885f0"
      },
      "execution_count": null,
      "outputs": [
        {
          "output_type": "stream",
          "name": "stdout",
          "text": [
            "物流編號 TW92212567 狀態是 賣家已寄出\n",
            "物流編號 TW92212568 狀態是 賣家已寄出\n",
            "物流編號 TW92212569 狀態是 到達物流中心\n",
            "物流編號 TW92212570 狀態是 商品配送中\n",
            "物流編號 TW92212571 狀態是 已送達\n"
          ]
        }
      ]
    },
    {
      "cell_type": "markdown",
      "source": [
        "### [練習] 物流系統清點: 列出需派送項目\n",
        "如果我想知道這些物流項目中，哪些需要派車處理，  \n",
        "e.g. 「已送達」的是不需要派車的，也就是物流狀態 **不是「已送達」**的都需要列出：\n",
        "\n",
        "```\n",
        "物流編號 TW92212567 需要派車\n",
        "物流編號 TW92212568 需要派車\n",
        "物流編號 TW92212569 需要派車\n",
        "物流編號 TW92212570 需要派車\n",
        "```\n",
        "\n",
        "\n",
        "> #### Hint:\n",
        "> - 因為商品的狀態是在字典中，要迭代才能拿到商品狀態，所以判斷式要放在迴圈中\n",
        "> - 字串是否相等：[比較運算](https://colab.research.google.com/github/Python-Tutorial-Workshop/2025/blob/master/01_basicObject_IO.ipynb#scrollTo=o9eiGRn5QC70)\n",
        "> - [判斷式語法](https://colab.research.google.com/github/Python-Tutorial-Workshop/2025/blob/master/02_conditional.ipynb#scrollTo=WnXlBWzxBjJC)"
      ],
      "metadata": {
        "id": "HyUeRSPAU3Jt"
      }
    },
    {
      "cell_type": "code",
      "source": [
        "### Ans. ================================\n",
        "package_status_dict = {\n",
        "    \"TW92212567\": \"賣家已寄出\",\n",
        "    \"TW92212568\": \"賣家已寄出\",\n",
        "    \"TW92212569\": \"到達物流中心\",\n",
        "    \"TW92212570\": \"商品配送中\",\n",
        "    \"TW92212571\": \"已送達\"\n",
        "}\n",
        "\n",
        "for package_num in package_status_dict:\n",
        "    package_status = package_status_dict[package_num]\n",
        "    if package_status!=\"已送達\":\n",
        "        print(f\"物流編號 {package_num} 需要派車\")"
      ],
      "metadata": {
        "colab": {
          "base_uri": "https://localhost:8080/"
        },
        "id": "A2p2wFAUF3BS",
        "outputId": "58dd6cfe-b7e0-4933-f957-de5710420fba"
      },
      "execution_count": null,
      "outputs": [
        {
          "output_type": "stream",
          "name": "stdout",
          "text": [
            "物流編號 TW92212567 需要派車\n",
            "物流編號 TW92212568 需要派車\n",
            "物流編號 TW92212569 需要派車\n",
            "物流編號 TW92212570 需要派車\n"
          ]
        }
      ]
    },
    {
      "cell_type": "markdown",
      "source": [
        "### [進階練習] 物流系統清點-減少需派送項目\n",
        "延續前面的題目，如果我想加上「商品配送中」物流狀態，也需要排除在派車的範圍中，要怎麼修改程式呢？\n",
        "\n",
        "```\n",
        "物流編號 TW92212567 需要派車\n",
        "物流編號 TW92212568 需要派車\n",
        "物流編號 TW92212569 需要派車\n",
        "```\n",
        "\n",
        "> #### Hint:\n",
        "> 有兩種做法\n",
        "> - 用[邏輯運算](https://colab.research.google.com/github/Python-Tutorial-Workshop/2025/blob/master/01_basicObject_IO.ipynb#scrollTo=-VDQGsOsQRvq)的「而且」：如果狀態不是「已送達」**「而且」**也不是「商品配送中」\n",
        "> - 有多個狀態是我們希望排除的，可以用串列儲存這些字串(在這裡就是兩個字串「已送達」、「商品配送中」)，  \n",
        "然後判斷[字串是否存在於某些關鍵字清單中](https://colab.research.google.com/github/Python-Tutorial-Workshop/2025/blob/master/03_list.ipynb#scrollTo=_p1XqK0Crbw3)，不存在的話才會印出需要派車\n"
      ],
      "metadata": {
        "id": "EnSBR999Funv"
      }
    },
    {
      "cell_type": "code",
      "source": [
        "### Ans. 1 ================================\n",
        "package_status_dict = {\n",
        "    \"TW92212567\": \"賣家已寄出\",\n",
        "    \"TW92212568\": \"賣家已寄出\",\n",
        "    \"TW92212569\": \"到達物流中心\",\n",
        "    \"TW92212570\": \"商品配送中\",\n",
        "    \"TW92212571\": \"已送達\"\n",
        "}\n",
        "\n",
        "for package_num in package_status_dict:\n",
        "    package_status = package_status_dict[package_num]\n",
        "    if package_status!=\"已送達\" and package_status!=\"商品配送中\":\n",
        "        print(f\"物流編號 {package_num} 需要派車\")"
      ],
      "metadata": {
        "colab": {
          "base_uri": "https://localhost:8080/"
        },
        "id": "BSjwg0P2zskx",
        "outputId": "d0175fb8-aa8a-4053-ad03-f73d94e72891"
      },
      "execution_count": null,
      "outputs": [
        {
          "output_type": "stream",
          "name": "stdout",
          "text": [
            "物流編號 TW92212567 需要派車\n",
            "物流編號 TW92212568 需要派車\n",
            "物流編號 TW92212569 需要派車\n"
          ]
        }
      ]
    },
    {
      "cell_type": "code",
      "source": [
        "### Ans. 2 ================================\n",
        "package_status_dict = {\n",
        "    \"TW92212567\": \"賣家已寄出\",\n",
        "    \"TW92212568\": \"賣家已寄出\",\n",
        "    \"TW92212569\": \"到達物流中心\",\n",
        "    \"TW92212570\": \"商品配送中\",\n",
        "    \"TW92212571\": \"已送達\"\n",
        "}\n",
        "\n",
        "ignore_list = [\"已送達\", \"商品配送中\"]\n",
        "for package_num in package_status_dict:\n",
        "    package_status = package_status_dict[package_num]\n",
        "    if package_status not in ignore_list:\n",
        "        print(f\"物流編號 {package_num} 需要派車\")"
      ],
      "metadata": {
        "colab": {
          "base_uri": "https://localhost:8080/"
        },
        "id": "K4Ow0IaE0oF6",
        "outputId": "fde889f0-e562-4b3e-9952-e35a82c891b7"
      },
      "execution_count": null,
      "outputs": [
        {
          "output_type": "stream",
          "name": "stdout",
          "text": [
            "物流編號 TW92212567 需要派車\n",
            "物流編號 TW92212568 需要派車\n",
            "物流編號 TW92212569 需要派車\n"
          ]
        }
      ]
    },
    {
      "cell_type": "markdown",
      "source": [
        "## [補充練習] 迭代計算庫存\n",
        "水果庫存、價格都以字典型別儲存，  \n",
        "請計算若水果都賣出後，可賺進多少錢？(答案是 `235`)  \n",
        "\n",
        "> #### Hint:\n",
        "> - 庫存跟價格都有相同的 key，  \n",
        "所以用其中一個字典的 key 也可以去存取另一個字典\n"
      ],
      "metadata": {
        "id": "Zd7xgB1oUdLY"
      }
    },
    {
      "cell_type": "code",
      "source": [
        "### Ans. ================================\n",
        "stock={\n",
        "    \"banana\":5,\n",
        "    \"apple\":3,\n",
        "    \"orange\":10\n",
        "}\n",
        "price={\n",
        "    \"banana\":5,\n",
        "    \"apple\":20,\n",
        "    \"orange\":15\n",
        "}\n",
        "\n",
        "revenue = 0\n",
        "for fruit in stock:\n",
        "    revenue += stock[fruit] * price[fruit]\n",
        "print(revenue)"
      ],
      "metadata": {
        "id": "Cdmdqf8RVAE8"
      },
      "execution_count": null,
      "outputs": []
    },
    {
      "cell_type": "markdown",
      "source": [
        "### [補充練習] 迭代計算另一庫存系統\n",
        "原先的系統如果庫存跟價格的 key 對不上(e.g. 有進貨西瓜，但忘了標價)，  \n",
        "用既有的程式計算所有水果賣出的就會出錯。\n",
        "\n",
        "除了可以在既有程式加上 key 是否有存在才做計算加總；  \n",
        "也可以更改儲存方式，讓我們比較不容易忘記加該有的資料\n",
        "\n",
        "> #### Hint:\n",
        "> 先把資料直接丟入迴圈迭代，看會印出什麼元素～。  \n",
        "確定拿到的元素是對的，再進行處理！  \n",
        "(試試印出香蕉的庫存)\n"
      ],
      "metadata": {
        "id": "asg6TMjnVKP3"
      }
    },
    {
      "cell_type": "code",
      "source": [
        "### Ans. ================================\n",
        "product = {\n",
        "    \"banana\":{\n",
        "        \"stock\":5,\n",
        "        \"price\":5\n",
        "    },\n",
        "    \"apple\":{\n",
        "        \"stock\":3,\n",
        "        \"price\":20\n",
        "    },\n",
        "    \"orange\":{\n",
        "        \"stock\":10,\n",
        "        \"price\":15\n",
        "    },\n",
        "}\n",
        "revenue = 0\n",
        "for fruit in product:\n",
        "    revenue+=product[fruit][\"stock\"]*product[fruit][\"price\"]\n",
        "print(revenue)"
      ],
      "metadata": {
        "id": "bU9tNGO4WGOJ"
      },
      "execution_count": null,
      "outputs": []
    },
    {
      "cell_type": "markdown",
      "source": [
        "# 綜合應用"
      ],
      "metadata": {
        "id": "erSVRsRAWeS3"
      }
    },
    {
      "cell_type": "markdown",
      "source": [
        "## 應用情境：瀏覽足跡"
      ],
      "metadata": {
        "id": "LwZxLd8t3zqS"
      }
    },
    {
      "cell_type": "markdown",
      "source": [
        "### [練習] 瀏覽足跡-點擊次數\n",
        "有了字典幫我們當計數器，接下來我們需要把所有的瀏覽足跡，計數到 `product_click` 字典中。\n",
        "\n",
        "以下有一串列，表示使用者在某段時間內點擊進入了哪些商品頁，  \n",
        "串列的每一個元素也是一個串列，分別代表瀏覽時間、使用者(用戶或會員)、瀏覽商品，    \n",
        "請幫我寫程式實作商品被瀏覽總數的計算：\n",
        "\n",
        "```\n",
        "商品 productA 的點擊次數為 1\n",
        "商品 productB 的點擊次數為 3\n",
        "商品 productC 的點擊次數為 2\n",
        "```\n",
        "\n",
        "\n",
        "\n",
        "\n",
        "\n",
        "> #### Hint:\n",
        "> 我們要計算的是商品的點擊次數\n",
        "也就是我們的程式瀏覽足跡迭代會做到\n",
        "``` python\n",
        "product_click[\"productA\"] +=1\n",
        "product_click[\"productB\"] +=1\n",
        "product_click[\"productB\"] +=1\n",
        "product_click[\"productB\"] +=1\n",
        "product_click[\"productC\"] +=1\n",
        "product_click[\"productC\"] +=1\n",
        "```\n",
        "> - 有商品點擊的資料應該是 `logs`，所以要把每一個元素拿出來的對象是 `logs`\n",
        "> - 把串列 `logs`的一個個元素拿出來，而 `logs` 的每一個元素又是一個串列。  \n",
        "> - 而商品位在這個串列的末端，可以用[串列取值](https://colab.research.google.com/github/Python-Tutorial-Workshop/2025/blob/master/03_list.ipynb#scrollTo=T9CeCnO6P9bY)的語法拿到。(或是用剛才講的[簡短寫法](https://colab.research.google.com/github/Python-Tutorial-Workshop/2025/blob/master/05_dictionary.ipynb#scrollTo=h25DyvThV9pf)拿到)\n",
        "> - 如果還是不確定怎麼用迴圈拿每一個元素都是串列的值，可以參考[之前的講義的範例](https://colab.research.google.com/github/Python-Tutorial-Workshop/2025/blob/master/04_loop.ipynb#scrollTo=Mwqd7ifC2sY3)，一步步處理\n",
        "> - 有了這個商品名稱，就可以此當 key，去計數器字典 `product_click` 更改他的 value：把原來的值+1"
      ],
      "metadata": {
        "id": "fauU89fPWf_J"
      }
    },
    {
      "cell_type": "code",
      "source": [
        "### Ans. 1 ================================\n",
        "logs = [\n",
        "    [\"19:00:05\", \"userA\", \"productA\"],\n",
        "    [\"19:00:17\", \"memberA\", \"productB\"],\n",
        "    [\"19:01:43\", \"userA\", \"productB\"],\n",
        "    [\"19:02:21\", \"userA\", \"productB\"],\n",
        "    [\"19:03:54\", \"userB\", \"productC\"],\n",
        "    [\"19:05:39\", \"userC\", \"productC\"],\n",
        "]\n",
        "\n",
        "product_click = {\n",
        "    \"productA\": 0,\n",
        "    \"productB\": 0,\n",
        "    \"productC\": 0\n",
        "}\n",
        "\n",
        "for log_eles in logs:\n",
        "    product = log_eles[-1]\n",
        "    product_click[product] +=1\n",
        "\n",
        "for product in product_click:\n",
        "    print(f\"商品 {product} 的點擊次數為 {product_click[product]}\")"
      ],
      "metadata": {
        "colab": {
          "base_uri": "https://localhost:8080/"
        },
        "id": "vVsfNAZEdmkH",
        "outputId": "c4a8d487-4f0f-4578-f139-25bc9ebdf6d1"
      },
      "execution_count": null,
      "outputs": [
        {
          "output_type": "stream",
          "name": "stdout",
          "text": [
            "商品 productA 的點擊次數為 1\n",
            "商品 productB 的點擊次數為 3\n",
            "商品 productC 的點擊次數為 2\n"
          ]
        }
      ]
    },
    {
      "cell_type": "code",
      "source": [
        "### Ans. 2 ================================\n",
        "logs = [\n",
        "    [\"19:00:05\", \"userA\", \"productA\"],\n",
        "    [\"19:00:17\", \"memberA\", \"productB\"],\n",
        "    [\"19:01:43\", \"userA\", \"productB\"],\n",
        "    [\"19:02:21\", \"userA\", \"productB\"],\n",
        "    [\"19:03:54\", \"userB\", \"productC\"],\n",
        "    [\"19:05:39\", \"userC\", \"productC\"],\n",
        "]\n",
        "\n",
        "product_click = {\n",
        "    \"productA\": 0,\n",
        "    \"productB\": 0,\n",
        "    \"productC\": 0\n",
        "}\n",
        "\n",
        "for time, user, product in logs:\n",
        "    product_click[product] +=1\n",
        "\n",
        "for product in product_click:\n",
        "    print(f\"商品 {product} 的點擊次數為 {product_click[product]}\")"
      ],
      "metadata": {
        "id": "1qXtcmcPPvzv"
      },
      "execution_count": null,
      "outputs": []
    },
    {
      "cell_type": "markdown",
      "source": [
        "#### [進階練習] 設定初始值\n",
        "在前面的練習我們先開了上帝視角，知道有哪些商品在瀏覽足跡中，先把他設定在計數器的字典中。  \n",
        "但實務上這並不太可能，這時會利用到判斷式：  \n",
        "如果這個商品不在我的計數器字典中，我就把這個商品當成 key 加到字典中，預設值是 0 (`value = 0`)"
      ],
      "metadata": {
        "id": "AzRm3VMdi3aa"
      }
    },
    {
      "cell_type": "code",
      "source": [
        "### Ans. ================================\n",
        "logs = [\n",
        "    [\"19:00:05\", \"userA\", \"productA\"],\n",
        "    [\"19:00:17\", \"memberA\", \"productB\"],\n",
        "    [\"19:01:43\", \"userA\", \"productB\"],\n",
        "    [\"19:02:21\", \"userA\", \"productB\"],\n",
        "    [\"19:03:54\", \"userB\", \"productC\"],\n",
        "    [\"19:05:39\", \"userC\", \"productC\"],\n",
        "]\n",
        "product_click = {}                     ### 實務上我們不會知道有哪些商品\n",
        "\n",
        "for time, user, product in logs:\n",
        "    if product not in product_click:   ### 比前面練習題增加的判斷式部分\n",
        "        product_click[product] = 0     ### 比前面練習題增加的判斷式部分\n",
        "    product_click[product] +=1\n",
        "\n",
        "for product in product_click:\n",
        "    print(f\"商品 {product} 的點擊次數為 {product_click[product]}\")"
      ],
      "metadata": {
        "colab": {
          "base_uri": "https://localhost:8080/"
        },
        "id": "OTCs0GHIkHAR",
        "outputId": "daa5fff6-d1c3-41a2-c640-1c0c0b6227fd"
      },
      "execution_count": null,
      "outputs": [
        {
          "output_type": "stream",
          "name": "stdout",
          "text": [
            "商品 productA 的點擊次數為 1\n",
            "商品 productB 的點擊次數為 3\n",
            "商品 productC 的點擊次數為 2\n"
          ]
        }
      ]
    },
    {
      "cell_type": "markdown",
      "source": [
        "### [進階練習] 推薦系統\n",
        "一個服務如果有好的推薦系統，透過推薦我們商品/影片，  \n",
        "可以讓我們在他們的服務中消費或是更黏著於他們的服務上(訂閱制收費)。  \n",
        "\n",
        "通常推薦可以分為兩種：\n",
        "- 看了這個商品的使用者還看了哪些商品\n",
        "- 哪些商品/影片與使用者瀏覽的商品相似(e.g. 同樣都是筆電、都是懸疑片)\n",
        "\n",
        "我們的瀏覽足跡，也可以組出「看了這個商品的使用者還看了哪些商品」的資料，  \n",
        "樣貌會像這樣：\n",
        "\n",
        "會先有一個記錄商品有哪些使用者瀏覽、瀏覽幾次的字典，  \n",
        "這樣我們可以知道有哪些使用者跟我在瀏覽同樣一個商品：\n",
        "```python\n",
        "{\n",
        "    \"productA\":{\n",
        "        \"userA\":1\n",
        "    },\n",
        "    \"productB\":{\n",
        "        \"userA\":2,\n",
        "        \"memberA\":1\n",
        "    },\n",
        "    \"productC\":{\n",
        "        \"userB\":1,\n",
        "        \"userC\":1\n",
        "    },\n",
        "}\n",
        "```\n",
        "\n",
        "然後需要另一個以使用者為基底的字典，知道每位使用者瀏覽過哪些商品、瀏覽幾次：\n",
        "```python\n",
        "{\n",
        "    \"userA\":{\n",
        "        \"productA\":1,\n",
        "        \"productB\":2,\n",
        "    },\n",
        "    \"memberA\":{\n",
        "        \"productB\":1,\n",
        "    },\n",
        "    \"userB\":{\n",
        "        \"productC\":1,\n",
        "    },\n",
        "    \"userC\":{\n",
        "        \"productC\":1,\n",
        "    },\n",
        "}\n",
        "```\n",
        "\n",
        "這樣當你瀏覽一個商品，  \n",
        "我們就可以利用第一個字典撈出這個商品有哪些使用者瀏覽，  \n",
        "再去第二個字典查這個使用者還瀏覽了哪些商品。  \n",
        "(e.g. 當我瀏覽了 productB，我就去找 userA 和 member A 還看了除了product B 的哪些商品)\n",
        "\n",
        "我們可以練習將瀏覽足跡，轉換成以上兩個字典：\n",
        "\n",
        "> #### Hint:\n",
        "> - 這裡的資料結構是雙層字典\n",
        "> - 第一層 key 對應的 value 初始值是字典\n",
        "> - 第二層 key 對應的 value 初始值才是計次的 0"
      ],
      "metadata": {
        "id": "BYqAeZNee0Zg"
      }
    },
    {
      "cell_type": "code",
      "source": [
        "### Ans. ================================\n",
        "logs = [\n",
        "    [\"19:00:05\", \"userA\", \"productA\"],\n",
        "    [\"19:00:17\", \"memberA\", \"productB\"],\n",
        "    [\"19:01:43\", \"userA\", \"productB\"],\n",
        "    [\"19:02:21\", \"userA\", \"productB\"],\n",
        "    [\"19:03:54\", \"userB\", \"productC\"],\n",
        "    [\"19:05:39\", \"userC\", \"productC\"],\n",
        "]\n",
        "product_user_click = {}\n",
        "user_product_click = {}\n",
        "\n",
        "for time, user, product in logs:\n",
        "    ### 處理第一個字典：商品有哪些使用者瀏覽\n",
        "    if product not in product_user_click:\n",
        "       product_user_click[product] = {}\n",
        "    if user not in product_user_click[product]:\n",
        "        product_user_click[product][user] = 0\n",
        "    product_user_click[product][user] +=1\n",
        "\n",
        "    ### 處理第二個字典：每位使用者瀏覽過哪些商品\n",
        "    if user not in user_product_click:\n",
        "       user_product_click[user] = {}\n",
        "    if product not in user_product_click[user]:\n",
        "        user_product_click[user][product] = 0\n",
        "    user_product_click[user][product] +=1\n",
        "\n",
        "### 看了 productB 的人還看了哪些其他商品\n",
        "target = \"productB\"\n",
        "for user in product_user_click[target]:\n",
        "    for product in user_product_click[user]:\n",
        "        if product != target:\n",
        "            print(f\"{product} ({user}瀏覽過)\")"
      ],
      "metadata": {
        "colab": {
          "base_uri": "https://localhost:8080/"
        },
        "id": "APLvWtLKihwy",
        "outputId": "a7ac8230-9ed9-4ef5-89e6-2c973a8939f5"
      },
      "execution_count": null,
      "outputs": [
        {
          "output_type": "stream",
          "name": "stdout",
          "text": [
            "productA (userA瀏覽過)\n"
          ]
        }
      ]
    },
    {
      "cell_type": "markdown",
      "source": [
        "## [補充練習] 遊戲計分\n",
        "我們有一串列是玩家的遊戲計分：  \n",
        "第一回合：A 得 10 分、第二回合 B 得 5 分...，最後加總算每個人的分數是：\n",
        "- A 的得分 19\n",
        "- B 的得分 12\n",
        "- C 的得分 25\n",
        "\n",
        "> #### Hint:\n",
        "> - 這裡可以用字典當成計分器，玩家應該會是 key，總得分是 value\n",
        "> - 前面實作 `sum(全數字序列)` 的算法，在計算之前前需要把得分歸零，也就是 value 初始值為0\n",
        "> - 玩家的計分是在 `scores`，所以要迭代的對象應該是 `scores`\n",
        "> - 把串列 `scores`的一個個元素拿出來，而 `scores` 的每一個元素又是一個串列。  \n",
        "而玩家是串列的第一個元素，每回合得分是第二個。\n",
        "> - 有了玩家名稱，就可以此當 key，去計分字典 `user_score` 把原來的分數 value 加上這一局的得分"
      ],
      "metadata": {
        "id": "6ENWTs8sWf-p"
      }
    },
    {
      "cell_type": "code",
      "source": [
        "### Ans. ================================\n",
        "scores = [[\"A\",10],[\"B\",5],[\"C\",23],[\"B\",7],[\"A\",6],[\"A\",3],[\"C\",2]]\n",
        "user_score = {\n",
        "    \"A\":0,\n",
        "    \"B\":0,\n",
        "    \"C\":0\n",
        "}\n",
        "for user, round_score in scores:\n",
        "    user_score[user] += round_score\n",
        "\n",
        "for user in user_score:\n",
        "    print(f\"{user} 的得分 {user_score[user]}\")"
      ],
      "metadata": {
        "colab": {
          "base_uri": "https://localhost:8080/"
        },
        "id": "VCXMy49VY0NU",
        "outputId": "e0d76678-5378-4b43-8484-a199d9faf68c"
      },
      "execution_count": null,
      "outputs": [
        {
          "output_type": "stream",
          "name": "stdout",
          "text": [
            "A 的得分 19\n",
            "B 的得分 12\n",
            "C 的得分 25\n"
          ]
        }
      ]
    },
    {
      "cell_type": "markdown",
      "source": [
        "## [補充練習] 會員儲值\n",
        "有一個記錄會員的目前儲值金額的字典，  \n",
        "而會員的儲值需求會透過串列傳入：  \n",
        "串列的每一個元素都串列，第一個值代表會員名稱，第二個值代表要儲值的金額。\n",
        "\n",
        "這個練習題希望你用迭代的方去處理資料讓：\n",
        "- 會員 A 儲值 15 元，也就是儲值後 會員 A 總共有 35 元\n",
        "- 會員 B 儲值 5 元，也就是儲值後 會員 B 總共有 30 元\n",
        "\n",
        "> #### Hint:\n",
        "> - 要拿到會員要儲值的金額應該是對串列做迭代\n",
        "> - 可以先想一下，如果不用迭代，你會怎麼用怎樣的語法操作字典，   \n",
        "> 讓會員 A 儲值 15 元，也就是儲值後 會員 A 總共有 35 元\n",
        "\n"
      ],
      "metadata": {
        "id": "amHtZJLunM4w"
      }
    },
    {
      "cell_type": "code",
      "source": [
        "### Ans. ================================\n",
        "member_money = {\n",
        "    \"A\": 20,\n",
        "    \"B\": 25,\n",
        "    \"C\": 10,\n",
        "}\n",
        "add_moeny = [[\"A\",15],[\"B\",5]]\n",
        "for name,money in add_moeny:\n",
        "    member_money[name]+=money\n",
        "print(member_money)"
      ],
      "metadata": {
        "colab": {
          "base_uri": "https://localhost:8080/"
        },
        "id": "XTJwGJuZpBWc",
        "outputId": "5f26bdb0-3541-4f20-f3e0-7e4b4c9b1cf9"
      },
      "execution_count": null,
      "outputs": [
        {
          "output_type": "stream",
          "name": "stdout",
          "text": [
            "{'A': 35, 'B': 30, 'C': 10}\n"
          ]
        }
      ]
    },
    {
      "cell_type": "markdown",
      "source": [
        "© 2025 MarsW (Mars Weng). Published under CC BY-NC-ND 4.0.  \n",
        "Full license and additional terms: https://github.com/Python-Tutorial-Workshop/2025/blob/master/LICENSE"
      ],
      "metadata": {
        "id": "qe4K4oNdzng9"
      }
    }
  ]
}
{
  "nbformat": 4,
  "nbformat_minor": 0,
  "metadata": {
    "colab": {
      "provenance": [],
      "toc_visible": true
    },
    "kernelspec": {
      "name": "python3",
      "display_name": "Python 3"
    }
  },
  "cells": [
    {
      "cell_type": "markdown",
      "source": [
        "# 日期時間處理"
      ],
      "metadata": {
        "id": "znHFOoBILaRT"
      }
    },
    {
      "cell_type": "code",
      "source": [
        "!pip install pendulum"
      ],
      "metadata": {
        "id": "4qdl0bAmvLv7"
      },
      "execution_count": null,
      "outputs": []
    },
    {
      "cell_type": "markdown",
      "source": [
        "### [練習] 日期正規化 (年-月-日 時:分:秒) 24小時制\n",
        "前面有提到日期正規化可以幫助我們在處理資料能有一致的格式。  \n",
        "[之前](https://colab.research.google.com/github/Python-Tutorial-Workshop/2025/blob/master/03_list.ipynb#scrollTo=XNzKF2Ml3exq)我們只能用 `split`, `replace`, 字串格式化的方式，拼拼湊湊去得到正規化後的日期字串。  \n",
        "現在可以透過 [`datetime`](https://docs.python.org/zh-tw/3/library/datetime.html) 或 [`pendulum`](https://pendulum.eustace.io/docs/) 幫助我們更容易處理日期正規化\n",
        "\n",
        "延續前面的範例，改用這些工具能讓我們能更方便將以下字串正規化成想要的樣貌\n",
        "\n",
        "```\n",
        "Tue Oct 18 23:22:05 2016\n",
        "```\n",
        "\n",
        "能正規化成\n",
        "```\n",
        "2016-10-18 23:22:05\n",
        "```\n",
        "> #### Hint:\n",
        "> - 可以請 [ChatGPT](https://chatgpt.com/) 提示你該看文件的哪個部分。  \n",
        "會建議一個個問題拆開來做，有時候直接丟整個問題 ChatGPT 不會回答得很完整：\n",
        "```\n",
        "我想用 python 的 datetime\n",
        "將 Tue Oct 18 23:22:05 2016 轉成 2016-10-18 23:22:05\n",
        "請不要告訴我答案，告訴我該找文件怎樣的內容\n",
        "```\n",
        "```\n",
        "我想用 python 的 pendulum\n",
        "將 Tue Oct 18 23:22:05 2016 轉成 2016-10-18 23:22:05\n",
        "請不要告訴我答案，告訴我該找文件怎樣的內容\n",
        "```\n",
        "> - ChatGPT 很有可能會給出錯誤的答案，  \n",
        "你可以按照之前我們的[講義](https://colab.research.google.com/github/Python-Tutorial-Workshop/2025/blob/master/99_chatgpt.ipynb#scrollTo=g_jh8WiiBeq2)，把你寫的程式碼以及錯誤的訊息貼給 ChatGPT，  \n",
        "請 ChatGPT 修正他的回答。\n",
        "> - 接下來你可以查文件\n",
        ">   - 使用 `datetime` 的話，除了剛才 ChatGPT 提示你的關鍵字，你也會需要知道 `%Y` 代表的意思\n",
        ">   - 使用 `pendulum` 的話，除了剛才 ChatGPT 提示你的關鍵字，你也會需要知道 `YYYY` 代表的意思\n",
        "> - 如果你查文件寫程式卡關的話，  \n",
        "  也可以把程式碼(你寫完的部分與講義中提示填空部分)貼給 ChatGPT，  \n",
        "  請他協助你完成你想要的結果。\n",
        "\n",
        "> - 或是直接請 ChatGPT 直接幫你產生程式碼：\n",
        "```\n",
        "請幫我產生 python 使用 datetime 的程式碼\n",
        "讓我可以把 Tue Oct 18 23:22:05 2016 轉成 2016-10-18 23:22:05\n",
        "```\n",
        "```\n",
        "請幫我產生 python 使用 pendulum 的程式碼\n",
        "讓我可以把 Tue Oct 18 23:22:05 2016 轉成 2016-10-18 23:22:05\n",
        "```\n",
        "\n"
      ],
      "metadata": {
        "id": "08KPro2hvO-A"
      }
    },
    {
      "cell_type": "code",
      "source": [
        "### Ans. datetime ================================\n",
        "from datetime import date, datetime, timedelta\n",
        "ptt_datetime = \"Tue Oct 18 23:22:05 2016\"\n",
        "formatted_ptt_datetime = datetime.strptime(ptt_datetime,\"%a %b %d %H:%M:%S %Y\")\n",
        "print(formatted_ptt_datetime.strftime(\"%Y-%m-%d %H:%M:%S\"))"
      ],
      "metadata": {
        "id": "5LDOnzxE3jZ_"
      },
      "execution_count": null,
      "outputs": []
    },
    {
      "cell_type": "code",
      "source": [
        "### Ans. pendulum ================================\n",
        "import pendulum\n",
        "ptt_datetime = \"Tue Oct 18 23:22:05 2016\"\n",
        "formatted_ptt_datetime = pendulum.from_format(ptt_datetime,\"ddd MMM DD HH:mm:ss YYYY\")\n",
        "print(formatted_ptt_datetime.format(\"YYYY-MM-DD HH:mm:ss\"))"
      ],
      "metadata": {
        "id": "pPotsJb56r8k"
      },
      "execution_count": null,
      "outputs": []
    },
    {
      "cell_type": "markdown",
      "source": [
        "#### [進階練習] 日期正規化 (年-月-日 時:分:秒) 24小時制 - 處理 12 小時制資料\n",
        "我們也希望把以下字串\n",
        "```\n",
        "2016年10月18日 下午10:33\n",
        "```\n",
        "\n",
        "能正規化成\n",
        "```\n",
        "2016-10-18 22:33:00\n",
        "```\n",
        "\n",
        "> #### Hint:\n",
        "> - 用一個新的字串將 `yahoo_datetime_clean` 原本字串的「上午」、「下午」消除\n",
        ">   - [replace 語法傳送門](https://colab.research.google.com/github/Python-Tutorial-Workshop/2025/blob/master/01_basicObject_IO.ipynb#scrollTo=Fqh9MBdGdxkd)\n",
        "> - 將此字串 轉成 `datetime.datetime` 或是 `pendulum.datetime.DateTime` ，  \n",
        "貼上命名標籤`formatted_yahoo_datetime`\n",
        "> - 如果有「下午」的關鍵字在原字串出現，就把目前的 `formatted_yahoo_datetime` 加上 12 小時\n",
        ">   - [`if` 判斷式](https://colab.research.google.com/github/Python-Tutorial-Workshop/2025/blob/master/02_conditional.ipynb)\n",
        ">   - [判斷序列中是否存在某元素](https://colab.research.google.com/github/Python-Tutorial-Workshop/2025/blob/master/03_list.ipynb#scrollTo=_p1XqK0Crbw3)"
      ],
      "metadata": {
        "id": "LHXTMDPQIawe"
      }
    },
    {
      "cell_type": "code",
      "source": [
        "### Ans. datetime ================================\n",
        "from datetime import date, datetime, timedelta\n",
        "yahoo_datetime = \"2016年10月18日 下午10:33\"\n",
        "\n",
        "yahoo_datetime_clean = yahoo_datetime.replace(\"上午\",\"\").replace(\"下午\", \"\") # \"2016年10月18日 10:33\"\n",
        "formatted_yahoo_datetime = datetime.strptime(yahoo_datetime_clean,\"%Y年%m月%d日 %H:%M\")\n",
        "\n",
        "if \"下午\" in yahoo_datetime:\n",
        "    formatted_yahoo_datetime = formatted_yahoo_datetime+timedelta(hours=12) # 加 12 小時\n",
        "\n",
        "print(formatted_yahoo_datetime.strftime(\"%Y-%m-%d %H:%M:%S\"))"
      ],
      "metadata": {
        "id": "qwPx_iz3IaJK"
      },
      "execution_count": null,
      "outputs": []
    },
    {
      "cell_type": "code",
      "source": [
        "### Ans. pendulum ================================\n",
        "import pendulum\n",
        "yahoo_datetime = \"2016年10月18日 下午10:33\"\n",
        "\n",
        "yahoo_datetime_clean = yahoo_datetime.replace(\"上午\",\"\").replace(\"下午\", \"\") # \"2016年10月18日 10:33\"\n",
        "formatted_yahoo_datetime = pendulum.from_format(yahoo_datetime_clean,\"YYYY年MM月DD日 HH:mm\")\n",
        "\n",
        "if \"下午\" in yahoo_datetime:\n",
        "    formatted_yahoo_datetime = formatted_yahoo_datetime.add(hours=12) # 加 12 小時\n",
        "\n",
        "print(formatted_yahoo_datetime.format(\"YYYY-MM-DD HH:mm:ss\"))"
      ],
      "metadata": {
        "id": "DfcOE1qrIi_p"
      },
      "execution_count": null,
      "outputs": []
    },
    {
      "cell_type": "markdown",
      "source": [
        "# 網頁爬蟲"
      ],
      "metadata": {
        "id": "RyTzMEpXM6D7"
      }
    },
    {
      "cell_type": "markdown",
      "source": [
        "## 抓取由 API 產生的網頁內容\n"
      ],
      "metadata": {
        "id": "egbEwpjkynS3"
      }
    },
    {
      "cell_type": "code",
      "source": [
        "# 請「不要修改」這裡的程式碼，也不要重複執行這裡的程式碼(執行一次就好)\n",
        "import requests\n",
        "import json\n",
        "url = \"https://api-pxbox.es.pxmart.com.tw/app/2.0/spu/single_search\"\n",
        "\n",
        "payload={\"keyword\":\"衛生紙\",\"page_index\":1,\"page_size\":48}\n",
        "headers = {\"Content-Type\": \"application/json\"}\n",
        "response = requests.post(url, headers=headers, data=json.dumps(payload)) # 回傳的 Response 物件，包含Header、網頁原始碼\n",
        "html = response.text                                                     #       Response 物件，網頁原始碼的部分"
      ],
      "metadata": {
        "id": "_WKlDFysOoTM"
      },
      "execution_count": null,
      "outputs": []
    },
    {
      "cell_type": "code",
      "source": [
        "# 請執行這段程式碼\n",
        "import json\n",
        "json_data = json.loads(html)\n",
        "print(json_data)"
      ],
      "metadata": {
        "id": "jSkSgupyP6xp"
      },
      "execution_count": null,
      "outputs": []
    },
    {
      "cell_type": "code",
      "source": [
        "# 請執行這段程式碼\n",
        "products = json_data[\"data\"][\"product_list\"]\n",
        "print(type(products), products)"
      ],
      "metadata": {
        "id": "e-FQiW2deO-b"
      },
      "execution_count": null,
      "outputs": []
    },
    {
      "cell_type": "markdown",
      "source": [
        "### [練習] 解析 json 格式的網頁內容\n",
        "請更改以下程式碼拿到第三個商品的\n",
        "- 商品名稱\n",
        "- 商品價格\n",
        "- 商品編號\n",
        "- 商品圖片\n",
        "  \n",
        "> #### Hint:\n",
        "> - [串列取值](https://colab.research.google.com/github/Python-Tutorial-Workshop/2025/blob/master/03_list.ipynb#scrollTo=T9CeCnO6P9bY)\n",
        "> - [字典取值](https://colab.research.google.com/github/Python-Tutorial-Workshop/2025/blob/master/05_dictionary.ipynb#scrollTo=rBB7Kd7TCJQM)"
      ],
      "metadata": {
        "id": "2V-GjizOwWaa"
      }
    },
    {
      "cell_type": "code",
      "source": [
        "product_3 = products[2]\n",
        "product_name = product_3[\"product_name\"]\n",
        "product_price = product_3[\"sale_price\"]\n",
        "product_id = product_3[\"id\"]\n",
        "product_img = product_3[\"picture\"]\n",
        "product_url = f\"https://pxbox.es.pxmart.com.tw/product/{product_id}\"\n",
        "print(product_name, product_price)\n",
        "print(product_url)\n",
        "print(product_img)"
      ],
      "metadata": {
        "id": "6ajA2-YZmqme"
      },
      "execution_count": null,
      "outputs": []
    },
    {
      "cell_type": "markdown",
      "source": [
        "#### [進階練習] 解析 json 格式的網頁內容 - 使用迴圈與判斷式找尋所需的資料\n",
        "請找出特價超過兩成的商品的\n",
        "- 商品網址\n",
        "- 省下多少錢\n",
        "\n",
        "> #### Hint:\n",
        "> - 用[迴圈 `for`](https://colab.research.google.com/github/Python-Tutorial-Workshop/2025/blob/master/04_loop.ipynb)拿出每個商品名稱、商品編號、商品價格、商品原價\n",
        "> - 用[判斷式 `if`](https://colab.research.google.com/github/Python-Tutorial-Workshop/2025/blob/master/02_conditional.ipynb) 找出 `(商品原價-商品價格)/商品原價 >=0.2 `"
      ],
      "metadata": {
        "id": "L-WGDQV_N7pJ"
      }
    },
    {
      "cell_type": "code",
      "source": [
        "for product in products:\n",
        "    product_name = product[\"product_name\"]\n",
        "    product_price = product[\"sale_price\"]\n",
        "    product_origin_price = product[\"market_price\"]\n",
        "    product_id = product[\"id\"]\n",
        "    product_url = f\"https://pxbox.es.pxmart.com.tw/product/{product_id}\"\n",
        "    discount_rate = ((product_origin_price-product_price)/product_origin_price)\n",
        "    if discount_rate>0.2:\n",
        "        print(product_url, f\"省下 ${product_origin_price-product_price}\")"
      ],
      "metadata": {
        "id": "4v379zlmQ9rd"
      },
      "execution_count": null,
      "outputs": []
    }
  ]
}
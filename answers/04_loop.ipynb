{
  "nbformat": 4,
  "nbformat_minor": 0,
  "metadata": {
    "colab": {
      "provenance": [],
      "toc_visible": true
    },
    "kernelspec": {
      "name": "python3",
      "display_name": "Python 3"
    },
    "language_info": {
      "name": "python"
    }
  },
  "cells": [
    {
      "cell_type": "markdown",
      "source": [
        "# 迴圈與迭代"
      ],
      "metadata": {
        "id": "n2n0JUhpnLzG"
      }
    },
    {
      "cell_type": "markdown",
      "source": [
        "## [練習] 印出購買清單\n",
        "通常購物清單會有一個 checkbox 讓我們可以確認是否有購買   \n",
        "<img src=\"https://cdn.pixabay.com/photo/2021/07/29/14/08/grocery-6507313_1280.jpg\" width=\"30%\"/>  \n",
        "  \n",
        "以下我們會給你一組要購買項目的串列，請把它按照這種方式印出\n",
        "\n",
        "```\n",
        "☐ 牛小排\n",
        "☐ 烤肉醬\n",
        "☐ 吐司\n",
        "☐ 生菜\n",
        "☐ 年糕\n",
        "```"
      ],
      "metadata": {
        "id": "KYapknUZ4OUz"
      }
    },
    {
      "cell_type": "code",
      "source": [
        "### Ans. ================================\n",
        "shopping_list = [\"牛小排\", \"烤肉醬\", \"吐司\", \"生菜\", \"年糕\"]\n",
        "for item in shopping_list:\n",
        "    print(f\"☐ {item}\")"
      ],
      "metadata": {
        "colab": {
          "base_uri": "https://localhost:8080/"
        },
        "id": "Yv6usRsd5daM",
        "outputId": "fb3a57b2-a926-40a6-83fe-28d26b3938c5"
      },
      "execution_count": null,
      "outputs": [
        {
          "output_type": "stream",
          "name": "stdout",
          "text": [
            "☐ 牛小排\n",
            "☐ 烤肉醬\n",
            "☐ 吐司\n",
            "☐ 生菜\n",
            "☐ 年糕\n"
          ]
        }
      ]
    },
    {
      "cell_type": "markdown",
      "source": [
        "## 應用情境-處理資料"
      ],
      "metadata": {
        "id": "dwPK48dg2jiM"
      }
    },
    {
      "cell_type": "markdown",
      "source": [
        "### [練習] 搜尋結果顯示\n",
        "我們如果使用搜尋引擎搜尋「台灣 Python 社群」，搜尋引擎會回傳好幾個可能的搜尋結果。  \n",
        "這邊有一個已經按照排名分數由高到低排序好的搜尋結果串列，  \n",
        "這個串列的每一個元素也都是一個串列：\n",
        "- 第一個元素代表排名分數\n",
        "- 第二個元素代表標題\n",
        "- 第三個元素代表網址\n",
        "\n",
        "我們平常使用的各種服務搜尋結果頁，應該都不會看到排名分數，  \n",
        "所以這裡我們也是一樣，我們只印出「標題」以及「網址」：\n",
        "```\n",
        "台灣在地社群 https://tw.pycon.org/zh-hant/about/community\n",
        "Python Taiwan https://www.facebook.com/groups/pythontw/\n",
        "社群專案台灣Python 年會PyCon Taiwan https://ocf.tw/p/pycon/\n",
        "\n",
        "```\n",
        "\n",
        "> #### Hint:\n",
        "> - 可以先印出搜尋結果串列的每一個元素(會是一個串列)\n",
        "> - 然後利用[索引取值](https://colab.research.google.com/drive/1R7wB_1SO0mY2A8GOLhPLDM1HLm1lhqON#scrollTo=T9CeCnO6P9bY)再拿出裡面的標題、網址\n",
        "\n"
      ],
      "metadata": {
        "id": "JPQ8QD5ctELP"
      }
    },
    {
      "cell_type": "code",
      "source": [
        "### Ans. ================================\n",
        "results = [\n",
        "    [100,\"台灣在地社群\", \"https://tw.pycon.org/zh-hant/about/community\"],\n",
        "    [98, \"Python Taiwan\", \"https://www.facebook.com/groups/pythontw/\"],\n",
        "    [90, \"社群專案台灣Python 年會PyCon Taiwan\", \"https://ocf.tw/p/pycon/\"]\n",
        "]\n",
        "for result in results:    # for 命名標籤 in 可迭代對象\n",
        "    # print(result)       # 先試著把搜尋結果串列的每一個元素印出來 (上面那行你給定的命名標籤)\n",
        "    title = result[1]     # 再去處理 標題、網址\n",
        "    url = result[2]\n",
        "    print(title, url)"
      ],
      "metadata": {
        "colab": {
          "base_uri": "https://localhost:8080/"
        },
        "id": "MP6SoioC3LIU",
        "outputId": "f2d869f8-4efe-4795-be1d-b134efe921c6"
      },
      "execution_count": 1,
      "outputs": [
        {
          "output_type": "stream",
          "name": "stdout",
          "text": [
            "台灣在地社群 https://tw.pycon.org/zh-hant/about/community\n",
            "Python Taiwan https://www.facebook.com/groups/pythontw/\n",
            "社群專案台灣Python 年會PyCon Taiwan https://ocf.tw/p/pycon/\n"
          ]
        }
      ]
    },
    {
      "cell_type": "markdown",
      "source": [
        "## 各種序列操作方式的運作原理"
      ],
      "metadata": {
        "id": "7xeHG3WxJNHT"
      }
    },
    {
      "cell_type": "markdown",
      "source": [
        "### [練習] 以迴圈重現 `len(序列)`\n",
        "同樣的 `len(序列)` 也是一樣，每次把元素拿出來，  \n",
        "只不過就不需要用到元素的值，只要計算拿出幾次。  \n",
        "\n",
        "> #### Hint:\n",
        "> - 拿出幾次其實就是每拿一次，就 +1\n",
        "> - 計算長度的物件，剛開始要歸零"
      ],
      "metadata": {
        "id": "xQREWVBmsqdr"
      }
    },
    {
      "cell_type": "code",
      "source": [
        "### Ans. ================================\n",
        "list_example = [\"a\",2016,5566,\"Python\",2016,2016.0]\n",
        "total_len = 0\n",
        "for ele in list_example:\n",
        "    total_len += 1\n",
        "print(total_len)"
      ],
      "metadata": {
        "colab": {
          "base_uri": "https://localhost:8080/"
        },
        "id": "J0D1vGIPzTSB",
        "outputId": "a88f7099-40bb-4048-c1e3-4a880326bde0"
      },
      "execution_count": null,
      "outputs": [
        {
          "output_type": "stream",
          "name": "stdout",
          "text": [
            "6\n"
          ]
        }
      ]
    },
    {
      "cell_type": "markdown",
      "source": [
        "上述的迴圈內的運作邏輯等同於\n",
        "```\n",
        "total_len = 0\n",
        "\n",
        "ele = \"a\"\n",
        "total_len +=1 # total_len = 1\n",
        "ele = 2016\n",
        "total_len +=1 # total_len = 2\n",
        "ele = 5566\n",
        "total_len +=1 # total_len = 3\n",
        "ele = \"Python\"\n",
        "total_len +=1 # total_len = 4\n",
        "ele = 2016\n",
        "total_len +=1 # total_len = 5\n",
        "ele = 2016.0\n",
        "total_len +=1 # total_len = 6\n",
        "```"
      ],
      "metadata": {
        "id": "38UFIAe4FXBQ"
      }
    },
    {
      "cell_type": "markdown",
      "source": [
        "### [進階練習] 以迴圈重現 `序列.count(元素)`\n",
        "把序列一個個元素拿出來，如果是跟我們的要搜尋的元素相等，就+1   \n",
        "\n",
        "> #### Hint:\n",
        "> - 把序列一個個元素拿出來 => for 迴圈\n",
        "> - 如果 => [if 判斷式](https://colab.research.google.com/drive/1KGTmNzFhvjze3hUvm4i8EBfRyZs2ZxPj?usp=sharing)\n",
        "> - 計算出現次數的物件，剛開始要歸零"
      ],
      "metadata": {
        "id": "CW9B5SrYdQgf"
      }
    },
    {
      "cell_type": "code",
      "source": [
        "### Ans. ================================\n",
        "list_example = [\"a\",2016,5566,\"Python\",2016,2016.0]\n",
        "target = 2016\n",
        "\n",
        "target_cnt = 0\n",
        "for ele in list_example:\n",
        "    if ele == target:\n",
        "        target_cnt+=1\n",
        "print(target_cnt)"
      ],
      "metadata": {
        "colab": {
          "base_uri": "https://localhost:8080/"
        },
        "id": "sfBPEoGZCDZx",
        "outputId": "d320a0a6-586e-4fd4-96d4-814bdbafe1ef"
      },
      "execution_count": null,
      "outputs": [
        {
          "output_type": "stream",
          "name": "stdout",
          "text": [
            "3\n"
          ]
        }
      ]
    },
    {
      "cell_type": "markdown",
      "source": [
        "上述的迴圈內的運作邏輯等同於\n",
        "```python\n",
        "ele = \"a\"         # \"a\" != 2016, target_cnt 沒有變化\n",
        "ele = 2016\n",
        "target_cnt+=1     # target_cnt = 1\n",
        "ele = 5566        # 5566 != 2016, target_cnt 沒有變化\n",
        "ele = \"Python\"  # \"Python\" != 2016, target_cnt 沒有變化\n",
        "ele = 2016\n",
        "target_cnt+=1     # target_cnt = 2\n",
        "ele = 2016.0\n",
        "target_cnt+=1     # target_cnt = 3\n",
        "```"
      ],
      "metadata": {
        "id": "R7B3XK4aFbgj"
      }
    },
    {
      "cell_type": "markdown",
      "source": [
        "# 串列的增刪"
      ],
      "metadata": {
        "id": "oehF7vafV4CI"
      }
    },
    {
      "cell_type": "markdown",
      "source": [
        "## 增加：把物件加入串列的末端"
      ],
      "metadata": {
        "id": "0l2lxU9dWT4u"
      }
    },
    {
      "cell_type": "markdown",
      "source": [
        "### [練習] 購物清單合併\n",
        "請用一個新的串列 `shopping_list`，合併兩個購物清單\n",
        "\n",
        "```\n",
        "☐ 牛小排\n",
        "☐ 烤肉醬\n",
        "☐ 吐司\n",
        "☐ 生菜\n",
        "☐ 年糕\n",
        "☐ 牛五花\n",
        "☐ 豬里肌厚片\n",
        "☐ 吐司\n",
        "☐ 黑輪片\n",
        "☐ 玉米\n",
        "☐ 棉花糖\n",
        "☐ 年糕\n",
        "```\n",
        "\n",
        "> #### Hint:\n",
        "> - 用一新的串列 `shopping_list` 當成合併後的清單\n",
        ">   - 串列是可變物件，如果想保留原本的購物清單，就不應該用原來的清單直接加入另一個清單的資料。\n",
        "> - 要把兩個購物清單夾到合併的購物清單中，所以是對兩個購物清單做迭代，  \n",
        " 拿出每個購物項目後，加入新的清單\n"
      ],
      "metadata": {
        "id": "TylZNL-fWpcR"
      }
    },
    {
      "cell_type": "code",
      "source": [
        "### Ans. ================================\n",
        "shopping_list_1 = [\"牛小排\", \"烤肉醬\", \"吐司\", \"生菜\", \"年糕\"]\n",
        "shopping_list_2 = [\"牛五花\", \"豬里肌厚片\", \"吐司\", \"黑輪片\", \"玉米\", \"棉花糖\", \"年糕\"]\n",
        "shopping_list = []\n",
        "\n",
        "# 拿出 shopping_list_1 裡的每個元素(購買項目)，加入 shopping_list 當中\n",
        "for item in shopping_list_1:\n",
        "    shopping_list.append(item)\n",
        "\n",
        "# 拿出 shopping_list_2 裡的每個元素(購買項目)，加入 shopping_list 當中\n",
        "for item in shopping_list_2:\n",
        "    shopping_list.append(item)\n",
        "\n",
        "for item in shopping_list:\n",
        "    print(f\"☐ {item}\")"
      ],
      "metadata": {
        "colab": {
          "base_uri": "https://localhost:8080/"
        },
        "id": "GKqT8IqENcqA",
        "outputId": "61aff45a-efed-48d9-b3be-23681433f701"
      },
      "execution_count": null,
      "outputs": [
        {
          "output_type": "stream",
          "name": "stdout",
          "text": [
            "☐ 牛小排\n",
            "☐ 烤肉醬\n",
            "☐ 吐司\n",
            "☐ 生菜\n",
            "☐ 年糕\n",
            "☐ 牛五花\n",
            "☐ 豬里肌厚片\n",
            "☐ 吐司\n",
            "☐ 黑輪片\n",
            "☐ 玉米\n",
            "☐ 棉花糖\n",
            "☐ 年糕\n"
          ]
        }
      ]
    },
    {
      "cell_type": "markdown",
      "source": [
        "#### [進階練習] 不重複的合併清單\n",
        "前面的練習題中，會發覺有些購物項目重複了，請把它們去除\n",
        "```\n",
        "☐ 牛小排\n",
        "☐ 烤肉醬\n",
        "☐ 吐司\n",
        "☐ 生菜\n",
        "☐ 年糕\n",
        "☐ 牛五花\n",
        "☐ 豬里肌厚片\n",
        "☐ 黑輪片\n",
        "☐ 玉米\n",
        "☐ 棉花糖\n",
        "```\n",
        "> #### Hint:\n",
        "> - 在對兩個購物清單做迭代，拿出每個購物項目的時候，加入判斷：  \n",
        "  如果此項目不存在於合併的購物清單 `shopping_list` 中，就可以加入到這個合併的購物清單；  \n",
        "  也就是說，如果已經存在於合併的購物清單中，就不會加入(所以不會有重複的購物項目)"
      ],
      "metadata": {
        "id": "dXRsKJjROI17"
      }
    },
    {
      "cell_type": "code",
      "source": [
        "### Ans. ================================\n",
        "shopping_list_1 = [\"牛小排\", \"烤肉醬\", \"吐司\", \"生菜\", \"年糕\"]\n",
        "shopping_list_2 = [\"牛五花\", \"豬里肌厚片\", \"吐司\", \"黑輪片\", \"玉米\", \"棉花糖\", \"年糕\"]\n",
        "shopping_list = []\n",
        "\n",
        "# 拿出 shopping_list_1 裡的每個元素(購買項目)，如果元素(購買項目)不存在 shopping_list 當中，就可以加入\n",
        "for item in shopping_list_1:\n",
        "    if item not in shopping_list:\n",
        "        shopping_list.append(item)\n",
        "\n",
        "# 拿出 shopping_list_2 裡的每個元素(購買項目)，如果元素(購買項目)不存在 shopping_list 當中，就可以加入\n",
        "for item in shopping_list_2:\n",
        "    if item not in shopping_list:\n",
        "        shopping_list.append(item)\n",
        "\n",
        "# 印出 shopping_list 裡的每個元素(購買項目)\n",
        "for item in shopping_list:\n",
        "    print(f\"☐ {item}\")"
      ],
      "metadata": {
        "colab": {
          "base_uri": "https://localhost:8080/"
        },
        "id": "AMQjxBrzQh06",
        "outputId": "a421405c-20b1-4d9c-bdac-c8f2ec80a31e"
      },
      "execution_count": null,
      "outputs": [
        {
          "output_type": "stream",
          "name": "stdout",
          "text": [
            "☐ 牛小排\n",
            "☐ 烤肉醬\n",
            "☐ 吐司\n",
            "☐ 生菜\n",
            "☐ 年糕\n",
            "☐ 牛五花\n",
            "☐ 豬里肌厚片\n",
            "☐ 黑輪片\n",
            "☐ 玉米\n",
            "☐ 棉花糖\n"
          ]
        }
      ]
    },
    {
      "cell_type": "markdown",
      "source": [
        "### [補充練習] 待刪除的檔案清單\n",
        "資料夾 `files` 有一連串檔案，想整理一個待刪除清單，\n",
        "列出 檔名有「大阪」關鍵字的檔案。\n",
        "\n",
        "> #### Hint:\n",
        "> - 跟建議的處理方式一樣，我們先建立一個新串列當成待刪除清單，預設為空\n",
        "> - 要找出檔名有「大阪」的檔案，所以我們應該是要對串列 `files` 做迭代\n",
        "> - 判斷檔案名稱中是否有「大阪」的關鍵字(是檔案名稱，不是整個清單)\n",
        ">    - 子字串是否出現在父字串中：[序列子元素的檢查 `in`](https://colab.research.google.com/drive/1R7wB_1SO0mY2A8GOLhPLDM1HLm1lhqON#scrollTo=_p1XqK0Crbw3)\n",
        "> - 如果檔名中有此關鍵字，則增加該檔案到 待刪除清單(串列)中\n",
        ">     - 串列的增加：`串列.append(元素)`"
      ],
      "metadata": {
        "id": "Y7ML3oTxpiIJ"
      }
    },
    {
      "cell_type": "code",
      "source": [
        "### Ans. ================================\n",
        "files = [\"大阪城.jpg\",\"大阪市夜景.jpg\",\"京都塔水舞.mp4\",\"京都清水寺01.jpg\"]\n",
        "del_list = [] # 建立一個待刪除清單(串列)，預設為空\n",
        "for filename in files:            # 拿出資料夾(files) 裡面的每個元素(檔案名稱)\n",
        "    if \"大阪\" in filename:         # 如果 檔案名稱(字串) 有包含 「大阪」(字串)\n",
        "        del_list.append(filename) # 就把他加入到待刪除清單中\n",
        "print(del_list)"
      ],
      "metadata": {
        "colab": {
          "base_uri": "https://localhost:8080/"
        },
        "id": "LCYe_Wmzqnzf",
        "outputId": "40b8f003-befe-4cce-a16f-42cd8597ea0b"
      },
      "execution_count": null,
      "outputs": [
        {
          "output_type": "stream",
          "name": "stdout",
          "text": [
            "['大阪城.jpg', '大阪市夜景.jpg']\n"
          ]
        }
      ]
    },
    {
      "cell_type": "markdown",
      "source": [
        "# 更多練習"
      ],
      "metadata": {
        "id": "XAce5ocY8Yo6"
      }
    },
    {
      "cell_type": "markdown",
      "source": [
        "## [進階練習] 符合密碼設定規則\n",
        "許多系統規定，密碼長度應至少8 碼以上，並且混合大小寫英文字母、數字、特殊符號。  \n",
        "請寫一個程式判定設定的密碼字串是否符合規則。\n",
        "\n",
        "### 測試內容：\n",
        "- \"YBgH1Kmvd5Ql0p9\" 不符合密碼規則\n",
        "- \"EOf'b1kpV~\" 符合密碼規則\n",
        "- \"q4u9!eutby3w\" 不符合密碼規則\n",
        "  \n",
        "\n",
        "> #### Hint:\n",
        "> - 字串是每一個元素都是一個字元的序列，所以可以用迴圈去迭代處理\n",
        "> - 每個條件都可以用一個物件儲存，並用容易讀懂的標籤命名\n",
        "> - 密碼長度：`len(序列)`\n",
        "> - 是否為大寫：`\"A\" <= 字元 and 字元 <= \"Z\"`\n",
        "> - 是否為小寫：可仿造判斷大寫的寫法\n",
        "> - 是否為數字：可用之前[布林章節](https://colab.research.google.com/drive/1l9fv5A2EThLIkUlVHA0VahgosnWKkTi7#scrollTo=H4HPcxfPQeIG)提過的 `字串.isnumeric()`\n",
        "> - 是否為特殊符號：不是數字、也不是英文\n",
        ">    - 是數字或是英文的語法為 `字串.isalnum()`\n",
        "> - 想想看這些條件是一組判斷式多個可能性(一個 `if`, 多個 `elif`)還是多組判斷式(多個 `if`)\n",
        "> - 全部條件都要符合才算是符合密碼規則\n",
        "\n",
        "\n"
      ],
      "metadata": {
        "id": "vwOWxlgJd2T5"
      }
    },
    {
      "cell_type": "code",
      "source": [
        "### Ans. ================================\n",
        "# password = \"YBgH1Kmvd5Ql0p9\" # 不符合密碼規則\n",
        "password = \"EOf'b1kpV~\"      # 符合密碼規則\n",
        "# password = \"q4u9!eutby3w\"     # 不符合密碼規則\n",
        "\n",
        "passwd_lenth = len(password)\n",
        "cnt_upper_alpha = 0\n",
        "cnt_lower_alpha = 0\n",
        "cnt_num_str = 0\n",
        "cnt_special_chr = 0\n",
        "\n",
        "for char in password:\n",
        "    if \"A\" <= char and char <= \"Z\":  # 是否為大寫\n",
        "        cnt_upper_alpha +=1\n",
        "    if \"a\" <= char and char <= \"z\":  # 是否為小寫\n",
        "        cnt_lower_alpha +=1\n",
        "    if char.isnumeric():             # 是否為數字\n",
        "        cnt_num_str +=1\n",
        "    if not char.isalnum():           # 是否為特殊符號\n",
        "        cnt_special_chr +=1\n",
        "\n",
        "if passwd_lenth >=8  and cnt_upper_alpha and cnt_lower_alpha and cnt_num_str and cnt_special_chr:\n",
        "    print(\"密碼符合規則\")\n",
        "else:\n",
        "    print(\"密碼不符合規則\")"
      ],
      "metadata": {
        "colab": {
          "base_uri": "https://localhost:8080/"
        },
        "id": "_JI8UUaXhZjR",
        "outputId": "c8f95d3f-ed29-490d-9e4d-79aaaacb7fbb"
      },
      "execution_count": null,
      "outputs": [
        {
          "output_type": "stream",
          "name": "stdout",
          "text": [
            "密碼符合規則\n"
          ]
        }
      ]
    },
    {
      "cell_type": "markdown",
      "source": [
        "## [補充練習] 計算調分後的總平均\n",
        "我想計算調分之後，班上的總平均，  \n",
        "也就是「調分後的加總/學生人數」，  \n",
        "但要保留原始的成績。\n",
        "\n",
        "> #### Hint:\n",
        "> - 學生總數不變\n",
        "> - 因為原學生成績串列必須保留，所以無法直接用 `sum(原成績序列)`   \n",
        "  \n",
        "=>\n",
        "> - 方法1: 可以用另一個物件先設定初始值，每次迭代的時候就加上調分後的成績。\n",
        "> - 方法2: 可以用另一個新串列記錄調分之後的成績，再用 `sum(新成績序列)`"
      ],
      "metadata": {
        "id": "xEpmTy1WK36m"
      }
    },
    {
      "cell_type": "code",
      "source": [
        "### Ans. 1. ================================\n",
        "scores = [32,56,58,62,79,82,98]\n",
        "total_score = 0\n",
        "for score in scores:\n",
        "    total_score += score**0.5*10\n",
        "print(\"總平均\",total_score/len(scores))"
      ],
      "metadata": {
        "colab": {
          "base_uri": "https://localhost:8080/"
        },
        "id": "kveKRHDTLkde",
        "outputId": "86214b7f-41fb-4b7d-be77-631c6f1c8d0d"
      },
      "execution_count": null,
      "outputs": [
        {
          "output_type": "stream",
          "name": "stdout",
          "text": [
            "總平均 80.67574927854379\n"
          ]
        }
      ]
    },
    {
      "cell_type": "code",
      "source": [
        "### Ans. 2. ================================\n",
        "scores = [32,56,58,62,79,82,98]\n",
        "new_scores = []\n",
        "for score in scores:\n",
        "    new_scores.append(score**0.5*10)\n",
        "print(\"總平均\",sum(new_scores)/len(new_scores))"
      ],
      "metadata": {
        "colab": {
          "base_uri": "https://localhost:8080/"
        },
        "id": "kCUb_koR7TTd",
        "outputId": "e75d0846-4017-4d96-8f2c-c711e31fe7f3"
      },
      "execution_count": null,
      "outputs": [
        {
          "output_type": "stream",
          "name": "stdout",
          "text": [
            "總平均 80.67574927854379\n"
          ]
        }
      ]
    }
  ]
}
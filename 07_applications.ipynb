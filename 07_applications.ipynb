{
  "nbformat": 4,
  "nbformat_minor": 0,
  "metadata": {
    "colab": {
      "provenance": [],
      "toc_visible": true
    },
    "kernelspec": {
      "name": "python3",
      "display_name": "Python 3"
    }
  },
  "cells": [
    {
      "cell_type": "markdown",
      "source": [
        "如同最剛開始我們提到的，Python 可以做很多事情，  \n",
        "但如果都要學會背後所有的原理再來實作，其實會有點沒效率，  \n",
        "畢竟我們學習程式，多少都是希望程式可以幫助我解決問題。  \n",
        "\n",
        "加上現在還有 ChatGPT 等 AI 可以幫助我們學習，甚至幫助我們撰寫整個程式，  \n",
        "接下來的內容我們不會花太多時間去解釋新的程式語法以及背後運作的原理。   \n",
        "主要是讓大家體驗 Python 的應用，以及試著如何執行與修改一個已經寫好的範例程式碼，來理解程式碼可以達到的效果。"
      ],
      "metadata": {
        "id": "PyIYNHZfH9ys"
      }
    },
    {
      "cell_type": "markdown",
      "metadata": {
        "id": "DptHJu8xkntq"
      },
      "source": [
        "# 檔案讀寫 - [open](https://docs.python.org/zh-tw/3/tutorial/inputoutput.html#reading-and-writing-files)"
      ]
    },
    {
      "cell_type": "code",
      "metadata": {
        "id": "0uUKiA8TkjlA"
      },
      "source": [
        "fo = open(\"test.txt\",\"w\")\n",
        "fo.write(\"Hello\")\n",
        "fo.close()"
      ],
      "execution_count": null,
      "outputs": []
    },
    {
      "cell_type": "code",
      "source": [
        "with open(\"test.txt\",\"w\") as fo:\n",
        "    fo.write(\"Hello\")"
      ],
      "metadata": {
        "id": "oocQ_CG7TcDd"
      },
      "execution_count": null,
      "outputs": []
    },
    {
      "cell_type": "code",
      "source": [
        "with open(\"test.txt\") as fi:\n",
        "    content = fi.read()\n",
        "    print(content)"
      ],
      "metadata": {
        "colab": {
          "base_uri": "https://localhost:8080/"
        },
        "id": "XejBS7kW46qV",
        "outputId": "02d8db4f-6c17-42a1-9587-19a47a872ed3"
      },
      "execution_count": null,
      "outputs": [
        {
          "output_type": "stream",
          "name": "stdout",
          "text": [
            "Hello\n"
          ]
        }
      ]
    },
    {
      "cell_type": "markdown",
      "source": [
        "還記得前面[練習題](https://colab.research.google.com/github/Python-Tutorial-Workshop/2025/blob/master/01_basicObject_IO.ipynb#scrollTo=j-SjgK_xLIyv)有印出網頁原始碼，要手動新增檔案再下載嗎？  \n",
        "利用剛才的檔案讀寫語法，就可以把印出的內容改寫到檔案中。(還是要手動下載)  "
      ],
      "metadata": {
        "id": "I5m3S7-f5BuA"
      }
    },
    {
      "cell_type": "code",
      "source": [
        "product_name1 = \"100抽12包1串\" # 商品名稱\n",
        "product_price1 = 170          # 價格\n",
        "\n",
        "product_name2 = \"100抽12包3串\" # 商品名稱\n",
        "product_price2 = 500          # 價格\n",
        "\n",
        "product_name3 = \"100抽12包6串\" # 商品名稱\n",
        "product_price3 = 990          # 價格\n",
        "\n",
        "row_products_template = f\"\"\"\n",
        "                <div class=\"col mb-5\">\n",
        "                    <div class=\"card h-100\">\n",
        "                        <img class=\"card-img-top\" src=\"https://cdn.pixabay.com/photo/2015/10/22/07/55/tissues-1000849_1280.png\"/>\n",
        "                        <div class=\"card-body p-4\">\n",
        "                            <div class=\"text-center\">\n",
        "                                <h5 class=\"fw-bolder\">{product_name1}</h5>\n",
        "                                ${product_price1}\n",
        "                            </div>\n",
        "                        </div>\n",
        "                    </div>\n",
        "                </div>\n",
        "                <div class=\"col mb-5\">\n",
        "                    <div class=\"card h-100\">\n",
        "                        <img class=\"card-img-top\" src=\"https://cdn.pixabay.com/photo/2015/10/22/07/55/tissues-1000849_1280.png\"/>\n",
        "                        <div class=\"card-body p-4\">\n",
        "                            <div class=\"text-center\">\n",
        "                                <h5 class=\"fw-bolder\">{product_name2}</h5>\n",
        "                                ${product_price2}\n",
        "                            </div>\n",
        "                        </div>\n",
        "                    </div>\n",
        "                </div>\n",
        "                <div class=\"col mb-5\">\n",
        "                    <div class=\"card h-100\">\n",
        "                        <img class=\"card-img-top\" src=\"https://cdn.pixabay.com/photo/2015/10/22/07/55/tissues-1000849_1280.png\"/>\n",
        "                        <div class=\"card-body p-4\">\n",
        "                            <div class=\"text-center\">\n",
        "                                <h5 class=\"fw-bolder\">{product_name3}</h5>\n",
        "                                ${product_price3}\n",
        "                            </div>\n",
        "                        </div>\n",
        "                    </div>\n",
        "                </div>\n",
        "\"\"\"\n",
        "\n",
        "html = f\"\"\"\n",
        "<!DOCTYPE html>\n",
        "<html lang=\"en\">\n",
        "    <head>\n",
        "        <title>Shop Homepage</title>\n",
        "        <link rel=\"stylesheet\" href=\"https://cdn.jsdelivr.net/npm/bootstrap@4.4.1/dist/css/bootstrap.min.css\">\n",
        "    </head>\n",
        "    <body>\n",
        "        <header class=\"bg-dark py-5\">\n",
        "            <div class=\"container\">\n",
        "                <div class=\"text-center text-white\">\n",
        "                    <h1 class=\"display-4\">Product List</h1>\n",
        "                </div>\n",
        "            </div>\n",
        "        </header>\n",
        "        <div class=\"container px-4 px-lg-5 mt-5\">\n",
        "            <div class=\"row gx-3 gx-lg-5 row-cols-2 row-cols-md-3 row-cols-xl-3 justify-content-center\">\n",
        "            {row_products_template}\n",
        "            </div>\n",
        "        </div>\n",
        "    </body>\n",
        "</html>\n",
        "\"\"\"\n",
        "with open(\"test.html\",\"w\") as fo:\n",
        "    fo.write(html)"
      ],
      "metadata": {
        "id": "siLe-LYvTbRO"
      },
      "execution_count": null,
      "outputs": []
    },
    {
      "cell_type": "markdown",
      "source": [
        "# 使用 Python 的工具箱"
      ],
      "metadata": {
        "id": "beIWQjj-cV9G"
      }
    },
    {
      "cell_type": "markdown",
      "source": [
        "使用 Python 其中一個好處是有很多好用的工具，光是 Python 本身有的工具就有不少。   \n",
        "但因為數量實在太多了，所以其實 Python 不會把所有的工具都預設全部載入進來。  \n",
        "就像五金雜貨會賣剪刀、美工刀、螺絲起子、鐵鎚等等，  \n",
        "但我們通常會放在桌上的應該就是剪刀、美工刀，  \n",
        "比較少用的工具我們會另外放在一個大工具箱中，有需要再拿出來。\n",
        "> [Python 標準函式庫 (Standard Library)](https://docs.python.org/zh-tw/3/library/index.html)\n",
        "\n",
        "Python 也有很多厲害的人把他們寫的工具開放出來，  \n",
        "這些工具需要額外安裝，就像如果我們在裝飾家裡有時候可能需要電鑽，  \n",
        "通常我們都是有需要的時候才去購買，而不是一剛開始就先買起來放。  \n",
        "而 colab 其實已經有幫我們安裝一些常用的外部工具。\n",
        "> [Python Package Index (PyPI) ](https://pypi.org/)\n",
        "\n"
      ],
      "metadata": {
        "id": "TizqdWSha14g"
      }
    },
    {
      "cell_type": "markdown",
      "source": [
        "比起我們前面每一行的程式碼都是自己寫的，我們很清楚怎麼運作；  \n",
        "用別人寫好的東西就要知道怎麼運用：  \n",
        "不管是透過看文件、AI 幫你整理文件重點、試跑程式來了解功用，  \n",
        "都是我們在使用這些工具會經過的過程。"
      ],
      "metadata": {
        "id": "DLB2aesYgsxx"
      }
    },
    {
      "cell_type": "markdown",
      "source": [
        "例如像是 Python 的 [random](https://docs.python.org/zh-tw/3/library/random.html) 工具，可以幫我們隨機產生一個選項。  \n",
        "  \n",
        "如果常對於下一餐要吃什麼有選擇困難症，就可以用這個簡單程式幫你選擇："
      ],
      "metadata": {
        "id": "nsyJTgQsCEio"
      }
    },
    {
      "cell_type": "code",
      "source": [
        "import random\n",
        "meal_choice = [\"麥當勞\", \"八方雲集\", \"7-11\", \"すき家\"]\n",
        "next_meal = random.choice(meal_choice)\n",
        "print(next_meal)"
      ],
      "metadata": {
        "colab": {
          "base_uri": "https://localhost:8080/"
        },
        "id": "7keiA1j7dRCi",
        "outputId": "2df90674-2531-45e8-8844-6e9c78d5be93"
      },
      "execution_count": null,
      "outputs": [
        {
          "output_type": "stream",
          "name": "stdout",
          "text": [
            "すき家\n"
          ]
        }
      ]
    },
    {
      "cell_type": "markdown",
      "source": [
        "# 日期時間處理\n",
        "雖然前面我們可利用字串、判斷式等方式去處理日期與時間，  \n",
        "但遇到比較複雜的例如算天數相減(要考慮閏年、每個月有幾天)的狀況，\n",
        "還是會倚靠 Python 的工具幫忙。\n",
        "  \n",
        "我們常處理日期時間的工具是內建的 [`datetime`](https://docs.python.org/zh-tw/3/library/datetime.html) 與需要額外安裝的 [`pendulum`](https://pendulum.eustace.io/docs/)"
      ],
      "metadata": {
        "id": "znHFOoBILaRT"
      }
    },
    {
      "cell_type": "code",
      "source": [
        "from datetime import date, datetime, timedelta\n",
        "today = date.today()\n",
        "now = datetime.now()\n",
        "tommorrow_same_time = now+timedelta(days=1)\n",
        "print(today)\n",
        "print(now)\n",
        "print(tommorrow_same_time)\n",
        "print(type(now))"
      ],
      "metadata": {
        "id": "UmwZO-LTt_Fg"
      },
      "execution_count": null,
      "outputs": []
    },
    {
      "cell_type": "code",
      "source": [
        "!pip install pendulum"
      ],
      "metadata": {
        "id": "4qdl0bAmvLv7"
      },
      "execution_count": null,
      "outputs": []
    },
    {
      "cell_type": "code",
      "source": [
        "import pendulum\n",
        "today = pendulum.today()\n",
        "now = pendulum.now()\n",
        "tommorrow_same_time = now.add(days=1)\n",
        "print(today)\n",
        "print(now)\n",
        "print(tommorrow_same_time)\n",
        "print(type(now))"
      ],
      "metadata": {
        "id": "vQekFlw6wlsQ"
      },
      "execution_count": null,
      "outputs": []
    },
    {
      "cell_type": "markdown",
      "source": [
        "### [練習] 日期正規化 (年-月-日 時:分:秒) 24小時制\n",
        "前面有提到日期正規化可以幫助我們在處理資料能有一致的格式。  \n",
        "[之前](https://colab.research.google.com/github/Python-Tutorial-Workshop/2025/blob/master/03_list.ipynb#scrollTo=XNzKF2Ml3exq)我們只能用 `split`, `replace`, 字串格式化的方式，拼拼湊湊去得到正規化後的日期字串。  \n",
        "現在可以透過 [`datetime`](https://docs.python.org/zh-tw/3/library/datetime.html) 或 [`pendulum`](https://pendulum.eustace.io/docs/) 幫助我們更容易處理日期正規化\n",
        "\n",
        "延續前面的範例，改用這些工具能讓我們能更方便將以下字串正規化成想要的樣貌\n",
        "\n",
        "```\n",
        "Tue Oct 18 23:22:05 2016\n",
        "```\n",
        "\n",
        "能正規化成\n",
        "```\n",
        "2016-10-18 23:22:05\n",
        "```\n",
        "> #### Hint:\n",
        "> - 可以請 [ChatGPT](https://chatgpt.com/) 提示你該看文件的哪個部分。  \n",
        "會建議一個個問題拆開來做，有時候直接丟整個問題 ChatGPT 不會回答得很完整：\n",
        "```\n",
        "我想用 python 的 datetime\n",
        "將 Tue Oct 18 23:22:05 2016 轉成 2016-10-18 23:22:05\n",
        "請不要告訴我答案，告訴我該找文件怎樣的內容\n",
        "```\n",
        "```\n",
        "我想用 python 的 pendulum\n",
        "將 Tue Oct 18 23:22:05 2016 轉成 2016-10-18 23:22:05\n",
        "請不要告訴我答案，告訴我該找文件怎樣的內容\n",
        "```\n",
        "> - ChatGPT 很有可能會給出錯誤的答案，  \n",
        "你可以按照之前我們的[講義](https://colab.research.google.com/github/Python-Tutorial-Workshop/2025/blob/master/99_chatgpt.ipynb#scrollTo=g_jh8WiiBeq2)，把你寫的程式碼以及錯誤的訊息貼給 ChatGPT，  \n",
        "請 ChatGPT 修正他的回答。\n",
        "> - 接下來你可以查文件\n",
        ">   - 使用 `datetime` 的話，除了剛才 ChatGPT 提示你的關鍵字，你也會需要知道 `%Y` 代表的意思\n",
        ">   - 使用 `pendulum` 的話，除了剛才 ChatGPT 提示你的關鍵字，你也會需要知道 `YYYY` 代表的意思\n",
        "> - 如果你查文件寫程式卡關的話，  \n",
        "  也可以把程式碼(你寫完的部分與講義中提示填空部分)貼給 ChatGPT，  \n",
        "  請他協助你完成你想要的結果。\n",
        "\n",
        "> - 或是直接請 ChatGPT 直接幫你產生程式碼：\n",
        "```\n",
        "請幫我產生 python 使用 datetime 的程式碼\n",
        "讓我可以把 Tue Oct 18 23:22:05 2016 轉成 2016-10-18 23:22:05\n",
        "```\n",
        "```\n",
        "請幫我產生 python 使用 pendulum 的程式碼\n",
        "讓我可以把 Tue Oct 18 23:22:05 2016 轉成 2016-10-18 23:22:05\n",
        "```\n",
        "\n"
      ],
      "metadata": {
        "id": "08KPro2hvO-A"
      }
    },
    {
      "cell_type": "code",
      "source": [
        "from datetime import date, datetime, timedelta\n",
        "import pendulum\n",
        "ptt_datetime = \"Tue Oct 18 23:22:05 2016\"\n",
        "formatted_ptt_datetime = _______._______(ptt_datetime, _______)\n",
        "print(formatted_ptt_datetime._______(_______))"
      ],
      "metadata": {
        "id": "ySEGXBW8wb8t"
      },
      "execution_count": null,
      "outputs": []
    },
    {
      "cell_type": "markdown",
      "source": [
        "#### [進階練習] 日期正規化 (年-月-日 時:分:秒) 24小時制 - 處理 12 小時制資料\n",
        "我們也希望把以下字串\n",
        "```\n",
        "2016年10月18日 下午10:33\n",
        "```\n",
        "\n",
        "能正規化成\n",
        "```\n",
        "2016-10-18 22:33:00\n",
        "```\n",
        "\n",
        "> #### Hint:\n",
        "> - 用一個新的字串將 `yahoo_datetime_clean` 原本字串的「上午」、「下午」消除\n",
        ">   - [replace 語法傳送門](https://colab.research.google.com/github/Python-Tutorial-Workshop/2025/blob/master/01_basicObject_IO.ipynb#scrollTo=Fqh9MBdGdxkd)\n",
        "> - 將此字串 轉成 `datetime.datetime` 或是 `pendulum.datetime.DateTime` ，  \n",
        "貼上命名標籤`formatted_yahoo_datetime`\n",
        "> - 如果有「下午」的關鍵字在原字串出現，就把目前的 `formatted_yahoo_datetime` 加上 12 小時\n",
        ">   - [`if` 判斷式](https://colab.research.google.com/github/Python-Tutorial-Workshop/2025/blob/master/02_conditional.ipynb)\n",
        ">   - [判斷序列中是否存在某元素](https://colab.research.google.com/github/Python-Tutorial-Workshop/2025/blob/master/03_list.ipynb#scrollTo=_p1XqK0Crbw3)"
      ],
      "metadata": {
        "id": "85aRJKwiH3JY"
      }
    },
    {
      "cell_type": "code",
      "source": [
        "from datetime import date, datetime, timedelta\n",
        "import pendulum\n",
        "yahoo_datetime = \"2016年10月18日 下午10:33\"\n",
        "\n",
        "yahoo_datetime_clean = yahoo_datetime._______(\"_______\",\"\")._______(\"_______\", \"\") # \"2016年10月18日 10:33\"\n",
        "formatted_yahoo_datetime = _______._______(yahoo_datetime_clean,_______)\n",
        "\n",
        "if \"下午\" in yahoo_datetime:\n",
        "    formatted_yahoo_datetime = formatted_yahoo_datetime+_______ # 加 12 小時\n",
        "\n",
        "print(formatted_yahoo_datetime._______(_______))"
      ],
      "metadata": {
        "id": "SlN8zIWXL96S"
      },
      "execution_count": null,
      "outputs": []
    },
    {
      "cell_type": "markdown",
      "source": [
        "## 應用情境-計算使用者的瀏覽時間\n",
        "以下的文字型的瀏覽足跡的(log)為例，我們想知道 userA 瀏覽了 productA 多久  \n",
        "而實務上 log 通常是每一段時間產生一份(e.g. 10 分鐘、1 小時)，日期可能是存在檔名上。\n",
        "\n",
        "```\n",
        "19:00:05 userA productA\n",
        "19:01:43 userA productB\n",
        "```"
      ],
      "metadata": {
        "id": "VoaSp_obxbw7"
      }
    },
    {
      "cell_type": "code",
      "source": [
        "import pendulum\n",
        "log_file_name = \"20241013_0001\"\n",
        "log_date_str = log_file_name.split(\"_\")[0]\n",
        "\n",
        "log_time_str_1 = \"19:00:05\"\n",
        "log_datetime_str_1 = f\"{log_date_str} {log_time_str_1}\"\n",
        "log_datetime_1 = pendulum.from_format(log_datetime_str_1, \"YYYYMMDD HH:mm:ss\")\n",
        "\n",
        "log_time_str_2 = \"19:01:43\"\n",
        "log_datetime_str_2 = f\"{log_date_str} {log_time_str_2}\"\n",
        "log_datetime_2 = pendulum.from_format(log_datetime_str_2, \"YYYYMMDD HH:mm:ss\")\n",
        "\n",
        "print((log_datetime_2-log_datetime_1).seconds)"
      ],
      "metadata": {
        "colab": {
          "base_uri": "https://localhost:8080/"
        },
        "id": "oBtYDAUszMKW",
        "outputId": "74340725-75c5-400a-c7be-673bcd5787ae"
      },
      "execution_count": null,
      "outputs": [
        {
          "output_type": "stream",
          "name": "stdout",
          "text": [
            "98\n"
          ]
        }
      ]
    },
    {
      "cell_type": "markdown",
      "source": [
        "如果遇到使用者閒置：也就是一直開著分頁，然後去做其他事情，  \n",
        "這樣瀏覽時間就會超大，很有可能失真。  \n",
        "\n",
        "實務上我們會設一個 timeout，以電商網站來講通常是 30 分鐘。  \n",
        "超過這個 timeout 要馬是給一個平均瀏覽值，或是就給最大值(即 timeout)。"
      ],
      "metadata": {
        "id": "W1aWJvbKydCg"
      }
    },
    {
      "cell_type": "markdown",
      "source": [
        "而在前面的練習題我們會知道 log 會混雜所有使用者的瀏覽記錄，  \n",
        "你可能需要把資料按照使用者分類 (e.g. 字典用使用者當 key,  瀏覽記錄是 value )。  \n",
        "而資料後一筆減前一筆應該會用到 enumerate 或是 range 類似的寫法\n",
        "> [迴圈-更多可迭代者](https://colab.research.google.com/github/Python-Tutorial-Workshop/2025/blob/master/04_loop.ipynb#scrollTo=ddvlrXYxPVlB)"
      ],
      "metadata": {
        "id": "21E4h_FvBTrO"
      }
    },
    {
      "cell_type": "markdown",
      "source": [
        "# 統計應用"
      ],
      "metadata": {
        "id": "MmqCG82MOSDs"
      }
    },
    {
      "cell_type": "markdown",
      "source": [
        "## 用 [pandas](https://pandas.pydata.org/docs/user_guide/index.html#user-guide) 統計足跡\n",
        "- [pandas](https://pypi.org/project/pandas/) 其實是要額外安裝(這裡 colab 已經幫你裝好了)"
      ],
      "metadata": {
        "id": "8qiWwV0pERmz"
      }
    },
    {
      "cell_type": "code",
      "source": [
        "import pandas as pd\n",
        "\n",
        "logs = [\n",
        "    [\"2024-10-13 19:00:05\", \"userA\", \"productA\"],\n",
        "    [\"2024-10-13 19:00:17\", \"memberA\", \"productB\"],\n",
        "    [\"2024-10-13 19:01:43\", \"userA\", \"productB\"],\n",
        "    [\"2024-10-13 19:02:21\", \"userA\", \"productB\"],\n",
        "    [\"2024-10-13 19:03:54\", \"userB\", \"productC\"],\n",
        "    [\"2024-10-13 19:05:39\", \"userC\", \"productC\"],\n",
        "    [\"2024-10-13 19:07:46\", \"userB\", \"productD\"],\n",
        "]\n",
        "\n",
        "df = pd.DataFrame(logs, columns=[\"timestamp\", \"user\", \"product\"])"
      ],
      "metadata": {
        "id": "RKipKm_3DBiM"
      },
      "execution_count": null,
      "outputs": []
    },
    {
      "cell_type": "code",
      "source": [
        "df"
      ],
      "metadata": {
        "colab": {
          "base_uri": "https://localhost:8080/",
          "height": 269
        },
        "id": "bPb_uPFnDG0k",
        "outputId": "4c5156f6-c61a-44cc-856a-dbaef5a706c8"
      },
      "execution_count": null,
      "outputs": [
        {
          "output_type": "execute_result",
          "data": {
            "text/plain": [
              "             timestamp     user   product\n",
              "0  2024-10-13 19:00:05    userA  productA\n",
              "1  2024-10-13 19:00:17  memberA  productB\n",
              "2  2024-10-13 19:01:43    userA  productB\n",
              "3  2024-10-13 19:02:21    userA  productB\n",
              "4  2024-10-13 19:03:54    userB  productC\n",
              "5  2024-10-13 19:05:39    userC  productC\n",
              "6  2024-10-13 19:07:46    userB  productD"
            ],
            "text/html": [
              "\n",
              "  <div id=\"df-1fe40cae-4315-4a9e-9fac-c1a31f69ba46\" class=\"colab-df-container\">\n",
              "    <div>\n",
              "<style scoped>\n",
              "    .dataframe tbody tr th:only-of-type {\n",
              "        vertical-align: middle;\n",
              "    }\n",
              "\n",
              "    .dataframe tbody tr th {\n",
              "        vertical-align: top;\n",
              "    }\n",
              "\n",
              "    .dataframe thead th {\n",
              "        text-align: right;\n",
              "    }\n",
              "</style>\n",
              "<table border=\"1\" class=\"dataframe\">\n",
              "  <thead>\n",
              "    <tr style=\"text-align: right;\">\n",
              "      <th></th>\n",
              "      <th>timestamp</th>\n",
              "      <th>user</th>\n",
              "      <th>product</th>\n",
              "    </tr>\n",
              "  </thead>\n",
              "  <tbody>\n",
              "    <tr>\n",
              "      <th>0</th>\n",
              "      <td>2024-10-13 19:00:05</td>\n",
              "      <td>userA</td>\n",
              "      <td>productA</td>\n",
              "    </tr>\n",
              "    <tr>\n",
              "      <th>1</th>\n",
              "      <td>2024-10-13 19:00:17</td>\n",
              "      <td>memberA</td>\n",
              "      <td>productB</td>\n",
              "    </tr>\n",
              "    <tr>\n",
              "      <th>2</th>\n",
              "      <td>2024-10-13 19:01:43</td>\n",
              "      <td>userA</td>\n",
              "      <td>productB</td>\n",
              "    </tr>\n",
              "    <tr>\n",
              "      <th>3</th>\n",
              "      <td>2024-10-13 19:02:21</td>\n",
              "      <td>userA</td>\n",
              "      <td>productB</td>\n",
              "    </tr>\n",
              "    <tr>\n",
              "      <th>4</th>\n",
              "      <td>2024-10-13 19:03:54</td>\n",
              "      <td>userB</td>\n",
              "      <td>productC</td>\n",
              "    </tr>\n",
              "    <tr>\n",
              "      <th>5</th>\n",
              "      <td>2024-10-13 19:05:39</td>\n",
              "      <td>userC</td>\n",
              "      <td>productC</td>\n",
              "    </tr>\n",
              "    <tr>\n",
              "      <th>6</th>\n",
              "      <td>2024-10-13 19:07:46</td>\n",
              "      <td>userB</td>\n",
              "      <td>productD</td>\n",
              "    </tr>\n",
              "  </tbody>\n",
              "</table>\n",
              "</div>\n",
              "    <div class=\"colab-df-buttons\">\n",
              "\n",
              "  <div class=\"colab-df-container\">\n",
              "    <button class=\"colab-df-convert\" onclick=\"convertToInteractive('df-1fe40cae-4315-4a9e-9fac-c1a31f69ba46')\"\n",
              "            title=\"Convert this dataframe to an interactive table.\"\n",
              "            style=\"display:none;\">\n",
              "\n",
              "  <svg xmlns=\"http://www.w3.org/2000/svg\" height=\"24px\" viewBox=\"0 -960 960 960\">\n",
              "    <path d=\"M120-120v-720h720v720H120Zm60-500h600v-160H180v160Zm220 220h160v-160H400v160Zm0 220h160v-160H400v160ZM180-400h160v-160H180v160Zm440 0h160v-160H620v160ZM180-180h160v-160H180v160Zm440 0h160v-160H620v160Z\"/>\n",
              "  </svg>\n",
              "    </button>\n",
              "\n",
              "  <style>\n",
              "    .colab-df-container {\n",
              "      display:flex;\n",
              "      gap: 12px;\n",
              "    }\n",
              "\n",
              "    .colab-df-convert {\n",
              "      background-color: #E8F0FE;\n",
              "      border: none;\n",
              "      border-radius: 50%;\n",
              "      cursor: pointer;\n",
              "      display: none;\n",
              "      fill: #1967D2;\n",
              "      height: 32px;\n",
              "      padding: 0 0 0 0;\n",
              "      width: 32px;\n",
              "    }\n",
              "\n",
              "    .colab-df-convert:hover {\n",
              "      background-color: #E2EBFA;\n",
              "      box-shadow: 0px 1px 2px rgba(60, 64, 67, 0.3), 0px 1px 3px 1px rgba(60, 64, 67, 0.15);\n",
              "      fill: #174EA6;\n",
              "    }\n",
              "\n",
              "    .colab-df-buttons div {\n",
              "      margin-bottom: 4px;\n",
              "    }\n",
              "\n",
              "    [theme=dark] .colab-df-convert {\n",
              "      background-color: #3B4455;\n",
              "      fill: #D2E3FC;\n",
              "    }\n",
              "\n",
              "    [theme=dark] .colab-df-convert:hover {\n",
              "      background-color: #434B5C;\n",
              "      box-shadow: 0px 1px 3px 1px rgba(0, 0, 0, 0.15);\n",
              "      filter: drop-shadow(0px 1px 2px rgba(0, 0, 0, 0.3));\n",
              "      fill: #FFFFFF;\n",
              "    }\n",
              "  </style>\n",
              "\n",
              "    <script>\n",
              "      const buttonEl =\n",
              "        document.querySelector('#df-1fe40cae-4315-4a9e-9fac-c1a31f69ba46 button.colab-df-convert');\n",
              "      buttonEl.style.display =\n",
              "        google.colab.kernel.accessAllowed ? 'block' : 'none';\n",
              "\n",
              "      async function convertToInteractive(key) {\n",
              "        const element = document.querySelector('#df-1fe40cae-4315-4a9e-9fac-c1a31f69ba46');\n",
              "        const dataTable =\n",
              "          await google.colab.kernel.invokeFunction('convertToInteractive',\n",
              "                                                    [key], {});\n",
              "        if (!dataTable) return;\n",
              "\n",
              "        const docLinkHtml = 'Like what you see? Visit the ' +\n",
              "          '<a target=\"_blank\" href=https://colab.research.google.com/notebooks/data_table.ipynb>data table notebook</a>'\n",
              "          + ' to learn more about interactive tables.';\n",
              "        element.innerHTML = '';\n",
              "        dataTable['output_type'] = 'display_data';\n",
              "        await google.colab.output.renderOutput(dataTable, element);\n",
              "        const docLink = document.createElement('div');\n",
              "        docLink.innerHTML = docLinkHtml;\n",
              "        element.appendChild(docLink);\n",
              "      }\n",
              "    </script>\n",
              "  </div>\n",
              "\n",
              "\n",
              "<div id=\"df-da5db2f0-6e2f-4975-b668-fb2a145eec0e\">\n",
              "  <button class=\"colab-df-quickchart\" onclick=\"quickchart('df-da5db2f0-6e2f-4975-b668-fb2a145eec0e')\"\n",
              "            title=\"Suggest charts\"\n",
              "            style=\"display:none;\">\n",
              "\n",
              "<svg xmlns=\"http://www.w3.org/2000/svg\" height=\"24px\"viewBox=\"0 0 24 24\"\n",
              "     width=\"24px\">\n",
              "    <g>\n",
              "        <path d=\"M19 3H5c-1.1 0-2 .9-2 2v14c0 1.1.9 2 2 2h14c1.1 0 2-.9 2-2V5c0-1.1-.9-2-2-2zM9 17H7v-7h2v7zm4 0h-2V7h2v10zm4 0h-2v-4h2v4z\"/>\n",
              "    </g>\n",
              "</svg>\n",
              "  </button>\n",
              "\n",
              "<style>\n",
              "  .colab-df-quickchart {\n",
              "      --bg-color: #E8F0FE;\n",
              "      --fill-color: #1967D2;\n",
              "      --hover-bg-color: #E2EBFA;\n",
              "      --hover-fill-color: #174EA6;\n",
              "      --disabled-fill-color: #AAA;\n",
              "      --disabled-bg-color: #DDD;\n",
              "  }\n",
              "\n",
              "  [theme=dark] .colab-df-quickchart {\n",
              "      --bg-color: #3B4455;\n",
              "      --fill-color: #D2E3FC;\n",
              "      --hover-bg-color: #434B5C;\n",
              "      --hover-fill-color: #FFFFFF;\n",
              "      --disabled-bg-color: #3B4455;\n",
              "      --disabled-fill-color: #666;\n",
              "  }\n",
              "\n",
              "  .colab-df-quickchart {\n",
              "    background-color: var(--bg-color);\n",
              "    border: none;\n",
              "    border-radius: 50%;\n",
              "    cursor: pointer;\n",
              "    display: none;\n",
              "    fill: var(--fill-color);\n",
              "    height: 32px;\n",
              "    padding: 0;\n",
              "    width: 32px;\n",
              "  }\n",
              "\n",
              "  .colab-df-quickchart:hover {\n",
              "    background-color: var(--hover-bg-color);\n",
              "    box-shadow: 0 1px 2px rgba(60, 64, 67, 0.3), 0 1px 3px 1px rgba(60, 64, 67, 0.15);\n",
              "    fill: var(--button-hover-fill-color);\n",
              "  }\n",
              "\n",
              "  .colab-df-quickchart-complete:disabled,\n",
              "  .colab-df-quickchart-complete:disabled:hover {\n",
              "    background-color: var(--disabled-bg-color);\n",
              "    fill: var(--disabled-fill-color);\n",
              "    box-shadow: none;\n",
              "  }\n",
              "\n",
              "  .colab-df-spinner {\n",
              "    border: 2px solid var(--fill-color);\n",
              "    border-color: transparent;\n",
              "    border-bottom-color: var(--fill-color);\n",
              "    animation:\n",
              "      spin 1s steps(1) infinite;\n",
              "  }\n",
              "\n",
              "  @keyframes spin {\n",
              "    0% {\n",
              "      border-color: transparent;\n",
              "      border-bottom-color: var(--fill-color);\n",
              "      border-left-color: var(--fill-color);\n",
              "    }\n",
              "    20% {\n",
              "      border-color: transparent;\n",
              "      border-left-color: var(--fill-color);\n",
              "      border-top-color: var(--fill-color);\n",
              "    }\n",
              "    30% {\n",
              "      border-color: transparent;\n",
              "      border-left-color: var(--fill-color);\n",
              "      border-top-color: var(--fill-color);\n",
              "      border-right-color: var(--fill-color);\n",
              "    }\n",
              "    40% {\n",
              "      border-color: transparent;\n",
              "      border-right-color: var(--fill-color);\n",
              "      border-top-color: var(--fill-color);\n",
              "    }\n",
              "    60% {\n",
              "      border-color: transparent;\n",
              "      border-right-color: var(--fill-color);\n",
              "    }\n",
              "    80% {\n",
              "      border-color: transparent;\n",
              "      border-right-color: var(--fill-color);\n",
              "      border-bottom-color: var(--fill-color);\n",
              "    }\n",
              "    90% {\n",
              "      border-color: transparent;\n",
              "      border-bottom-color: var(--fill-color);\n",
              "    }\n",
              "  }\n",
              "</style>\n",
              "\n",
              "  <script>\n",
              "    async function quickchart(key) {\n",
              "      const quickchartButtonEl =\n",
              "        document.querySelector('#' + key + ' button');\n",
              "      quickchartButtonEl.disabled = true;  // To prevent multiple clicks.\n",
              "      quickchartButtonEl.classList.add('colab-df-spinner');\n",
              "      try {\n",
              "        const charts = await google.colab.kernel.invokeFunction(\n",
              "            'suggestCharts', [key], {});\n",
              "      } catch (error) {\n",
              "        console.error('Error during call to suggestCharts:', error);\n",
              "      }\n",
              "      quickchartButtonEl.classList.remove('colab-df-spinner');\n",
              "      quickchartButtonEl.classList.add('colab-df-quickchart-complete');\n",
              "    }\n",
              "    (() => {\n",
              "      let quickchartButtonEl =\n",
              "        document.querySelector('#df-da5db2f0-6e2f-4975-b668-fb2a145eec0e button');\n",
              "      quickchartButtonEl.style.display =\n",
              "        google.colab.kernel.accessAllowed ? 'block' : 'none';\n",
              "    })();\n",
              "  </script>\n",
              "</div>\n",
              "\n",
              "  <div id=\"id_23ef169b-f3e6-460a-905c-9ff348b19fd4\">\n",
              "    <style>\n",
              "      .colab-df-generate {\n",
              "        background-color: #E8F0FE;\n",
              "        border: none;\n",
              "        border-radius: 50%;\n",
              "        cursor: pointer;\n",
              "        display: none;\n",
              "        fill: #1967D2;\n",
              "        height: 32px;\n",
              "        padding: 0 0 0 0;\n",
              "        width: 32px;\n",
              "      }\n",
              "\n",
              "      .colab-df-generate:hover {\n",
              "        background-color: #E2EBFA;\n",
              "        box-shadow: 0px 1px 2px rgba(60, 64, 67, 0.3), 0px 1px 3px 1px rgba(60, 64, 67, 0.15);\n",
              "        fill: #174EA6;\n",
              "      }\n",
              "\n",
              "      [theme=dark] .colab-df-generate {\n",
              "        background-color: #3B4455;\n",
              "        fill: #D2E3FC;\n",
              "      }\n",
              "\n",
              "      [theme=dark] .colab-df-generate:hover {\n",
              "        background-color: #434B5C;\n",
              "        box-shadow: 0px 1px 3px 1px rgba(0, 0, 0, 0.15);\n",
              "        filter: drop-shadow(0px 1px 2px rgba(0, 0, 0, 0.3));\n",
              "        fill: #FFFFFF;\n",
              "      }\n",
              "    </style>\n",
              "    <button class=\"colab-df-generate\" onclick=\"generateWithVariable('df')\"\n",
              "            title=\"Generate code using this dataframe.\"\n",
              "            style=\"display:none;\">\n",
              "\n",
              "  <svg xmlns=\"http://www.w3.org/2000/svg\" height=\"24px\"viewBox=\"0 0 24 24\"\n",
              "       width=\"24px\">\n",
              "    <path d=\"M7,19H8.4L18.45,9,17,7.55,7,17.6ZM5,21V16.75L18.45,3.32a2,2,0,0,1,2.83,0l1.4,1.43a1.91,1.91,0,0,1,.58,1.4,1.91,1.91,0,0,1-.58,1.4L9.25,21ZM18.45,9,17,7.55Zm-12,3A5.31,5.31,0,0,0,4.9,8.1,5.31,5.31,0,0,0,1,6.5,5.31,5.31,0,0,0,4.9,4.9,5.31,5.31,0,0,0,6.5,1,5.31,5.31,0,0,0,8.1,4.9,5.31,5.31,0,0,0,12,6.5,5.46,5.46,0,0,0,6.5,12Z\"/>\n",
              "  </svg>\n",
              "    </button>\n",
              "    <script>\n",
              "      (() => {\n",
              "      const buttonEl =\n",
              "        document.querySelector('#id_23ef169b-f3e6-460a-905c-9ff348b19fd4 button.colab-df-generate');\n",
              "      buttonEl.style.display =\n",
              "        google.colab.kernel.accessAllowed ? 'block' : 'none';\n",
              "\n",
              "      buttonEl.onclick = () => {\n",
              "        google.colab.notebook.generateWithVariable('df');\n",
              "      }\n",
              "      })();\n",
              "    </script>\n",
              "  </div>\n",
              "\n",
              "    </div>\n",
              "  </div>\n"
            ],
            "application/vnd.google.colaboratory.intrinsic+json": {
              "type": "dataframe",
              "variable_name": "df",
              "summary": "{\n  \"name\": \"df\",\n  \"rows\": 7,\n  \"fields\": [\n    {\n      \"column\": \"timestamp\",\n      \"properties\": {\n        \"dtype\": \"object\",\n        \"num_unique_values\": 7,\n        \"samples\": [\n          \"2024-10-13 19:00:05\",\n          \"2024-10-13 19:00:17\",\n          \"2024-10-13 19:05:39\"\n        ],\n        \"semantic_type\": \"\",\n        \"description\": \"\"\n      }\n    },\n    {\n      \"column\": \"user\",\n      \"properties\": {\n        \"dtype\": \"string\",\n        \"num_unique_values\": 4,\n        \"samples\": [\n          \"memberA\",\n          \"userC\",\n          \"userA\"\n        ],\n        \"semantic_type\": \"\",\n        \"description\": \"\"\n      }\n    },\n    {\n      \"column\": \"product\",\n      \"properties\": {\n        \"dtype\": \"string\",\n        \"num_unique_values\": 4,\n        \"samples\": [\n          \"productB\",\n          \"productD\",\n          \"productA\"\n        ],\n        \"semantic_type\": \"\",\n        \"description\": \"\"\n      }\n    }\n  ]\n}"
            }
          },
          "metadata": {},
          "execution_count": 4
        }
      ]
    },
    {
      "cell_type": "markdown",
      "source": [
        "會發現 colab 會提示你一些後續步驟，例如「查看建議的圖表」，點擊後會幫你產生程式碼以及圖表  \n",
        "(colab 非常適合拿來做資料科學相關的處理)\n"
      ],
      "metadata": {
        "id": "LB_LaKKHE6Ov"
      }
    },
    {
      "cell_type": "code",
      "source": [
        "# productB 被點擊了幾次\n",
        "df[df[\"product\"] == \"productB\"].shape[0]"
      ],
      "metadata": {
        "colab": {
          "base_uri": "https://localhost:8080/"
        },
        "id": "WnvChG8GDfAt",
        "outputId": "d0b027e9-9af1-4dc9-847b-28cd85711286"
      },
      "execution_count": null,
      "outputs": [
        {
          "output_type": "execute_result",
          "data": {
            "text/plain": [
              "3"
            ]
          },
          "metadata": {},
          "execution_count": 5
        }
      ]
    },
    {
      "cell_type": "markdown",
      "source": [
        "### 請 ChatGPT 幫你產生對應程式碼\n",
        "其他語法你可以自行看文件研究，或是請 ChatGPT 幫忙。  \n",
        "\n",
        "例如：我想要知道每個使用者對不同商品瀏覽的時間，就可以按照以下步驟跟 ChatGPT 對答：\n",
        "\n",
        "#### 先問 ChatGPT 怎麼撈取 userA 的資料\n",
        "我們通常會用比較少量的資料驗證計算結果是否正確，正確後再用完整的資料以程式去處理\n",
        "\n",
        "```\n",
        "我有一個 Python pandas 的資料\n",
        "\n",
        "import pandas as pd\n",
        "\n",
        "logs = [\n",
        "    [\"2024-10-13 19:00:05\", \"userA\", \"productA\"],\n",
        "    [\"2024-10-13 19:00:17\", \"memberA\", \"productB\"],\n",
        "    [\"2024-10-13 19:01:43\", \"userA\", \"productB\"],\n",
        "    [\"2024-10-13 19:02:21\", \"userA\", \"productB\"],\n",
        "    [\"2024-10-13 19:03:54\", \"userB\", \"productC\"],\n",
        "    [\"2024-10-13 19:05:39\", \"userC\", \"productC\"],\n",
        "    [\"2024-10-13 19:07:46\", \"userB\", \"productD\"],\n",
        "]\n",
        "\n",
        "df = pd.DataFrame(logs, columns=[\"timestamp\", \"user\", \"product\"])\n",
        "\n",
        "可以幫我以 Python pandas 語法列出 userA 的資料嗎？\n",
        "```\n",
        "#### 有了 userA 的資料後，再請他幫忙算時間差\n",
        "```\n",
        "有了 userA 的資訊，可以幫我計算每一列的瀏覽時間差嗎？\n",
        "e.g 19:01:43 和 19:00:05 相差了 98 秒，\n",
        "所以 userA 在 2024-10-13 19:00:05 瀏覽 productA，花了 98 秒\n",
        "```\n",
        "\n",
        "#### 試試看套用到所有 user\n",
        "```\n",
        "可以用同樣方式計算每個 user 的瀏覽時間差嗎？\n",
        "```\n",
        "\n",
        "需要注意的是，ChatGPT 會產生程式碼以及可能的資料樣貌，  \n",
        "不管是哪一個都有可能有錯誤，需要你把程式碼貼上 colab 執行，看看最後的執行狀況是否符合預期。  \n",
        "如果沒有，就需要來回跟 ChatGPT 對話請他調整。"
      ],
      "metadata": {
        "id": "HOxqAIDnDxyg"
      }
    },
    {
      "cell_type": "markdown",
      "source": [
        "像這類型的資料處理，用 pandas 比我們用迴圈、串列、字典更加方便。  \n",
        "(不過 pandas 的處理速度也比較慢)"
      ],
      "metadata": {
        "id": "WqqzHHZLNNox"
      }
    },
    {
      "cell_type": "markdown",
      "source": [
        "# 網頁爬蟲"
      ],
      "metadata": {
        "id": "RyTzMEpXM6D7"
      }
    },
    {
      "cell_type": "markdown",
      "source": [
        "有些資料並不是由我們自己產生的，需要去抓既有的資料，\n",
        "利用網頁爬蟲可以幫我們抓網路上的各種資源。\n",
        "\n",
        "> [Google 的搜尋引擎原理](https://www.youtube.com/watch?v=mFGUeVdSQJw)\n",
        "\n",
        "這裡用到的兩個\n",
        "- [requests](https://pypi.org/project/requests/) 其實是要額外安裝(這裡 colab 已經幫你裝好了)\n",
        "- json 是 Python 內建"
      ],
      "metadata": {
        "id": "pgpTxWlycnzm"
      }
    },
    {
      "cell_type": "markdown",
      "source": [
        "## 抓取網頁原始資訊"
      ],
      "metadata": {
        "id": "ybM6xARJ4n4F"
      }
    },
    {
      "cell_type": "code",
      "metadata": {
        "id": "ZKGOLP9bktIb"
      },
      "source": [
        "import requests\n",
        "img_src = \"https://4.bp.blogspot.com/-6HCy6DZdqX4/U_3dySRjKPI/AAAAAAAAclI/5e4V6d7t56E/s1600/Photos4.jpg\"\n",
        "img_response = requests.get(img_src)\n",
        "img = img_response.content\n",
        "# 非文字檔要是 wb (b代表 binary的意思)\n",
        "with open(\"image.jpg\",\"wb\") as fo:\n",
        "    fo.write(img)"
      ],
      "execution_count": null,
      "outputs": []
    },
    {
      "cell_type": "markdown",
      "metadata": {
        "id": "0HREWKCl8QiD"
      },
      "source": [
        "大家可以嘗試換個圖片，記得網址一定要是 `.jpg`, `.jpeg`, `.png` 結尾\n",
        "> [cc0 圖庫搜尋引擎](https://cc01.wfublog.com/)：沒有任何使用範圍限制(除了宣告你是那些圖片的擁有者外)\n",
        "  \n",
        "p.s. 有些雖然是以 `.jpg`, `.jpeg`, `.png` 結尾的網址，程式執行成功但無法成功下載圖片，  \n",
        "是因為該網站背後還有其他機制，程式還需要增加其他方法才能直接下載。"
      ]
    },
    {
      "cell_type": "markdown",
      "source": [
        "## 抓取網頁 HTML 內容\n",
        "我們先點開來看看這個連結 https://pxbox.es.pxmart.com.tw/search/result?keyword=衛生紙 ，  \n",
        "可以看到 購物網站的相關商品。  "
      ],
      "metadata": {
        "id": "bPMBVa054trh"
      }
    },
    {
      "cell_type": "code",
      "source": [
        "import requests\n",
        "url = \"https://pxbox.es.pxmart.com.tw/search/result?keyword=衛生紙\"\n",
        "resp = requests.get(url)\n",
        "html = resp.text\n",
        "with open(\"products.html\",\"w\") as fo:\n",
        "    fo.write(html)"
      ],
      "metadata": {
        "id": "bN7vj1wn7h6g"
      },
      "execution_count": null,
      "outputs": []
    },
    {
      "cell_type": "markdown",
      "source": [
        "## 抓取由 API 產生的網頁內容\n",
        "  \n",
        "你會發覺 html 內容沒有我們在瀏覽器上看到的資料，  \n",
        "而這些資料其實是由 API https://api-pxbox.es.pxmart.com.tw/app/2.0/spu/single_search 產生的。  \n",
        "\n",
        "後端單純將資料傳出，前端再負責呈現畫面，  \n",
        "因此找到後端跟前端溝通的網址，就可以只要處理資料，  \n",
        "不需要理會網頁畫面看到的圖片配色版型...etc.\n",
        "這個網址我們常稱為「API」。\n"
      ],
      "metadata": {
        "id": "egbEwpjkynS3"
      }
    },
    {
      "cell_type": "code",
      "source": [
        "# 請「不要修改」這裡的程式碼，也不要重複執行這裡的程式碼(執行一次就好)\n",
        "import requests\n",
        "import json\n",
        "url = \"https://api-pxbox.es.pxmart.com.tw/app/2.0/spu/single_search\"\n",
        "\n",
        "payload={\"keyword\":\"衛生紙\",\"page_index\":1,\"page_size\":48}\n",
        "headers = {\"Content-Type\": \"application/json\"}\n",
        "response = requests.post(url, headers=headers, data=json.dumps(payload)) # 回傳的 Response 物件，包含Header、網頁原始碼\n",
        "html = response.text                                                     #       Response 物件，網頁原始碼的部分"
      ],
      "metadata": {
        "id": "VIFpub5NPvjA"
      },
      "execution_count": null,
      "outputs": []
    },
    {
      "cell_type": "markdown",
      "source": [
        "### [json](https://docs.python.org/zh-tw/3/library/json.html)\n",
        "- `json.loads(字串)`：json 格式字串 -> python 資料型別(串列, 字典, 字串, 數值)\n",
        "- `json.dumps(資料型別)`：python 資料型別 -> json格式字串\n",
        "\n",
        "> 輔助工具：\n",
        "- [Json Parser Online](http://json.parser.online.fr/)\n",
        "- [Online Json Viewer](http://jsonviewer.stack.hu/)\n",
        "- [Json Editor Online](https://jsoneditoronline.org/)\n",
        "- [JSON Parser](https://jsonformatter.org/json-parser)\n"
      ],
      "metadata": {
        "id": "YyQpgA0R3ZIN"
      }
    },
    {
      "cell_type": "code",
      "source": [
        "# 請執行這段程式碼\n",
        "import json\n",
        "json_data = json.loads(html)\n",
        "print(json_data)"
      ],
      "metadata": {
        "id": "43Ko_5mVv4uW"
      },
      "execution_count": null,
      "outputs": []
    },
    {
      "cell_type": "code",
      "source": [
        "# 請執行這段程式碼\n",
        "products = json_data[\"data\"][\"product_list\"]\n",
        "print(type(products), products)"
      ],
      "metadata": {
        "id": "A7PcnRoGZ5IR"
      },
      "execution_count": null,
      "outputs": []
    },
    {
      "cell_type": "code",
      "source": [
        "product_1 = products[0] # 第 1 個商品\n",
        "print(product_1)        # 印出來的結果是字典，要再拿裡面的資料需要用到 字典取值的語法"
      ],
      "metadata": {
        "id": "kC6wa_o9Oyth"
      },
      "execution_count": null,
      "outputs": []
    },
    {
      "cell_type": "code",
      "source": [
        "product_name = product_1[\"product_name\"]\n",
        "product_price = product_1[\"sale_price\"]\n",
        "print(product_name, product_price)"
      ],
      "metadata": {
        "id": "NKnwEwJ4Pqb0"
      },
      "execution_count": null,
      "outputs": []
    },
    {
      "cell_type": "markdown",
      "source": [
        "### [練習] 解析 json 格式的網頁內容\n",
        "請更改以下程式碼拿到第三個商品的\n",
        "- 商品名稱\n",
        "- 商品價格\n",
        "- 商品編號\n",
        "- 商品圖片\n",
        "  \n",
        "> #### Hint:\n",
        "> - [串列取值](https://colab.research.google.com/github/Python-Tutorial-Workshop/2025/blob/master/03_list.ipynb#scrollTo=T9CeCnO6P9bY)\n",
        "> - [字典取值](https://colab.research.google.com/github/Python-Tutorial-Workshop/2025/blob/master/05_dictionary.ipynb#scrollTo=rBB7Kd7TCJQM)"
      ],
      "metadata": {
        "id": "2V-GjizOwWaa"
      }
    },
    {
      "cell_type": "code",
      "source": [
        "# 請修改這裡的程式碼\n",
        "product_3 = products[____]\n",
        "product_name = product_3[\"product_name\"]\n",
        "product_price = product_3[\"sale_price\"]\n",
        "product_id = product_3[\"_____\"]\n",
        "product_img = product_3[\"_____\"]\n",
        "product_url = f\"https://pxbox.es.pxmart.com.tw/product/{product_id}\"\n",
        "print(product_name, product_price)\n",
        "print(product_url)\n",
        "print(product_img)"
      ],
      "metadata": {
        "id": "6ajA2-YZmqme"
      },
      "execution_count": null,
      "outputs": []
    },
    {
      "cell_type": "markdown",
      "source": [
        "#### [進階練習] 解析 json 格式的網頁內容 - 使用迴圈與判斷式找尋所需的資料\n",
        "請找出特價超過兩成的商品的\n",
        "- 商品網址\n",
        "- 省下多少錢\n",
        "\n",
        "> #### Hint:\n",
        "> - 用[迴圈 `for`](https://colab.research.google.com/github/Python-Tutorial-Workshop/2025/blob/master/04_loop.ipynb)拿出每個商品名稱、商品編號、商品價格、商品原價\n",
        "> - 用[判斷式 `if`](https://colab.research.google.com/github/Python-Tutorial-Workshop/2025/blob/master/02_conditional.ipynb) 找出 `(商品原價-商品價格)/商品原價 >=0.2 `"
      ],
      "metadata": {
        "id": "8HgfhCYlNTLo"
      }
    },
    {
      "cell_type": "code",
      "source": [
        "# 請修改這裡的程式碼\n",
        "for product in ____:\n",
        "    product_name = product[\"product_name\"]\n",
        "    product_price = product[\"sale_price\"]\n",
        "    product_origin_price = product[\"_____\"]\n",
        "    product_id = product[\"_____\"]\n",
        "    product_url = f\"https://pxbox.es.pxmart.com.tw/product/{product_id}\"\n",
        "    discount_rate = ((product_origin_price-product_price)/product_origin_price)\n",
        "    if discount_rate>0.2:\n",
        "        print(product_url, f\"省下 ${_____-_____}\")"
      ],
      "metadata": {
        "id": "IrwOqrZeOAPh"
      },
      "execution_count": null,
      "outputs": []
    },
    {
      "cell_type": "markdown",
      "metadata": {
        "id": "6xfip01ykzYE"
      },
      "source": [
        "## 檔案總管操作\n",
        "通常我們用網頁爬蟲，都會下載很多檔案，程式如果可以也能幫我建立資料夾，就會很方便：  \n",
        "以下兩個都是 Python 內建的\n",
        "- [os](https://docs.python.org/zh-tw/3/library/os.html#)\n",
        "- [shutil](https://docs.python.org/zh-tw/3/library/shutil.html)"
      ]
    },
    {
      "cell_type": "code",
      "metadata": {
        "id": "ZocfwV23k-SL"
      },
      "source": [
        "### 資料夾處理\n",
        "import os, shutil\n",
        "print(os.listdir())\n",
        "for name in os.listdir():\n",
        "    print(os.path.isfile(name),os.path.isdir(name),name)\n",
        "\n",
        "dir_name = \"dir_example\"\n",
        "if dir_name not in os.listdir():\n",
        "    os.makedirs(dir_name)\n",
        "else:\n",
        "    shutil.rmtree(dir_name)\n",
        "print(os.listdir())"
      ],
      "execution_count": null,
      "outputs": []
    },
    {
      "cell_type": "code",
      "metadata": {
        "id": "_yveJ2Z4le1F"
      },
      "source": [
        "### 檔案操作\n",
        "import os, shutil\n",
        "filename_origin = \"test.txt\"\n",
        "filename_copy = \"test_copy.txt\"\n",
        "filename_to_be_delete = \"test_to_be_delete.txt\"\n",
        "filename_mv_rename = \"test_mv_rename.txt\"\n",
        "\n",
        "# 前面已經有建立一個 test.txt 檔案\n",
        "if filename_origin in os.listdir():\n",
        "    shutil.copyfile(filename_origin, filename_copy)\n",
        "    shutil.copyfile(filename_origin, filename_to_be_delete)\n",
        "\n",
        "if filename_copy in os.listdir():\n",
        "    shutil.move(filename_copy,filename_mv_rename)\n",
        "\n",
        "if filename_to_be_delete in os.listdir():\n",
        "    os.remove(filename_to_be_delete)"
      ],
      "execution_count": null,
      "outputs": []
    },
    {
      "cell_type": "markdown",
      "metadata": {
        "id": "V1HK9Dhqllbd"
      },
      "source": [
        "## 圖片處理 - [PIL(Pillow)](https://pillow.readthedocs.io/)\n",
        "- [Pillow](https://pypi.org/project/pillow/) 其實是要額外安裝(這裡 colab 已經幫你裝好了)"
      ]
    },
    {
      "cell_type": "code",
      "metadata": {
        "id": "U1sSljollsyT",
        "colab": {
          "base_uri": "https://localhost:8080/"
        },
        "outputId": "db76b1c8-43f0-4670-feef-22c617263a23"
      },
      "source": [
        "from PIL import Image\n",
        "# 再用 PIL 的 Image 處理\n",
        "# 前面已經有建立一個 image.jpg 檔案\n",
        "image = Image.open(\"image.jpg\")\n",
        "width = int(image.size[0])\n",
        "height = int(image.size[1])\n",
        "print(width,height)\n",
        "\n",
        "# resize\n",
        "image.thumbnail((800,800))\n",
        "image.save(\"image_resize.jpg\", 'JPEG', quality=90)\n",
        "width = int(image.size[0])\n",
        "height = int(image.size[1])\n",
        "print(width,height)"
      ],
      "execution_count": null,
      "outputs": [
        {
          "output_type": "stream",
          "name": "stdout",
          "text": [
            "1600 1067\n",
            "800 534\n"
          ]
        }
      ]
    },
    {
      "cell_type": "markdown",
      "source": [
        "## 綜合應用-圖片下載器\n",
        "我們結合目前所學到的技巧，\n",
        "抓取網路文章內的所有圖片：\n",
        "\n",
        "- 把前面 API 使用到的 requests(抓取網址的內容)\n",
        "- 檔案總管操作-建立資料夾\n",
        "- 解析網頁內容：可直接對原文做字串處理，或是剛好有 API 可用 json 處理\n",
        "- 檔案讀寫-建立圖片檔案"
      ],
      "metadata": {
        "id": "BKGrjIqoLmv8"
      }
    },
    {
      "cell_type": "code",
      "metadata": {
        "id": "cqjdDLComGIh"
      },
      "source": [
        "import requests, os\n",
        "\n",
        "### 讀取網頁內容\n",
        "url = \"https://www.ithome.com.tw/news/137504\"\n",
        "response = requests.get(url)\n",
        "html = response.text\n",
        "\n",
        "### 建立資料夾\n",
        "dir_name = \"img_dir\"\n",
        "if dir_name not in os.listdir():\n",
        "    os.makedirs(dir_name)\n",
        "\n",
        "### 解析圖片網址 <img src=\"圖片網址\"/>\n",
        "for temp in html.split(\"<img\"):\n",
        "    line = temp.split(\"/>\")[0]\n",
        "    if (\"src=\" in line):\n",
        "        img_src = line.replace(\"\\'\",\"\\\"\").split(\"src=\\\"\")[-1].split(\"\\\"\")[0].split(\"?\")[0]\n",
        "        if (img_src.endswith(\".jpeg\") or img_src.endswith(\".jpg\")\n",
        "                or img_src.endswith(\".JPG\") or img_src.endswith(\".png\") ) :\n",
        "            ### 抓取圖片\n",
        "            img_response = requests.get(img_src)\n",
        "            img_binary = img_response.content\n",
        "\n",
        "            ### 建立圖片檔案\n",
        "            filename = img_src.split(\"/\")[-1]\n",
        "            filepath = f\"{dir_name}/{filename}\"\n",
        "            with open(filepath,\"wb\") as fo:\n",
        "                fo.write(img_binary)"
      ],
      "execution_count": null,
      "outputs": []
    },
    {
      "cell_type": "markdown",
      "source": [
        "如果想讓這個圖片下載器功能更強大：e.g. 做到濾掉太小的圖片   \n",
        "可以用前面剛學的：\n",
        "- 先用 圖片處理 - PIL(Pillow)，判斷圖片大小\n",
        "- 再用 檔案總管操作，把太小的圖片檔案刪掉"
      ],
      "metadata": {
        "id": "OeWFNlBeAAUp"
      }
    },
    {
      "cell_type": "markdown",
      "source": [
        "至於以下這些的問題，就得要另外需學習 「網頁爬蟲」的相關知識了\n",
        "- 要怎麼找到 API 網址?\n",
        "- 該用 get 還是 post\n",
        "- 該用 content 還是 text\n",
        "- 有沒有比 split 更方便可以解析 HTML 的方法\n",
        "- 抓下來的 HTML 是亂碼該怎麼處理？\n",
        "- 怎麼抓取整個網站的所有資料\n",
        "\n",
        "而爬蟲抓的是網站，對於網站如何架設、什麼是 API 相關...等，就得要學習「網站架設」的知識了。\n"
      ],
      "metadata": {
        "id": "VL0pLFhB_dAX"
      }
    },
    {
      "cell_type": "markdown",
      "source": [
        "© 2025 MarsW (Mars Weng). Published under CC BY-NC-ND 4.0.  \n",
        "Full license and additional terms: https://github.com/Python-Tutorial-Workshop/2025/blob/master/LICENSE"
      ],
      "metadata": {
        "id": "ek1bRjwDzOl9"
      }
    }
  ]
}
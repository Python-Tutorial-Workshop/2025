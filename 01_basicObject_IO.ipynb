{
  "nbformat": 4,
  "nbformat_minor": 0,
  "metadata": {
    "colab": {
      "provenance": []
    },
    "kernelspec": {
      "name": "python3",
      "display_name": "Python 3"
    },
    "language_info": {
      "name": "python"
    }
  },
  "cells": [
    {
      "cell_type": "markdown",
      "source": [
        "# 在 Colab 上練習 Python"
      ],
      "metadata": {
        "id": "4N4o_hcpMT8x"
      }
    },
    {
      "cell_type": "markdown",
      "source": [
        "## colab 使用方式\n",
        "\n",
        "- 請先使用 **`檔案(File) > 在雲端硬碟中儲存複本(Save a Copy in Drive)`**，  \n",
        "才能在自己的環境底下更改/執行程式碼\n",
        "- 設定圖式 > AI 輔助功能 > 隱藏生成式 AI 功能\n",
        "- 點擊程式碼區塊\n",
        "    - 編輯：直接在區塊內修改即可\n",
        "    - 執行：在程式碼區塊的時候，\n",
        "        - 區塊前有個類似播放鍵的按鈕，按下即可執行程式碼\n",
        "        - 快捷鍵 Ctrl + Enter"
      ],
      "metadata": {
        "id": "wM6AMCD5LIxW"
      }
    },
    {
      "cell_type": "markdown",
      "source": [
        "## [練習] 第一支 Python 程式"
      ],
      "metadata": {
        "id": "zhJilz9mP25N"
      }
    },
    {
      "cell_type": "markdown",
      "source": [
        "``` python\n",
        "print(想印的東西)\n",
        "```\n",
        "- `print` 叫做函式，Python 有內建許多好用的函式\n",
        "- Hello Python 前後都有 雙引號包著，這種型別我們叫做「字串」\n",
        "- `#` 後的字是註解，程式不會執行到\n",
        "    - 可以用 Ctrl+?(Windows) / Cmd+? (Mac) 做多行註解/反註解"
      ],
      "metadata": {
        "id": "JGwQPAD7NetA"
      }
    },
    {
      "cell_type": "code",
      "source": [
        "# 可以修改雙引號內的文字，重新執行程式看看\n",
        "print(\"Hello Python\")"
      ],
      "metadata": {
        "colab": {
          "base_uri": "https://localhost:8080/"
        },
        "id": "8umvAuN3Nb79",
        "outputId": "b19023ed-6ad1-42ce-dcb9-e3a458a331bc"
      },
      "execution_count": null,
      "outputs": [
        {
          "output_type": "stream",
          "name": "stdout",
          "text": [
            "Hello Python\n"
          ]
        }
      ]
    },
    {
      "cell_type": "markdown",
      "source": [
        "# 字串與數值型別操作\n"
      ],
      "metadata": {
        "id": "RMZeqR6_MdLR"
      }
    },
    {
      "cell_type": "markdown",
      "source": [
        "## 字串(string)\n",
        "- 用「成對的」雙引號「`\"`」或是單引號「`'`」，將裡面的文字包住\n",
        "    - 換句話說，有看到前後有單雙引號包住的東西就是字串。\n",
        "- 可以直接給定詞句，也可以給空字串\n",
        "- 可以相+、相*\n",
        "\n",
        "\n",
        "\n"
      ],
      "metadata": {
        "id": "SUn9q9rVNpcE"
      }
    },
    {
      "cell_type": "code",
      "source": [
        "print(\"Hi\")\n",
        "print(\"\" + \"Py\" + 'thon')\n",
        "print(\"Hello\"*4)"
      ],
      "metadata": {
        "colab": {
          "base_uri": "https://localhost:8080/"
        },
        "id": "yfPhi3ZUNwse",
        "outputId": "80efb4d4-6c3b-4087-a7ee-771d6bfa0140"
      },
      "execution_count": null,
      "outputs": [
        {
          "output_type": "stream",
          "name": "stdout",
          "text": [
            "Hi\n",
            "Python\n",
            "HelloHelloHelloHello\n"
          ]
        }
      ]
    },
    {
      "cell_type": "markdown",
      "source": [
        "## ===\n",
        "電腦 Computer 另外一種翻譯方式叫做「計算機」，  \n",
        "所以想當然「數值」也是字串之外常用的型別。"
      ],
      "metadata": {
        "id": "pTewvPeJafDf"
      }
    },
    {
      "cell_type": "markdown",
      "source": [
        "## 數值\n",
        "- 整數 integer：**`int`**\n",
        "- 浮點數 float：**`float`**\n",
        "- 運算元：\n",
        "    - 加減乘除(`+`, `-`, `*`, `/`)\n",
        "    - 商與餘數(`//`, `%`)\n",
        "    - 次方(`**`)\n",
        "    - 可以跟數學運算式一樣用()處理要先運算的部分\n",
        "\n",
        "> 在 Python 中，整數可以儲存的位數，取決於電腦記憶體有多大"
      ],
      "metadata": {
        "id": "e7T8ZO4KOb_6"
      }
    },
    {
      "cell_type": "code",
      "source": [
        "print(10+3)  # 加法\n",
        "print(10-3)  # 減法\n",
        "print(10*3)  # 乘法\n",
        "print(10/3)  # 除法\n",
        "print(10//3) # 商(取整數，無條件捨去)\n",
        "print(10%3)  # 餘數\n",
        "print(10**3) # 次方\n",
        "print((2+8)*3)"
      ],
      "metadata": {
        "colab": {
          "base_uri": "https://localhost:8080/"
        },
        "id": "Sh5Sm7WDPXwN",
        "outputId": "0fa379ec-f100-42be-962e-65a62d813aab"
      },
      "execution_count": null,
      "outputs": [
        {
          "output_type": "stream",
          "name": "stdout",
          "text": [
            "13\n",
            "7\n",
            "30\n",
            "3.3333333333333335\n",
            "3\n",
            "1\n",
            "1000\n",
            "30\n"
          ]
        }
      ]
    },
    {
      "cell_type": "markdown",
      "source": [
        "### [練習] 銀行利息\n",
        "如果你有本金 100084，  \n",
        "銀行給的年利率是 2.25 %，  每月給息，  \n",
        "請問一個月後可以拿到多少利息？   \n",
        "(正確答案是 `187.6575`)\n",
        "\n",
        "\n",
        "> #### Hint:\n",
        "> - 月利息 = 本金 `*` (年利率 / 12)"
      ],
      "metadata": {
        "id": "lCye7xgQRRXx"
      }
    },
    {
      "cell_type": "code",
      "source": [],
      "metadata": {
        "id": "OVrd0gG2RaZX"
      },
      "execution_count": null,
      "outputs": []
    },
    {
      "cell_type": "markdown",
      "source": [
        "#### [進階練習] 銀行利息：百元計息\n",
        "現在銀行給的限制越來越多，  \n",
        "延續前面的練習題，如果你有本金 100084，   \n",
        "存在一個有百元計息(超過 100 元(包含100元)才會計算利息)限制的銀行，  \n",
        "年利率是 2.25 %，  每月給息，請問一個月後可以拿到多少利息？   \n",
        "(正確答案是 `187.5`)\n",
        "\n",
        "\n",
        "> #### Hint:\n",
        "> - 月利息 = 本金 `*` (年利率 / 12)\n",
        "> - 不到百元：除以100的餘數\n",
        "> - 要先運算的部分，記得要用 `()`\n",
        "> - 先不用一步到位，慢慢填入已知的數字再做替換"
      ],
      "metadata": {
        "id": "GiqDN9i3ps7O"
      }
    },
    {
      "cell_type": "code",
      "source": [
        "# 本金扣除不到百元的部分 * 月利率\n",
        "# 100000 * 2.25 * 0.01/12\n",
        "# ^可以想想 1000000 怎麼從 100084 產生的"
      ],
      "metadata": {
        "id": "Hwvj8Yoiq_b9"
      },
      "execution_count": null,
      "outputs": []
    },
    {
      "cell_type": "markdown",
      "source": [
        "#### [進階練習] 銀行利息：百元計息、優惠利率加碼\n",
        "而銀行為了吸引客戶，通常還會加上一些優惠機制，  \n",
        "延續前面的練習題，如果你現在本金變成了 100184，  \n",
        "存在一個有百元計息(超過 100 元(包含100元)才會計算利息)限制的銀行，   \n",
        "基本年利率是 0.75 %， 十萬元以下(包含十萬元)的優惠利率加碼 2.25%，        \n",
        "每月給息，請問一個月後可以拿到多少利息？(先假設我們本金都超過十萬元)  \n",
        "(正確答案是 `250.0625`)\n",
        "\n",
        "\n",
        "> #### Hint:\n",
        "> - 月利息 = 本金 `*` (年利率 / 12)\n",
        "> - 不到百元：除以100的餘數\n",
        "> - 要先運算的部分，記得要用 ()\n",
        "> - 先不用一步到位，慢慢填入已知的數字再做替換  "
      ],
      "metadata": {
        "id": "Ou0z8ScsSrRf"
      }
    },
    {
      "cell_type": "code",
      "source": [
        "# (扣除不到百元的部分 * 基本月利率)  + (十萬元 * 優惠月利率)\n",
        "# (100100 * 0.75 * 0.01/12) + (100000 * 2.25 * 0.01/12 )\n",
        "#  ^可以想想 100100 怎麼從 100184 產生的"
      ],
      "metadata": {
        "id": "3SEWVBHMQN64"
      },
      "execution_count": null,
      "outputs": []
    },
    {
      "cell_type": "markdown",
      "source": [
        "### [補充練習] 成績調分公式\n",
        "學校調成績很常是用「開根號後再*10」，  \n",
        "我們來練習看看 70 分調分之後是多少？  \n",
        "(正確答案是 `83.66...`)\n",
        "> #### Hint:\n",
        "> - 開根號 = 0.5 次方"
      ],
      "metadata": {
        "id": "e3ouODUMPjha"
      }
    },
    {
      "cell_type": "code",
      "source": [],
      "metadata": {
        "id": "gxn2MUWcP-Qv"
      },
      "execution_count": null,
      "outputs": []
    },
    {
      "cell_type": "markdown",
      "source": [
        "### [補充練習] 購物優惠\n",
        "鉛筆 1 支 5 元，一打(12支) 50 元。  \n",
        "要買 42 支請問最少要花多少錢？\n",
        "\n",
        "> #### Hint:\n",
        "> - 打數 = 42 除以 12 的商\n",
        "> - 打數`*`50 + 剩下的支數`*`5"
      ],
      "metadata": {
        "id": "mroAg_btP3Bt"
      }
    },
    {
      "cell_type": "code",
      "source": [],
      "metadata": {
        "id": "I7OZ_Zt-VJL_"
      },
      "execution_count": null,
      "outputs": []
    },
    {
      "cell_type": "markdown",
      "source": [
        "## ===\n",
        "``` python\n",
        "print(10+3)\n",
        "print(10-3)\n",
        "print(10*3)\n",
        "print(10/3)\n",
        "print(10//3)\n",
        "print(10%3)\n",
        "print(10**3)\n",
        "```\n",
        "現在的舉例是10跟3的各種運算， 那如果我想換成55跟5呢？"
      ],
      "metadata": {
        "id": "pw3EfHOZQQ3-"
      }
    },
    {
      "cell_type": "markdown",
      "source": [
        "# 物件命名"
      ],
      "metadata": {
        "id": "2IyeFGp-Med8"
      }
    },
    {
      "cell_type": "markdown",
      "source": [
        "``` python\n",
        "命名標籤 = 資料(物件)\n",
        "```\n",
        "- 在Python程式中「=」的理解方式為「貼標籤」的意思\n",
        "    - 在右邊的「物件」(資料內容)存放位置貼上左邊「名稱」的標籤，又或說名稱參照物件、名稱跟物件綁定。  \n",
        "    - 跟數學運算的等號邏輯不一樣！\n",
        "- 可以當成命名標籤的字元：`_`、`0~9`、`a~Z`\n",
        "    - 其實中文也可以，但不建議"
      ],
      "metadata": {
        "id": "Tu22-gXibizd"
      }
    },
    {
      "cell_type": "code",
      "source": [
        "a=10\n",
        "b=3\n",
        "print(a+b)  # 加法\n",
        "print(a-b)  # 減法\n",
        "print(a*b)  # 乘法"
      ],
      "metadata": {
        "id": "EJo6vf-RaPjV"
      },
      "execution_count": null,
      "outputs": []
    },
    {
      "cell_type": "markdown",
      "source": [
        "\n",
        "### 為什麼需要給物件命名？\n",
        "- 可以讓物件(資料內容)透過命名標籤方便重複利用\n",
        "- 程式碼可以更為簡潔易懂\n",
        "- Python有垃圾收集(garbage collection)機制，沒有綁定名稱的物件會被回收\n",
        "\n",
        "\n",
        "```python\n",
        "# 以 url 命名，明顯比 xyz 易懂\n",
        "xyz = \"https://python-tutorial-workshop.github.io/\"\n",
        "url = \"https://python-tutorial-workshop.github.io/\"\n",
        "```"
      ],
      "metadata": {
        "id": "gY7efHcAbG6y"
      }
    },
    {
      "cell_type": "markdown",
      "source": [
        "#### 改寫「銀行利息」"
      ],
      "metadata": {
        "id": "kFciUyUrbxBH"
      }
    },
    {
      "cell_type": "code",
      "source": [
        "# 比起原版密密麻麻的數字，此版本應該會更好理解\n",
        "# 要更改本金、銀行的利率、優惠利率的限制，也更為容易\n",
        "principal_money = 100184\n",
        "bonus_money_limit = 100000\n",
        "basic_year_rate = 0.75\n",
        "bonus_year_rate = 2.25\n",
        "\n",
        "month_percent_rate = 0.01 / 12\n",
        "\n",
        "print(\n",
        "    ((principal_money-(principal_money%100)) * basic_year_rate * month_percent_rate)\n",
        "    +\n",
        "    (bonus_money_limit * bonus_year_rate * month_percent_rate)\n",
        " )"
      ],
      "metadata": {
        "id": "uLxuTeScb3-e"
      },
      "execution_count": null,
      "outputs": []
    },
    {
      "cell_type": "markdown",
      "source": [
        "## 命名標籤注意事項：\n",
        "- 不能以數字開頭\n",
        "- 不能與保留字相同"
      ],
      "metadata": {
        "id": "FfoCgWuT6e4L"
      }
    },
    {
      "cell_type": "markdown",
      "source": [
        "### 保留字\n",
        "<table align=\"left\">\n",
        "    <tbody><tr><td>and</td><td>as</td><td>assert</td><td>break</td><td>class</td></tr>\n",
        "    <tr><td>continue</td><td>def</td><td>del</td><td>elif</td><td>else</td></tr>\n",
        "    <tr><td>except</td><td>finally</td><td>for</td><td>from</td><td>global</td></tr>\n",
        "    <tr><td>if</td><td>import</td><td>in</td><td>is</td><td>lambda</td></tr>\n",
        "    <tr><td>nonlocal</td><td>not</td><td>or</td><td>pass</td><td>raise</td></tr>\n",
        "    <tr><td>return</td><td>try</td><td>while</td><td>with</td><td>yield</td></tr>\n",
        "    <tr><td>None</td><td>False</td><td>True</td><td>exec</td><td>print</td></tr>\n",
        "</tbody></table>"
      ],
      "metadata": {
        "id": "dTZM2tJ57zSV"
      }
    },
    {
      "cell_type": "markdown",
      "source": [
        "#### 誤用保留字處理方式\n",
        "選單：執行階段 > 中斷連線並刪除階段  \n",
        "e.g.\n",
        "```python\n",
        "# 此例中用了保留字 print 給物件命名\n",
        "# 會出現錯誤：TypeError: 'str' object is not callable\n",
        "print = \"123\" # print 這個名稱已經被當成名稱標籤，並且跟字串綁定，亦即和本來拿來印出資料的功能解綁\n",
        "print(1234)   # 既然解綁了，就不能再拿來印資料。新的綁定是字串，並沒有「字串(物件)」這樣的語法。\n",
        "```"
      ],
      "metadata": {
        "id": "ljxVBdZR7-Fh"
      }
    },
    {
      "cell_type": "markdown",
      "source": [
        "## 字串, 數值物件命名在 Python 的運作\n",
        "> [圖示說明](https://docs.google.com/presentation/d/1g9UUkRSDZe4vbBcUVJA-E8jQPnJPl_RKcXrrrkw4j1g/edit?usp=sharing)"
      ],
      "metadata": {
        "id": "xFL4Dqa8DNC6"
      }
    },
    {
      "cell_type": "markdown",
      "source": [
        "- `id(物件)`：`id` 是內建函式，可印出物件的存放位置"
      ],
      "metadata": {
        "id": "ZDPVqgkOD-Vb"
      }
    },
    {
      "cell_type": "code",
      "source": [
        "# 標籤 a 貼的物件不一樣了，不同的物件就有不同的存放位置\n",
        "a=3\n",
        "print(id(a))\n",
        "a=4\n",
        "print(id(a))"
      ],
      "metadata": {
        "colab": {
          "base_uri": "https://localhost:8080/"
        },
        "id": "Hcp2Cai5DMbp",
        "outputId": "a7037b37-e781-4e67-a25e-6b424ec57ceb"
      },
      "execution_count": null,
      "outputs": [
        {
          "output_type": "stream",
          "name": "stdout",
          "text": [
            "136758674260272\n",
            "136758674260304\n"
          ]
        }
      ]
    },
    {
      "cell_type": "code",
      "source": [
        "# 標籤 b 貼的物件，不會因為 a 標籤改貼不同物件而改變，所以還是同一物件，保持相同的位置\n",
        "a=3\n",
        "b=a\n",
        "print(id(a),id(b))\n",
        "a=4\n",
        "print(id(a),id(b))"
      ],
      "metadata": {
        "id": "kDfJs_nFOjXv"
      },
      "execution_count": null,
      "outputs": []
    },
    {
      "cell_type": "markdown",
      "source": [
        "## Python 是一個動態性的語言\n",
        "- 在 Python 中，所有東西都是物件\n",
        "- 命名標籤可以隨時貼到不同型別的物件上\n",
        "- `type(物件)`：`type` 是內建函式，可印出物件的型別\n"
      ],
      "metadata": {
        "id": "Usd-IedPAaCG"
      }
    },
    {
      "cell_type": "code",
      "source": [
        "example = 96\n",
        "print(type(example))\n",
        "\n",
        "example = 96.0\n",
        "print(type(example))\n",
        "\n",
        "example = \"96\"\n",
        "print(type(example))"
      ],
      "metadata": {
        "colab": {
          "base_uri": "https://localhost:8080/"
        },
        "id": "3unIsSy2AeCj",
        "outputId": "6332549f-d4b6-49dc-a207-2e2237c7f734"
      },
      "execution_count": null,
      "outputs": [
        {
          "output_type": "stream",
          "name": "stdout",
          "text": [
            "<class 'int'>\n",
            "<class 'float'>\n",
            "<class 'str'>\n"
          ]
        }
      ]
    },
    {
      "cell_type": "code",
      "source": [
        "# print 也是內建函式\n",
        "print(type(print))"
      ],
      "metadata": {
        "colab": {
          "base_uri": "https://localhost:8080/"
        },
        "id": "6NoRyZlbA_MZ",
        "outputId": "4e0a86cb-6987-4d1b-a979-5c7c62ad2b83"
      },
      "execution_count": null,
      "outputs": [
        {
          "output_type": "stream",
          "name": "stdout",
          "text": [
            "<class 'builtin_function_or_method'>\n"
          ]
        }
      ]
    },
    {
      "cell_type": "markdown",
      "source": [
        "在其他的 Python 學習資源中，  \n",
        "通常會把 `a = 3` 的 `a` 稱作「變數」，整行程式碼會稱作「賦值」。  \n",
        "[變數](https://en.wikipedia.org/wiki/Variable_(computer_science))的定義是一個儲存空間，會有一個名稱跟一個值。  \n",
        "但因為變數、賦值在不同程式語言會有不同的運作方式，  \n",
        "所以此系列活動會以「命名標籤」、「物件命名」避免混淆。\n",
        "\n",
        "就像剛才講到 Python 與 C++ 語法看起來很類似，  \n",
        "但 C++ 是需要先給定型別再給予資料；  \n",
        "而 Python 是先有資料，再把資料貼上命名標籤，  \n",
        "這兩者設計上有根本上的不同。\n",
        "\n",
        "這樣的設計方式也是讓 Python 程式運作比 C++ 慢的原因之一。  \n",
        "但 Python 的開發實在太方便了，所以實務上很常是先用 Python 開發，確定可行性。  \n",
        "之後再改用其他更接近底層的程式語言 (e.g. C++) 開發同樣的內容讓電腦去執行，  \n",
        "這樣才會有更快的執行速度。"
      ],
      "metadata": {
        "id": "xcQaekzYLqa2"
      }
    },
    {
      "cell_type": "markdown",
      "source": [
        "雖然前面提過運算思維是可以跨程式語言的，  \n",
        "但實際上每個程式語言的設計方式還是會有些不同，  \n",
        "這些差異也會讓程式語法與程式執行結果因此而異。\n",
        "\n",
        "\n"
      ],
      "metadata": {
        "id": "i8QJspsCJePH"
      }
    },
    {
      "cell_type": "markdown",
      "source": [
        "# 型別轉換"
      ],
      "metadata": {
        "id": "7lRuPIPzMhGi"
      }
    },
    {
      "cell_type": "markdown",
      "source": [
        "通常銀行在計算利息滿多時候不會把小數點的值也算進去，即取整數，無條件捨去。    \n",
        "而實務上在處理資料的時候，資料讀進來預設是字串型別，如果我們知道這實際上是數字且需要做運算的話，也需要把字串轉成數字。"
      ],
      "metadata": {
        "id": "oi4sBlvGMw_Q"
      }
    },
    {
      "cell_type": "code",
      "source": [
        "# 字串與數值不可一同運算\n",
        "example_string = \"123\"\n",
        "example_int = 456\n",
        "print(example_string+example_int)"
      ],
      "metadata": {
        "id": "rv3pksfhMwPn"
      },
      "execution_count": null,
      "outputs": []
    },
    {
      "cell_type": "markdown",
      "source": [
        "## 內建函式-型別轉換\n",
        "- `int(物件)`：將物件轉成整數(integer)型別\n",
        "- `float(物件)`：將物件轉成浮點數(float)型別\n",
        "- `str(物件)`：將物件轉成字串(string)型別"
      ],
      "metadata": {
        "id": "tiQhb8wkPqNi"
      }
    },
    {
      "cell_type": "code",
      "source": [
        "int_num = 123\n",
        "float_num = 250.0625\n",
        "str_num = \"456\"\n",
        "str_float = \"5566.123\"\n",
        "print(int(float_num))\n",
        "print(str(int_num)+str_num)\n",
        "print(int_num+int(str_num))\n",
        "print(float(str_float)+int_num)"
      ],
      "metadata": {
        "colab": {
          "base_uri": "https://localhost:8080/"
        },
        "id": "FPCf2y0ZP5uw",
        "outputId": "b3df4255-6ebb-4329-a00d-dc6089af3870"
      },
      "execution_count": null,
      "outputs": [
        {
          "output_type": "stream",
          "name": "stdout",
          "text": [
            "250\n",
            "123456\n",
            "579\n",
            "5689.123\n"
          ]
        }
      ]
    },
    {
      "cell_type": "markdown",
      "source": [
        "- 轉換時需要符合對象型別的格式"
      ],
      "metadata": {
        "id": "5vfcDJaGQV_W"
      }
    },
    {
      "cell_type": "code",
      "source": [
        "str_float = \"5566.123\"\n",
        "print(int(str_float))"
      ],
      "metadata": {
        "colab": {
          "base_uri": "https://localhost:8080/",
          "height": 144
        },
        "id": "1tR666bqQT3s",
        "outputId": "e516c867-b2de-49aa-8041-40e7ea4a4332"
      },
      "execution_count": null,
      "outputs": [
        {
          "output_type": "error",
          "ename": "ValueError",
          "evalue": "invalid literal for int() with base 10: '5566.123'",
          "traceback": [
            "\u001b[0;31m---------------------------------------------------------------------------\u001b[0m",
            "\u001b[0;31mValueError\u001b[0m                                Traceback (most recent call last)",
            "\u001b[0;32m<ipython-input-8-5a49dee3879c>\u001b[0m in \u001b[0;36m<cell line: 1>\u001b[0;34m()\u001b[0m\n\u001b[0;32m----> 1\u001b[0;31m \u001b[0mprint\u001b[0m\u001b[0;34m(\u001b[0m\u001b[0mint\u001b[0m\u001b[0;34m(\u001b[0m\u001b[0mstr_float\u001b[0m\u001b[0;34m)\u001b[0m\u001b[0;34m)\u001b[0m\u001b[0;34m\u001b[0m\u001b[0;34m\u001b[0m\u001b[0m\n\u001b[0m",
            "\u001b[0;31mValueError\u001b[0m: invalid literal for int() with base 10: '5566.123'"
          ]
        }
      ]
    },
    {
      "cell_type": "markdown",
      "source": [
        "### [練習] 銀行利息型別修正\n",
        "請利用型別轉換的函式，將以下程式碼修正，  \n",
        "讓我們可以得到正確的一個月銀行利息 `250.0625`\n",
        "\n",
        "> #### Hint:\n",
        "- 程式碼中 「 _____ 」 的 部分是你要填寫程式碼的地方。  \n",
        "這邊只是示意，不見得答案就是跟 「 __ 」 的長度一樣，所以寫完你的答案後，請記得把多餘的「 __ 」 刪除。"
      ],
      "metadata": {
        "id": "ZpXccWbVRrEV"
      }
    },
    {
      "cell_type": "code",
      "source": [
        "principal_money = ____(\"100184\")\n",
        "bonus_money_limit = 100000\n",
        "basic_year_rate = ____(\"0.75\")\n",
        "bonus_year_rate = 2.25\n",
        "\n",
        "month_percent_rate = 0.01 / 12\n",
        "\n",
        "print(\n",
        "    ((principal_money-(principal_money%100)) * basic_year_rate * month_percent_rate)\n",
        "    +\n",
        "    (bonus_money_limit * bonus_year_rate * month_percent_rate)\n",
        " )"
      ],
      "metadata": {
        "id": "XQtZ2EKkR1_Q"
      },
      "execution_count": null,
      "outputs": []
    },
    {
      "cell_type": "markdown",
      "source": [
        "## ===\n",
        "網路上應該可以找到不少計算銀行利息的工具，  \n",
        "應該會發現它們只會顯示幾個輸入框，  \n",
        "讓你輸入你指定的「本金」、「年利率」、「計息月數」、...，  \n",
        "就能幫你算出你的利息。\n",
        "\n",
        "而這些工具並不會把整個程式碼呈現在畫面上，  \n",
        "要你修改程式碼才能計算出你想要的結果。"
      ],
      "metadata": {
        "id": "Cwn7mfkRW6jA"
      }
    },
    {
      "cell_type": "markdown",
      "source": [
        "# 輸入與輸出"
      ],
      "metadata": {
        "id": "rN3bx13MMinN"
      }
    },
    {
      "cell_type": "markdown",
      "source": [
        "## 輸出\n",
        "```python\n",
        "print(物件)\n",
        "```\n",
        "前面我們以前使用過 `print(物件)`不少次了，他的功能是輸出物件到螢幕上。\n",
        "  - 可以用`,`印出多個物件(印出後，會以空格分隔物件)"
      ],
      "metadata": {
        "id": "WrLCvmlBiXxJ"
      }
    },
    {
      "cell_type": "code",
      "source": [
        "a = \"2\"\n",
        "b = \"3\"\n",
        "print(a,b)\n",
        "print(a+b)"
      ],
      "metadata": {
        "id": "VblQlFvuhRb1"
      },
      "execution_count": null,
      "outputs": []
    },
    {
      "cell_type": "markdown",
      "source": [
        "## 輸入"
      ],
      "metadata": {
        "id": "zu8-NrcYinlJ"
      }
    },
    {
      "cell_type": "markdown",
      "source": [
        "```python\n",
        "命名標籤 = input(提示字)\n",
        "```\n",
        "`input()` 則是讓我們能從鍵盤輸入值給電腦，讓電腦能做進一步的處理。\n",
        "- 輸入的值會儲存為字串型別\n",
        "- 要把值貼上「命名標籤」才能知道輸入的資料在哪\n",
        "- 提示字是提醒你現在要輸入什麼資料，而不是實際上你輸入給電腦的資料\n"
      ],
      "metadata": {
        "id": "4SQhsaMOX-N_"
      }
    },
    {
      "cell_type": "code",
      "source": [
        "a = input() # 輸入資料後要按下 Enter 程式才會執行下一行\n",
        "b = input() # 輸入資料後要按下 Enter 程式才會執行下一行\n",
        "print(a+b)"
      ],
      "metadata": {
        "id": "pE8z0SqXZC6Z"
      },
      "execution_count": null,
      "outputs": []
    },
    {
      "cell_type": "markdown",
      "source": [
        "> 如果 colab 卡住沒有 input 的輸入框產生，可在選單：執行階段 > 中斷連線並刪除階段；或是重新整理整份講義"
      ],
      "metadata": {
        "id": "leHWALjTOrSA"
      }
    },
    {
      "cell_type": "markdown",
      "source": [
        "### 提示字的重要性\n",
        "現在 ChatGPT 等 AI 工具的發達，大家都會說輸入適當的提示字，也就是 prompt 很重要。  \n",
        "在這裡 Python 的 input 的語法中，提示字也是一樣的道理，能讓對象更準確地執行我們希望的結果：\n",
        "- 在 Python 中，程式是已經固定的運作邏輯，   \n",
        " input 是使用者輸入資料給電腦，讓電腦按照既定的邏輯而用不同的資料去執行。    \n",
        "所以提示字是提示使用者現在該輸入怎樣的資料，電腦會怎樣處理它，  \n",
        "確保使用者輸入正確的資訊。\n",
        "- ChatGPT 是我們主動跟 AI 互動，AI 會依據我們的需求，產出不同的結果。  \n",
        "在這個過程中，我們會希望希望 AI 讀懂我們的需求。  \n",
        "所以 ChatGPT 的提示字，也就是坊間常說的 Prompt，  \n",
        "指的是我們透過這些提示字，可以讓 ChatGPT 更能理解我們的需求。\n"
      ],
      "metadata": {
        "id": "G0tpHpw8jXkT"
      }
    },
    {
      "cell_type": "code",
      "source": [
        "print(\"請分別輸入兩個字串 a, b，我們會印出相加結果\")\n",
        "a = input(\"請輸入字串a\")\n",
        "b = input(\"請輸入字串b\")\n",
        "print(a+b)"
      ],
      "metadata": {
        "id": "gdgwK1kQYmb4"
      },
      "execution_count": null,
      "outputs": []
    },
    {
      "cell_type": "code",
      "source": [
        "print(\"請分別輸入數字a, b，我們會印出相加結果\")\n",
        "a = int(input(\"請輸入數字a\"))\n",
        "b = int(input(\"請輸入數字b\"))\n",
        "print(a+b)"
      ],
      "metadata": {
        "id": "tKx9QUYwX9Zm"
      },
      "execution_count": null,
      "outputs": []
    },
    {
      "cell_type": "markdown",
      "source": [
        "### [練習] 銀行利息計算工具\n",
        "請利用 `input()` 去修改我們的銀行計算程式，  \n",
        "讓使用者可以輸入不同的「本金」與「年利率」，  \n",
        "來計算一個月可以得到多少利息\n",
        "\n",
        "> #### Hint:\n",
        "> - 輸入的資料是字串型別，記得要做型別轉換\n",
        "> - 可以想像你是使用者，應該會希望程式告訴你現在是要輸入什麼資料。    \n",
        "畢竟本金、年利率輸入相反會得到天差地別的結果。\n",
        "> - 完成的程式，如果第一次輸入 `100184`，第二次輸入 `0.75`，  \n",
        "應該會得到跟之前一樣的答案 `250.0625`\n"
      ],
      "metadata": {
        "id": "ZfiFMSODZM-Y"
      }
    },
    {
      "cell_type": "code",
      "source": [
        "principal_money = ______\n",
        "bonus_money_limit = 100000\n",
        "basic_year_rate = ______\n",
        "bonus_year_rate = 2.25\n",
        "\n",
        "month_percent_rate = 0.01 / 12\n",
        "\n",
        "print(\n",
        "    ((principal_money-(principal_money%100)) * basic_year_rate * month_percent_rate)\n",
        "    +\n",
        "    (bonus_money_limit * bonus_year_rate * month_percent_rate)\n",
        " )"
      ],
      "metadata": {
        "id": "i-PL2OirZJjI"
      },
      "execution_count": null,
      "outputs": []
    },
    {
      "cell_type": "markdown",
      "source": [
        "# 字串好用的方法"
      ],
      "metadata": {
        "id": "BX7M_0wKMkfI"
      }
    },
    {
      "cell_type": "markdown",
      "source": [
        "## 取代 replace\n",
        "``` python\n",
        "處理後字串 = 原字串.replace(舊字串,新字串,取代次數)\n",
        "```\n",
        "- 將「原字串」中「舊字串」都取代為「新字串」，產生一個新的「處理後字串」\n",
        "- 不會改變原來字串\n",
        "- 取代次數預設是無限次\n"
      ],
      "metadata": {
        "id": "Fqh9MBdGdxkd"
      }
    },
    {
      "cell_type": "code",
      "source": [
        "string_example = \"Python Tutorial Workshop\"\n",
        "print(string_example.replace(\"t\",\"T\"))   # 全部取代\n",
        "print(string_example.replace(\"t\",\"T\",1)) # 只取代1次\n",
        "print(string_example) # 原字串沒有改變"
      ],
      "metadata": {
        "colab": {
          "base_uri": "https://localhost:8080/"
        },
        "id": "g6bikrQEeUuc",
        "outputId": "615de6c9-ffde-484a-8195-6388575f9d56"
      },
      "execution_count": null,
      "outputs": [
        {
          "output_type": "stream",
          "name": "stdout",
          "text": [
            "PyThon TuTorial Workshop\n",
            "PyThon Tutorial Workshop\n",
            "Python Tutorial Workshop\n"
          ]
        }
      ]
    },
    {
      "cell_type": "markdown",
      "source": [
        "### 實務案例：資料正規化\n",
        "通常我們只要清理過後的資料，所以會讓原來的命名標籤貼到處理後的字串上。"
      ],
      "metadata": {
        "id": "HqZzj9cplX0T"
      }
    },
    {
      "cell_type": "code",
      "source": [
        "brand = \"ＡＰＰＬＥ\"\n",
        "brand = brand.replace(\"Ａ\",\"A\").replace(\"Ｐ\",\"P\").replace(\"Ｌ\",\"L\").replace(\"Ｅ\",\"E\")\n",
        "print(brand)"
      ],
      "metadata": {
        "colab": {
          "base_uri": "https://localhost:8080/"
        },
        "id": "L1jBlkU3eW40",
        "outputId": "d893afcc-5173-4625-b009-6f7c95c8db1a"
      },
      "execution_count": null,
      "outputs": [
        {
          "output_type": "stream",
          "name": "stdout",
          "text": [
            "APPLE\n"
          ]
        }
      ]
    },
    {
      "cell_type": "code",
      "source": [
        "str_principal_money = \"100,084\"\n",
        "clean_str_principal_money = str_principal_money.replace(\",\", \"\")\n",
        "principal_money = int(clean_str_principal_money)\n",
        "print(principal_money * 2.25 * 0.01 / 12)"
      ],
      "metadata": {
        "colab": {
          "base_uri": "https://localhost:8080/"
        },
        "id": "sMWhl9RBmFBa",
        "outputId": "d802737f-ec6b-44ef-d8bc-b866a85f024f"
      },
      "execution_count": null,
      "outputs": [
        {
          "output_type": "stream",
          "name": "stdout",
          "text": [
            "187.6575\n"
          ]
        }
      ]
    },
    {
      "cell_type": "code",
      "source": [
        "# 字串太長，或有換行，可以用三個 雙引號\" 或是 單引號' 包起來\n",
        "article = \"\"\"\n",
        "越南一間名為「玉堂」的珍奶專賣店，店內除了販售珍珠奶茶外，還有販賣許多台灣味美食，如雞排、刈包、牛肉麵等，吸引不少台灣遊客到場品嘗，而近期玉堂也跟上了台灣的「創意料理」風潮，推出了把珍珠奶茶當作湯底的「珍珠奶茶牛肉麵」，一份售價98000越南盾（約台幣127元）\n",
        "\n",
        "消息曝光後瞬間引發熱議，有不少越南網友紛紛直呼『你敢吃我敢賣』、「我的天這是什麼」、「對人類失去信用」，也有不少人紛紛表示想嘗試看看。\n",
        "\n",
        "消息也傳到台灣，引發PTT網友們熱議，有人表示「義大利：不是不報」、「這就是義大利人看到鳳梨披薩的感受嗎」、「我不舒服了」、「我喜歡牛肉麵、拉麵、珍奶 不代表要全部喇在一起欸」、「分開吃不好嗎」等，不過也有人表示，「單看畫面其實不習慣，但看價格好像可以試試」、「這個價格沒什麼能挑剔，要是湯純奶茶就很用心」、「127可以吃看看，反正現在一般的也在這個價格甚至更高」。\n",
        "\"\"\"\n",
        "article=article.replace(\"『\",\"「\").replace(\"』\",\"」\")\n",
        "print(article)\n"
      ],
      "metadata": {
        "colab": {
          "base_uri": "https://localhost:8080/"
        },
        "id": "A8ZE-idwlu-6",
        "outputId": "10d28a62-4762-4808-9216-38e388f11245"
      },
      "execution_count": null,
      "outputs": [
        {
          "output_type": "stream",
          "name": "stdout",
          "text": [
            "\n",
            "越南一間名為「玉堂」的珍奶專賣店，店內除了販售珍珠奶茶外，還有販賣許多台灣味美食，如雞排、刈包、牛肉麵等，吸引不少台灣遊客到場品嘗，而近期玉堂也跟上了台灣的「創意料理」風潮，推出了把珍珠奶茶當作湯底的「珍珠奶茶牛肉麵」，一份售價98000越南盾（約台幣127元）\n",
            "\n",
            "消息曝光後瞬間引發熱議，有不少越南網友紛紛直呼「你敢吃我敢賣」、「我的天這是什麼」、「對人類失去信用」，也有不少人紛紛表示想嘗試看看。\n",
            "\n",
            "消息也傳到台灣，引發PTT網友們熱議，有人表示「義大利：不是不報」、「這就是義大利人看到鳳梨披薩的感受嗎」、「我不舒服了」、「我喜歡牛肉麵、拉麵、珍奶 不代表要全部喇在一起欸」、「分開吃不好嗎」等，不過也有人表示，「單看畫面其實不習慣，但看價格好像可以試試」、「這個價格沒什麼能挑剔，要是湯純奶茶就很用心」、「127可以吃看看，反正現在一般的也在這個價格甚至更高」。\n",
            "\n"
          ]
        }
      ]
    },
    {
      "cell_type": "markdown",
      "source": [
        "### [進階練習] 演講稿文字替換\n",
        "這是一部 Ted 影片：[Teach girls bravery, not perfection](https://www.ted.com/talks/reshma_saujani_teach_girls_bravery_not_perfection?language=zh-tw) 的中文演講逐字稿摘錄，  \n",
        "請把下文中  \n",
        "- 把最先出現的三個「女孩」取代成「女生」\n",
        "- 然後印出"
      ],
      "metadata": {
        "id": "w2U-DQrroQbj"
      }
    },
    {
      "cell_type": "code",
      "source": [
        "article = \"\"\"2012年我創立了一間公司 來教女孩寫程式 我發現到，透過教程式編寫 其實我是在培養她們變得勇敢\n",
        "程式編寫是一個「不斷檢測 與發現錯誤」的無止境過程\n",
        "要設法在對的地方，輸入正確的指令 有時候只是差一個分號 就足以決定成敗\n",
        "程式碼錯了，就全盤皆錯 時常要嘗試很多很多次 奇蹟才會出現\n",
        "你試著建構的東西總算活了起來 這項工作需要毅力 需要不完美\n",
        "\n",
        "我們馬上就發現 參與學程的女孩都害怕犯錯 害怕不完美 「寫程式的女孩」計畫的每個老師 都告訴我一樣的故事\n",
        "第一週，女孩們還在學 怎麼編寫程式碼時 學生會請她過去跟她說 「我不知道要寫什麼程式碼」\n",
        "老師看了看她的螢幕 只會看到一片空白\n",
        "假如她不夠瞭解，她會覺得她的學生 花了20分鐘，只是盯著螢幕發呆\n",
        "但如果她多按幾下復原鍵 她會看見學生其實 寫下程式碼又刪除了\n",
        "她試過，她逼近了 可是還沒做到完全正確\n",
        "她不呈現編寫的進展 卻寧願給人看一片空白 寧缺勿濫\"\"\""
      ],
      "metadata": {
        "id": "8Zl3n-rAoP8X"
      },
      "execution_count": null,
      "outputs": []
    },
    {
      "cell_type": "markdown",
      "source": [
        "#### [進階練習] reverse replace\n",
        "- 如果我希望最先出現的三個「女孩」保留，而其他地方的「女孩」都取代成「女生」呢？"
      ],
      "metadata": {
        "id": "rzqWx7I8ojCL"
      }
    },
    {
      "cell_type": "code",
      "source": [],
      "metadata": {
        "id": "TOhcGQ6F0M0Y"
      },
      "execution_count": null,
      "outputs": []
    },
    {
      "cell_type": "markdown",
      "source": [
        "## 格式化"
      ],
      "metadata": {
        "id": "t1T0SJsStnzI"
      }
    },
    {
      "cell_type": "markdown",
      "source": [
        "### format\n",
        "\n",
        "```python\n",
        "包含{}的字串.format(將{}替換的值)\n",
        "```\n",
        "- `format` 裡可以放數值、字串，不用特別再將數值轉換成字串型別\n",
        "- 可以傳遞很多參數：按照順序取用"
      ],
      "metadata": {
        "id": "7VDBlRluteNI"
      }
    },
    {
      "cell_type": "code",
      "source": [
        "# 使用格式化方法\n",
        "url = \"http://www.wantgoo.com/stock/{}?searchType=stocks\".format(2330)\n",
        "print(url)\n",
        "url = \"http://www.wantgoo.com/stock/{}?searchType=stocks\".format(2371)\n",
        "print(url)"
      ],
      "metadata": {
        "id": "f4e8LqgMt4iU"
      },
      "execution_count": null,
      "outputs": []
    },
    {
      "cell_type": "code",
      "source": [
        "# 用型別轉換與字串相加方法比較凌亂\n",
        "url = \"http://www.wantgoo.com/stock/\"+str(2330)+\"?searchType=stocks\"\n",
        "print(url)\n",
        "url = \"http://www.wantgoo.com/stock/\"+str(2371)+\"?searchType=stocks\"\n",
        "print(url)"
      ],
      "metadata": {
        "id": "rJeTBufzt2bR"
      },
      "execution_count": null,
      "outputs": []
    },
    {
      "cell_type": "code",
      "source": [
        "promote_msg = \"Hi {}, 這是你的優惠券 ptw-2024001 使用日期到 {}\".format(\"MarsW\", \"2024-12-31\")\n",
        "print(promote_msg)"
      ],
      "metadata": {
        "colab": {
          "base_uri": "https://localhost:8080/"
        },
        "id": "1vNMDtwtvz3m",
        "outputId": "5efdc477-c500-4767-da98-6edc86f0a07a"
      },
      "execution_count": null,
      "outputs": [
        {
          "output_type": "stream",
          "name": "stdout",
          "text": [
            "Hi MarsW, 這是你的優惠券 ptw-2024001 使用日期到 2024-12-31\n"
          ]
        }
      ]
    },
    {
      "cell_type": "markdown",
      "source": [
        "### `f-string`"
      ],
      "metadata": {
        "id": "uzS0oKnwKNer"
      }
    },
    {
      "cell_type": "markdown",
      "source": [
        "- `{}` 裡直接放上命名標籤\n",
        "- 字串開頭加上 `f`\n",
        "- 若有多個參數，比較不容易放錯位置"
      ],
      "metadata": {
        "id": "6rbD22JNKVH7"
      }
    },
    {
      "cell_type": "code",
      "source": [
        "name = \"MarsW\"\n",
        "date = \"2024-12-31\"\n",
        "promote_msg = f\"Hi {name}, 這是你的優惠券 ptw-2024001 使用日期到 {date}\"\n",
        "print(promote_msg)"
      ],
      "metadata": {
        "colab": {
          "base_uri": "https://localhost:8080/"
        },
        "id": "H997HheDHsd8",
        "outputId": "7f50bc43-2013-4f82-faad-f7dad6d71c1e"
      },
      "execution_count": null,
      "outputs": [
        {
          "output_type": "stream",
          "name": "stdout",
          "text": [
            "Hi MarsW, 這是你的優惠券 ptw-2024001 使用日期到 2024-12-31\n"
          ]
        }
      ]
    },
    {
      "cell_type": "markdown",
      "source": [
        "### [練習] 網頁套版\n",
        "我們常見的購物網站，商品列表頁之中\n",
        "  \n",
        "<img src=\"https://drive.google.com/uc?id=1EQjY5eWqMwx0mBrT7UENmFZj7Kj44O7z\" width=\"70%\"/>\n",
        "  \n",
        "每一個商品都有類似長相，例如都有圖片、名稱以及價格，我們稱之為 template：\n",
        "```\n",
        "                <div class=\"col mb-5\">\n",
        "                    <div class=\"card h-100\">\n",
        "                        <img class=\"card-img-top\" src=\"https://cdn.pixabay.com/photo/2015/10/22/07/55/tissues-1000849_1280.png\"/>\n",
        "                        <div class=\"card-body p-4\">\n",
        "                            <div class=\"text-center\">\n",
        "                                <h5 class=\"fw-bolder\">商品名稱</h5>\n",
        "                                $商品價格\n",
        "                            </div>\n",
        "                        </div>\n",
        "                    </div>\n",
        "                </div>\n",
        "```\n",
        "這一大串看不懂的內文，其實就是瀏覽器讀的格式，也就是所謂的網頁原始碼，  \n",
        "瀏覽器會將其轉換成我們看到的漂亮網頁樣貌。  \n",
        "\n",
        "請更改以下程式碼中的 `row_products_template`，也就是三個我們可以調整的商品版位，  \n",
        "將這三個版位用 `f-string` 或 `format` 的方式替換商品資訊\n",
        "- 第1個商品\n",
        "    - 商品名稱是「100抽12包1串」\n",
        "    - 商品價格 170\n",
        "- 第2個商品\n",
        "    - 商品名稱是「100抽12包3串」\n",
        "    - 商品價格 500\n",
        "- 第3個商品\n",
        "    - 商品名稱是「100抽12包6串」\n",
        "    - 商品價格 990\n",
        "\n",
        "> #### Hint:\n",
        "> - 比較長的字串我們是用三個雙引號「`\"`」包起來。如果使用 `f-string` 的 `f` 也是加在 「`\"`」 前面。"
      ],
      "metadata": {
        "id": "j-SjgK_xLIyv"
      }
    },
    {
      "cell_type": "code",
      "source": [
        "product_name1 = \"100抽12包1串\" # 商品名稱\n",
        "product_price1 = 170          # 價格\n",
        "\n",
        "product_name2 = \"100抽12包3串\" # 商品名稱\n",
        "product_price2 = 500          # 價格\n",
        "\n",
        "product_name3 = \"100抽12包6串\" # 商品名稱\n",
        "product_price3 = 990          # 價格\n",
        "\n",
        "row_products_template = \"\"\"\n",
        "                <div class=\"col mb-5\">\n",
        "                    <div class=\"card h-100\">\n",
        "                        <img class=\"card-img-top\" src=\"https://cdn.pixabay.com/photo/2015/10/22/07/55/tissues-1000849_1280.png\"/>\n",
        "                        <div class=\"card-body p-4\">\n",
        "                            <div class=\"text-center\">\n",
        "                                <h5 class=\"fw-bolder\">商品名稱</h5>\n",
        "                                $商品價格\n",
        "                            </div>\n",
        "                        </div>\n",
        "                    </div>\n",
        "                </div>\n",
        "                <div class=\"col mb-5\">\n",
        "                    <div class=\"card h-100\">\n",
        "                        <img class=\"card-img-top\" src=\"https://cdn.pixabay.com/photo/2015/10/22/07/55/tissues-1000849_1280.png\"/>\n",
        "                        <div class=\"card-body p-4\">\n",
        "                            <div class=\"text-center\">\n",
        "                                <h5 class=\"fw-bolder\">商品名稱</h5>\n",
        "                                $商品價格\n",
        "                            </div>\n",
        "                        </div>\n",
        "                    </div>\n",
        "                </div>\n",
        "                <div class=\"col mb-5\">\n",
        "                    <div class=\"card h-100\">\n",
        "                        <img class=\"card-img-top\" src=\"https://cdn.pixabay.com/photo/2015/10/22/07/55/tissues-1000849_1280.png\"/>\n",
        "                        <div class=\"card-body p-4\">\n",
        "                            <div class=\"text-center\">\n",
        "                                <h5 class=\"fw-bolder\">商品名稱</h5>\n",
        "                                $商品價格\n",
        "                            </div>\n",
        "                        </div>\n",
        "                    </div>\n",
        "                </div>\n",
        "\"\"\"\n",
        "print(row_products_template)"
      ],
      "metadata": {
        "id": "C32CtCqpLLfC"
      },
      "execution_count": null,
      "outputs": []
    },
    {
      "cell_type": "markdown",
      "source": [
        "實務上網頁開發就是這樣實作的：  \n",
        "後端會將資料傳給前端，例如剛才練習題中的：\n",
        "```\n",
        "product_name1 = \"100抽12包1串\" # 商品名稱\n",
        "product_price1 = 170          # 價格\n",
        "\n",
        "product_name2 = \"100抽12包3串\" # 商品名稱\n",
        "product_price2 = 500          # 價格\n",
        "\n",
        "product_name3 = \"100抽12包6串\" # 商品名稱\n",
        "product_price3 = 990          # 價格\n",
        "```\n",
        "前端再把它以 HTML 的格式組成網頁原始碼，將後端傳來的資料填上。  \n",
        "而大家看到漂亮的網頁樣貌，則是 HTML 再加上 CSS, JavaScript 等應用呈現的。"
      ],
      "metadata": {
        "id": "aR0-vMFoNn-t"
      }
    },
    {
      "cell_type": "markdown",
      "source": [
        "練習題中我們簡化了網頁的原始碼，比較完整的商品列表會是如同這樣"
      ],
      "metadata": {
        "id": "TkPERzypFX8i"
      }
    },
    {
      "cell_type": "code",
      "source": [
        "html = f\"\"\"\n",
        "<!DOCTYPE html>\n",
        "<html lang=\"en\">\n",
        "    <head>\n",
        "        <title>Shop Homepage</title>\n",
        "        <link rel=\"stylesheet\" href=\"https://cdn.jsdelivr.net/npm/bootstrap@4.4.1/dist/css/bootstrap.min.css\">\n",
        "    </head>\n",
        "    <body>\n",
        "        <header class=\"bg-dark py-5\">\n",
        "            <div class=\"container\">\n",
        "                <div class=\"text-center text-white\">\n",
        "                    <h1 class=\"display-4\">Product List</h1>\n",
        "                </div>\n",
        "            </div>\n",
        "        </header>\n",
        "        <div class=\"container px-4 px-lg-5 mt-5\">\n",
        "            <div class=\"row gx-3 gx-lg-5 row-cols-2 row-cols-md-3 row-cols-xl-3 justify-content-center\">\n",
        "            {row_products_template}\n",
        "            </div>\n",
        "        </div>\n",
        "    </body>\n",
        "</html>\n",
        "\"\"\"\n",
        "print(html)"
      ],
      "metadata": {
        "id": "bX1VcGOBEAL-"
      },
      "execution_count": null,
      "outputs": []
    },
    {
      "cell_type": "markdown",
      "source": [
        "將印出的結果存成 `.html`檔案下載到電腦上，  \n",
        "用瀏覽器開啟的樣貌就會像練習題的示意圖一樣\n"
      ],
      "metadata": {
        "id": "NMddPyUnWHNY"
      }
    },
    {
      "cell_type": "markdown",
      "source": [
        "# 布林型別與運算"
      ],
      "metadata": {
        "id": "U8MCE3Z-MmWh"
      }
    },
    {
      "cell_type": "markdown",
      "source": [
        "## 布林型別 boolean\n",
        "- True\n",
        "- False"
      ],
      "metadata": {
        "id": "L9tezaVPP9CC"
      }
    },
    {
      "cell_type": "markdown",
      "source": [
        "## 內建函數-判斷字串\n",
        "- `字串.isalpha()`：是否只含有字母\n",
        "- `字串.isnumeric()`：是否只含有數字(不支援小數點)\n",
        "- `字串.isalnum()`：是否只含有字母與數字\n",
        "- `字串.startswith(開頭字串)`：是否以開頭字串起始\n",
        "- `字串.endswith(結尾字串)`：是否以結尾字串結束\n"
      ],
      "metadata": {
        "id": "H4HPcxfPQeIG"
      }
    },
    {
      "cell_type": "code",
      "source": [
        "print(\"123\".isnumeric())\n",
        "print(\"123.45\".isnumeric())"
      ],
      "metadata": {
        "colab": {
          "base_uri": "https://localhost:8080/"
        },
        "id": "zy-BXwzbTF01",
        "outputId": "f1e80046-2e2c-4bb7-cec3-5927ef95c65d"
      },
      "execution_count": null,
      "outputs": [
        {
          "output_type": "stream",
          "name": "stdout",
          "text": [
            "True\n",
            "False\n"
          ]
        }
      ]
    },
    {
      "cell_type": "code",
      "source": [
        "msg = \"Hello Python\"\n",
        "print(msg.isalnum()) # 因為有空白字元\n",
        "print(msg.startswith(\"Hello\"))"
      ],
      "metadata": {
        "colab": {
          "base_uri": "https://localhost:8080/"
        },
        "id": "IM-hZ_5uSVT-",
        "outputId": "3a21618b-512b-4ba4-d13e-26d95d0c8575"
      },
      "execution_count": null,
      "outputs": [
        {
          "output_type": "stream",
          "name": "stdout",
          "text": [
            "False\n",
            "True\n"
          ]
        }
      ]
    },
    {
      "cell_type": "markdown",
      "source": [
        "### [練習] 判斷詐騙網站\n",
        "詐騙集團很常會假冒政府網站，騙取你輸入個資，  \n",
        "現在想請你寫一個程式來判斷某個網址是不是政府網站：\n",
        "- 台灣政府網站大多都是以 `.gov.tw` 結尾\n",
        "- 如果是台灣政府網站請印出 True， 否則印出 False。\n",
        "  \n",
        "  \n",
        "#### 測試內容：\n",
        "- https://www.nt-gov.bond 會印出 False\n",
        "- https://www.einvoice.nat.gov.tw 會印出 True"
      ],
      "metadata": {
        "id": "tW-Rxrr30Ot2"
      }
    },
    {
      "cell_type": "code",
      "source": [
        "url = \"https://www.nt-gov.bond\""
      ],
      "metadata": {
        "id": "lUfpXVbKbfXB"
      },
      "execution_count": null,
      "outputs": []
    },
    {
      "cell_type": "markdown",
      "source": [
        "## 比較運算\n",
        "- 產生的結果為bool布林型別\n",
        "- <, <=, >, >=, ==, !=\n",
        "- 字串也可以比較([ASCII](https://zh.wikipedia.org/zh-tw/ASCII))"
      ],
      "metadata": {
        "id": "o9eiGRn5QC70"
      }
    },
    {
      "cell_type": "code",
      "source": [
        "print(10>3)\n",
        "print(10==3) #<左邊的物件>「是否等於」<右邊的物件>\n",
        "print(10!=3) #不等於\n",
        "print(10<=3)\n",
        "print(\"Hi\"==\"hi\")\n",
        "print(\"Hi\">\"hi\")"
      ],
      "metadata": {
        "id": "NJq_-2A6MTDf",
        "colab": {
          "base_uri": "https://localhost:8080/"
        },
        "outputId": "169a2e55-cdc1-4921-c4ad-42d710737d73"
      },
      "execution_count": null,
      "outputs": [
        {
          "output_type": "stream",
          "name": "stdout",
          "text": [
            "True\n",
            "False\n",
            "True\n",
            "False\n",
            "False\n",
            "False\n"
          ]
        }
      ]
    },
    {
      "cell_type": "markdown",
      "source": [
        "## 邏輯運算\n",
        "- 產生的結果為bool布林型別\n",
        "- `and`：左右物件都為True=>True\n",
        "- `or`：左右物件其一為True=>True\n",
        "- `not`：反轉True/False"
      ],
      "metadata": {
        "id": "-VDQGsOsQRvq"
      }
    },
    {
      "cell_type": "code",
      "source": [
        "print(10>3 and 10==3)\n",
        "print(10>3 or 10==3)\n",
        "print(not 10==3)"
      ],
      "metadata": {
        "id": "TrSPTX0FQbhf"
      },
      "execution_count": null,
      "outputs": []
    },
    {
      "cell_type": "markdown",
      "source": [
        "### [進階練習] 判斷網站安全性\n",
        "我們想加強對於網站安全的判斷，  \n",
        "通常有 `https` 開頭的是安全的網站，請以原來判斷詐騙網站的程式改寫：\n",
        "- 網站是 `https` 開頭，而且結尾是 `.gov.tw` 請印出 True\n",
        "- 其餘請印出 False\n",
        "\n",
        "#### 測試內容：\n",
        "- https://www.nt-gov.bond 會印出 False\n",
        "- https://www.einvoice.nat.gov.tw 會印出 True\n",
        "- http://www.afa.gov.tw/ 會印出 False"
      ],
      "metadata": {
        "id": "VC7z1dpx05Ii"
      }
    },
    {
      "cell_type": "code",
      "source": [
        "url = \"https://www.nt-gov.bond\""
      ],
      "metadata": {
        "id": "hYRVQ3w00Qzz"
      },
      "execution_count": null,
      "outputs": []
    },
    {
      "cell_type": "markdown",
      "source": [
        "## 布林型別轉換"
      ],
      "metadata": {
        "id": "W_WsLl4JT1Nr"
      }
    },
    {
      "cell_type": "markdown",
      "source": [
        "### 其他型別轉布林\n",
        "實務上常用在判斷該型別是否有資料\n",
        "- 數值是否不等於0\n",
        "- 字串是否有值\n",
        "- ...\n"
      ],
      "metadata": {
        "id": "ICdfvPikT5hE"
      }
    },
    {
      "cell_type": "code",
      "source": [
        "print(bool(0), bool(\"\"))\n",
        "print(bool(-1), bool(0.01), bool(1), bool(\"Hi\"))"
      ],
      "metadata": {
        "colab": {
          "base_uri": "https://localhost:8080/"
        },
        "id": "t8--rW8PUCyt",
        "outputId": "8868d6ca-a0b8-4ed5-da5c-ca7f6b47486d"
      },
      "execution_count": null,
      "outputs": [
        {
          "output_type": "stream",
          "name": "stdout",
          "text": [
            "False False\n",
            "True True True True\n"
          ]
        }
      ]
    },
    {
      "cell_type": "markdown",
      "source": [
        "### 布林轉整數"
      ],
      "metadata": {
        "id": "qoSQZH28UG1z"
      }
    },
    {
      "cell_type": "code",
      "source": [
        "print(int(True))\n",
        "print(int(False))"
      ],
      "metadata": {
        "colab": {
          "base_uri": "https://localhost:8080/"
        },
        "id": "QXhBneJaTp0K",
        "outputId": "6c5d9ab7-7eb9-4bec-8e70-a5b11332d073"
      },
      "execution_count": null,
      "outputs": [
        {
          "output_type": "stream",
          "name": "stdout",
          "text": [
            "1\n",
            "0\n"
          ]
        }
      ]
    },
    {
      "cell_type": "markdown",
      "source": [
        "#### 改寫「銀行利息」\n",
        "原版本遇到本金小於十萬就會出錯，修正後\n",
        "- 本金 100184 仍會計算得原來的利息 250.0625\n",
        "- 本金  90184 的利息為 225.25"
      ],
      "metadata": {
        "id": "RF2GqmsGU_HD"
      }
    },
    {
      "cell_type": "code",
      "source": [
        "principal_money = 90184\n",
        "bonus_money_limit = 100000\n",
        "basic_year_rate = 0.75\n",
        "bonus_year_rate = 2.25\n",
        "\n",
        "month_percent_rate = 0.01 / 12\n",
        "\n",
        "base_money = principal_money-(principal_money%100)\n",
        "condition = int(base_money>bonus_money_limit)\n",
        "larger_than_bonus_limit_formula = (\n",
        "    (base_money * basic_year_rate * month_percent_rate)\n",
        "    +\n",
        "    (bonus_money_limit * bonus_year_rate * month_percent_rate)\n",
        " )\n",
        "\n",
        "smaller_than_bonus_limit_formula = (\n",
        "    (base_money * (basic_year_rate + bonus_year_rate) * month_percent_rate)\n",
        ")\n",
        "# smaller_than_bonus_limit = (\n",
        "#     (base_money * basic_year_rate * month_percent_rate)\n",
        "#     +\n",
        "#     (base_money * bonus_year_rate * month_percent_rate)\n",
        "#  )\n",
        "\n",
        "print(\n",
        "    (condition * larger_than_bonus_limit_formula )\n",
        "    + ((not condition) * smaller_than_bonus_limit_formula)\n",
        ")"
      ],
      "metadata": {
        "colab": {
          "base_uri": "https://localhost:8080/"
        },
        "id": "RNRWGO9gU_uf",
        "outputId": "0e5a137b-3c1b-4338-cdce-37d86d323a67"
      },
      "execution_count": null,
      "outputs": [
        {
          "output_type": "stream",
          "name": "stdout",
          "text": [
            "225.25000000000003\n"
          ]
        }
      ]
    },
    {
      "cell_type": "markdown",
      "source": [
        "> 為什麼答案不是剛好等於 225.25？  \n",
        "> 因為一般的浮點數實作上並沒有非常精確，所以在運算上可能會有一些誤差  \n",
        "> 可以參考此篇 [文章](https://medium.com/pyladies-taiwan/%E7%B2%BE%E7%A2%BA%E7%9A%84%E6%B5%AE%E9%BB%9E%E6%95%B8%E9%81%8B%E7%AE%97-28d34e652e51) 的說明"
      ],
      "metadata": {
        "id": "bbQ88ZYlZ6of"
      }
    },
    {
      "cell_type": "markdown",
      "source": [
        "### [補充練習] 時間是否足夠\n",
        "忘了些東西在公司，但末班的公車快來了，不知道是否來得及～   \n",
        "分別輸入五個數字，分別是\n",
        "\n",
        "- 現在的時間-小時部分\n",
        "- 現在的時間-分鐘部分\n",
        "- 末班車時間-小時部分\n",
        "- 末班車時間-分鐘部分\n",
        "- 公車站往返公司所需的分鐘\n",
        "  \n",
        "請寫一隻程式判斷是否來得及(剛好到達也算)： 來得及就印 True，否則印 False！\n",
        "\n",
        "eg. 21 00 21 15 13 => True  \n",
        "現在時間是 21:00，末班車發車時間是 21:15，往返時間需要 13 分鐘 => 來得及\n",
        "\n",
        "> #### Hint:\n",
        "> 我們還不知道怎麼寫程式讓分鐘超過60就進位，小時也有0~23的限制   \n",
        "> 可以全部都換算成分鐘 eg. 00:01 => 1 , 01:02 => 62  \n",
        "> input()：輸入，要記得要用個命名物件去接，儲存的型別為字串  \n",
        "> 小於等於是<=符號、大於是>符號   \n",
        "\n",
        "\n",
        "#### 測試內容：\n",
        "- 21 00 21 15 15 => True  \n",
        "現在時間是 21:00，末班車發車時間是 21:15，往返時間需要 15 分鐘 => 來得及\n",
        "\n",
        "- 21 50 22 05 20 => False  \n",
        "現在時間是 21:50，末班車發車時間是 22:05，往返時間需要 20 分鐘 => 來不及"
      ],
      "metadata": {
        "id": "6eH10ptnYMmm"
      }
    },
    {
      "cell_type": "code",
      "source": [
        "now_hour = _____\n",
        "now_minute = _____\n",
        "last_bus_hour = _____\n",
        "last_bus_minute = _____\n",
        "duration_minute = _____\n",
        "\n",
        "now_minutes = now_hour*60 + now_minute\n",
        "last_bus_minutes = _____\n",
        "\n",
        "print(_____ <= _____)"
      ],
      "metadata": {
        "id": "-bcZugiv0Ryf"
      },
      "execution_count": null,
      "outputs": []
    },
    {
      "cell_type": "markdown",
      "source": [
        "## ===\n",
        "布林型別直接使用上還是有些限制，有時也不是太直觀，  \n",
        "像是如果我們要網站安全與否，通常不會只有安全/不安全，可能會列出安全等級，   \n",
        "這時候就要配上的是「判斷式」才能真正的大展身手。  "
      ],
      "metadata": {
        "id": "1V-2PBJkY1W8"
      }
    }
  ]
}
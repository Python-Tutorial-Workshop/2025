{
  "nbformat": 4,
  "nbformat_minor": 0,
  "metadata": {
    "colab": {
      "provenance": [],
      "toc_visible": true
    },
    "kernelspec": {
      "name": "python3",
      "display_name": "Python 3"
    },
    "language_info": {
      "name": "python"
    }
  },
  "cells": [
    {
      "cell_type": "markdown",
      "source": [
        "字典型別是我們這系列學習的最後一個 Python 語法，  \n",
        "他有時候比串列更適合處理某些情境："
      ],
      "metadata": {
        "id": "CLeXTu7RJqsS"
      }
    },
    {
      "cell_type": "markdown",
      "source": [
        "# 字典 (dictionary)"
      ],
      "metadata": {
        "id": "z9x3_oN_74EX"
      }
    },
    {
      "cell_type": "markdown",
      "source": [
        "\n",
        "<img src=\"https://cdn.pixabay.com/photo/2018/01/23/13/25/book-3101450_1280.jpg\" width=\"30%\"/>"
      ],
      "metadata": {
        "id": "e_5w6vH4SosQ"
      }
    },
    {
      "cell_type": "markdown",
      "source": [
        "\n",
        "- 字典用「成對的」大括號「`{}`」包住裡面的元素，元素間用「`,`」隔開\n",
        "    - 在實務上會為了方便我們手動增加元素，最後面的元素也會加「`,`」\n",
        "- 字典裡的每個元素是 key\n",
        "- key 需要有對應的 value\n",
        "- key 跟 value 的對應是用「`:`」表示\n",
        "- key 需為不可變物件 (e.g. int、float、str)，且需唯一\n",
        "    - 也就是說，同樣一個 key ，不會指到不同的 value\n",
        "\n"
      ],
      "metadata": {
        "id": "V7SzT94574o9"
      }
    },
    {
      "cell_type": "code",
      "source": [
        "dict_example = {\n",
        "    \"A\": 20,\n",
        "    \"B\": 25,\n",
        "    \"C\": 10,\n",
        "}"
      ],
      "metadata": {
        "id": "L5x9KFw29COV"
      },
      "execution_count": null,
      "outputs": []
    },
    {
      "cell_type": "markdown",
      "source": [
        "### 字典的長度：有幾組元素\n",
        "- 字典裡的每個元素是 key\n",
        "- 簡單的說，有幾個 key 就有幾組元素"
      ],
      "metadata": {
        "id": "jZlbRgF7HQzu"
      }
    },
    {
      "cell_type": "code",
      "source": [
        "dict_example = {\n",
        "    \"A\": 20,\n",
        "    \"B\": 25,\n",
        "    \"C\": 10,\n",
        "}\n",
        "print(len(dict_example))"
      ],
      "metadata": {
        "colab": {
          "base_uri": "https://localhost:8080/"
        },
        "id": "Pl6i_EboHcoU",
        "outputId": "fc549b39-b3bb-4a08-97b7-d67570d45a2a"
      },
      "execution_count": null,
      "outputs": [
        {
          "output_type": "stream",
          "name": "stdout",
          "text": [
            "3\n"
          ]
        }
      ]
    },
    {
      "cell_type": "markdown",
      "source": [
        "### 字典的布林型別\n",
        "- 可以判斷是否為空字典"
      ],
      "metadata": {
        "id": "n6jtzXByHMpN"
      }
    },
    {
      "cell_type": "code",
      "source": [
        "dict_example = {\n",
        "    \"A\": 20,\n",
        "    \"B\": 25,\n",
        "    \"C\": 10,\n",
        "}\n",
        "dict_empty = {}\n",
        "\n",
        "print(bool(dict_example))\n",
        "print(bool(dict_empty))"
      ],
      "metadata": {
        "colab": {
          "base_uri": "https://localhost:8080/"
        },
        "id": "dHHyBbnnHdL_",
        "outputId": "42811848-c47f-41ba-e5e4-b3beae307699"
      },
      "execution_count": null,
      "outputs": [
        {
          "output_type": "stream",
          "name": "stdout",
          "text": [
            "True\n",
            "False\n"
          ]
        }
      ]
    },
    {
      "cell_type": "markdown",
      "source": [
        "## 取得字典的資料\n",
        "```python\n",
        "字典[key]\n",
        "```\n",
        "字典以鍵值 key 去取資料 value，很像是串列可以用索引 index 去取這個索引值位置的 value"
      ],
      "metadata": {
        "id": "rBB7Kd7TCJQM"
      }
    },
    {
      "cell_type": "code",
      "source": [
        "dict_example = {\n",
        "    \"A\": 20,\n",
        "    \"B\": 25,\n",
        "    \"C\": 10,\n",
        "}\n",
        "print(dict_example[\"B\"])"
      ],
      "metadata": {
        "colab": {
          "base_uri": "https://localhost:8080/"
        },
        "id": "-Cz4G0sHCIAC",
        "outputId": "e1c41812-540a-44b9-ef5c-6080781f4bad"
      },
      "execution_count": null,
      "outputs": [
        {
          "output_type": "stream",
          "name": "stdout",
          "text": [
            "25\n"
          ]
        }
      ]
    },
    {
      "cell_type": "code",
      "source": [
        "list_example = [20,25,10,]\n",
        "print(list_example[1])"
      ],
      "metadata": {
        "colab": {
          "base_uri": "https://localhost:8080/"
        },
        "id": "5Hgc1g2jBiED",
        "outputId": "1cdda104-5f58-4d89-b530-fb3b0cd24137"
      },
      "execution_count": null,
      "outputs": [
        {
          "output_type": "stream",
          "name": "stdout",
          "text": [
            "25\n"
          ]
        }
      ]
    },
    {
      "cell_type": "markdown",
      "source": [
        "### 用不存在的 key 取用字典的資料"
      ],
      "metadata": {
        "id": "C8rAIR9hGfiZ"
      }
    },
    {
      "cell_type": "code",
      "source": [
        "dict_example = {\n",
        "    \"A\": 20,\n",
        "    \"B\": 25,\n",
        "    \"C\": 10,\n",
        "}\n",
        "print(dict_example[\"D\"])"
      ],
      "metadata": {
        "colab": {
          "base_uri": "https://localhost:8080/",
          "height": 180
        },
        "id": "00yQsK1JGxTC",
        "outputId": "93e2ead4-400d-4d61-d458-6f0d232766a9"
      },
      "execution_count": null,
      "outputs": [
        {
          "output_type": "error",
          "ename": "KeyError",
          "evalue": "'D'",
          "traceback": [
            "\u001b[0;31m---------------------------------------------------------------------------\u001b[0m",
            "\u001b[0;31mKeyError\u001b[0m                                  Traceback (most recent call last)",
            "\u001b[0;32m<ipython-input-44-7af129d171c1>\u001b[0m in \u001b[0;36m<cell line: 6>\u001b[0;34m()\u001b[0m\n\u001b[1;32m      4\u001b[0m     \u001b[0;34m\"C\"\u001b[0m\u001b[0;34m:\u001b[0m \u001b[0;36m10\u001b[0m\u001b[0;34m,\u001b[0m\u001b[0;34m\u001b[0m\u001b[0;34m\u001b[0m\u001b[0m\n\u001b[1;32m      5\u001b[0m }\n\u001b[0;32m----> 6\u001b[0;31m \u001b[0mprint\u001b[0m\u001b[0;34m(\u001b[0m\u001b[0mdict_example\u001b[0m\u001b[0;34m[\u001b[0m\u001b[0;34m\"D\"\u001b[0m\u001b[0;34m]\u001b[0m\u001b[0;34m)\u001b[0m\u001b[0;34m\u001b[0m\u001b[0;34m\u001b[0m\u001b[0m\n\u001b[0m",
            "\u001b[0;31mKeyError\u001b[0m: 'D'"
          ]
        }
      ]
    },
    {
      "cell_type": "markdown",
      "source": [
        "### [練習] 物流狀態查詢系統\n",
        "網路購物通常可以用物流編號去查詢現在這個商品的寄送狀態，  \n",
        "物流編號是唯一值，所以我們可以用物流編號當成字典的 key，對應到的物流狀態當成 value，  \n",
        "來儲存所有的物流商品跟其物流狀態：\n",
        "- 物流編號 TW92212567 的狀態為「賣家已寄出」\n",
        "- 物流編號 TW92212568 的狀態為「賣家已寄出」\n",
        "- 物流編號 TW92212569 的狀態為「到達物流中心」\n",
        "- 物流編號 TW92212570 的狀態為「商品配送中」\n",
        "- 物流編號 TW92212571 的狀態為「已送達」\n",
        "\n",
        "\n",
        "請用字典取值的方式，印出物流編號 TW92212569 的物流狀態\n",
        "```\n",
        "到達物流中心\n",
        "```"
      ],
      "metadata": {
        "id": "B3w2CutzJF77"
      }
    },
    {
      "cell_type": "code",
      "source": [
        "package_status_dict = {\n",
        "    \"TW92212567\": \"賣家已寄出\",\n",
        "    \"TW92212568\": \"賣家已寄出\",\n",
        "    \"TW92212569\": \"到達物流中心\",\n",
        "    \"TW92212570\": \"商品配送中\",\n",
        "    \"TW92212571\": \"已送達\"\n",
        "}\n",
        "print(package_status_dict[_______])"
      ],
      "metadata": {
        "id": "VyXfluVuK0aH"
      },
      "execution_count": null,
      "outputs": []
    },
    {
      "cell_type": "markdown",
      "source": [
        "#### [練習] 物流狀態查詢系統 - 模擬查詢介面\n",
        "前面我們直接用指定的物流編號對字典取值，但我們真實世界中，物流編號是隨使用者輸入而更換，用以上的程式碼不夠彈性。  \n",
        "回顧一下之前我們使用 [`input`](https://colab.research.google.com/drive/1l9fv5A2EThLIkUlVHA0VahgosnWKkTi7#scrollTo=zu8-NrcYinlJ) 讓使用者輸入資料，我們會貼一個命名標籤到我們想要查詢的資料上。  \n",
        "  \n",
        "這裡我們使用 `package_num` 當命名標籤，這個命名標籤綁定物流編號 TW92212569(字串)。  \n",
        "請改寫我們原本的程式碼，改用標籤`package_num`去跟字典取值，也就是拿到物流編號 TW92212569 的物流狀態「到達物流中心」 ："
      ],
      "metadata": {
        "id": "hyvFxjTZAG-t"
      }
    },
    {
      "cell_type": "code",
      "source": [
        "package_num = \"TW92212569\"\n",
        "package_status_dict = {\n",
        "    \"TW92212567\": \"賣家已寄出\",\n",
        "    \"TW92212568\": \"賣家已寄出\",\n",
        "    \"TW92212569\": \"到達物流中心\",\n",
        "    \"TW92212570\": \"商品配送中\",\n",
        "    \"TW92212571\": \"已送達\"\n",
        "}\n",
        "print(package_status_dict[_______])"
      ],
      "metadata": {
        "id": "zqoZNuV8ARvP"
      },
      "execution_count": null,
      "outputs": []
    },
    {
      "cell_type": "markdown",
      "source": [
        "如果用串列實作，程式碼會長的像這樣"
      ],
      "metadata": {
        "id": "05LBZlNwOSa_"
      }
    },
    {
      "cell_type": "code",
      "source": [
        "package_status_list = [\n",
        "    [\"TW92212567\", \"賣家已寄出\"],\n",
        "    [\"TW92212568\", \"賣家已寄出\"],\n",
        "    [\"TW92212569\", \"到達物流中心\"],\n",
        "    [\"TW92212570\", \"商品配送中\"],\n",
        "    [\"TW92212571\", \"已送達\"],\n",
        "]\n",
        "# 印出物流編號 TW92212569 的狀態\n",
        "for package in package_status_list:\n",
        "    package_num = package[0]\n",
        "    package_status = package[1]\n",
        "    if package_num == \"TW92212569\":\n",
        "        print(package_status)"
      ],
      "metadata": {
        "colab": {
          "base_uri": "https://localhost:8080/"
        },
        "id": "ncU7gfNWOV94",
        "outputId": "c3b11f5c-15db-4e24-eb0c-66bba89d8238"
      },
      "execution_count": null,
      "outputs": [
        {
          "output_type": "stream",
          "name": "stdout",
          "text": [
            "到達物流中心\n"
          ]
        }
      ]
    },
    {
      "cell_type": "markdown",
      "source": [
        "### [補充練習] 計算庫存\n",
        "水果庫存、價格都以字典型別儲存，  \n",
        "請計算若水果都賣出後，可賺進多少錢？(答案是 `235`)  \n",
        "\n"
      ],
      "metadata": {
        "id": "Nv4hMo-tH_KU"
      }
    },
    {
      "cell_type": "code",
      "source": [
        "stock={\n",
        "    \"banana\":5,\n",
        "    \"apple\":3,\n",
        "    \"orange\":10,\n",
        "}\n",
        "price={\n",
        "    \"banana\":5,\n",
        "    \"apple\":20,\n",
        "    \"orange\":15,\n",
        "}\n",
        "\n",
        "revenue = 0\n",
        "revenue += stock[\"____\"] * price[\"____\"]\n",
        "revenue += stock[\"____\"] * price[\"____\"]\n",
        "revenue += stock[\"____\"] * price[\"____\"]\n",
        "print(revenue)"
      ],
      "metadata": {
        "id": "L3PT4vf8IHo9"
      },
      "execution_count": null,
      "outputs": []
    },
    {
      "cell_type": "markdown",
      "source": [
        "## 更改字典的資料\n",
        "字典是可變物件\n",
        "```python\n",
        "字典[key] = 物件\n",
        "```"
      ],
      "metadata": {
        "id": "1xoh3JLrCwa3"
      }
    },
    {
      "cell_type": "markdown",
      "source": [
        "字典以鍵值 key 去指向資料， 如果 key 存在會指向新值。"
      ],
      "metadata": {
        "id": "rPp3FQiTqJo4"
      }
    },
    {
      "cell_type": "code",
      "source": [
        "dict_example = {\n",
        "    \"A\": 20,\n",
        "    \"B\": 25,\n",
        "    \"C\": 10,\n",
        "}\n",
        "print(id(dict_example))\n",
        "dict_example[\"C\"] = 15\n",
        "dict_example[\"B\"] +=5     #  dict_example[\"B\"] = dict_example[\"B\"]+5\n",
        "print(dict_example)\n",
        "print(id(dict_example))"
      ],
      "metadata": {
        "colab": {
          "base_uri": "https://localhost:8080/"
        },
        "id": "esIlwTRWDnMB",
        "outputId": "9cc87b6e-3d3c-4782-b125-66af98792482"
      },
      "execution_count": null,
      "outputs": [
        {
          "output_type": "stream",
          "name": "stdout",
          "text": [
            "139768994820160\n",
            "{'A': 20, 'B': 30, 'C': 15}\n",
            "139768994820160\n"
          ]
        }
      ]
    },
    {
      "cell_type": "code",
      "source": [
        "list_example = [20,25,10]\n",
        "list_example[2] = 15\n",
        "list_example[1] += 5       #  list_example[1] = list_example[1]+5\n",
        "print(list_example)"
      ],
      "metadata": {
        "colab": {
          "base_uri": "https://localhost:8080/"
        },
        "id": "tQ4s0Cd7DWug",
        "outputId": "bc55adf6-2658-4b90-8791-d1a74bd7bdd0"
      },
      "execution_count": null,
      "outputs": [
        {
          "output_type": "stream",
          "name": "stdout",
          "text": [
            "[20, 30, 15]\n"
          ]
        }
      ]
    },
    {
      "cell_type": "markdown",
      "source": [
        "字典以鍵值 key 去指向資料， 如果 key 不存在會加入此 key 與對應的 value。"
      ],
      "metadata": {
        "id": "L0jqaVBaqHVI"
      }
    },
    {
      "cell_type": "code",
      "source": [
        "dict_example = {\n",
        "    \"A\": 20,\n",
        "    \"B\": 25,\n",
        "    \"C\": 10,\n",
        "}\n",
        "print(id(dict_example))\n",
        "dict_example[\"D\"] = 30\n",
        "print(dict_example)\n",
        "print(id(dict_example))"
      ],
      "metadata": {
        "colab": {
          "base_uri": "https://localhost:8080/"
        },
        "id": "vcWIVk0MDnTh",
        "outputId": "3d8403ba-4ef9-4c62-977d-70bb00147450"
      },
      "execution_count": null,
      "outputs": [
        {
          "output_type": "stream",
          "name": "stdout",
          "text": [
            "132711431870080\n",
            "{'A': 20, 'B': 25, 'C': 10, 'D': 30}\n",
            "132711431870080\n"
          ]
        }
      ]
    },
    {
      "cell_type": "code",
      "source": [
        "list_example = [20,25,10]\n",
        "list_example.append(30)\n",
        "print(list_example)"
      ],
      "metadata": {
        "colab": {
          "base_uri": "https://localhost:8080/"
        },
        "id": "z_ABqKS-DM4W",
        "outputId": "57aa1cc3-0412-4c7a-bd7f-2d73d9c3f741"
      },
      "execution_count": null,
      "outputs": [
        {
          "output_type": "stream",
          "name": "stdout",
          "text": [
            "[20, 25, 10, 30]\n"
          ]
        }
      ]
    },
    {
      "cell_type": "markdown",
      "source": [
        "### [練習] 物流系統更新\n",
        "物流系統總是會有新的物流商品加入，既有的商品的物流狀態也會更新。  \n",
        "延續之前物流系統練習題，此系統有兩筆新的更動：  \n",
        "- 物流編號 TW92212568 的狀態改為 「到達物流中心」\n",
        "- 新增一筆物流編號 TW92212572，物流狀態為「賣家已寄出」\n",
        "\n",
        "請用更改字典資料的語法去更新此物流系統的資料。"
      ],
      "metadata": {
        "id": "mX0fY_GEPS5U"
      }
    },
    {
      "cell_type": "code",
      "source": [
        "package_status_dict = {\n",
        "    \"TW92212567\": \"賣家已寄出\",\n",
        "    \"TW92212568\": \"賣家已寄出\",\n",
        "    \"TW92212569\": \"到達物流中心\",\n",
        "    \"TW92212570\": \"商品配送中\",\n",
        "    \"TW92212571\": \"已送達\"\n",
        "}\n",
        "\n",
        "package_status_dict[_____] = _______\n",
        "package_status_dict[_____] = _______\n",
        "\n",
        "print(package_status_dict[\"TW92212568\"]) # 印出結果應該要為 \"到達物流中心\"\n",
        "print(package_status_dict[\"TW92212569\"]) # 印出結果應該要為 \"到達物流中心\"\n",
        "print(package_status_dict[\"TW92212572\"]) # 印出結果應該要為 \"賣家已寄出\""
      ],
      "metadata": {
        "id": "7sMqdTgnQOOD"
      },
      "execution_count": null,
      "outputs": []
    },
    {
      "cell_type": "markdown",
      "source": [
        "如果用串列實作，程式碼會長的像這樣"
      ],
      "metadata": {
        "id": "C7AP2uC6RKQv"
      }
    },
    {
      "cell_type": "code",
      "source": [
        "package_status_list = [\n",
        "    [\"TW92212567\", \"賣家已寄出\"],\n",
        "    [\"TW92212568\", \"賣家已寄出\"],\n",
        "    [\"TW92212569\", \"到達物流中心\"],\n",
        "    [\"TW92212570\", \"商品配送中\"],\n",
        "    [\"TW92212571\", \"已送達\"],\n",
        "]\n",
        "# 更改物流編號 TW92212568 的狀態\n",
        "for package in package_status_list:\n",
        "    package_num = package[0]\n",
        "    if package_num == \"TW92212568\":\n",
        "        package[1]=\"到達物流中心\"\n",
        "\n",
        "# 新增物流編號 TW92212572，物流狀態為「賣家已寄出」\n",
        "package_status_list.append([\"TW92212572\", \"賣家已寄出\"]) # 要小心編號跟物流狀態不要放相反\n",
        "\n",
        "# 印出物流編號 TW92212568 的狀態\n",
        "for package in package_status_list:\n",
        "    package_num = package[0]\n",
        "    package_status = package[1]\n",
        "    if package_num == \"TW92212568\":\n",
        "        print(package_status)\n",
        "\n",
        "# 印出物流編號 TW92212569 的狀態\n",
        "for package in package_status_list:\n",
        "    package_num = package[0]\n",
        "    package_status = package[1]\n",
        "    if package_num == \"TW92212569\":\n",
        "        print(package_status)\n",
        "\n",
        "# 印出物流編號 TW92212572 的狀態\n",
        "for package in package_status_list:\n",
        "    package_num = package[0]\n",
        "    package_status = package[1]\n",
        "    if package_num == \"TW92212572\":\n",
        "        print(package_status)"
      ],
      "metadata": {
        "id": "FjxshoeZRTNt",
        "colab": {
          "base_uri": "https://localhost:8080/"
        },
        "outputId": "969a7121-2fe2-4eab-dd61-ebb86309afbf"
      },
      "execution_count": null,
      "outputs": [
        {
          "output_type": "stream",
          "name": "stdout",
          "text": [
            "到達物流中心\n",
            "到達物流中心\n",
            "賣家已寄出\n"
          ]
        }
      ]
    },
    {
      "cell_type": "markdown",
      "source": [
        "從以上字典的練習跟如果用串列實作的比較，  \n",
        "應該可以感受到字典好用之處了吧～"
      ],
      "metadata": {
        "id": "H2iOyA9USxHg"
      }
    },
    {
      "cell_type": "markdown",
      "source": [
        "# 字典的迭代\n",
        "- 字典也是個可迭代者\n",
        "- 字典的每一個元素是 key\n"
      ],
      "metadata": {
        "id": "xEmS73GMS6Y-"
      }
    },
    {
      "cell_type": "markdown",
      "source": [
        "不確定資料內容的話，就先用[迴圈](https://colab.research.google.com/drive/1LBMZL2hCUP30yFdPC1wsOnd8fOWo90Jf)把資料裡面的元素一個個取出來，  \n",
        "可以隨意給一個命名標籤(e.g. `ele`)，看完資料樣貌再給合適的名稱。"
      ],
      "metadata": {
        "id": "UhpYnVIFTqDD"
      }
    },
    {
      "cell_type": "code",
      "source": [
        "dict_example = {\n",
        "    \"A\": 20,\n",
        "    \"B\": 25,\n",
        "    \"C\": 10,\n",
        "}\n",
        "for ele in dict_example:\n",
        "    print(ele)"
      ],
      "metadata": {
        "colab": {
          "base_uri": "https://localhost:8080/"
        },
        "id": "V-GptFRMTlZY",
        "outputId": "e898a885-5d1a-4d99-c34f-bc67f40c2da1"
      },
      "execution_count": null,
      "outputs": [
        {
          "output_type": "stream",
          "name": "stdout",
          "text": [
            "A\n",
            "B\n",
            "C\n"
          ]
        }
      ]
    },
    {
      "cell_type": "markdown",
      "source": [
        "發覺印出來的結果就是字典的 key，所以把 `ele` 改名為 `key` 比較好理解"
      ],
      "metadata": {
        "id": "QMTFS06T_yx4"
      }
    },
    {
      "cell_type": "code",
      "source": [
        "dict_example = {\n",
        "    \"A\": 20,\n",
        "    \"B\": 25,\n",
        "    \"C\": 10,\n",
        "}\n",
        "for key in dict_example:\n",
        "    print(key)"
      ],
      "metadata": {
        "colab": {
          "base_uri": "https://localhost:8080/"
        },
        "id": "XJSO9dxpToZ1",
        "outputId": "7ed27e1f-884f-4749-b13c-42291d87be16"
      },
      "execution_count": null,
      "outputs": [
        {
          "output_type": "stream",
          "name": "stdout",
          "text": [
            "A\n",
            "B\n",
            "C\n"
          ]
        }
      ]
    },
    {
      "cell_type": "code",
      "source": [
        "dict_example = {\n",
        "    \"A\": 20,\n",
        "    \"B\": 25,\n",
        "    \"C\": 10,\n",
        "}\n",
        "for key in dict_example:\n",
        "    print(key, type(key)) # 這裡的 key 是字串型別"
      ],
      "metadata": {
        "colab": {
          "base_uri": "https://localhost:8080/"
        },
        "id": "2BObdxh6b6kf",
        "outputId": "2741b3ad-28cf-4a6e-dee3-6a48263a2c61"
      },
      "execution_count": null,
      "outputs": [
        {
          "output_type": "stream",
          "name": "stdout",
          "text": [
            "A <class 'str'>\n",
            "B <class 'str'>\n",
            "C <class 'str'>\n"
          ]
        }
      ]
    },
    {
      "cell_type": "markdown",
      "source": [
        "使用 key 去跟字典拿 value"
      ],
      "metadata": {
        "id": "pHAVLMj6_6yd"
      }
    },
    {
      "cell_type": "code",
      "source": [
        "dict_example = {\n",
        "    \"A\": 20,\n",
        "    \"B\": 25,\n",
        "    \"C\": 10,\n",
        "}\n",
        "for key in dict_example:\n",
        "    # print(key, dict_example[key])\n",
        "    print(dict_example[key])"
      ],
      "metadata": {
        "colab": {
          "base_uri": "https://localhost:8080/"
        },
        "id": "yEbkysDgT_2o",
        "outputId": "3ad3ad64-79e0-4f5b-e5d7-34953a70a55b"
      },
      "execution_count": null,
      "outputs": [
        {
          "output_type": "stream",
          "name": "stdout",
          "text": [
            "20\n",
            "25\n",
            "10\n"
          ]
        }
      ]
    },
    {
      "cell_type": "markdown",
      "source": [
        "上述的操作等同於"
      ],
      "metadata": {
        "id": "_mpWbRl9ANi_"
      }
    },
    {
      "cell_type": "code",
      "source": [
        "dict_example = {\n",
        "    \"A\": 20,\n",
        "    \"B\": 25,\n",
        "    \"C\": 10,\n",
        "}\n",
        "key = \"A\"\n",
        "print(dict_example[key]) # dict_example[\"A\"]\n",
        "key = \"B\"\n",
        "print(dict_example[key]) # dict_example[\"B\"]\n",
        "key = \"C\"\n",
        "print(dict_example[key]) # dict_example[\"C\"]"
      ],
      "metadata": {
        "colab": {
          "base_uri": "https://localhost:8080/"
        },
        "id": "M_QU31HwAR8v",
        "outputId": "0fde5c84-b5c7-45b4-a6f7-38056ad55c4c"
      },
      "execution_count": null,
      "outputs": [
        {
          "output_type": "stream",
          "name": "stdout",
          "text": [
            "20\n",
            "25\n",
            "10\n"
          ]
        }
      ]
    },
    {
      "cell_type": "markdown",
      "source": [
        "``` python\n",
        "for key in dict_example:\n",
        "    print(dict_example[key])\n",
        "```\n",
        "為什麼中括號裡面填的是「`key`」 而不是「`\"key\"`」？    \n",
        "原因是前後有單雙引號指的是字串，而不是命名標籤。  \n",
        "在迴圈的語法中，`key` 是我們給 `dict_example` 的每一個元素的「命名標籤」。  \n",
        "所以會如同上面分解版：\n",
        "- 第一次 `key = \"A\"`\n",
        "- 第二次 `key = \"B\"`\n",
        "- 第三次 `key = \"C\"`\n",
        "  \n",
        "\n",
        "`key` 這個標籤每次對應到的就是一個字串型別的物件(`\"A\"`, `\"B\"`, `\"C\"`)，所以不需要前後加雙引號。  \n",
        "回顧一下[物件命名](https://colab.research.google.com/drive/1l9fv5A2EThLIkUlVHA0VahgosnWKkTi7#scrollTo=2IyeFGp-Med8)，語法中命名標籤前後也都沒有單雙引號。\n",
        "```\n",
        "a = 10\n",
        "url = \"https://pyladies.com/\"\n",
        "```"
      ],
      "metadata": {
        "id": "19sDtL4TcIF4"
      }
    },
    {
      "cell_type": "code",
      "source": [
        "dict_example = {\n",
        "    \"A\": 20,\n",
        "    \"B\": 25,\n",
        "    \"C\": 10,\n",
        "}\n",
        "for key in dict_example:\n",
        "    print(dict_example[\"key\"]) # 寫成 \"key\" 代表的意思是，字典 dict_example 有幾個元素，我就做幾次 用 \"key\" 這個字串 當成 key 去跟字典拿值\n",
        "                               # 而我們的字典 dict_example 沒有一個 key 是 \"key\" 這個字串 (只有字串 \"A\", \"B\", \"C\")\n",
        "                               # 所以程式碼會錯誤，告訴你 Key Error"
      ],
      "metadata": {
        "colab": {
          "base_uri": "https://localhost:8080/",
          "height": 245
        },
        "id": "v3Hc8btReRFC",
        "outputId": "b32aa287-9706-4d55-e499-0a906980f6a7"
      },
      "execution_count": null,
      "outputs": [
        {
          "output_type": "error",
          "ename": "KeyError",
          "evalue": "'key'",
          "traceback": [
            "\u001b[0;31m---------------------------------------------------------------------------\u001b[0m",
            "\u001b[0;31mKeyError\u001b[0m                                  Traceback (most recent call last)",
            "\u001b[0;32m<ipython-input-1-668a2d2a344b>\u001b[0m in \u001b[0;36m<cell line: 6>\u001b[0;34m()\u001b[0m\n\u001b[1;32m      5\u001b[0m }\n\u001b[1;32m      6\u001b[0m \u001b[0;32mfor\u001b[0m \u001b[0mkey\u001b[0m \u001b[0;32min\u001b[0m \u001b[0mdict_example\u001b[0m\u001b[0;34m:\u001b[0m\u001b[0;34m\u001b[0m\u001b[0;34m\u001b[0m\u001b[0m\n\u001b[0;32m----> 7\u001b[0;31m     \u001b[0mprint\u001b[0m\u001b[0;34m(\u001b[0m\u001b[0mdict_example\u001b[0m\u001b[0;34m[\u001b[0m\u001b[0;34m\"key\"\u001b[0m\u001b[0;34m]\u001b[0m\u001b[0;34m)\u001b[0m \u001b[0;31m# 寫成 \"key\" 代表的意思是，字典 dict_example 有幾個元素，我就做幾次 用 \"key\" 這個字串 當成 key 去跟字典拿值\u001b[0m\u001b[0;34m\u001b[0m\u001b[0;34m\u001b[0m\u001b[0m\n\u001b[0m\u001b[1;32m      8\u001b[0m                                \u001b[0;31m# 而我們的字典 dict_example 沒有一個 key 是 \"key\" 這個字串 (只有字串 \"A\", \"B\", \"C\")\u001b[0m\u001b[0;34m\u001b[0m\u001b[0;34m\u001b[0m\u001b[0m\n\u001b[1;32m      9\u001b[0m                                \u001b[0;31m# 所以程式碼會錯誤，告訴你 Key Error\u001b[0m\u001b[0;34m\u001b[0m\u001b[0;34m\u001b[0m\u001b[0m\n",
            "\u001b[0;31mKeyError\u001b[0m: 'key'"
          ]
        }
      ]
    },
    {
      "cell_type": "markdown",
      "source": [
        "## [練習] 物流系統清點\n",
        "如果我是一家物流公司，我想知道現在還有多少物流項目，以及對應的狀態：\n",
        "```\n",
        "物流編號 TW92212567 狀態是 賣家已寄出\n",
        "物流編號 TW92212568 狀態是 賣家已寄出\n",
        "物流編號 TW92212569 狀態是 到達物流中心\n",
        "物流編號 TW92212570 狀態是 商品配送中\n",
        "物流編號 TW92212571 狀態是 已送達\n",
        "```\n",
        "\n",
        "> #### Hint:\n",
        "> 不確定迭代對象(在這裡是字典 `package_status_dict`) 內容的話，  \n",
        "> 可以用[迴圈](https://colab.research.google.com/drive/1LBMZL2hCUP30yFdPC1wsOnd8fOWo90Jf)把資料裡面的元素先一個個取出來(字典裡面的每一個元素都是 key)，暫時給一個標籤名稱，然後將其印出(參考前面的講義範例)。  \n",
        "> 確認內容之後可以再改成一個更容易理解的標籤名稱，然後用其去跟字典拿我們想要的資料。  \n",
        "> (標籤名稱是給 key 的, 就算 key 指向字串，標籤名稱前後也是不用加雙引號的)"
      ],
      "metadata": {
        "id": "i28ly9lXKphS"
      }
    },
    {
      "cell_type": "code",
      "source": [
        "package_status_dict = {\n",
        "    \"TW92212567\": \"賣家已寄出\",\n",
        "    \"TW92212568\": \"賣家已寄出\",\n",
        "    \"TW92212569\": \"到達物流中心\",\n",
        "    \"TW92212570\": \"商品配送中\",\n",
        "    \"TW92212571\": \"已送達\"\n",
        "}\n",
        "\n",
        "for ________ in package_status_dict:\n",
        "    package_status = ________[________]\n",
        "    print(f\"物流編號 {________} 狀態是 {package_status}\")"
      ],
      "metadata": {
        "id": "w-YrYfZZKsuX"
      },
      "execution_count": null,
      "outputs": []
    },
    {
      "cell_type": "markdown",
      "source": [
        "### [練習] 物流系統清點: 列出需派送項目\n",
        "如果我想知道這些物流項目中，哪些需要派車處理，  \n",
        "e.g. 「已送達」的是不需要派車的，也就是物流狀態 **不是「已送達」**的都需要列出：\n",
        "\n",
        "```\n",
        "物流編號 TW92212567 需要派車\n",
        "物流編號 TW92212568 需要派車\n",
        "物流編號 TW92212569 需要派車\n",
        "物流編號 TW92212570 需要派車\n",
        "```\n",
        "\n",
        "\n",
        "> #### Hint:\n",
        "> - 因為商品的狀態是在字典中，要迭代才能拿到商品狀態，所以判斷式要放在迴圈中\n",
        "> - 字串是否相等：[比較運算](https://colab.research.google.com/drive/1l9fv5A2EThLIkUlVHA0VahgosnWKkTi7#scrollTo=o9eiGRn5QC70)\n",
        "> - [判斷式語法](https://colab.research.google.com/drive/1KGTmNzFhvjze3hUvm4i8EBfRyZs2ZxPj#scrollTo=WnXlBWzxBjJC)"
      ],
      "metadata": {
        "id": "HyUeRSPAU3Jt"
      }
    },
    {
      "cell_type": "code",
      "source": [
        "package_status_dict = {\n",
        "    \"TW92212567\": \"賣家已寄出\",\n",
        "    \"TW92212568\": \"賣家已寄出\",\n",
        "    \"TW92212569\": \"到達物流中心\",\n",
        "    \"TW92212570\": \"商品配送中\",\n",
        "    \"TW92212571\": \"已送達\"\n",
        "}\n",
        "\n",
        "for ________ in package_status_dict:\n",
        "    package_status = ________[________]\n",
        "    if _______:\n",
        "        print(f\"物流編號 {________} 需要派車\")"
      ],
      "metadata": {
        "id": "tuww6eywyhjy"
      },
      "execution_count": null,
      "outputs": []
    },
    {
      "cell_type": "markdown",
      "source": [
        "### [進階練習] 物流系統清點-減少需派送項目\n",
        "延續前面的題目，如果我想加上「商品配送中」物流狀態，也需要排除在派車的範圍中，要怎麼修改程式呢？\n",
        "\n",
        "```\n",
        "物流編號 TW92212567 需要派車\n",
        "物流編號 TW92212568 需要派車\n",
        "物流編號 TW92212569 需要派車\n",
        "```\n",
        "\n",
        "> #### Hint:\n",
        "> 有兩種做法\n",
        "> - 用[邏輯運算](https://colab.research.google.com/drive/1l9fv5A2EThLIkUlVHA0VahgosnWKkTi7#scrollTo=-VDQGsOsQRvq)的「而且」：如果狀態不是「已送達」**「而且」**也不是「商品配送中」\n",
        "> - 有多個狀態是我們希望排除的，可以用串列儲存這些字串(在這裡就是兩個字串「已送達」、「商品配送中」)，  \n",
        "然後判斷[字串是否存在於某些關鍵字清單中](https://colab.research.google.com/drive/1R7wB_1SO0mY2A8GOLhPLDM1HLm1lhqON#scrollTo=_p1XqK0Crbw3)，不存在的話才會印出需要派車\n"
      ],
      "metadata": {
        "id": "Oha4xkf3BBsj"
      }
    },
    {
      "cell_type": "code",
      "source": [
        "package_status_dict = {\n",
        "    \"TW92212567\": \"賣家已寄出\",\n",
        "    \"TW92212568\": \"賣家已寄出\",\n",
        "    \"TW92212569\": \"到達物流中心\",\n",
        "    \"TW92212570\": \"商品配送中\",\n",
        "    \"TW92212571\": \"已送達\"\n",
        "}\n",
        "\n",
        "for ________ in package_status_dict:\n",
        "    package_status = ________[________]\n",
        "    if _______ and/or/not _______:\n",
        "        print(f\"物流編號 {________} 需要派車\")"
      ],
      "metadata": {
        "id": "j2PjTcusDn8k"
      },
      "execution_count": null,
      "outputs": []
    },
    {
      "cell_type": "code",
      "source": [
        "package_status_dict = {\n",
        "    \"TW92212567\": \"賣家已寄出\",\n",
        "    \"TW92212568\": \"賣家已寄出\",\n",
        "    \"TW92212569\": \"到達物流中心\",\n",
        "    \"TW92212570\": \"商品配送中\",\n",
        "    \"TW92212571\": \"已送達\"\n",
        "}\n",
        "\n",
        "ignore_list = [____]\n",
        "for ________ in package_status_dict:\n",
        "    package_status = ________[________]\n",
        "    if _______ _______ ignore_list:\n",
        "        print(f\"物流編號 {________} 需要派車\")"
      ],
      "metadata": {
        "id": "5PoK_x1r7LU5"
      },
      "execution_count": null,
      "outputs": []
    },
    {
      "cell_type": "markdown",
      "source": [
        "## [補充練習] 迭代計算庫存\n",
        "水果庫存、價格都以字典型別儲存，  \n",
        "請計算若水果都賣出後，可賺進多少錢？(答案是 `235`)  \n",
        "\n",
        "> #### Hint:\n",
        "> - 庫存跟價格都有相同的 key，  \n",
        "所以用其中一個字典的 key 也可以去存取另一個字典\n"
      ],
      "metadata": {
        "id": "Zd7xgB1oUdLY"
      }
    },
    {
      "cell_type": "code",
      "source": [
        "stock={\n",
        "    \"banana\":5,\n",
        "    \"apple\":3,\n",
        "    \"orange\":10,\n",
        "}\n",
        "price={\n",
        "    \"banana\":5,\n",
        "    \"apple\":20,\n",
        "    \"orange\":15,\n",
        "}\n",
        "\n",
        "revenue = 0\n",
        "for ____ in stock:\n",
        "    revenue += stock[____] * price[____]\n",
        "print(revenue)"
      ],
      "metadata": {
        "id": "IYPKqwgOUkAW"
      },
      "execution_count": null,
      "outputs": []
    },
    {
      "cell_type": "markdown",
      "source": [
        "### [補充練習] 迭代計算另一庫存系統\n",
        "原先的系統如果庫存跟價格的 key 對不上(e.g. 有進貨西瓜，但忘了標價)，  \n",
        "用既有的程式計算所有水果賣出的就會出錯。\n",
        "\n",
        "除了可以在既有程式加上 key 是否有存在才做計算加總；  \n",
        "也可以更改儲存方式，讓我們比較不容易忘記加該有的資料\n",
        "\n",
        "> #### Hint:\n",
        "> 先把資料直接丟入迴圈迭代，看會印出什麼元素～。  \n",
        "確定拿到的元素是對的，再進行處理！  \n",
        "(試試印出香蕉的庫存)\n"
      ],
      "metadata": {
        "id": "asg6TMjnVKP3"
      }
    },
    {
      "cell_type": "code",
      "source": [
        "product = {\n",
        "    \"banana\":{\n",
        "        \"stock\":5,\n",
        "        \"price\":5\n",
        "    },\n",
        "    \"apple\":{\n",
        "        \"stock\":3,\n",
        "        \"price\":20\n",
        "    },\n",
        "    \"orange\":{\n",
        "        \"stock\":10,\n",
        "        \"price\":15\n",
        "    },\n",
        "}\n",
        "revenue = 0\n",
        "for ____ in stock:\n",
        "    revenue += product[____][____] * product[____][____]\n",
        "print(revenue)"
      ],
      "metadata": {
        "id": "w1T3e7QxV1do"
      },
      "execution_count": null,
      "outputs": []
    },
    {
      "cell_type": "markdown",
      "source": [
        "# 綜合應用"
      ],
      "metadata": {
        "id": "erSVRsRAWeS3"
      }
    },
    {
      "cell_type": "markdown",
      "source": [
        "前面我們體驗到有時候以字典為儲存方式，會比串列方便，  \n",
        "要把串列轉成字典，可以用迴圈將串列的元素一個個拿出來，  \n",
        "選定裡面的元素哪個要當 key，其餘的當作 value，加入字典中。"
      ],
      "metadata": {
        "id": "tJVGkjbuUvI4"
      }
    },
    {
      "cell_type": "code",
      "source": [
        "package_status_list = [\n",
        "    [\"TW92212567\", \"賣家已寄出\"],\n",
        "    [\"TW92212568\", \"賣家已寄出\"],\n",
        "    [\"TW92212569\", \"到達物流中心\"],\n",
        "    [\"TW92212570\", \"商品配送中\"],\n",
        "    [\"TW92212571\", \"已送達\"],\n",
        "]\n",
        "package_status_dict = {}\n",
        "for package in package_status_list:\n",
        "    package_num = package[0]\n",
        "    package_status = package[1]\n",
        "    package_status_dict[package_num] = package_status\n",
        "print(package_status_dict)"
      ],
      "metadata": {
        "colab": {
          "base_uri": "https://localhost:8080/"
        },
        "id": "nLBkkUqEUr99",
        "outputId": "75ebba87-c7aa-4174-8591-3e404fd9b84c"
      },
      "execution_count": null,
      "outputs": [
        {
          "output_type": "stream",
          "name": "stdout",
          "text": [
            "{'TW92212567': '賣家已寄出', 'TW92212568': '賣家已寄出', 'TW92212569': '到達物流中心', 'TW92212570': '商品配送中', 'TW92212571': '已送達'}\n"
          ]
        }
      ]
    },
    {
      "cell_type": "markdown",
      "source": [
        "而串列中的每個元素長度如果都一樣，可以用以下這種寫法更簡短"
      ],
      "metadata": {
        "id": "h25DyvThV9pf"
      }
    },
    {
      "cell_type": "code",
      "source": [
        "package_status_list = [\n",
        "    [\"TW92212567\", \"賣家已寄出\"],\n",
        "    [\"TW92212568\", \"賣家已寄出\"],\n",
        "    [\"TW92212569\", \"到達物流中心\"],\n",
        "    [\"TW92212570\", \"商品配送中\"],\n",
        "    [\"TW92212571\", \"已送達\"],\n",
        "]\n",
        "package_status_dict = {}\n",
        "for package_num, package_status in package_status_list:\n",
        "    package_status_dict[package_num] = package_status\n",
        "print(package_status_dict)"
      ],
      "metadata": {
        "colab": {
          "base_uri": "https://localhost:8080/"
        },
        "id": "yeVOqhP0V5NA",
        "outputId": "d4da92ec-7686-4fbc-d29a-c3455053eea9"
      },
      "execution_count": null,
      "outputs": [
        {
          "output_type": "stream",
          "name": "stdout",
          "text": [
            "{'TW92212567': '賣家已寄出', 'TW92212568': '賣家已寄出', 'TW92212569': '到達物流中心', 'TW92212570': '商品配送中', 'TW92212571': '已送達'}\n"
          ]
        }
      ]
    },
    {
      "cell_type": "markdown",
      "source": [
        "## 應用情境：瀏覽足跡\n",
        "在平常網路上使用的服務都會收集我們瀏覽的資訊，\n",
        "因為他的應用範圍非常廣：\n",
        "- 計算熱門瀏覽商品\n",
        "- 推薦：其他使用者也看過哪些其他商品\n",
        "- 網站排名更改後使用者點擊率是否提升\n",
        "- 瀏覽商品的會員若還沒購買，發送通知(email 或簡訊)提(推)醒(銷)\n",
        "- 整理使用者行為：\n",
        "    - 使用者瀏覽幾個頁面、瀏覽某個商品多久下單\n",
        "    - 使用者瀏覽/觀看時間：推薦使用者「真的」有瀏覽的商品/影片，排除不小心滑到的\n",
        "- ...\n",
        "\n",
        "瀏覽足跡的樣貌會像是這樣，  \n",
        "以下每一列資訊分別代表瀏覽時間、使用者(用戶或會員)、瀏覽商品：\n",
        "```\n",
        "19:00:05 userA productA\n",
        "19:00:17 memberA productB\n",
        "19:01:43 userA productB\n",
        "19:02:21 userA productB\n",
        "19:03:54 userB productC\n",
        "19:05:39 userC productC\n",
        "```"
      ],
      "metadata": {
        "id": "LwZxLd8t3zqS"
      }
    },
    {
      "cell_type": "markdown",
      "source": [
        "如果我們想要計算商品的點擊次數：  \n",
        "這個可以應用在網頁中熱門瀏覽版面(哪些商品被看過最多次)，  \n",
        "或是前面提到的判斷網頁排名是不是合適的(點擊率是否比改排名前高)\n",
        "\n",
        "以目前的瀏覽足跡來看有三個商品，就需要有三個計數器：\n"
      ],
      "metadata": {
        "id": "q2-UfZb1amD5"
      }
    },
    {
      "cell_type": "code",
      "source": [
        "# 計數前要先歸零\n",
        "product_click_cnt_A = 0\n",
        "product_click_cnt_B = 0\n",
        "product_click_cnt_C = 0"
      ],
      "metadata": {
        "id": "wp4fvIc3bkbt"
      },
      "execution_count": null,
      "outputs": []
    },
    {
      "cell_type": "markdown",
      "source": [
        "\n",
        "\n",
        "而我們在每一個資料做計算的時候，都需要針對現在商品是什麼，而把對應的計數器 + 1"
      ],
      "metadata": {
        "id": "35FlywStbotM"
      }
    },
    {
      "cell_type": "code",
      "source": [
        "product = \"productA\"\n",
        "\n",
        "if product == \"productA\":\n",
        "    product_click_cnt_A+=1   # product_click_cnt_A = product_click_cnt_A + 1\n",
        "elif product == \"productB\":\n",
        "    product_click_cnt_B+=1\n",
        "elif product == \"productC\":\n",
        "    product_click_cnt_C+=1\n",
        "\n",
        "print(product_click_cnt_A)\n",
        "print(product_click_cnt_B)\n",
        "print(product_click_cnt_C)"
      ],
      "metadata": {
        "colab": {
          "base_uri": "https://localhost:8080/"
        },
        "id": "Tu-5ZH5Rav9V",
        "outputId": "09d2c920-4661-4f33-c872-17e929436b42"
      },
      "execution_count": null,
      "outputs": [
        {
          "output_type": "stream",
          "name": "stdout",
          "text": [
            "1\n",
            "0\n",
            "0\n"
          ]
        }
      ]
    },
    {
      "cell_type": "code",
      "source": [
        "product = \"productB\"\n",
        "\n",
        "if product == \"productA\":\n",
        "    product_click_cnt_A+=1\n",
        "elif product == \"productB\":\n",
        "    product_click_cnt_B+=1\n",
        "elif product == \"productC\":\n",
        "    product_click_cnt_C+=1\n",
        "\n",
        "print(product_click_cnt_A)\n",
        "print(product_click_cnt_B)\n",
        "print(product_click_cnt_C)"
      ],
      "metadata": {
        "colab": {
          "base_uri": "https://localhost:8080/"
        },
        "id": "7LNuoaMVbro0",
        "outputId": "559ae2b4-c179-4d1e-86e8-32a161ac8cc6"
      },
      "execution_count": null,
      "outputs": [
        {
          "output_type": "stream",
          "name": "stdout",
          "text": [
            "1\n",
            "1\n",
            "0\n"
          ]
        }
      ]
    },
    {
      "cell_type": "code",
      "source": [
        "product = \"productB\"\n",
        "\n",
        "if product == \"productA\":\n",
        "    product_click_cnt_A+=1\n",
        "elif product == \"productB\":\n",
        "    product_click_cnt_B+=1\n",
        "elif product == \"productC\":\n",
        "    product_click_cnt_C+=1\n",
        "\n",
        "print(product_click_cnt_A)\n",
        "print(product_click_cnt_B)\n",
        "print(product_click_cnt_C)"
      ],
      "metadata": {
        "colab": {
          "base_uri": "https://localhost:8080/"
        },
        "id": "yiyxkFJ5btIs",
        "outputId": "54bfd771-b9c4-48b6-ab9a-8c3473f54346"
      },
      "execution_count": null,
      "outputs": [
        {
          "output_type": "stream",
          "name": "stdout",
          "text": [
            "1\n",
            "2\n",
            "0\n"
          ]
        }
      ]
    },
    {
      "cell_type": "markdown",
      "source": [
        "可以很明顯地看到，以上的操作方式很繁瑣。  \n",
        "這個時候用字典可以很方便幫我們處理計數器：  \n",
        "我們把商品名稱當成 key, 計數器當成 value\n"
      ],
      "metadata": {
        "id": "xuR1MxVKbvBc"
      }
    },
    {
      "cell_type": "code",
      "source": [
        "# 計數前要先歸零\n",
        "product_click = {\n",
        "    \"productA\":0,\n",
        "    \"productB\":0,\n",
        "    \"productC\":0,\n",
        "}"
      ],
      "metadata": {
        "id": "RvktL9Yfb6ce"
      },
      "execution_count": null,
      "outputs": []
    },
    {
      "cell_type": "code",
      "source": [
        "product = \"productA\"\n",
        "product_click[product] +=1   # product_click[\"productA\"]+=1\n",
        "print(product_click)"
      ],
      "metadata": {
        "id": "br6Vg5V2cXz4"
      },
      "execution_count": null,
      "outputs": []
    },
    {
      "cell_type": "code",
      "source": [
        "product = \"productB\"\n",
        "product_click[product] +=1\n",
        "print(product_click)"
      ],
      "metadata": {
        "id": "BW4KFxQlFZT8"
      },
      "execution_count": null,
      "outputs": []
    },
    {
      "cell_type": "code",
      "source": [
        "product = \"productB\"\n",
        "product_click[product] +=1\n",
        "print(product_click)"
      ],
      "metadata": {
        "id": "j4LZ1pXcFanv"
      },
      "execution_count": null,
      "outputs": []
    },
    {
      "cell_type": "markdown",
      "source": [
        "### [練習] 瀏覽足跡-點擊次數\n",
        "有了字典幫我們當計數器，接下來我們需要把所有的瀏覽足跡，計數到 `product_click` 字典中。\n",
        "\n",
        "以下有一串列，表示使用者在某段時間內點擊進入了哪些商品頁，  \n",
        "串列的每一個元素也是一個串列，分別代表瀏覽時間、使用者(用戶或會員)、瀏覽商品，    \n",
        "請幫我寫程式實作商品被瀏覽總數的計算：\n",
        "\n",
        "```\n",
        "商品 productA 的點擊次數為 1\n",
        "商品 productB 的點擊次數為 3\n",
        "商品 productC 的點擊次數為 2\n",
        "```\n",
        "\n",
        "\n",
        "\n",
        "\n",
        "\n",
        "> #### Hint:\n",
        "> 我們要計算的是商品的點擊次數\n",
        "也就是我們的程式瀏覽足跡迭代會做到\n",
        "``` python\n",
        "product_click[\"productA\"] +=1\n",
        "product_click[\"productB\"] +=1\n",
        "product_click[\"productB\"] +=1\n",
        "product_click[\"productB\"] +=1\n",
        "product_click[\"productC\"] +=1\n",
        "product_click[\"productC\"] +=1\n",
        "```\n",
        "> - 有商品點擊的資料應該是 `logs`，所以要[迭代](https://colab.research.google.com/drive/1LBMZL2hCUP30yFdPC1wsOnd8fOWo90Jf?usp=sharing)的對象應該是 `logs`\n",
        "> - 把串列 `logs`的一個個元素拿出來，而 `logs` 的每一個元素又是一個串列。  \n",
        "而商品位在這個串列的末端，可以用[串列取值](https://colab.research.google.com/drive/1R7wB_1SO0mY2A8GOLhPLDM1HLm1lhqON#scrollTo=T9CeCnO6P9bY)的語法拿到。(或是用剛才講的[簡短寫法](#scrollTo=h25DyvThV9pf)拿到)\n",
        "    - 如果還是不確定怎麼用迴圈拿每一個元素都是串列的值，可以參考[之前的講義的範例](https://colab.research.google.com/drive/1LBMZL2hCUP30yFdPC1wsOnd8fOWo90Jf#scrollTo=Mwqd7ifC2sY3)，一步步處理\n",
        "> - 有了這個商品名稱，就可以此當 key，去計數器字典 `product_click` 更改他的 value：把原來的值+1"
      ],
      "metadata": {
        "id": "fauU89fPWf_J"
      }
    },
    {
      "cell_type": "code",
      "source": [
        "logs = [\n",
        "    [\"19:00:05\", \"userA\", \"productA\"],\n",
        "    [\"19:00:17\", \"memberA\", \"productB\"],\n",
        "    [\"19:01:43\", \"userA\", \"productB\"],\n",
        "    [\"19:02:21\", \"userA\", \"productB\"],\n",
        "    [\"19:03:54\", \"userB\", \"productC\"],\n",
        "    [\"19:05:39\", \"userC\", \"productC\"],\n",
        "]\n",
        "\n",
        "product_click = {\n",
        "    \"productA\": 0,\n",
        "    \"productB\": 0,\n",
        "    \"productC\": 0\n",
        "}\n",
        "\n",
        "for ______ in ______:\n",
        "    ______[______] +=1\n",
        "\n",
        "for product in product_click:\n",
        "    print(f\"商品 {product} 的點擊次數為 {product_click[product]}\")"
      ],
      "metadata": {
        "id": "UIpxmqJcb6tR"
      },
      "execution_count": null,
      "outputs": []
    },
    {
      "cell_type": "markdown",
      "source": [
        "#### [進階練習] 設定初始值\n",
        "在前面的練習我們先開了上帝視角，知道有哪些商品在瀏覽足跡中，先把他設定在計數器的字典中。  \n",
        "但實務上這並不太可能，這時會利用到判斷式：  \n",
        "如果這個商品不在我的計數器字典中，我就把這個商品當成 key 加到字典中，預設值是 0 (`value = 0`)"
      ],
      "metadata": {
        "id": "AzRm3VMdi3aa"
      }
    },
    {
      "cell_type": "code",
      "source": [
        "logs = [\n",
        "    [\"19:00:05\", \"userA\", \"productA\"],\n",
        "    [\"19:00:17\", \"memberA\", \"productB\"],\n",
        "    [\"19:01:43\", \"userA\", \"productB\"],\n",
        "    [\"19:02:21\", \"userA\", \"productB\"],\n",
        "    [\"19:03:54\", \"userB\", \"productC\"],\n",
        "    [\"19:05:39\", \"userC\", \"productC\"],\n",
        "]\n",
        "product_click = {}        ### 實務上我們不會知道有哪些商品\n",
        "\n",
        "for ______ in ______:\n",
        "    if __ not in _____:   ### 比前面練習題增加的判斷式部分\n",
        "        ____[______] = 0  ### 比前面練習題增加的判斷式部分\n",
        "    ______[______] +=1\n",
        "\n",
        "for product in product_click:\n",
        "    print(f\"商品 {product} 的點擊次數為 {product_click[product]}\")"
      ],
      "metadata": {
        "id": "yZmGS1KPjcco"
      },
      "execution_count": null,
      "outputs": []
    },
    {
      "cell_type": "markdown",
      "source": [
        "### 文字型的瀏覽足跡處理\n",
        "實務上，瀏覽足跡都是以文字方式儲存，  \n",
        "如同前面提到的，就會是以下的樣貌，  \n",
        "每一列資訊分別代表瀏覽時間、使用者(用戶或會員)、瀏覽商品：\n",
        "\n",
        "```\n",
        "19:00:05 userA productA\n",
        "19:00:17 memberA productB\n",
        "19:01:43 userA productB\n",
        "19:02:21 userA productB\n",
        "19:03:54 userB productC\n",
        "19:05:39 userC productC\n",
        "```\n",
        "\n",
        "要轉換成我們練習題中串列的樣貌：\n",
        "```python\n",
        "[\n",
        "    [\"19:00:05\", \"userA\", \"productA\"],\n",
        "    [\"19:00:17\", \"memberA\", \"productB\"],\n",
        "    [\"19:01:43\", \"userA\", \"productB\"],\n",
        "    [\"19:02:21\", \"userA\", \"productB\"],\n",
        "    [\"19:03:54\", \"userB\", \"productC\"],\n",
        "    [\"19:05:39\", \"userC\", \"productC\"],\n",
        "]\n",
        "```\n",
        "\n",
        "#### 原始資料的樣貌\n",
        "- 列與列之間是由「換行」`\\n` 分隔\n",
        "- 每一列的元素是以「空白」分隔  \n",
        "\n",
        "#### 程式運作邏輯\n",
        "- 用一空串列 `logs` 整理我們最後想要呈現的結果\n",
        "- 先以「換行」切割成一列列的資料串列\n",
        "- 迭代此串列，把每一列拿出\n",
        "- 再把每一列用「空白」切割成 瀏覽時間、使用者、瀏覽商品\n",
        "    - 要檢查是否切割後剛好有三個元素\n",
        "- 把瀏覽時間、使用者、瀏覽商品組成一個串列加入 `logs` 中"
      ],
      "metadata": {
        "id": "YnPMprrx2UjO"
      }
    },
    {
      "cell_type": "code",
      "source": [
        "log_text = \"\"\"\n",
        "19:00:05 userA productA\n",
        "19:00:17 memberA productB\n",
        "19:01:43 userA productB\n",
        "19:02:21 userA productB\n",
        "19:03:54 userB productC\n",
        "19:05:39 userC productC\n",
        "\"\"\"\n",
        "\n",
        "logs = []\n",
        "for row in log_text.split(\"\\n\"):\n",
        "    row_eles = row.split(\" \")\n",
        "    if len(row_eles)==3:\n",
        "        time, user, product = row_eles\n",
        "        logs.append([time, user, product])\n",
        "\n",
        "print(logs)\n",
        "print()\n",
        "for ele in logs:\n",
        "    print(ele)"
      ],
      "metadata": {
        "colab": {
          "base_uri": "https://localhost:8080/"
        },
        "id": "ADfLYT3w8wKW",
        "outputId": "ff8931ce-f74e-4be7-9528-75333c214716"
      },
      "execution_count": null,
      "outputs": [
        {
          "output_type": "stream",
          "name": "stdout",
          "text": [
            "[['19:00:05', 'userA', 'productA'], ['19:00:17', 'memberA', 'productB'], ['19:01:43', 'userA', 'productB'], ['19:02:21', 'userA', 'productB'], ['19:03:54', 'userB', 'productC'], ['19:05:39', 'userC', 'productC']]\n",
            "\n",
            "['19:00:05', 'userA', 'productA']\n",
            "['19:00:17', 'memberA', 'productB']\n",
            "['19:01:43', 'userA', 'productB']\n",
            "['19:02:21', 'userA', 'productB']\n",
            "['19:03:54', 'userB', 'productC']\n",
            "['19:05:39', 'userC', 'productC']\n"
          ]
        }
      ]
    },
    {
      "cell_type": "markdown",
      "source": [
        "### [進階練習] 推薦系統\n",
        "一個服務如果有好的推薦系統，透過推薦我們商品/影片，  \n",
        "可以讓我們在他們的服務中消費或是更黏著於他們的服務上(訂閱制收費)。  \n",
        "\n",
        "通常推薦可以分為兩種：\n",
        "- 看了這個商品的使用者還看了哪些商品\n",
        "- 哪些商品/影片與使用者瀏覽的商品相似(e.g. 同樣都是筆電、都是懸疑片)\n",
        "\n",
        "我們的瀏覽足跡，也可以組出「看了這個商品的使用者還看了哪些商品」的資料，  \n",
        "樣貌會像這樣：\n",
        "\n",
        "會先有一個記錄商品有哪些使用者瀏覽、瀏覽幾次的字典，  \n",
        "這樣我們可以知道有哪些使用者跟我在瀏覽同樣一個商品：\n",
        "```python\n",
        "{\n",
        "    \"productA\":{\n",
        "        \"userA\":1\n",
        "    },\n",
        "    \"productB\":{\n",
        "        \"userA\":2,\n",
        "        \"memberA\":1\n",
        "    },\n",
        "    \"productC\":{\n",
        "        \"userB\":1,\n",
        "        \"userC\":1\n",
        "    },\n",
        "}\n",
        "```\n",
        "\n",
        "然後需要另一個以使用者為基底的字典，知道每位使用者瀏覽過哪些商品、瀏覽幾次：\n",
        "```python\n",
        "{\n",
        "    \"userA\":{\n",
        "        \"productA\":1,\n",
        "        \"productB\":2,\n",
        "    },\n",
        "    \"memberA\":{\n",
        "        \"productB\":1,\n",
        "    },\n",
        "    \"userB\":{\n",
        "        \"productC\":1,\n",
        "    },\n",
        "    \"userC\":{\n",
        "        \"productC\":1,\n",
        "    },\n",
        "}\n",
        "```\n",
        "\n",
        "這樣當你瀏覽一個商品，  \n",
        "我們就可以利用第一個字典撈出這個商品有哪些使用者瀏覽，  \n",
        "再去第二個字典查這個使用者還瀏覽了哪些商品。  \n",
        "(e.g. 當我瀏覽了 productB，我就去找 userA 和 member A 還看了除了product B 的哪些商品)\n",
        "\n",
        "我們可以練習將瀏覽足跡，轉換成以上兩個字典：\n",
        "\n",
        "> #### Hint:\n",
        "> - 這裡的資料結構是雙層字典\n",
        "> - 第一層 key 對應的 value 初始值是字典\n",
        "> - 第二層 key 對應的 value 初始值才是計次的 0"
      ],
      "metadata": {
        "id": "BYqAeZNee0Zg"
      }
    },
    {
      "cell_type": "code",
      "source": [
        "logs = [\n",
        "    [\"19:00:05\", \"userA\", \"productA\"],\n",
        "    [\"19:00:17\", \"memberA\", \"productB\"],\n",
        "    [\"19:01:43\", \"userA\", \"productB\"],\n",
        "    [\"19:02:21\", \"userA\", \"productB\"],\n",
        "    [\"19:03:54\", \"userB\", \"productC\"],\n",
        "    [\"19:05:39\", \"userC\", \"productC\"],\n",
        "]\n",
        "product_user_click = {}\n",
        "user_product_click = {}\n",
        "\n",
        "for time, user, product in logs:\n",
        "    ### 處理第一個字典：商品有哪些使用者瀏覽\n",
        "    if _____ not in product_user_click:\n",
        "       product_user_click[_____] = {}\n",
        "    if _____ not in product_user_click[_____]:\n",
        "        product_user_click[_____][_____] = 0\n",
        "    product_user_click[_____][_____] +=1\n",
        "\n",
        "    ### 處理第二個字典：每位使用者瀏覽過哪些商品\n",
        "    if _____ not in user_product_click:\n",
        "       user_product_click[_____] = {}\n",
        "    if _____ not in user_product_click[_____]:\n",
        "        user_product_click[_____][_____] = 0\n",
        "    user_product_click[_____][_____] +=1\n",
        "\n",
        "### 看了 productB 的人還看了哪些其他商品\n",
        "target = \"productB\"\n",
        "for user in product_user_click[target]:\n",
        "    for product in user_product_click[user]:\n",
        "        if product != target:\n",
        "            print(f\"{product} ({user}瀏覽過)\")"
      ],
      "metadata": {
        "id": "tcL-5bO2owK1"
      },
      "execution_count": null,
      "outputs": []
    },
    {
      "cell_type": "markdown",
      "source": [
        "## [補充練習] 遊戲計分\n",
        "我們有一串列是玩家的遊戲計分：  \n",
        "第一回合：A 得 10 分、第二回合 B 得 5 分...，最後加總算每個人的分數是：\n",
        "- A 的得分 19\n",
        "- B 的得分 12\n",
        "- C 的得分 25\n",
        "\n",
        "> #### Hint:\n",
        "> - 這裡可以用字典當成計分器，玩家應該會是 key，總得分是 value\n",
        "> - 前面實作 `sum(全數字序列)` 的算法，在計算之前前需要把得分歸零，也就是 value 初始值為0\n",
        "> - 玩家的計分是在 `scores`，所以要迭代的對象應該是 `scores`\n",
        "> - 把串列 `scores`的一個個元素拿出來，而 `scores` 的每一個元素又是一個串列。  \n",
        "而玩家是串列的第一個元素，每回合得分是第二個。\n",
        "> - 有了玩家名稱，就可以此當 key，去計分字典 `user_score` 把原來的分數 value 加上這一局的得分"
      ],
      "metadata": {
        "id": "6ENWTs8sWf-p"
      }
    },
    {
      "cell_type": "code",
      "source": [
        "scores = [[\"A\",10],[\"B\",5],[\"C\",23],[\"B\",7],[\"A\",6],[\"A\",3],[\"C\",2]]\n",
        "user_score = {\n",
        "    __:0,\n",
        "    __:0,\n",
        "    __:0\n",
        "}\n",
        "for ____ in scores:\n",
        "    user_score[____] += ____\n",
        "\n",
        "\n",
        "for user in user_score:\n",
        "    print(f\"{user}的得分{user_score[user]}\")"
      ],
      "metadata": {
        "id": "j1EiHpQHWru3"
      },
      "execution_count": null,
      "outputs": []
    },
    {
      "cell_type": "markdown",
      "source": [
        "## [補充練習] 會員儲值\n",
        "有一個記錄會員的目前儲值金額的字典，  \n",
        "而會員的儲值需求會透過串列傳入：  \n",
        "串列的每一個元素都串列，第一個值代表會員名稱，第二個值代表要儲值的金額。\n",
        "\n",
        "這個練習題希望你用迭代的方去處理資料讓：\n",
        "- 會員 A 儲值 15 元，也就是儲值後 會員 A 總共有 35 元\n",
        "- 會員 B 儲值 5 元，也就是儲值後 會員 B 總共有 30 元\n",
        "\n",
        "> #### Hint:\n",
        "> - 要拿到會員要儲值的金額應該是對串列做迭代\n",
        "> - 可以先想一下，如果不用迭代，你會怎麼用怎樣的語法操作字典，   \n",
        "> 讓會員 A 儲值 15 元，也就是儲值後 會員 A 總共有 35 元\n",
        "\n"
      ],
      "metadata": {
        "id": "amHtZJLunM4w"
      }
    },
    {
      "cell_type": "code",
      "source": [
        "member_money = {\n",
        "    \"A\": 20,\n",
        "    \"B\": 25,\n",
        "    \"C\": 10,\n",
        "}\n",
        "add_moeny = [[\"A\",15],[\"B\",5]]\n",
        "for name,money in ____:\n",
        "    ___[___]+=____\n",
        "print(member_money)"
      ],
      "metadata": {
        "id": "ZP9u34renbt0"
      },
      "execution_count": null,
      "outputs": []
    },
    {
      "cell_type": "markdown",
      "source": [
        "## 應用情境：正規化\n",
        "- 星期、月份\n",
        "- 中文數字 (eg. 三、參、叄)"
      ],
      "metadata": {
        "id": "AKzHQyuMWi4m"
      }
    },
    {
      "cell_type": "code",
      "source": [
        "datetime = \"Oct 18\"\n",
        "month,date = datetime.split(\" \")\n",
        "month = month.replace(\"Oct\",\"10\")\n",
        "format_date = f\"{month}/{date}\"\n",
        "print(format_date)"
      ],
      "metadata": {
        "colab": {
          "base_uri": "https://localhost:8080/"
        },
        "id": "QnjApGdjWn1l",
        "outputId": "04e7ab85-86af-4ee9-ca0f-05fb2086146c"
      },
      "execution_count": null,
      "outputs": [
        {
          "output_type": "stream",
          "name": "stdout",
          "text": [
            "10/18\n"
          ]
        }
      ]
    },
    {
      "cell_type": "code",
      "source": [
        "datetime = \"Oct 18\"\n",
        "month,date = datetime.split(\" \")\n",
        "month_dict = {\n",
        "    #......\n",
        "    \"10\":[\"Oct\",\"October\"],\n",
        "    \"11\":[\"Nov\",\"November\"],\n",
        "    \"12\":[\"Dec\",\"December\"],\n",
        "}\n",
        "for key in month_dict:\n",
        "    print(key,month_dict[key])\n",
        "    for keyword in month_dict[key]:\n",
        "        if month==keyword:\n",
        "            month = month.replace(month,key)\n",
        "format_date = f\"{month}/{date}\"\n",
        "print(format_date)"
      ],
      "metadata": {
        "colab": {
          "base_uri": "https://localhost:8080/"
        },
        "id": "0_kkD6ClWphb",
        "outputId": "20ce841b-6cb8-450b-fbe7-0eac9b86bfec"
      },
      "execution_count": null,
      "outputs": [
        {
          "output_type": "stream",
          "name": "stdout",
          "text": [
            "10 ['Oct', 'October']\n",
            "11 ['Nov', 'November']\n",
            "12 ['Dec', 'December']\n",
            "10/18\n"
          ]
        }
      ]
    },
    {
      "cell_type": "markdown",
      "source": [
        "# 更多字典的好用功能"
      ],
      "metadata": {
        "id": "7eOpn6YTpIOS"
      }
    },
    {
      "cell_type": "markdown",
      "source": [
        "## 同時拿到 key 與 value\n",
        "```\n",
        "字典.items()\n",
        "```\n",
        "- 回傳將 key 與 value 配對成以「[tuple 型別](https://docs.python.org/zh-tw/3/tutorial/datastructures.html#tuples-and-sequences)」為元素的可迭代者"
      ],
      "metadata": {
        "id": "ZDOIK_capNQ8"
      }
    },
    {
      "cell_type": "code",
      "source": [
        "dict_example = {\n",
        "    \"A\": 20,\n",
        "    \"B\": 25,\n",
        "    \"C\": 10,\n",
        "}\n",
        "for key, value in dict_example.items():\n",
        "    print(key, value)"
      ],
      "metadata": {
        "colab": {
          "base_uri": "https://localhost:8080/"
        },
        "id": "vUVWY20epigG",
        "outputId": "86587b6a-0fbf-4484-fb64-5eed632a1d2b"
      },
      "execution_count": null,
      "outputs": [
        {
          "output_type": "stream",
          "name": "stdout",
          "text": [
            "A 20\n",
            "B 25\n",
            "C 10\n"
          ]
        }
      ]
    },
    {
      "cell_type": "markdown",
      "source": [
        "### 應用情境-簡化寫法\n",
        "- 不需要再用 key 去取值"
      ],
      "metadata": {
        "id": "S2LE816rqWiX"
      }
    },
    {
      "cell_type": "code",
      "source": [
        "datetime = \"Oct 18\"\n",
        "month,date = datetime.split(\" \")\n",
        "month_dict = {\n",
        "    #......\n",
        "    \"10\":[\"Oct\",\"October\"],\n",
        "    \"11\":[\"Nov\",\"November\"],\n",
        "    \"12\":[\"Dec\",\"December\"],\n",
        "}\n",
        "for key in month_dict:\n",
        "    print(key,month_dict[key])\n",
        "    for keyword in month_dict[key]:\n",
        "        if month==keyword:\n",
        "            month = month.replace(month,key)\n",
        "format_date = f\"{month}/{date}\"\n",
        "print(format_date)"
      ],
      "metadata": {
        "colab": {
          "base_uri": "https://localhost:8080/"
        },
        "id": "Zc5oYo_lqgHC",
        "outputId": "32fb9fd4-9e28-4530-f121-928a49603eda"
      },
      "execution_count": null,
      "outputs": [
        {
          "output_type": "stream",
          "name": "stdout",
          "text": [
            "10 ['Oct', 'October']\n",
            "11 ['Nov', 'November']\n",
            "12 ['Dec', 'December']\n",
            "10/18\n"
          ]
        }
      ]
    },
    {
      "cell_type": "code",
      "source": [
        "datetime = \"Oct 18\"\n",
        "month,date = datetime.split(\" \")\n",
        "month_dict = {\n",
        "    #......\n",
        "    \"10\":[\"Oct\",\"October\"],\n",
        "    \"11\":[\"Nov\",\"November\"],\n",
        "    \"12\":[\"Dec\",\"December\"],\n",
        "}\n",
        "for key, month_keywords in month_dict.items():\n",
        "    print(key, month_keywords)\n",
        "    for keyword in month_keywords:\n",
        "        if month==keyword:\n",
        "            month = month.replace(month,key)\n",
        "format_date = f\"{month}/{date}\"\n",
        "print(format_date)"
      ],
      "metadata": {
        "colab": {
          "base_uri": "https://localhost:8080/"
        },
        "id": "_XDSBUJfqg5J",
        "outputId": "2349ffe8-2941-419e-dbc9-dfc397c6872a"
      },
      "execution_count": null,
      "outputs": [
        {
          "output_type": "stream",
          "name": "stdout",
          "text": [
            "10 ['Oct', 'October']\n",
            "11 ['Nov', 'November']\n",
            "12 ['Dec', 'December']\n",
            "10/18\n"
          ]
        }
      ]
    },
    {
      "cell_type": "markdown",
      "source": [
        "## 取不存在的 key 值\n",
        "``` python\n",
        "字典.get(key,預設值)\n",
        "```\n",
        "- 預設值為 None"
      ],
      "metadata": {
        "id": "FX8wZC4EW_7Z"
      }
    },
    {
      "cell_type": "code",
      "source": [
        "dict_example = {\n",
        "    \"A\": 20,\n",
        "    \"B\": 25,\n",
        "    \"C\": 10,\n",
        "}\n",
        "print(dict_example[\"D\"])"
      ],
      "metadata": {
        "colab": {
          "base_uri": "https://localhost:8080/",
          "height": 180
        },
        "id": "EEa-kPj7XVWx",
        "outputId": "fd46b837-a5b7-417b-b8a2-22769381448d"
      },
      "execution_count": null,
      "outputs": [
        {
          "output_type": "error",
          "ename": "KeyError",
          "evalue": "'D'",
          "traceback": [
            "\u001b[0;31m---------------------------------------------------------------------------\u001b[0m",
            "\u001b[0;31mKeyError\u001b[0m                                  Traceback (most recent call last)",
            "\u001b[0;32m<ipython-input-61-7af129d171c1>\u001b[0m in \u001b[0;36m<cell line: 6>\u001b[0;34m()\u001b[0m\n\u001b[1;32m      4\u001b[0m     \u001b[0;34m\"C\"\u001b[0m\u001b[0;34m:\u001b[0m \u001b[0;36m10\u001b[0m\u001b[0;34m,\u001b[0m\u001b[0;34m\u001b[0m\u001b[0;34m\u001b[0m\u001b[0m\n\u001b[1;32m      5\u001b[0m }\n\u001b[0;32m----> 6\u001b[0;31m \u001b[0mprint\u001b[0m\u001b[0;34m(\u001b[0m\u001b[0mdict_example\u001b[0m\u001b[0;34m[\u001b[0m\u001b[0;34m\"D\"\u001b[0m\u001b[0;34m]\u001b[0m\u001b[0;34m)\u001b[0m\u001b[0;34m\u001b[0m\u001b[0;34m\u001b[0m\u001b[0m\n\u001b[0m",
            "\u001b[0;31mKeyError\u001b[0m: 'D'"
          ]
        }
      ]
    },
    {
      "cell_type": "code",
      "source": [
        "dict_example = {\n",
        "    \"A\": 20,\n",
        "    \"B\": 25,\n",
        "    \"C\": 10,\n",
        "}\n",
        "print(dict_example.get(\"D\"))"
      ],
      "metadata": {
        "colab": {
          "base_uri": "https://localhost:8080/"
        },
        "id": "IdEKqPScXPTz",
        "outputId": "1447905f-2c07-43d8-9f18-46369dc43fda"
      },
      "execution_count": null,
      "outputs": [
        {
          "output_type": "stream",
          "name": "stdout",
          "text": [
            "None\n"
          ]
        }
      ]
    },
    {
      "cell_type": "code",
      "source": [
        "dict_example = {\n",
        "    \"A\": 20,\n",
        "    \"B\": 25,\n",
        "    \"C\": 10,\n",
        "}\n",
        "print(dict_example.get(\"D\", 0))"
      ],
      "metadata": {
        "colab": {
          "base_uri": "https://localhost:8080/"
        },
        "id": "FC1Z2e3FXSMo",
        "outputId": "935308a3-8c7f-4b9f-cf18-8fc9bca73019"
      },
      "execution_count": null,
      "outputs": [
        {
          "output_type": "stream",
          "name": "stdout",
          "text": [
            "0\n"
          ]
        }
      ]
    },
    {
      "cell_type": "markdown",
      "source": [
        "### 應用情境：判斷式過於冗長"
      ],
      "metadata": {
        "id": "74eIk8UMXZyC"
      }
    },
    {
      "cell_type": "code",
      "source": [
        "ticket_type=\"敬老票\"\n",
        "if ticket_type==\"學生票\":\n",
        "    price=270\n",
        "elif ticket_type==\"敬老票\":\n",
        "    price=250\n",
        "else:\n",
        "    price=300\n",
        "print(f\"{ticket_type}價格為{price}\")"
      ],
      "metadata": {
        "colab": {
          "base_uri": "https://localhost:8080/"
        },
        "id": "YsrIKvQ3Xcpa",
        "outputId": "e6c87aa4-a758-469d-8e6a-9c34960f328c"
      },
      "execution_count": null,
      "outputs": [
        {
          "output_type": "stream",
          "name": "stdout",
          "text": [
            "敬老票價格為250\n"
          ]
        }
      ]
    },
    {
      "cell_type": "code",
      "source": [
        "ticket_type=\"敬老票\"\n",
        "ticket_price = {\"學生票\":270,\"敬老票\":250}\n",
        "price = ticket_price.get(ticket_type,300)\n",
        "print(f\"{ticket_type}價格為{price}\")"
      ],
      "metadata": {
        "colab": {
          "base_uri": "https://localhost:8080/"
        },
        "id": "loXEq1AgXfFo",
        "outputId": "30b98209-aec8-4f5b-c6bd-823eec46d774"
      },
      "execution_count": null,
      "outputs": [
        {
          "output_type": "stream",
          "name": "stdout",
          "text": [
            "敬老票價格為250\n"
          ]
        }
      ]
    }
  ]
}
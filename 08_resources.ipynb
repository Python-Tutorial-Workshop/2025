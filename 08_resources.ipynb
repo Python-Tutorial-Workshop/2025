{
  "nbformat": 4,
  "nbformat_minor": 0,
  "metadata": {
    "colab": {
      "provenance": [],
      "toc_visible": true
    },
    "kernelspec": {
      "name": "python3",
      "display_name": "Python 3"
    },
    "language_info": {
      "name": "python"
    }
  },
  "cells": [
    {
      "cell_type": "markdown",
      "source": [
        "# 書籍"
      ],
      "metadata": {
        "id": "S8jX6k82EDFp"
      }
    },
    {
      "cell_type": "markdown",
      "source": [
        "把 Python 3 的書籍都拿起來翻一翻，  \n",
        "**「看哪一本順眼」**(用語比較容易看得懂、排版比較賞心悅目...etc.)，  \n",
        "那就選那一本當你的工具書。  \n",
        "\n",
        "一本看得順眼的書，就算他的內容並不是最豐富，  \n",
        "但能帶你在初學的時候就能看得很舒服，  \n",
        "就能讓你在學習 Python 基礎的時候非常順心。  \n",
        "之後如果還想更深入，不管是網路資源，  \n",
        "或是挑選更深入的書籍，你就已經有足夠的背景知識去判斷了！  "
      ],
      "metadata": {
        "id": "VQbm3WKzEEn6"
      }
    },
    {
      "cell_type": "markdown",
      "source": [
        "# 社群參與\n"
      ],
      "metadata": {
        "id": "v4OWo9gUFdjm"
      }
    },
    {
      "cell_type": "markdown",
      "source": [
        "## [PyLadies](https://pyladies.com/)\n",
        "專注於幫助更多女性參與 Python 程式設計社群的國際性組織。\n",
        "\n",
        "### [PyLadies Kaohsiung](https://www.facebook.com/pyladies.khh)\n",
        "- 多於高雄舉辦實體活動\n",
        "### [PyLadies Taiwan](https://tw.pyladies.com/)\n",
        "- 多於台北舉辦實體活動\n",
        "\n",
        "### [PyLadies Conference](https://conference.pyladies.com/)\n",
        "- 線上舉辦的研討會"
      ],
      "metadata": {
        "id": "EaZ2k7g487Rw"
      }
    },
    {
      "cell_type": "markdown",
      "source": [
        "## [PyCon TW](https://tw.pycon.org/)\n",
        "- 一年一度的實體研討會"
      ],
      "metadata": {
        "id": "UsN0i6dw-o-0"
      }
    },
    {
      "cell_type": "markdown",
      "source": [
        "## [Python Taiwan](https://www.facebook.com/groups/pythontw/)\n",
        "- 可以在上面發問\n",
        "- 因為很多人問問題，所以也可以知道大家都用 Python 在做什麼\n"
      ],
      "metadata": {
        "id": "wvtPU87jFkUp"
      }
    },
    {
      "cell_type": "markdown",
      "source": [
        "> 在網路社群中，參與其中的人都是花費自己寶貴的時間來回覆你的問題，   \n",
        "因此有「提問的智慧」是非常重要的："
      ],
      "metadata": {
        "id": "otFdbSOyFp55"
      }
    },
    {
      "cell_type": "markdown",
      "source": [
        "## 提問的智慧\n",
        "> [原始來源](https://github.com/ryanhanwu/How-To-Ask-Questions-The-Smart-Way)\n"
      ],
      "metadata": {
        "id": "gS9OwmHgFt8b"
      }
    },
    {
      "cell_type": "markdown",
      "source": [
        "### 提問前\n",
        "請試著使用 Google，先行研究一下，  \n",
        "如果還是找不到滿意的解答，才進行提問。\n",
        "\n",
        "#### [Google技巧]\n",
        "可以將「錯誤代碼」直接 Google、或是用「英文的專有名詞」去搜尋，  \n",
        "如果看到搜尋結果有 StackOverflow，請毫不猶豫點進去，  \n",
        "StackOverflow 是全世界最大的程式問答論壇，  \n",
        "裡面有綠色勾勾的通常就是被發問者視為正確解答的回應！  \n",
        "\n"
      ],
      "metadata": {
        "id": "YDwitv0kGRDe"
      }
    },
    {
      "cell_type": "markdown",
      "source": [
        "### 提問時\n",
        "請仔細描述你遇到的問題，例如：\n",
        "\n",
        "- 是在什麼環境執行(MacOS, Win10...)\n",
        "- Python的版本是什麼\n",
        "- 看過哪些搜尋結果\n",
        "- 試過哪些解決方案 附上「截圖」或是「程式碼」，並且禮貌的發問！   \n",
        "    - 可利用 colab 貼程式碼分享連結及結果\n",
        "\n",
        "> 跟 ChatGPT 溝通也是一樣的道理\n",
        "\n"
      ],
      "metadata": {
        "id": "tQT6AubFGTNr"
      }
    },
    {
      "cell_type": "markdown",
      "source": [
        "### 提問後\n",
        "有熱心人士回答時，請也給予回應與感謝。"
      ],
      "metadata": {
        "id": "UZizVk0MGUNz"
      }
    },
    {
      "cell_type": "markdown",
      "source": [
        "# 線上學習資源"
      ],
      "metadata": {
        "id": "a3q6Lu9WGXts"
      }
    },
    {
      "cell_type": "markdown",
      "source": [
        "以下是常見的資源學習平台：\n",
        "- [Coursera](https://zh-tw.coursera.org/)\n",
        "- [Khan Academy](https://www.khanacademy.org/computing/intro-to-python-fundamentals)\n",
        "- [edX](https://www.edx.org/)\n",
        "    - [CS50](https://www.edx.org/learn/computer-science/harvard-university-cs50-s-introduction-to-computer-science)\n",
        "- [Treehouse](https://teamtreehouse.com/)\n",
        "- [Codecademy](https://www.codecademy.com/learn/learn-python)\n",
        "\n",
        "- [Udacity](https://www.udacity.com/)\n",
        "- [Hahow 好學校](https://hahow.in/courses?page=1&search=python)\n",
        "- [Udemy](https://www.udemy.com/)\n",
        "    - [Soft & Share - 特價資訊分享](https://www.facebook.com/groups/softnshareGroupBuy/search/?query=python)"
      ],
      "metadata": {
        "id": "ayOX7-lPpsJC"
      }
    },
    {
      "cell_type": "markdown",
      "source": [
        "## ChatGPT Prompt：分析各平台適合的學習情境\n",
        "```\n",
        "我想學習 Python，網路上有很多平台資源，可以幫我比較以下平台的差別嗎？  \n",
        "每個平台的優勢不同，在什麼情況下使用哪個平台對我學習是最適合的？\n",
        "\n",
        "Coursera\n",
        "edX\n",
        "Khan Academy\n",
        "Treehouse\n",
        "Codecademy\n",
        "Udacity\n",
        "Hahow\n",
        "Udemy\n",
        "```\n",
        "\n"
      ],
      "metadata": {
        "id": "Bufo-rbvbHdv"
      }
    },
    {
      "cell_type": "markdown",
      "source": [
        "```\n",
        "edX 上的 CS50 很多人推薦，對正在學習 Python 的我適合嗎？\n",
        "```"
      ],
      "metadata": {
        "id": "7_EUtQpRr-9v"
      }
    },
    {
      "cell_type": "markdown",
      "source": [
        "```\n",
        "我想針對 _____ 的部分多學習，我適合用以上哪個平台？或是有哪些不在上面的平台也推薦我去使用學習的？\n",
        "```"
      ],
      "metadata": {
        "id": "KKWLNULur439"
      }
    }
  ]
}
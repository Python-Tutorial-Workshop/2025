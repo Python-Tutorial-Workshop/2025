{
  "nbformat": 4,
  "nbformat_minor": 0,
  "metadata": {
    "colab": {
      "provenance": [],
      "toc_visible": true
    },
    "kernelspec": {
      "name": "python3",
      "display_name": "Python 3"
    },
    "language_info": {
      "name": "python"
    }
  },
  "cells": [
    {
      "cell_type": "markdown",
      "source": [
        "# 線上解題 (Online Judge) 系統是什麼\n",
        "可以幫助你\n",
        "\n",
        "- 熟悉語法\n",
        "- 了解題目的說明(知道你的程式要做到怎樣的結果)\n",
        "- 把題目拆解成各步驟，並用程式碼達成 (運算思維)"
      ],
      "metadata": {
        "id": "YuKAL-0kSFct"
      }
    },
    {
      "cell_type": "markdown",
      "source": [
        "# 解題系統\n",
        "每一題說明會有範例的測試資料，  \n",
        "你測試完之後就可以上傳你的程式碼給系統驗證是否正確。  \n",
        "\n",
        "測試就像有人在對你的程式輸入不同的數字，\n",
        "所以不能把程式寫死(直接印出範例的結果)。\n",
        "\n",
        "假設希望你做出加法的功能：  \n",
        "正確的程式就是不管輸入什麼數字，都能執行出兩個數相加的結果\n",
        "- 輸入 3, 5 要得到 8\n",
        "- 輸入 6, 7 要得到 13\n",
        "\n"
      ],
      "metadata": {
        "id": "LLHguRxHV6Hn"
      }
    },
    {
      "cell_type": "markdown",
      "source": [
        "## 怎麼挑選練習題?\n",
        "- 目前學到的比較算是基礎語法，所以可以從最簡單的來找：Easy, Simple, Elementary\n",
        "- 有些系統會標示該題目用到哪些語法或是演算法，可以用你學過的來過濾\n",
        "- 可以用 ChatGPT 幫助你判斷目前所學是否能解出這些題目，也可以請他引導你思考解題"
      ],
      "metadata": {
        "id": "z9yCW7ry1oFY"
      }
    },
    {
      "cell_type": "markdown",
      "source": [
        "以下我們列出些比較常見，而且可以用 Google, Github 註冊的解題系統，供大家參考："
      ],
      "metadata": {
        "id": "Fx8MM-ItASwZ"
      }
    },
    {
      "cell_type": "markdown",
      "source": [
        "# 以 print 結果當成答案\n",
        "- 印出的格式要完全一樣\n",
        "    - 所以不能有「提示字」，該換行的也要換行"
      ],
      "metadata": {
        "id": "PTmwlIvySUN1"
      }
    },
    {
      "cell_type": "markdown",
      "source": [
        "## [Hacker Rank](https://www.hackerrank.com/domains/python/)：練習語法為主"
      ],
      "metadata": {
        "id": "QspaxQnPSW9G"
      }
    },
    {
      "cell_type": "markdown",
      "source": [
        "### [練習] [Say \"Hello, World!\" With Python](https://www.hackerrank.com/challenges/py-hello-world/problem)"
      ],
      "metadata": {
        "id": "fc4NzY2K5b4H"
      }
    },
    {
      "cell_type": "markdown",
      "source": [
        "### [進階練習] [Arithmetic Operators](https://www.hackerrank.com/challenges/python-arithmetic-operators)\n"
      ],
      "metadata": {
        "id": "V9PfnKdA5sGl"
      }
    },
    {
      "cell_type": "markdown",
      "source": [
        "#### ChatGPT Prompt：判斷是否有能力解題\n",
        "```\n",
        "我想要練習 Online Judge 相關的題目，\n",
        "目前我只會 Python 的 字串、數值、串列、字典、for 迴圈、判斷式語法，\n",
        "請問以下的題目是我目前所會的語法能練習的嗎？\n",
        "請不要告訴我答案，並請用中文回答我。\n",
        "\n",
        "Task\n",
        "The provided code stub reads two integers from STDIN,  a and b. Add code to print three lines where:\n",
        "\n",
        "The first line contains the sum of the two numbers.\n",
        "The second line contains the difference of the two numbers (first - second).\n",
        "The third line contains the product of the two numbers.\n",
        "Example\n",
        "a = 3\n",
        "b = 5\n",
        "\n",
        "\n",
        "Print the following:\n",
        "8\n",
        "-2\n",
        "15\n",
        "```"
      ],
      "metadata": {
        "id": "VHPckhsG5HGg"
      }
    },
    {
      "cell_type": "markdown",
      "source": [
        "## [ZeroJudge](https://zerojudge.tw/Problems?tabid=BASIC#tab00)：解題為主"
      ],
      "metadata": {
        "id": "fsDrX3xsN0VI"
      }
    },
    {
      "cell_type": "markdown",
      "source": [
        "# 相關查詢資源\n",
        "- [官方文件](https://docs.python.org/zh-tw/3/tutorial/index.html)：最完整。雖然有中文說明，但因為專有名詞的翻譯用字有時候會讓文內文看起來比較艱澀，能的話還是建議讀原文英文版。\n",
        "- [w3schools](https://www.w3schools.com/python/)：有比較多的範例程式可以參考"
      ],
      "metadata": {
        "id": "sdUP-sHphjwU"
      }
    }
  ]
}